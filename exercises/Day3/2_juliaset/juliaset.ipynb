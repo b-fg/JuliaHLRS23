{
 "cells": [
  {
   "cell_type": "markdown",
   "metadata": {},
   "source": [
    "# Exercise: [Julia Set](https://en.wikipedia.org/wiki/Julia_set)"
   ]
  },
  {
   "cell_type": "markdown",
   "metadata": {},
   "source": [
    "<img src=\"solution_proposal/juliaset.png\" width=700>\n",
    "\n",
    "In this exercise we want to compute an image of the [Julia set](https://en.wikipedia.org/wiki/Julia_set) (see above) first sequentially and then in parallel using different **multithreading** variants.\n",
    "\n",
    "The value of a single pixel of the Julia set, which corresponds to a point `z0` in the complex number plane, can be computed by the following iteration procedure / function."
   ]
  },
  {
   "cell_type": "code",
   "execution_count": null,
   "metadata": {},
   "outputs": [],
   "source": [
    "function _compute_pixel(z0::Complex; max_iter=255, c=-0.79 + 0.15 * im)\n",
    "    z = z0\n",
    "    for i in 1:max_iter\n",
    "        if abs2(z) > 4.0\n",
    "            return i - 1\n",
    "        end\n",
    "        z = z^2 + c\n",
    "    end\n",
    "    return max_iter\n",
    "end"
   ]
  },
  {
   "cell_type": "markdown",
   "metadata": {},
   "source": [
    "Note that the value of the pixel is the number of performed iterations for the corresponding complex input number `z0`."
   ]
  },
  {
   "cell_type": "markdown",
   "metadata": {},
   "source": [
    "Instead of considering each pixel individually, we want to compute the image on a column-by-column basis. The following function `_compute_column!(img, j)` computes the `j`-th column in-place (i.e. it writes the result into the input array `img`)."
   ]
  },
  {
   "cell_type": "code",
   "execution_count": null,
   "metadata": {},
   "outputs": [],
   "source": [
    "function _compute_column!(img::AbstractMatrix, j; c=-0.79 + 0.15 * im, kwargs...)\n",
    "    m, n = size(img)\n",
    "    @assert m == n\n",
    "    x = -2.0 + (j - 1) * 4.0 / (n - 1)\n",
    "    for i in 1:n\n",
    "        y = -2.0 + (i - 1) * 4.0 / (n - 1)\n",
    "        @inbounds img[i, j] = _compute_pixel(x + im * y; kwargs...)\n",
    "    end\n",
    "end"
   ]
  },
  {
   "cell_type": "code",
   "execution_count": null,
   "metadata": {},
   "outputs": [],
   "source": [
    "using Plots\n",
    "using BenchmarkTools\n",
    "using Base.Threads\n",
    "@assert Threads.nthreads() > 1 # we need more than one thread to see any speedups"
   ]
  },
  {
   "cell_type": "markdown",
   "metadata": {},
   "source": [
    "**Task 1:** Utilizing the function `_compute_column!(img, j)` from above, implement the function `compute_juliaset_sequential` below and verify (by plotting) that you actually get the desired Julia set image"
   ]
  },
  {
   "cell_type": "code",
   "execution_count": null,
   "metadata": {},
   "outputs": [],
   "source": [
    "# 1)\n",
    "\"\"\"\n",
    "Computes the Julia set sequentially (column by column).\n",
    "The result is written into `img`.\n",
    "\"\"\"\n",
    "function compute_juliaset_sequential!(img; kwargs...)\n",
    "    # TODO\n",
    "end\n",
    "\n",
    "N = 2000\n",
    "img = zeros(Int, N, N)\n",
    "compute_juliaset_sequential!(img)\n",
    "heatmap(img)"
   ]
  },
  {
   "cell_type": "markdown",
   "metadata": {},
   "source": [
    "**Task 2:** Now implement a variant `compute_juliaset_threads!` that does the same as `compute_juliaset_sequential` but is multithreaded via `@threads`."
   ]
  },
  {
   "cell_type": "code",
   "execution_count": null,
   "metadata": {},
   "outputs": [],
   "source": [
    "# 2)\n",
    "\"\"\"\n",
    "Computes the Julia set column by column using multithreading (`@threads`).\n",
    "The result is written into `img`.\n",
    "\"\"\"\n",
    "function compute_juliaset_threads!(img; kwargs...)\n",
    "    # TODO\n",
    "end\n",
    "\n",
    "N = 2000\n",
    "img = zeros(Int, N, N)\n",
    "compute_juliaset_threads!(img)\n",
    "heatmap(img)"
   ]
  },
  {
   "cell_type": "markdown",
   "metadata": {},
   "source": [
    "**Task 3:** Now implement a variant `compute_juliaset_spawn!` that uses `@spawn` to multithread the computation. (Note: Don't forget to synchronize!)"
   ]
  },
  {
   "cell_type": "code",
   "execution_count": null,
   "metadata": {},
   "outputs": [],
   "source": [
    "# 3)\n",
    "\"\"\"\n",
    "Computes the Julia set column by column using multithreading (`@spawn`).\n",
    "The result is written into `img`.\n",
    "\"\"\"\n",
    "function compute_juliaset_spawn!(img; kwargs...)\n",
    "    # TODO\n",
    "end\n",
    "\n",
    "N = 2000\n",
    "img = zeros(Int, N, N)\n",
    "compute_juliaset_spawn!(img)\n",
    "heatmap(img)"
   ]
  },
  {
   "cell_type": "markdown",
   "metadata": {},
   "source": [
    "**Task 4:** Benchmark the three variants. Can you explain why the `@spawn` variant is faster than the version with `@threads`?"
   ]
  },
  {
   "cell_type": "code",
   "execution_count": null,
   "metadata": {},
   "outputs": [],
   "source": [
    "# 4)\n",
    "N = 2000\n",
    "img = zeros(Int, N, N)\n",
    "\n",
    "# TODO"
   ]
  }
 ],
 "metadata": {
  "@webio": {
   "lastCommId": null,
   "lastKernelId": null
  },
  "kernelspec": {
   "display_name": "Julia 1.9.3",
   "language": "julia",
   "name": "julia-1.9"
  },
  "language_info": {
   "file_extension": ".jl",
   "mimetype": "application/julia",
   "name": "julia",
   "version": "1.9.3"
  }
 },
 "nbformat": 4,
 "nbformat_minor": 4
}
