{
 "cells": [
  {
   "cell_type": "markdown",
   "metadata": {},
   "source": [
    "# Exercise: Performance Optimization 2"
   ]
  },
  {
   "cell_type": "code",
   "execution_count": 1,
   "metadata": {},
   "outputs": [
    {
     "data": {
      "text/plain": [
       "\"hawk-login05\""
      ]
     },
     "metadata": {},
     "output_type": "display_data"
    }
   ],
   "source": [
    "gethostname()"
   ]
  },
  {
   "cell_type": "markdown",
   "metadata": {},
   "source": [
    "Optimize the following function."
   ]
  },
  {
   "cell_type": "code",
   "execution_count": 2,
   "metadata": {},
   "outputs": [
    {
     "data": {
      "text/plain": [
       "work! (generic function with 1 method)"
      ]
     },
     "metadata": {},
     "output_type": "display_data"
    }
   ],
   "source": [
    "function work!(A, B, v, N)\n",
    "    val = 0\n",
    "    for i in 1:N\n",
    "        for j in 1:N\n",
    "            val = mod(v[i],256);\n",
    "            A[i,j] = B[i,j]*(sin(val)*sin(val)-cos(val)*cos(val));\n",
    "        end\n",
    "    end\n",
    "end"
   ]
  },
  {
   "cell_type": "markdown",
   "metadata": {},
   "source": [
    "The (fixed) input is given by:"
   ]
  },
  {
   "cell_type": "code",
   "execution_count": 3,
   "metadata": {},
   "outputs": [],
   "source": [
    "N = 4000\n",
    "A = zeros(N,N)\n",
    "B = rand(N,N)\n",
    "v = rand(Int, N);\n",
    "\n",
    "work!(A,B,v,N)"
   ]
  },
  {
   "cell_type": "markdown",
   "metadata": {},
   "source": [
    "You can benchmark as follows"
   ]
  },
  {
   "cell_type": "code",
   "execution_count": 4,
   "metadata": {},
   "outputs": [
    {
     "name": "stdout",
     "output_type": "stream",
     "text": [
      "  829.135 ms (0 allocations: 0 bytes)\n"
     ]
    }
   ],
   "source": [
    "using BenchmarkTools\n",
    "@btime work!($A, $B, $v, $N);"
   ]
  },
  {
   "cell_type": "markdown",
   "metadata": {},
   "source": [
    "## Optimizations"
   ]
  },
  {
   "cell_type": "markdown",
   "metadata": {},
   "source": [
    "### Analytic optimization"
   ]
  },
  {
   "cell_type": "code",
   "execution_count": 6,
   "metadata": {},
   "outputs": [
    {
     "data": {
      "text/plain": [
       "\u001b[32m\u001b[1mTest Passed\u001b[22m\u001b[39m"
      ]
     },
     "metadata": {},
     "output_type": "display_data"
    }
   ],
   "source": [
    "using Test\n",
    "x = rand()\n",
    "@test 1-2*cos(x)*cos(x) ≈ sin(x)*sin(x)-cos(x)*cos(x)\n",
    "@test -cos(2*x) ≈ sin(x)*sin(x)-cos(x)*cos(x)"
   ]
  },
  {
   "cell_type": "code",
   "execution_count": 7,
   "metadata": {},
   "outputs": [
    {
     "name": "stdout",
     "output_type": "stream",
     "text": [
      "  325.964 ms (0 allocations: 0 bytes)\n"
     ]
    }
   ],
   "source": [
    "function work2!(A, B, v, N)\n",
    "    val = 0\n",
    "    for i in 1:N\n",
    "        for j in 1:N\n",
    "            val = mod(v[i],256);\n",
    "            A[i,j] = B[i,j]*(-cos(2*val));\n",
    "        end\n",
    "    end\n",
    "end\n",
    "\n",
    "@btime work2!($A, $B, $v, $N);"
   ]
  },
  {
   "cell_type": "markdown",
   "metadata": {},
   "source": [
    "### Analytic + pulling out val computation"
   ]
  },
  {
   "cell_type": "code",
   "execution_count": 8,
   "metadata": {},
   "outputs": [
    {
     "name": "stdout",
     "output_type": "stream",
     "text": [
      "  60.122 ms (0 allocations: 0 bytes)\n"
     ]
    }
   ],
   "source": [
    "function work3!(A, B, v, N)\n",
    "    val = 0.0\n",
    "    for i in 1:N\n",
    "        val = -cos(2*mod(v[i],256))\n",
    "        for j in 1:N\n",
    "            A[i,j] = B[i,j]*val;\n",
    "        end\n",
    "    end;\n",
    "end\n",
    "\n",
    "@btime work3!($A, $B, $v, $N);"
   ]
  },
  {
   "cell_type": "markdown",
   "metadata": {},
   "source": [
    "### Analytic + separate out val computation"
   ]
  },
  {
   "cell_type": "code",
   "execution_count": 9,
   "metadata": {},
   "outputs": [
    {
     "name": "stdout",
     "output_type": "stream",
     "text": [
      "  60.409 ms (2 allocations: 31.30 KiB)\n"
     ]
    }
   ],
   "source": [
    "function work4!(A, B, v, N)\n",
    "    val = [-cos(2*mod(x,256)) for x in v]\n",
    "    \n",
    "    for i in 1:N\n",
    "        for j in 1:N\n",
    "            A[i,j] = B[i,j]*val[i];\n",
    "        end\n",
    "    end;\n",
    "end\n",
    "\n",
    "@btime work4!($A, $B, $v, $N);"
   ]
  },
  {
   "cell_type": "markdown",
   "metadata": {},
   "source": [
    "### Analytic + separate out val computation + switch order of loops"
   ]
  },
  {
   "cell_type": "code",
   "execution_count": 10,
   "metadata": {},
   "outputs": [
    {
     "name": "stdout",
     "output_type": "stream",
     "text": [
      "  13.423 ms (2 allocations: 31.30 KiB)\n"
     ]
    }
   ],
   "source": [
    "function work5!(A, B, v, N)\n",
    "    val = [-cos(2*mod(x,256)) for x in v]\n",
    "    \n",
    "    for j in 1:N\n",
    "        for i in 1:N\n",
    "            A[i,j] = B[i,j]*val[i];\n",
    "        end\n",
    "    end;\n",
    "end\n",
    "\n",
    "@btime work5!($A, $B, $v, $N);"
   ]
  },
  {
   "cell_type": "markdown",
   "metadata": {},
   "source": [
    "### Analytic + separate out val computation + switch order of loops + `@inbounds`"
   ]
  },
  {
   "cell_type": "code",
   "execution_count": 11,
   "metadata": {},
   "outputs": [
    {
     "name": "stdout",
     "output_type": "stream",
     "text": [
      "  11.995 ms (2 allocations: 31.30 KiB)\n"
     ]
    }
   ],
   "source": [
    "function work6!(A, B, v, N)\n",
    "    val = [-cos(2*mod(x,256)) for x in v]\n",
    "    \n",
    "    @inbounds for j in 1:N\n",
    "        for i in 1:N\n",
    "            A[i,j] = B[i,j]*val[i];\n",
    "        end\n",
    "    end;\n",
    "end\n",
    "\n",
    "@btime work6!($A, $B, $v, $N);"
   ]
  },
  {
   "cell_type": "markdown",
   "metadata": {},
   "source": [
    "### Analytic + separate out val computation + switch order of loops + `@inbounds` + lookup table"
   ]
  },
  {
   "cell_type": "code",
   "execution_count": 12,
   "metadata": {},
   "outputs": [
    {
     "name": "stdout",
     "output_type": "stream",
     "text": [
      "  11.933 ms (2 allocations: 31.30 KiB)\n"
     ]
    }
   ],
   "source": [
    "lookup = [ -cos(2*j) for j in 0:255 ]\n",
    "\n",
    "function work7!(A, B, v, N, lookup)\n",
    "    val = [lookup[mod(x,256)+1] for x in v]\n",
    "    \n",
    "    @inbounds for j in 1:N\n",
    "        for i in 1:N\n",
    "            A[i,j] = B[i,j]*val[i];\n",
    "        end\n",
    "    end;\n",
    "end\n",
    "\n",
    "@btime work7!($A, $B, $v, $N, $lookup);"
   ]
  },
  {
   "cell_type": "markdown",
   "metadata": {},
   "source": [
    "## Bonus Question: Performance limit?\n",
    "\n",
    "Look at your final optimized version of `work!`.\n",
    "\n",
    "* What is conceptually limiting the performance, the compute capability or memory transfer?\n",
    "* Assuming that a single CPU-core in Hawk can achieve a maximal memory bandwidth of ~50 GB/s, can you give a performance bound estimate, i.e. the minimal runtime that we could possibly hope to achieve? (Hint: how many flops are performed per iteration and how many bytes are transferred?)\n",
    "* How far off is your implementation from achieving this limit (e.g. in percent)?"
   ]
  },
  {
   "cell_type": "code",
   "execution_count": 13,
   "metadata": {},
   "outputs": [
    {
     "name": "stdout",
     "output_type": "stream",
     "text": [
      "Performance bound: 2.08 GFLOP/s\n",
      "Runtime estimate: 7.68 ms\n"
     ]
    }
   ],
   "source": [
    "membw = 50 # GB/s\n",
    "flops = 1 # flops per iteration\n",
    "traffic = 3*8 # bytes per iteration\n",
    "I = flops / traffic # flops / byte\n",
    "\n",
    "perf_bound = I*membw # GFLOPS\n",
    "runtime_estimate = N^2 * 1e3 / (perf_bound * 1e9) # in ms\n",
    "\n",
    "println(\"Performance bound: \", round(perf_bound, digits=2), \" GFLOP/s\")\n",
    "println(\"Runtime estimate: \", round(runtime_estimate, digits=2), \" ms\")"
   ]
  },
  {
   "cell_type": "code",
   "execution_count": 21,
   "metadata": {},
   "outputs": [
    {
     "name": "stdout",
     "output_type": "stream",
     "text": [
      "My best version achieves 64.16% of the \"theoretical\" limit.\n"
     ]
    }
   ],
   "source": [
    "t_work7 = @belapsed work7!($A, $B, $v, $N, $lookup)\n",
    "ratio = runtime_estimate / (t_work7 * 1e3)\n",
    "println(\"My best version achieves \", round(ratio * 100, digits=2), \"% of the \\\"theoretical\\\" limit.\")"
   ]
  }
 ],
 "metadata": {
  "@webio": {
   "lastCommId": null,
   "lastKernelId": null
  },
  "kernelspec": {
   "display_name": "Julia 1.9.3",
   "language": "julia",
   "name": "julia-1.9"
  },
  "language_info": {
   "file_extension": ".jl",
   "mimetype": "application/julia",
   "name": "julia",
   "version": "1.9.3"
  }
 },
 "nbformat": 4,
 "nbformat_minor": 4
}
