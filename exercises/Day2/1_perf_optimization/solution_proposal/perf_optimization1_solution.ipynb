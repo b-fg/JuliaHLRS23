{
 "cells": [
  {
   "cell_type": "markdown",
   "metadata": {},
   "source": [
    "# Exercise: Performance Optimization 1"
   ]
  },
  {
   "cell_type": "markdown",
   "metadata": {},
   "source": [
    "Optimize the following code.\n",
    "\n",
    "(The type and size of the input is fixed/may not be changed.)"
   ]
  },
  {
   "cell_type": "code",
   "execution_count": 13,
   "metadata": {},
   "outputs": [],
   "source": [
    "function work!(A, N)\n",
    "    D = zeros(N,N)\n",
    "    for i in 1:N\n",
    "        D = b[i]*c*A\n",
    "        b[i] = sum(D)\n",
    "    end\n",
    "end\n",
    "\n",
    "N = 100\n",
    "A = rand(N,N)\n",
    "b = rand(N)\n",
    "c = 1.23\n",
    "\n",
    "work!(A,N)"
   ]
  },
  {
   "cell_type": "code",
   "execution_count": 14,
   "metadata": {},
   "outputs": [
    {
     "name": "stdout",
     "output_type": "stream",
     "text": [
      "  556.375 μs (402 allocations: 7.71 MiB)\n"
     ]
    }
   ],
   "source": [
    "using BenchmarkTools\n",
    "@btime work!($A, $N);"
   ]
  },
  {
   "cell_type": "markdown",
   "metadata": {},
   "source": [
    "## Optimizations"
   ]
  },
  {
   "cell_type": "markdown",
   "metadata": {},
   "source": [
    "### Avoiding globals"
   ]
  },
  {
   "cell_type": "code",
   "execution_count": 15,
   "metadata": {},
   "outputs": [
    {
     "name": "stdout",
     "output_type": "stream",
     "text": [
      "MethodInstance for work!(::Matrix{Float64}, ::Int64)\n",
      "  from work!(\u001b[90mA\u001b[39m, \u001b[90mN\u001b[39m)\u001b[90m @\u001b[39m \u001b[90mMain\u001b[39m \u001b[90m~/repos/JuliaHLRS23/exercises/Day2/1_perf_optimization/solution_proposal/\u001b[39m\u001b[90m\u001b[4mperf_optimization1_solution.ipynb:1\u001b[24m\u001b[39m\n",
      "Arguments\n",
      "  #self#\u001b[36m::Core.Const(work!)\u001b[39m\n",
      "  A\u001b[36m::Matrix{Float64}\u001b[39m\n",
      "  N\u001b[36m::Int64\u001b[39m\n",
      "Locals\n",
      "  @_4\u001b[33m\u001b[1m::Union{Nothing, Tuple{Int64, Int64}}\u001b[22m\u001b[39m\n",
      "  D\u001b[91m\u001b[1m::Any\u001b[22m\u001b[39m\n",
      "  i\u001b[36m::Int64\u001b[39m\n",
      "Body\u001b[36m::Nothing\u001b[39m\n",
      "\u001b[90m1 ─\u001b[39m       (D = Main.zeros(N, N))\n",
      "\u001b[90m│  \u001b[39m %2  = (1:N)\u001b[36m::Core.PartialStruct(UnitRange{Int64}, Any[Core.Const(1), Int64])\u001b[39m\n",
      "\u001b[90m│  \u001b[39m       (@_4 = Base.iterate(%2))\n",
      "\u001b[90m│  \u001b[39m %4  = (@_4 === nothing)\u001b[36m::Bool\u001b[39m\n",
      "\u001b[90m│  \u001b[39m %5  = Base.not_int(%4)\u001b[36m::Bool\u001b[39m\n",
      "\u001b[90m└──\u001b[39m       goto #4 if not %5\n",
      "\u001b[90m2 ┄\u001b[39m %7  = @_4\u001b[36m::Tuple{Int64, Int64}\u001b[39m\n",
      "\u001b[90m│  \u001b[39m       (i = Core.getfield(%7, 1))\n",
      "\u001b[90m│  \u001b[39m %9  = Core.getfield(%7, 2)\u001b[36m::Int64\u001b[39m\n",
      "\u001b[90m│  \u001b[39m %10 = Base.getindex(Main.b, i)\u001b[91m\u001b[1m::Any\u001b[22m\u001b[39m\n",
      "\u001b[90m│  \u001b[39m %11 = Main.c\u001b[91m\u001b[1m::Any\u001b[22m\u001b[39m\n",
      "\u001b[90m│  \u001b[39m       (D = %10 * %11 * A)\n",
      "\u001b[90m│  \u001b[39m %13 = Main.sum(D)\u001b[91m\u001b[1m::Any\u001b[22m\u001b[39m\n",
      "\u001b[90m│  \u001b[39m       Base.setindex!(Main.b, %13, i)\n",
      "\u001b[90m│  \u001b[39m       (@_4 = Base.iterate(%2, %9))\n",
      "\u001b[90m│  \u001b[39m %16 = (@_4 === nothing)\u001b[36m::Bool\u001b[39m\n",
      "\u001b[90m│  \u001b[39m %17 = Base.not_int(%16)\u001b[36m::Bool\u001b[39m\n",
      "\u001b[90m└──\u001b[39m       goto #4 if not %17\n",
      "\u001b[90m3 ─\u001b[39m       goto #2\n",
      "\u001b[90m4 ┄\u001b[39m       return nothing\n",
      "\n"
     ]
    }
   ],
   "source": [
    "@code_warntype work!(A,N)"
   ]
  },
  {
   "cell_type": "code",
   "execution_count": 16,
   "metadata": {},
   "outputs": [
    {
     "data": {
      "text/plain": [
       "work1! (generic function with 1 method)"
      ]
     },
     "metadata": {},
     "output_type": "display_data"
    }
   ],
   "source": [
    "function work1!(A, N, b, c) # b and c are now function arguments\n",
    "    D = zeros(N,N)\n",
    "    for i in 1:N\n",
    "        D = b[i]*c*A\n",
    "        b[i] = sum(D)\n",
    "    end\n",
    "end"
   ]
  },
  {
   "cell_type": "code",
   "execution_count": 17,
   "metadata": {},
   "outputs": [
    {
     "name": "stdout",
     "output_type": "stream",
     "text": [
      "MethodInstance for work1!(::Matrix{Float64}, ::Int64, ::Vector{Float64}, ::Float64)\n",
      "  from work1!(\u001b[90mA\u001b[39m, \u001b[90mN\u001b[39m, \u001b[90mb\u001b[39m, \u001b[90mc\u001b[39m)\u001b[90m @\u001b[39m \u001b[90mMain\u001b[39m \u001b[90m~/repos/JuliaHLRS23/exercises/Day2/1_perf_optimization/solution_proposal/\u001b[39m\u001b[90m\u001b[4mperf_optimization1_solution.ipynb:1\u001b[24m\u001b[39m\n",
      "Arguments\n",
      "  #self#\u001b[36m::Core.Const(work1!)\u001b[39m\n",
      "  A\u001b[36m::Matrix{Float64}\u001b[39m\n",
      "  N\u001b[36m::Int64\u001b[39m\n",
      "  b\u001b[36m::Vector{Float64}\u001b[39m\n",
      "  c\u001b[36m::Float64\u001b[39m\n",
      "Locals\n",
      "  @_6\u001b[33m\u001b[1m::Union{Nothing, Tuple{Int64, Int64}}\u001b[22m\u001b[39m\n",
      "  D\u001b[36m::Matrix{Float64}\u001b[39m\n",
      "  i\u001b[36m::Int64\u001b[39m\n",
      "Body\u001b[36m::Nothing\u001b[39m\n",
      "\u001b[90m1 ─\u001b[39m       (D = Main.zeros(N, N))\n",
      "\u001b[90m│  \u001b[39m %2  = (1:N)\u001b[36m::Core.PartialStruct(UnitRange{Int64}, Any[Core.Const(1), Int64])\u001b[39m\n",
      "\u001b[90m│  \u001b[39m       (@_6 = Base.iterate(%2))\n",
      "\u001b[90m│  \u001b[39m %4  = (@_6 === nothing)\u001b[36m::Bool\u001b[39m\n",
      "\u001b[90m│  \u001b[39m %5  = Base.not_int(%4)\u001b[36m::Bool\u001b[39m\n",
      "\u001b[90m└──\u001b[39m       goto #4 if not %5\n",
      "\u001b[90m2 ┄\u001b[39m %7  = @_6\u001b[36m::Tuple{Int64, Int64}\u001b[39m\n",
      "\u001b[90m│  \u001b[39m       (i = Core.getfield(%7, 1))\n",
      "\u001b[90m│  \u001b[39m %9  = Core.getfield(%7, 2)\u001b[36m::Int64\u001b[39m\n",
      "\u001b[90m│  \u001b[39m %10 = Base.getindex(b, i)\u001b[36m::Float64\u001b[39m\n",
      "\u001b[90m│  \u001b[39m       (D = %10 * c * A)\n",
      "\u001b[90m│  \u001b[39m %12 = Main.sum(D)\u001b[36m::Float64\u001b[39m\n",
      "\u001b[90m│  \u001b[39m       Base.setindex!(b, %12, i)\n",
      "\u001b[90m│  \u001b[39m       (@_6 = Base.iterate(%2, %9))\n",
      "\u001b[90m│  \u001b[39m %15 = (@_6 === nothing)\u001b[36m::Bool\u001b[39m\n",
      "\u001b[90m│  \u001b[39m %16 = Base.not_int(%15)\u001b[36m::Bool\u001b[39m\n",
      "\u001b[90m└──\u001b[39m       goto #4 if not %16\n",
      "\u001b[90m3 ─\u001b[39m       goto #2\n",
      "\u001b[90m4 ┄\u001b[39m       return nothing\n",
      "\n"
     ]
    }
   ],
   "source": [
    "@code_warntype work1!(A,N,b,c)"
   ]
  },
  {
   "cell_type": "code",
   "execution_count": 18,
   "metadata": {},
   "outputs": [
    {
     "name": "stdout",
     "output_type": "stream",
     "text": [
      "  529.542 μs (202 allocations: 7.71 MiB)\n"
     ]
    }
   ],
   "source": [
    "@btime work1!($A, $N, $b, $c);"
   ]
  },
  {
   "cell_type": "markdown",
   "metadata": {},
   "source": [
    "### Avoiding globals + temporary allocations"
   ]
  },
  {
   "cell_type": "code",
   "execution_count": 19,
   "metadata": {},
   "outputs": [
    {
     "name": "stdout",
     "output_type": "stream",
     "text": [
      "  355.209 μs (302 allocations: 85.98 KiB)\n"
     ]
    }
   ],
   "source": [
    "function work2!(A, N, b)\n",
    "    D = zeros(N,N)\n",
    "    for i in 1:N\n",
    "        @. D = b[i]*c*A\n",
    "        b[i] = sum(D)\n",
    "    end\n",
    "end\n",
    "\n",
    "@btime work2!($A, $N, $b);"
   ]
  },
  {
   "cell_type": "code",
   "execution_count": 20,
   "metadata": {},
   "outputs": [
    {
     "name": "stdout",
     "output_type": "stream",
     "text": [
      "  310.042 μs (2 allocations: 78.17 KiB)\n"
     ]
    }
   ],
   "source": [
    "function work3!(A, N, b, c)\n",
    "    D = zeros(N,N)\n",
    "    for i in 1:N\n",
    "        @inbounds for j in eachindex(D)\n",
    "            D[j] = b[i]*c*A[j]\n",
    "        end\n",
    "        b[i] = sum(D)\n",
    "    end\n",
    "end\n",
    "\n",
    "@btime work3!($A, $N, $b, $c);"
   ]
  },
  {
   "cell_type": "markdown",
   "metadata": {},
   "source": [
    "### Avoiding globals + temporary allocations and merging `sum` with loop"
   ]
  },
  {
   "cell_type": "code",
   "execution_count": 21,
   "metadata": {},
   "outputs": [
    {
     "name": "stdout",
     "output_type": "stream",
     "text": [
      "  233.958 μs (2 allocations: 78.17 KiB)\n"
     ]
    }
   ],
   "source": [
    "function work4!(A, N, b, c)\n",
    "    D = zeros(N,N)\n",
    "    for i in 1:N\n",
    "        s = zero(eltype(D))\n",
    "        @inbounds @simd for j in eachindex(D)\n",
    "            D[j] = b[i]*c*A[j]\n",
    "            s += D[j]\n",
    "        end\n",
    "        b[i] = s\n",
    "    end\n",
    "end\n",
    "\n",
    "@btime work4!($A, $N, $b, $c);"
   ]
  },
  {
   "cell_type": "markdown",
   "metadata": {},
   "source": [
    "### Realizing that one can factor out `b` and `c`"
   ]
  },
  {
   "cell_type": "code",
   "execution_count": 22,
   "metadata": {},
   "outputs": [
    {
     "name": "stdout",
     "output_type": "stream",
     "text": [
      "  1.712 μs (0 allocations: 0 bytes)\n"
     ]
    }
   ],
   "source": [
    "# function work!(A, N)\n",
    "#     D = zeros(N,N)\n",
    "#     for i in 1:N\n",
    "#         D = b[i]*c*A\n",
    "#         b[i] = sum(D)\n",
    "#     end\n",
    "# end\n",
    "\n",
    "# function work!(A, N)\n",
    "#     for i in 1:N\n",
    "#         b[i] = sum(b[i]*c*A)\n",
    "#     end\n",
    "# end\n",
    "\n",
    "# function work!(A, N)\n",
    "#     for i in 1:N\n",
    "#         b[i] = b[i]*c*sum(A)\n",
    "#     end\n",
    "# end\n",
    "\n",
    "# function work!(A, N)\n",
    "#     D = c*sum(A)\n",
    "#     for i in 1:N\n",
    "#         b[i] *= D\n",
    "#     end\n",
    "# end\n",
    "\n",
    "function work5!(A, N, b, c)\n",
    "    D = c * sum(A)\n",
    "    b .*= D\n",
    "end\n",
    "\n",
    "@btime work5!($A, $N, $b, $c);"
   ]
  }
 ],
 "metadata": {
  "@webio": {
   "lastCommId": null,
   "lastKernelId": null
  },
  "kernelspec": {
   "display_name": "Julia 1.9.3",
   "language": "julia",
   "name": "julia-1.9"
  },
  "language_info": {
   "file_extension": ".jl",
   "mimetype": "application/julia",
   "name": "julia",
   "version": "1.9.3"
  }
 },
 "nbformat": 4,
 "nbformat_minor": 4
}
