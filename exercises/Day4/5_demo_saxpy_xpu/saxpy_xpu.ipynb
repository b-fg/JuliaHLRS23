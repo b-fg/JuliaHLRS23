{
 "cells": [
  {
   "attachments": {},
   "cell_type": "markdown",
   "metadata": {},
   "source": [
    "# Demonstration: SAXPY on XPU\n",
    "\n",
    "(XPU stands for CPU and GPU)\n",
    "\n",
    "This isn't really an exercise but more a demonstration of how to use [KernelAbstractions.jl](https://github.com/JuliaGPU/KernelAbstractions.jl) to write hardware agnostic code. Specifically, the SAXPY implementation in this folder (`saxpy_measurement_xpu.jl` or `saxpy_xpu.ipynb`) is generic and runs on CPUs as well as GPUs by NVIDIA, AMD, and Intel. \n",
    "\n",
    "Feel free to study the very short code!"
   ]
  },
  {
   "cell_type": "code",
   "execution_count": 1,
   "metadata": {},
   "outputs": [
    {
     "data": {
      "text/plain": [
       "measure_membw"
      ]
     },
     "metadata": {},
     "output_type": "display_data"
    }
   ],
   "source": [
    "using BenchmarkTools\n",
    "using Statistics\n",
    "using Random\n",
    "using ThreadPinning\n",
    "using KernelAbstractions\n",
    "\n",
    "ThreadPinning.pinthreads(:numa)\n",
    "\n",
    "@kernel function saxpy_kernel(a, @Const(X), Y)\n",
    "    I = @index(Global)\n",
    "    @inbounds Y[I] = a * X[I] + Y[I]\n",
    "end\n",
    "\n",
    "\"\"\"\n",
    "  measure_membw(; kwargs...) -> membw, flops\n",
    "\n",
    "Estimate the memory bandwidth (GB/s) by performing a time measurement of a\n",
    "SAXPY kernel. Returns the memory bandwidth (GB/s) and the compute (GFLOP/s).\n",
    "\"\"\"\n",
    "function measure_membw(backend = CPU(; static = true); verbose = true, N = 1024 * 500_000,\n",
    "                       dtype = Float32, init = :parallel)\n",
    "    bytes = 3 * sizeof(dtype) * N # num bytes transferred in SAXPY\n",
    "    flops = 2 * N # num flops in SAXPY\n",
    "\n",
    "    a = dtype(3.1415)\n",
    "    if init == :serial\n",
    "        X = rand!(zeros(dtype, N))\n",
    "        Y = rand!(zeros(dtype, N))\n",
    "    else\n",
    "        X = rand!(KernelAbstractions.zeros(backend, dtype, N))\n",
    "        Y = rand!(KernelAbstractions.zeros(backend, dtype, N))\n",
    "    end\n",
    "    workgroup_size = 1024\n",
    "\n",
    "    t = @belapsed begin\n",
    "        kernel = saxpy_kernel($backend, $workgroup_size, $(size(Y)))\n",
    "        kernel($a, $X, $Y, ndrange = $(size(Y)))\n",
    "        KernelAbstractions.synchronize($backend)\n",
    "    end evals=2 samples=10\n",
    "\n",
    "    mem_rate = bytes * 1e-9 / t # GB/s\n",
    "    flop_rate = flops * 1e-9 / t # GFLOP/s\n",
    "\n",
    "    if verbose\n",
    "        println(\"\\tMemory Bandwidth (GB/s): \", round(mem_rate; digits = 2))\n",
    "        println(\"\\tCompute (GFLOP/s): \", round(flop_rate; digits = 2))\n",
    "    end\n",
    "    return mem_rate, flop_rate\n",
    "end\n"
   ]
  },
  {
   "cell_type": "code",
   "execution_count": 2,
   "metadata": {},
   "outputs": [
    {
     "name": "stdout",
     "output_type": "stream",
     "text": [
      "Threads: 128\n"
     ]
    },
    {
     "name": "stdout",
     "output_type": "stream",
     "text": [
      "\tMemory Bandwidth (GB/s): 334.16"
     ]
    },
    {
     "name": "stdout",
     "output_type": "stream",
     "text": [
      "\n",
      "\tCompute (GFLOP/s): 55.69\n"
     ]
    }
   ],
   "source": [
    "println(\"Threads: \", Threads.nthreads())\n",
    "measure_membw(CPU(; static = true));"
   ]
  },
  {
   "cell_type": "code",
   "execution_count": 3,
   "metadata": {},
   "outputs": [
    {
     "name": "stdout",
     "output_type": "stream",
     "text": [
      "GPU: NVIDIA A100-SXM4-40GB\n"
     ]
    },
    {
     "name": "stdout",
     "output_type": "stream",
     "text": [
      "\tMemory Bandwidth (GB/s): 1189.01\n",
      "\tCompute (GFLOP/s): 198.17\n"
     ]
    }
   ],
   "source": [
    "using CUDA\n",
    "println(\"GPU: \", name(CUDA.device()))\n",
    "measure_membw(CUDABackend());"
   ]
  },
  {
   "cell_type": "code",
   "execution_count": null,
   "metadata": {},
   "outputs": [],
   "source": []
  }
 ],
 "metadata": {
  "kernelspec": {
   "display_name": "Julia 1.9.0",
   "language": "julia",
   "name": "julia-1.9"
  },
  "language_info": {
   "file_extension": ".jl",
   "mimetype": "application/julia",
   "name": "julia",
   "version": "1.9.0"
  },
  "orig_nbformat": 4
 },
 "nbformat": 4,
 "nbformat_minor": 2
}
