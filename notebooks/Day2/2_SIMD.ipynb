{
 "cells": [
  {
   "cell_type": "markdown",
   "metadata": {},
   "source": [
    "# SIMD"
   ]
  },
  {
   "cell_type": "markdown",
   "metadata": {},
   "source": [
    "SIMD stands for **\"Single Instruction Multiple Data\"** and falls into the category of instruction level **parallelism** (vector instructions). Since raw clock speeds haven't been getting much faster, one way in which processors have been able to increase performance is through operations which operate on a \"vector\" (basically, a short sequence of values contiguous in memory).\n",
    "\n",
    "Consider this simple example where `A`, `B`, and `C` are vectors:"
   ]
  },
  {
   "cell_type": "code",
   "execution_count": 1,
   "metadata": {},
   "outputs": [
    {
     "data": {
      "text/plain": [
       "vector_add (generic function with 1 method)"
      ]
     },
     "metadata": {},
     "output_type": "display_data"
    }
   ],
   "source": [
    "function vector_add(A, B, C)\n",
    "    for i in eachindex(A, B, C)\n",
    "        @inbounds A[i] = B[i] + C[i]\n",
    "    end\n",
    "end"
   ]
  },
  {
   "cell_type": "markdown",
   "metadata": {},
   "source": [
    "\n",
    "The idea behind SIMD is to perform the add instruction on multiple elements at the same time (instead of separately performing them one after another). The process of splitting up the simple loop addition into multiple vector additions is often denoted as \"loop vectorization\". Since each vectorized addition happens at instruction level, i.e. within a CPU core, the feature set of the CPU determines how many elements we can process in one go."
   ]
  },
  {
   "cell_type": "markdown",
   "metadata": {},
   "source": [
    "<img src=\"./imgs/simd_vaddpd.png\" width=300px>\n",
    "<img src=\"./imgs/simd_register_width.png\" width=400px>\n",
    "\n",
    "(**Source:** Node-level performance engineering course by [NHR@FAU](https://hpc.fau.de/))"
   ]
  },
  {
   "cell_type": "markdown",
   "metadata": {},
   "source": [
    "Let's check which \"advanced vector extensions\" (AVX) the system supports."
   ]
  },
  {
   "cell_type": "code",
   "execution_count": 2,
   "metadata": {},
   "outputs": [
    {
     "data": {
      "text/markdown": [
       "| Cpu Property       | Value                                                      |\n",
       "|:------------------ |:---------------------------------------------------------- |\n",
       "| Brand              | Intel(R) Xeon(R) Gold 6148 CPU @ 2.40GHz                   |\n",
       "| Vendor             | :Intel                                                     |\n",
       "| Architecture       | :Skylake                                                   |\n",
       "| Model              | Family: 0x06, Model: 0x55, Stepping: 0x04, Type: 0x00      |\n",
       "| Cores              | 20 physical cores, 40 logical cores (on executing CPU)     |\n",
       "|                    | Hyperthreading hardware capability detected                |\n",
       "| Clock Frequencies  | 2400 / 3700 MHz (base/max), 100 MHz bus                    |\n",
       "| Data Cache         | Level 1:3 : (32, 1024, 28160) kbytes                       |\n",
       "|                    | 64 byte cache line size                                    |\n",
       "| Address Size       | 48 bits virtual, 46 bits physical                          |\n",
       "| SIMD               | 512 bit = 64 byte max. SIMD vector size                    |\n",
       "| Time Stamp Counter | TSC is accessible via `rdtsc`                              |\n",
       "|                    | TSC runs at constant rate (invariant from clock frequency) |\n",
       "| Perf. Monitoring   | Performance Monitoring Counters (PMC) revision 4           |\n",
       "|                    | Available hardware counters per logical core:              |\n",
       "|                    | 3 fixed-function counters of 48 bit width                  |\n",
       "|                    | 8 general-purpose counters of 48 bit width                 |\n",
       "| Hypervisor         | No                                                         |\n"
      ],
      "text/plain": [
       "  Cpu Property       Value                                                     \n",
       "  –––––––––––––––––– ––––––––––––––––––––––––––––––––––––––––––––––––––––––––––\n",
       "  Brand              Intel(R) Xeon(R) Gold 6148 CPU @ 2.40GHz                  \n",
       "  Vendor             :Intel                                                    \n",
       "  Architecture       :Skylake                                                  \n",
       "  Model              Family: 0x06, Model: 0x55, Stepping: 0x04, Type: 0x00     \n",
       "  Cores              20 physical cores, 40 logical cores (on executing CPU)    \n",
       "                     Hyperthreading hardware capability detected               \n",
       "  Clock Frequencies  2400 / 3700 MHz (base/max), 100 MHz bus                   \n",
       "  Data Cache         Level 1:3 : (32, 1024, 28160) kbytes                      \n",
       "                     64 byte cache line size                                   \n",
       "  Address Size       48 bits virtual, 46 bits physical                         \n",
       "  SIMD               512 bit = 64 byte max. SIMD vector size                   \n",
       "  Time Stamp Counter TSC is accessible via `rdtsc`                             \n",
       "                     TSC runs at constant rate (invariant from clock frequency)\n",
       "  Perf. Monitoring   Performance Monitoring Counters (PMC) revision 4          \n",
       "                     Available hardware counters per logical core:             \n",
       "                     3 fixed-function counters of 48 bit width                 \n",
       "                     8 general-purpose counters of 48 bit width                \n",
       "  Hypervisor         No                                                        "
      ]
     },
     "metadata": {},
     "output_type": "display_data"
    }
   ],
   "source": [
    "using CpuId\n",
    "cpuinfo()"
   ]
  },
  {
   "cell_type": "code",
   "execution_count": 3,
   "metadata": {},
   "outputs": [
    {
     "data": {
      "text/plain": [
       "7-element Vector{Symbol}:\n",
       " :AVX\n",
       " :AVX2\n",
       " :AVX512BW\n",
       " :AVX512CD\n",
       " :AVX512DQ\n",
       " :AVX512F\n",
       " :AVX512VL"
      ]
     },
     "metadata": {},
     "output_type": "display_data"
    }
   ],
   "source": [
    "filter(x -> contains(string(x), \"AVX\"), cpufeatures())"
   ]
  },
  {
   "cell_type": "markdown",
   "metadata": {},
   "source": [
    "**Hawk nodes do not have AVX512.**"
   ]
  },
  {
   "cell_type": "code",
   "execution_count": 4,
   "metadata": {},
   "outputs": [
    {
     "data": {
      "text/plain": [
       "262144"
      ]
     },
     "metadata": {},
     "output_type": "display_data"
    }
   ],
   "source": [
    "SIZE = 2^16\n",
    "SIZE = 512^2"
   ]
  },
  {
   "cell_type": "code",
   "execution_count": 5,
   "metadata": {},
   "outputs": [],
   "source": [
    "A = rand(Float64, SIZE)\n",
    "B = rand(Float64, SIZE)\n",
    "C = rand(Float64, SIZE);"
   ]
  },
  {
   "cell_type": "code",
   "execution_count": 6,
   "metadata": {},
   "outputs": [
    {
     "name": "stdout",
     "output_type": "stream",
     "text": [
      "\t\u001b[0m.text\n",
      "\t\u001b[0m.file\t\u001b[0m\"vector_add\"\n",
      "\t\u001b[0m.globl\t\u001b[0mjapi1_vector_add_1723           \u001b[90m# -- Begin function japi1_vector_add_1723\u001b[39m\n",
      "\t\u001b[0m.p2align\t\u001b[33m4\u001b[39m\u001b[0m, \u001b[33m0x90\u001b[39m\n",
      "\t\u001b[0m.type\t\u001b[0mjapi1_vector_add_1723\u001b[0m,\u001b[0m@function\n",
      "\u001b[91mjapi1_vector_add_1723:\u001b[39m                  \u001b[90m# @japi1_vector_add_1723\u001b[39m\n",
      "\t\u001b[0m.cfi_startproc\n",
      "\u001b[90m# %bb.0:                                # %top\u001b[39m\n",
      "\t\u001b[96m\u001b[1mpush\u001b[22m\u001b[39m\t\u001b[0mrbp\n",
      "\t\u001b[0m.cfi_def_cfa_offset \u001b[33m16\u001b[39m\n",
      "\t\u001b[0m.cfi_offset \u001b[0mrbp\u001b[0m, \u001b[33m-16\u001b[39m\n",
      "\t\u001b[96m\u001b[1mmov\u001b[22m\u001b[39m\t\u001b[0mrbp\u001b[0m, \u001b[0mrsp\n",
      "\t\u001b[0m.cfi_def_cfa_register \u001b[0mrbp\n",
      "\t\u001b[96m\u001b[1mpush\u001b[22m\u001b[39m\t\u001b[0mr15\n",
      "\t\u001b[96m\u001b[1mpush\u001b[22m\u001b[39m\t\u001b[0mr14\n",
      "\t\u001b[96m\u001b[1mpush\u001b[22m\u001b[39m\t\u001b[0mr13\n",
      "\t\u001b[96m\u001b[1mpush\u001b[22m\u001b[39m\t\u001b[0mr12\n",
      "\t\u001b[96m\u001b[1mpush\u001b[22m\u001b[39m\t\u001b[0mrbx\n",
      "\t\u001b[96m\u001b[1mand\u001b[22m\u001b[39m\t\u001b[0mrsp\u001b[0m, \u001b[33m-32\u001b[39m\n",
      "\t\u001b[96m\u001b[1msub\u001b[22m\u001b[39m\t\u001b[0mrsp\u001b[0m, \u001b[33m160\u001b[39m\n",
      "\t\u001b[0m.cfi_offset \u001b[0mrbx\u001b[0m, \u001b[33m-56\u001b[39m\n",
      "\t\u001b[0m.cfi_offset \u001b[0mr12\u001b[0m, \u001b[33m-48\u001b[39m\n",
      "\t\u001b[0m.cfi_offset \u001b[0mr13\u001b[0m, \u001b[33m-40\u001b[39m\n",
      "\t\u001b[0m.cfi_offset \u001b[0mr14\u001b[0m, \u001b[33m-32\u001b[39m\n",
      "\t\u001b[0m.cfi_offset \u001b[0mr15\u001b[0m, \u001b[33m-24\u001b[39m\n",
      "\t\u001b[96m\u001b[1mvxorpd\u001b[22m\u001b[39m\t\u001b[0mxmm0\u001b[0m, \u001b[0mxmm0\u001b[0m, \u001b[0mxmm0\n",
      "\t\u001b[96m\u001b[1mvmovapd\u001b[22m\u001b[39m\t\u001b[95mymmword\u001b[39m \u001b[95mptr\u001b[39m \u001b[33m[\u001b[39m\u001b[0mrsp \u001b[0m+ \u001b[33m32\u001b[39m\u001b[33m]\u001b[39m\u001b[0m, \u001b[0mymm0\n",
      "\t\u001b[96m\u001b[1mmov\u001b[22m\u001b[39m\t\u001b[95mqword\u001b[39m \u001b[95mptr\u001b[39m \u001b[33m[\u001b[39m\u001b[0mrsp \u001b[0m+ \u001b[33m64\u001b[39m\u001b[33m]\u001b[39m\u001b[0m, \u001b[33m0\u001b[39m\n",
      "\t\u001b[96m\u001b[1mmov\u001b[22m\u001b[39m\t\u001b[95mqword\u001b[39m \u001b[95mptr\u001b[39m \u001b[33m[\u001b[39m\u001b[0mrsp \u001b[0m+ \u001b[33m128\u001b[39m\u001b[33m]\u001b[39m\u001b[0m, \u001b[0mrsi\n",
      "\t\u001b[0m#APP\n",
      "\t\u001b[96m\u001b[1mmov\u001b[22m\u001b[39m\t\u001b[0mrax\u001b[0m, \u001b[95mqword\u001b[39m \u001b[95mptr\u001b[39m \u001b[0mfs\u001b[0m:\u001b[33m[\u001b[39m\u001b[33m0\u001b[39m\u001b[33m]\u001b[39m\n",
      "\t\u001b[0m#NO_APP\n",
      "\t\u001b[96m\u001b[1mmov\u001b[22m\u001b[39m\t\u001b[0mr12\u001b[0m, \u001b[95mqword\u001b[39m \u001b[95mptr\u001b[39m \u001b[33m[\u001b[39m\u001b[0mrax \u001b[0m- \u001b[33m8\u001b[39m\u001b[33m]\u001b[39m\n",
      "\t\u001b[96m\u001b[1mmov\u001b[22m\u001b[39m\t\u001b[95mqword\u001b[39m \u001b[95mptr\u001b[39m \u001b[33m[\u001b[39m\u001b[0mrsp \u001b[0m+ \u001b[33m32\u001b[39m\u001b[33m]\u001b[39m\u001b[0m, \u001b[33m12\u001b[39m\n",
      "\t\u001b[96m\u001b[1mmov\u001b[22m\u001b[39m\t\u001b[0mrax\u001b[0m, \u001b[95mqword\u001b[39m \u001b[95mptr\u001b[39m \u001b[33m[\u001b[39m\u001b[0mr12\u001b[33m]\u001b[39m\n",
      "\t\u001b[96m\u001b[1mmov\u001b[22m\u001b[39m\t\u001b[95mqword\u001b[39m \u001b[95mptr\u001b[39m \u001b[33m[\u001b[39m\u001b[0mrsp \u001b[0m+ \u001b[33m40\u001b[39m\u001b[33m]\u001b[39m\u001b[0m, \u001b[0mrax\n",
      "\t\u001b[96m\u001b[1mlea\u001b[22m\u001b[39m\t\u001b[0mrax\u001b[0m, \u001b[33m[\u001b[39m\u001b[0mrsp \u001b[0m+ \u001b[33m32\u001b[39m\u001b[33m]\u001b[39m\n",
      "\t\u001b[96m\u001b[1mmov\u001b[22m\u001b[39m\t\u001b[95mqword\u001b[39m \u001b[95mptr\u001b[39m \u001b[33m[\u001b[39m\u001b[0mr12\u001b[33m]\u001b[39m\u001b[0m, \u001b[0mrax\n",
      "\t\u001b[96m\u001b[1mmov\u001b[22m\u001b[39m\t\u001b[0mrdx\u001b[0m, \u001b[95mqword\u001b[39m \u001b[95mptr\u001b[39m \u001b[33m[\u001b[39m\u001b[0mrsi\u001b[33m]\u001b[39m\n",
      "\t\u001b[96m\u001b[1mmov\u001b[22m\u001b[39m\t\u001b[0mrax\u001b[0m, \u001b[95mqword\u001b[39m \u001b[95mptr\u001b[39m \u001b[33m[\u001b[39m\u001b[0mrsi \u001b[0m+ \u001b[33m8\u001b[39m\u001b[33m]\u001b[39m\n",
      "\t\u001b[96m\u001b[1mmov\u001b[22m\u001b[39m\t\u001b[0mrcx\u001b[0m, \u001b[95mqword\u001b[39m \u001b[95mptr\u001b[39m \u001b[33m[\u001b[39m\u001b[0mrsi \u001b[0m+ \u001b[33m16\u001b[39m\u001b[33m]\u001b[39m\n",
      "\t\u001b[96m\u001b[1mmov\u001b[22m\u001b[39m\t\u001b[0mrbx\u001b[0m, \u001b[95mqword\u001b[39m \u001b[95mptr\u001b[39m \u001b[33m[\u001b[39m\u001b[0mrdx \u001b[0m+ \u001b[33m8\u001b[39m\u001b[33m]\u001b[39m\n",
      "\t\u001b[96m\u001b[1mmov\u001b[22m\u001b[39m\t\u001b[0mr14\u001b[0m, \u001b[95mqword\u001b[39m \u001b[95mptr\u001b[39m \u001b[33m[\u001b[39m\u001b[0mrax \u001b[0m+ \u001b[33m8\u001b[39m\u001b[33m]\u001b[39m\n",
      "\t\u001b[96m\u001b[1mmov\u001b[22m\u001b[39m\t\u001b[0mr13\u001b[0m, \u001b[95mqword\u001b[39m \u001b[95mptr\u001b[39m \u001b[33m[\u001b[39m\u001b[0mrcx \u001b[0m+ \u001b[33m8\u001b[39m\u001b[33m]\u001b[39m\n",
      "\t\u001b[96m\u001b[1mcmp\u001b[22m\u001b[39m\t\u001b[0mrbx\u001b[0m, \u001b[0mr14\n",
      "\t\u001b[96m\u001b[1mjne\u001b[22m\u001b[39m\t\u001b[0m.LBB0_12\n",
      "\u001b[90m# %bb.1:                                # %top\u001b[39m\n",
      "\t\u001b[96m\u001b[1mcmp\u001b[22m\u001b[39m\t\u001b[0mrbx\u001b[0m, \u001b[0mr13\n",
      "\t\u001b[96m\u001b[1mjne\u001b[22m\u001b[39m\t\u001b[0m.LBB0_12\n",
      "\u001b[90m# %bb.2:                                # %L31\u001b[39m\n",
      "\t\u001b[96m\u001b[1mtest\u001b[22m\u001b[39m\t\u001b[0mrbx\u001b[0m, \u001b[0mrbx\n",
      "\t\u001b[96m\u001b[1mje\u001b[22m\u001b[39m\t\u001b[0m.LBB0_11\n",
      "\u001b[90m# %bb.3:                                # %L40.preheader\u001b[39m\n",
      "\t\u001b[96m\u001b[1mmov\u001b[22m\u001b[39m\t\u001b[0mrax\u001b[0m, \u001b[95mqword\u001b[39m \u001b[95mptr\u001b[39m \u001b[33m[\u001b[39m\u001b[0mrax\u001b[33m]\u001b[39m\n",
      "\t\u001b[96m\u001b[1mmov\u001b[22m\u001b[39m\t\u001b[0mrcx\u001b[0m, \u001b[95mqword\u001b[39m \u001b[95mptr\u001b[39m \u001b[33m[\u001b[39m\u001b[0mrcx\u001b[33m]\u001b[39m\n",
      "\t\u001b[96m\u001b[1mmov\u001b[22m\u001b[39m\t\u001b[0mrdx\u001b[0m, \u001b[95mqword\u001b[39m \u001b[95mptr\u001b[39m \u001b[33m[\u001b[39m\u001b[0mrdx\u001b[33m]\u001b[39m\n",
      "\t\u001b[96m\u001b[1mmov\u001b[22m\u001b[39m\t\u001b[0mesi\u001b[0m, \u001b[33m1\u001b[39m\n",
      "\t\u001b[96m\u001b[1mcmp\u001b[22m\u001b[39m\t\u001b[0mrbx\u001b[0m, \u001b[33m16\u001b[39m\n",
      "\t\u001b[96m\u001b[1mjb\u001b[22m\u001b[39m\t\u001b[0m.LBB0_9\n",
      "\u001b[90m# %bb.4:                                # %vector.memcheck\u001b[39m\n",
      "\t\u001b[96m\u001b[1mlea\u001b[22m\u001b[39m\t\u001b[0mrdi\u001b[0m, \u001b[33m[\u001b[39m\u001b[0mrdx \u001b[0m+ \u001b[33m8\u001b[39m\u001b[0m*\u001b[0mrbx\u001b[33m]\u001b[39m\n",
      "\t\u001b[96m\u001b[1mlea\u001b[22m\u001b[39m\t\u001b[0mr8\u001b[0m, \u001b[33m[\u001b[39m\u001b[0mrax \u001b[0m+ \u001b[33m8\u001b[39m\u001b[0m*\u001b[0mrbx\u001b[33m]\u001b[39m\n",
      "\t\u001b[96m\u001b[1mlea\u001b[22m\u001b[39m\t\u001b[0mr9\u001b[0m, \u001b[33m[\u001b[39m\u001b[0mrcx \u001b[0m+ \u001b[33m8\u001b[39m\u001b[0m*\u001b[0mrbx\u001b[33m]\u001b[39m\n",
      "\t\u001b[96m\u001b[1mcmp\u001b[22m\u001b[39m\t\u001b[0mrdx\u001b[0m, \u001b[0mr8\n",
      "\t\u001b[96m\u001b[1msetb\u001b[22m\u001b[39m\t\u001b[0mr10b\n",
      "\t\u001b[96m\u001b[1mcmp\u001b[22m\u001b[39m\t\u001b[0mrax\u001b[0m, \u001b[0mrdi\n",
      "\t\u001b[96m\u001b[1msetb\u001b[22m\u001b[39m\t\u001b[0mr11b\n",
      "\t\u001b[96m\u001b[1mcmp\u001b[22m\u001b[39m\t\u001b[0mrdx\u001b[0m, \u001b[0mr9\n",
      "\t\u001b[96m\u001b[1msetb\u001b[22m\u001b[39m\t\u001b[0mr9b\n",
      "\t\u001b[96m\u001b[1mcmp\u001b[22m\u001b[39m\t\u001b[0mrcx\u001b[0m, \u001b[0mrdi\n",
      "\t\u001b[96m\u001b[1msetb\u001b[22m\u001b[39m\t\u001b[0mr8b\n",
      "\t\u001b[96m\u001b[1mtest\u001b[22m\u001b[39m\t\u001b[0mr10b\u001b[0m, \u001b[0mr11b\n",
      "\t\u001b[96m\u001b[1mjne\u001b[22m\u001b[39m\t\u001b[0m.LBB0_9\n",
      "\u001b[90m# %bb.5:                                # %vector.memcheck\u001b[39m\n",
      "\t\u001b[96m\u001b[1mand\u001b[22m\u001b[39m\t\u001b[0mr9b\u001b[0m, \u001b[0mr8b\n",
      "\t\u001b[96m\u001b[1mjne\u001b[22m\u001b[39m\t\u001b[0m.LBB0_9\n",
      "\u001b[90m# %bb.6:                                # %vector.ph\u001b[39m\n",
      "\t\u001b[96m\u001b[1mmov\u001b[22m\u001b[39m\t\u001b[0mr8\u001b[0m, \u001b[0mrbx\n",
      "\t\u001b[96m\u001b[1mand\u001b[22m\u001b[39m\t\u001b[0mr8\u001b[0m, \u001b[33m-16\u001b[39m\n",
      "\t\u001b[96m\u001b[1mlea\u001b[22m\u001b[39m\t\u001b[0mrsi\u001b[0m, \u001b[33m[\u001b[39m\u001b[0mr8 \u001b[0m+ \u001b[33m1\u001b[39m\u001b[33m]\u001b[39m\n",
      "\t\u001b[96m\u001b[1mxor\u001b[22m\u001b[39m\t\u001b[0medi\u001b[0m, \u001b[0medi\n",
      "\t\u001b[0m.p2align\t\u001b[33m4\u001b[39m\u001b[0m, \u001b[33m0x90\u001b[39m\n",
      "\u001b[91m.LBB0_7:\u001b[39m                                \u001b[90m# %vector.body\u001b[39m\n",
      "                                        \u001b[90m# =>This Inner Loop Header: Depth=1\u001b[39m\n",
      "\t\u001b[96m\u001b[1mvmovupd\u001b[22m\u001b[39m\t\u001b[0mymm0\u001b[0m, \u001b[95mymmword\u001b[39m \u001b[95mptr\u001b[39m \u001b[33m[\u001b[39m\u001b[0mrax \u001b[0m+ \u001b[33m8\u001b[39m\u001b[0m*\u001b[0mrdi\u001b[33m]\u001b[39m\n",
      "\t\u001b[96m\u001b[1mvmovupd\u001b[22m\u001b[39m\t\u001b[0mymm1\u001b[0m, \u001b[95mymmword\u001b[39m \u001b[95mptr\u001b[39m \u001b[33m[\u001b[39m\u001b[0mrax \u001b[0m+ \u001b[33m8\u001b[39m\u001b[0m*\u001b[0mrdi \u001b[0m+ \u001b[33m32\u001b[39m\u001b[33m]\u001b[39m\n",
      "\t\u001b[96m\u001b[1mvmovupd\u001b[22m\u001b[39m\t\u001b[0mymm2\u001b[0m, \u001b[95mymmword\u001b[39m \u001b[95mptr\u001b[39m \u001b[33m[\u001b[39m\u001b[0mrax \u001b[0m+ \u001b[33m8\u001b[39m\u001b[0m*\u001b[0mrdi \u001b[0m+ \u001b[33m64\u001b[39m\u001b[33m]\u001b[39m\n",
      "\t\u001b[96m\u001b[1mvmovupd\u001b[22m\u001b[39m\t\u001b[0mymm3\u001b[0m, \u001b[95mymmword\u001b[39m \u001b[95mptr\u001b[39m \u001b[33m[\u001b[39m\u001b[0mrax \u001b[0m+ \u001b[33m8\u001b[39m\u001b[0m*\u001b[0mrdi \u001b[0m+ \u001b[33m96\u001b[39m\u001b[33m]\u001b[39m\n",
      "\t\u001b[96m\u001b[1mvaddpd\u001b[22m\u001b[39m\t\u001b[0mymm0\u001b[0m, \u001b[0mymm0\u001b[0m, \u001b[95mymmword\u001b[39m \u001b[95mptr\u001b[39m \u001b[33m[\u001b[39m\u001b[0mrcx \u001b[0m+ \u001b[33m8\u001b[39m\u001b[0m*\u001b[0mrdi\u001b[33m]\u001b[39m\n",
      "\t\u001b[96m\u001b[1mvaddpd\u001b[22m\u001b[39m\t\u001b[0mymm1\u001b[0m, \u001b[0mymm1\u001b[0m, \u001b[95mymmword\u001b[39m \u001b[95mptr\u001b[39m \u001b[33m[\u001b[39m\u001b[0mrcx \u001b[0m+ \u001b[33m8\u001b[39m\u001b[0m*\u001b[0mrdi \u001b[0m+ \u001b[33m32\u001b[39m\u001b[33m]\u001b[39m\n",
      "\t\u001b[96m\u001b[1mvaddpd\u001b[22m\u001b[39m\t\u001b[0mymm2\u001b[0m, \u001b[0mymm2\u001b[0m, \u001b[95mymmword\u001b[39m \u001b[95mptr\u001b[39m \u001b[33m[\u001b[39m\u001b[0mrcx \u001b[0m+ \u001b[33m8\u001b[39m\u001b[0m*\u001b[0mrdi \u001b[0m+ \u001b[33m64\u001b[39m\u001b[33m]\u001b[39m\n",
      "\t\u001b[96m\u001b[1mvaddpd\u001b[22m\u001b[39m\t\u001b[0mymm3\u001b[0m, \u001b[0mymm3\u001b[0m, \u001b[95mymmword\u001b[39m \u001b[95mptr\u001b[39m \u001b[33m[\u001b[39m\u001b[0mrcx \u001b[0m+ \u001b[33m8\u001b[39m\u001b[0m*\u001b[0mrdi \u001b[0m+ \u001b[33m96\u001b[39m\u001b[33m]\u001b[39m\n",
      "\t\u001b[96m\u001b[1mvmovupd\u001b[22m\u001b[39m\t\u001b[95mymmword\u001b[39m \u001b[95mptr\u001b[39m \u001b[33m[\u001b[39m\u001b[0mrdx \u001b[0m+ \u001b[33m8\u001b[39m\u001b[0m*\u001b[0mrdi\u001b[33m]\u001b[39m\u001b[0m, \u001b[0mymm0\n",
      "\t\u001b[96m\u001b[1mvmovupd\u001b[22m\u001b[39m\t\u001b[95mymmword\u001b[39m \u001b[95mptr\u001b[39m \u001b[33m[\u001b[39m\u001b[0mrdx \u001b[0m+ \u001b[33m8\u001b[39m\u001b[0m*\u001b[0mrdi \u001b[0m+ \u001b[33m32\u001b[39m\u001b[33m]\u001b[39m\u001b[0m, \u001b[0mymm1\n",
      "\t\u001b[96m\u001b[1mvmovupd\u001b[22m\u001b[39m\t\u001b[95mymmword\u001b[39m \u001b[95mptr\u001b[39m \u001b[33m[\u001b[39m\u001b[0mrdx \u001b[0m+ \u001b[33m8\u001b[39m\u001b[0m*\u001b[0mrdi \u001b[0m+ \u001b[33m64\u001b[39m\u001b[33m]\u001b[39m\u001b[0m, \u001b[0mymm2\n",
      "\t\u001b[96m\u001b[1mvmovupd\u001b[22m\u001b[39m\t\u001b[95mymmword\u001b[39m \u001b[95mptr\u001b[39m \u001b[33m[\u001b[39m\u001b[0mrdx \u001b[0m+ \u001b[33m8\u001b[39m\u001b[0m*\u001b[0mrdi \u001b[0m+ \u001b[33m96\u001b[39m\u001b[33m]\u001b[39m\u001b[0m, \u001b[0mymm3\n",
      "\t\u001b[96m\u001b[1madd\u001b[22m\u001b[39m\t\u001b[0mrdi\u001b[0m, \u001b[33m16\u001b[39m\n",
      "\t\u001b[96m\u001b[1mcmp\u001b[22m\u001b[39m\t\u001b[0mr8\u001b[0m, \u001b[0mrdi\n",
      "\t\u001b[96m\u001b[1mjne\u001b[22m\u001b[39m\t\u001b[0m.LBB0_7\n",
      "\u001b[90m# %bb.8:                                # %middle.block\u001b[39m\n",
      "\t\u001b[96m\u001b[1mcmp\u001b[22m\u001b[39m\t\u001b[0mrbx\u001b[0m, \u001b[0mr8\n",
      "\t\u001b[96m\u001b[1mje\u001b[22m\u001b[39m\t\u001b[0m.LBB0_11\n",
      "\u001b[91m.LBB0_9:\u001b[39m                                \u001b[90m# %scalar.ph\u001b[39m\n",
      "\t\u001b[96m\u001b[1mdec\u001b[22m\u001b[39m\t\u001b[0mrsi\n",
      "\t\u001b[0m.p2align\t\u001b[33m4\u001b[39m\u001b[0m, \u001b[33m0x90\u001b[39m\n",
      "\u001b[91m.LBB0_10:\u001b[39m                               \u001b[90m# %L40\u001b[39m\n",
      "                                        \u001b[90m# =>This Inner Loop Header: Depth=1\u001b[39m\n",
      "\t\u001b[96m\u001b[1mvmovsd\u001b[22m\u001b[39m\t\u001b[0mxmm0\u001b[0m, \u001b[95mqword\u001b[39m \u001b[95mptr\u001b[39m \u001b[33m[\u001b[39m\u001b[0mrax \u001b[0m+ \u001b[33m8\u001b[39m\u001b[0m*\u001b[0mrsi\u001b[33m]\u001b[39m   \u001b[90m# xmm0 = mem[0],zero\u001b[39m\n",
      "\t\u001b[96m\u001b[1mvaddsd\u001b[22m\u001b[39m\t\u001b[0mxmm0\u001b[0m, \u001b[0mxmm0\u001b[0m, \u001b[95mqword\u001b[39m \u001b[95mptr\u001b[39m \u001b[33m[\u001b[39m\u001b[0mrcx \u001b[0m+ \u001b[33m8\u001b[39m\u001b[0m*\u001b[0mrsi\u001b[33m]\u001b[39m\n",
      "\t\u001b[96m\u001b[1mvmovsd\u001b[22m\u001b[39m\t\u001b[95mqword\u001b[39m \u001b[95mptr\u001b[39m \u001b[33m[\u001b[39m\u001b[0mrdx \u001b[0m+ \u001b[33m8\u001b[39m\u001b[0m*\u001b[0mrsi\u001b[33m]\u001b[39m\u001b[0m, \u001b[0mxmm0\n",
      "\t\u001b[96m\u001b[1minc\u001b[22m\u001b[39m\t\u001b[0mrsi\n",
      "\t\u001b[96m\u001b[1mcmp\u001b[22m\u001b[39m\t\u001b[0mrbx\u001b[0m, \u001b[0mrsi\n",
      "\t\u001b[96m\u001b[1mjne\u001b[22m\u001b[39m\t\u001b[0m.LBB0_10\n",
      "\u001b[91m.LBB0_11:\u001b[39m                               \u001b[90m# %L57\u001b[39m\n",
      "\t\u001b[96m\u001b[1mmov\u001b[22m\u001b[39m\t\u001b[0mrax\u001b[0m, \u001b[95mqword\u001b[39m \u001b[95mptr\u001b[39m \u001b[33m[\u001b[39m\u001b[0mrsp \u001b[0m+ \u001b[33m40\u001b[39m\u001b[33m]\u001b[39m\n",
      "\t\u001b[96m\u001b[1mmov\u001b[22m\u001b[39m\t\u001b[95mqword\u001b[39m \u001b[95mptr\u001b[39m \u001b[33m[\u001b[39m\u001b[0mr12\u001b[33m]\u001b[39m\u001b[0m, \u001b[0mrax\n",
      "\t\u001b[96m\u001b[1mmovabs\u001b[22m\u001b[39m\t\u001b[0mrax\u001b[0m, \u001b[33m23455915634696\u001b[39m\n",
      "\t\u001b[96m\u001b[1mlea\u001b[22m\u001b[39m\t\u001b[0mrsp\u001b[0m, \u001b[33m[\u001b[39m\u001b[0mrbp \u001b[0m- \u001b[33m40\u001b[39m\u001b[33m]\u001b[39m\n",
      "\t\u001b[96m\u001b[1mpop\u001b[22m\u001b[39m\t\u001b[0mrbx\n",
      "\t\u001b[96m\u001b[1mpop\u001b[22m\u001b[39m\t\u001b[0mr12\n",
      "\t\u001b[96m\u001b[1mpop\u001b[22m\u001b[39m\t\u001b[0mr13\n",
      "\t\u001b[96m\u001b[1mpop\u001b[22m\u001b[39m\t\u001b[0mr14\n",
      "\t\u001b[96m\u001b[1mpop\u001b[22m\u001b[39m\t\u001b[0mr15\n",
      "\t\u001b[96m\u001b[1mpop\u001b[22m\u001b[39m\t\u001b[0mrbp\n",
      "\t\u001b[0m.cfi_def_cfa \u001b[0mrsp\u001b[0m, \u001b[33m8\u001b[39m\n",
      "\t\u001b[96m\u001b[1mvzeroupper\u001b[22m\u001b[39m\n",
      "\t\u001b[96m\u001b[1mret\u001b[22m\u001b[39m\n",
      "\u001b[91m.LBB0_12:\u001b[39m                               \u001b[90m# %L16\u001b[39m\n",
      "\t\u001b[0m.cfi_def_cfa \u001b[0mrbp\u001b[0m, \u001b[33m16\u001b[39m\n",
      "\t\u001b[96m\u001b[1mmov\u001b[22m\u001b[39m\t\u001b[0mrdi\u001b[0m, \u001b[95mqword\u001b[39m \u001b[95mptr\u001b[39m \u001b[33m[\u001b[39m\u001b[0mr12 \u001b[0m+ \u001b[33m16\u001b[39m\u001b[33m]\u001b[39m\n",
      "\t\u001b[96m\u001b[1mmovabs\u001b[22m\u001b[39m\t\u001b[0mr15\u001b[0m, \u001b[95moffset\u001b[39m \u001b[93mijl_gc_pool_alloc\u001b[39m\n",
      "\t\u001b[96m\u001b[1mmov\u001b[22m\u001b[39m\t\u001b[0mesi\u001b[0m, \u001b[33m1392\u001b[39m\n",
      "\t\u001b[96m\u001b[1mmov\u001b[22m\u001b[39m\t\u001b[0medx\u001b[0m, \u001b[33m16\u001b[39m\n",
      "\t\u001b[96m\u001b[1mvzeroupper\u001b[22m\u001b[39m\n",
      "\t\u001b[96m\u001b[1mcall\u001b[22m\u001b[39m\t\u001b[0mr15\n",
      "\t\u001b[96m\u001b[1mmov\u001b[22m\u001b[39m\t\u001b[95mqword\u001b[39m \u001b[95mptr\u001b[39m \u001b[33m[\u001b[39m\u001b[0mrsp \u001b[0m+ \u001b[33m24\u001b[39m\u001b[33m]\u001b[39m\u001b[0m, \u001b[0mrax       \u001b[90m# 8-byte Spill\u001b[39m\n",
      "\t\u001b[96m\u001b[1mmovabs\u001b[22m\u001b[39m\t\u001b[0mrcx\u001b[0m, \u001b[33m23455743214368\u001b[39m\n",
      "\t\u001b[96m\u001b[1mmov\u001b[22m\u001b[39m\t\u001b[95mqword\u001b[39m \u001b[95mptr\u001b[39m \u001b[33m[\u001b[39m\u001b[0mrax \u001b[0m- \u001b[33m8\u001b[39m\u001b[33m]\u001b[39m\u001b[0m, \u001b[0mrcx\n",
      "\t\u001b[96m\u001b[1mmov\u001b[22m\u001b[39m\t\u001b[95mqword\u001b[39m \u001b[95mptr\u001b[39m \u001b[33m[\u001b[39m\u001b[0mrax\u001b[33m]\u001b[39m\u001b[0m, \u001b[0mrbx\n",
      "\t\u001b[96m\u001b[1mmov\u001b[22m\u001b[39m\t\u001b[95mqword\u001b[39m \u001b[95mptr\u001b[39m \u001b[33m[\u001b[39m\u001b[0mrsp \u001b[0m+ \u001b[33m64\u001b[39m\u001b[33m]\u001b[39m\u001b[0m, \u001b[0mrax\n",
      "\t\u001b[96m\u001b[1mmov\u001b[22m\u001b[39m\t\u001b[0mrdi\u001b[0m, \u001b[95mqword\u001b[39m \u001b[95mptr\u001b[39m \u001b[33m[\u001b[39m\u001b[0mr12 \u001b[0m+ \u001b[33m16\u001b[39m\u001b[33m]\u001b[39m\n",
      "\t\u001b[96m\u001b[1mmov\u001b[22m\u001b[39m\t\u001b[0mesi\u001b[0m, \u001b[33m1392\u001b[39m\n",
      "\t\u001b[96m\u001b[1mmov\u001b[22m\u001b[39m\t\u001b[0medx\u001b[0m, \u001b[33m16\u001b[39m\n",
      "\t\u001b[96m\u001b[1mcall\u001b[22m\u001b[39m\t\u001b[0mr15\n",
      "\t\u001b[96m\u001b[1mmov\u001b[22m\u001b[39m\t\u001b[0mrcx\u001b[0m, \u001b[0mr15\n",
      "\t\u001b[96m\u001b[1mmov\u001b[22m\u001b[39m\t\u001b[0mr15\u001b[0m, \u001b[0mrax\n",
      "\t\u001b[96m\u001b[1mmovabs\u001b[22m\u001b[39m\t\u001b[0mrbx\u001b[0m, \u001b[33m23455743214368\u001b[39m\n",
      "\t\u001b[96m\u001b[1mmov\u001b[22m\u001b[39m\t\u001b[95mqword\u001b[39m \u001b[95mptr\u001b[39m \u001b[33m[\u001b[39m\u001b[0mrax \u001b[0m- \u001b[33m8\u001b[39m\u001b[33m]\u001b[39m\u001b[0m, \u001b[0mrbx\n",
      "\t\u001b[96m\u001b[1mmov\u001b[22m\u001b[39m\t\u001b[95mqword\u001b[39m \u001b[95mptr\u001b[39m \u001b[33m[\u001b[39m\u001b[0mrax\u001b[33m]\u001b[39m\u001b[0m, \u001b[0mr14\n",
      "\t\u001b[96m\u001b[1mmov\u001b[22m\u001b[39m\t\u001b[95mqword\u001b[39m \u001b[95mptr\u001b[39m \u001b[33m[\u001b[39m\u001b[0mrsp \u001b[0m+ \u001b[33m56\u001b[39m\u001b[33m]\u001b[39m\u001b[0m, \u001b[0mrax\n",
      "\t\u001b[96m\u001b[1mmov\u001b[22m\u001b[39m\t\u001b[0mrdi\u001b[0m, \u001b[95mqword\u001b[39m \u001b[95mptr\u001b[39m \u001b[33m[\u001b[39m\u001b[0mr12 \u001b[0m+ \u001b[33m16\u001b[39m\u001b[33m]\u001b[39m\n",
      "\t\u001b[96m\u001b[1mmov\u001b[22m\u001b[39m\t\u001b[0mesi\u001b[0m, \u001b[33m1392\u001b[39m\n",
      "\t\u001b[96m\u001b[1mmov\u001b[22m\u001b[39m\t\u001b[0medx\u001b[0m, \u001b[33m16\u001b[39m\n",
      "\t\u001b[96m\u001b[1mcall\u001b[22m\u001b[39m\t\u001b[0mrcx\n",
      "\t\u001b[96m\u001b[1mmov\u001b[22m\u001b[39m\t\u001b[95mqword\u001b[39m \u001b[95mptr\u001b[39m \u001b[33m[\u001b[39m\u001b[0mrax \u001b[0m- \u001b[33m8\u001b[39m\u001b[33m]\u001b[39m\u001b[0m, \u001b[0mrbx\n",
      "\t\u001b[96m\u001b[1mmov\u001b[22m\u001b[39m\t\u001b[95mqword\u001b[39m \u001b[95mptr\u001b[39m \u001b[33m[\u001b[39m\u001b[0mrax\u001b[33m]\u001b[39m\u001b[0m, \u001b[0mr13\n",
      "\t\u001b[96m\u001b[1mmov\u001b[22m\u001b[39m\t\u001b[95mqword\u001b[39m \u001b[95mptr\u001b[39m \u001b[33m[\u001b[39m\u001b[0mrsp \u001b[0m+ \u001b[33m48\u001b[39m\u001b[33m]\u001b[39m\u001b[0m, \u001b[0mrax\n",
      "\t\u001b[96m\u001b[1mmovabs\u001b[22m\u001b[39m\t\u001b[0mrcx\u001b[0m, \u001b[33m23455749656336\u001b[39m\n",
      "\t\u001b[96m\u001b[1mmov\u001b[22m\u001b[39m\t\u001b[95mqword\u001b[39m \u001b[95mptr\u001b[39m \u001b[33m[\u001b[39m\u001b[0mrsp \u001b[0m+ \u001b[33m96\u001b[39m\u001b[33m]\u001b[39m\u001b[0m, \u001b[0mrcx\n",
      "\t\u001b[96m\u001b[1mmov\u001b[22m\u001b[39m\t\u001b[0mrcx\u001b[0m, \u001b[95mqword\u001b[39m \u001b[95mptr\u001b[39m \u001b[33m[\u001b[39m\u001b[0mrsp \u001b[0m+ \u001b[33m24\u001b[39m\u001b[33m]\u001b[39m       \u001b[90m# 8-byte Reload\u001b[39m\n",
      "\t\u001b[96m\u001b[1mmov\u001b[22m\u001b[39m\t\u001b[95mqword\u001b[39m \u001b[95mptr\u001b[39m \u001b[33m[\u001b[39m\u001b[0mrsp \u001b[0m+ \u001b[33m104\u001b[39m\u001b[33m]\u001b[39m\u001b[0m, \u001b[0mrcx\n",
      "\t\u001b[96m\u001b[1mmov\u001b[22m\u001b[39m\t\u001b[95mqword\u001b[39m \u001b[95mptr\u001b[39m \u001b[33m[\u001b[39m\u001b[0mrsp \u001b[0m+ \u001b[33m112\u001b[39m\u001b[33m]\u001b[39m\u001b[0m, \u001b[0mr15\n",
      "\t\u001b[96m\u001b[1mmov\u001b[22m\u001b[39m\t\u001b[95mqword\u001b[39m \u001b[95mptr\u001b[39m \u001b[33m[\u001b[39m\u001b[0mrsp \u001b[0m+ \u001b[33m120\u001b[39m\u001b[33m]\u001b[39m\u001b[0m, \u001b[0mrax\n",
      "\t\u001b[96m\u001b[1mmovabs\u001b[22m\u001b[39m\t\u001b[0mrax\u001b[0m, \u001b[95moffset\u001b[39m \u001b[93mijl_invoke\u001b[39m\n",
      "\t\u001b[96m\u001b[1mmovabs\u001b[22m\u001b[39m\t\u001b[0mrdi\u001b[0m, \u001b[33m23455765993616\u001b[39m\n",
      "\t\u001b[96m\u001b[1mlea\u001b[22m\u001b[39m\t\u001b[0mrsi\u001b[0m, \u001b[33m[\u001b[39m\u001b[0mrsp \u001b[0m+ \u001b[33m96\u001b[39m\u001b[33m]\u001b[39m\n",
      "\t\u001b[96m\u001b[1mmovabs\u001b[22m\u001b[39m\t\u001b[0mrcx\u001b[0m, \u001b[33m23455866573520\u001b[39m\n",
      "\t\u001b[96m\u001b[1mmov\u001b[22m\u001b[39m\t\u001b[0medx\u001b[0m, \u001b[33m4\u001b[39m\n",
      "\t\u001b[96m\u001b[1mcall\u001b[22m\u001b[39m\t\u001b[0mrax\n",
      "\t\u001b[96m\u001b[1mud2\u001b[22m\u001b[39m\n",
      "\u001b[91m.Lfunc_end0:\u001b[39m\n",
      "\t\u001b[0m.size\t\u001b[0mjapi1_vector_add_1723\u001b[0m, \u001b[0m.Lfunc_end0-japi1_vector_add_1723\n",
      "\t\u001b[0m.cfi_endproc\n",
      "                                        \u001b[90m# -- End function\u001b[39m\n",
      "\t\u001b[0m.section\t\u001b[0m\".note.GNU-stack\"\u001b[0m,\u001b[0m\"\"\u001b[0m,\u001b[0m@progbits\n"
     ]
    }
   ],
   "source": [
    "@code_native debuginfo=:none syntax=:intel vector_add(A,B,C)"
   ]
  },
  {
   "cell_type": "markdown",
   "metadata": {},
   "source": [
    "## It's not always so simple: SIMD can be hard..."
   ]
  },
  {
   "cell_type": "markdown",
   "metadata": {},
   "source": [
    "Autovectorization is a hard problem (it needs to prove a lot of things about the code!). After all, it is a from of parallelism and efficient parallelism can be hard as well...\n",
    "\n",
    "Not every loop is (readily) vectorizable. **Keep your loops as simple as possible!**\n",
    "\n",
    "* avoid conditionals and function calls etc.\n",
    "* ideally, loop length is static (countable up front).\n",
    "* access **contiguous data** (spatial locality).\n",
    "  * (align data structures to SIMD width boundary)\n",
    "* avoid data dependencies (e.g. between loop iterations)"
   ]
  },
  {
   "cell_type": "markdown",
   "metadata": {},
   "source": [
    "### Example: Reduction"
   ]
  },
  {
   "cell_type": "code",
   "execution_count": 7,
   "metadata": {},
   "outputs": [
    {
     "data": {
      "text/plain": [
       "vector_dot (generic function with 1 method)"
      ]
     },
     "metadata": {},
     "output_type": "display_data"
    }
   ],
   "source": [
    "function vector_dot(B, C)\n",
    "    a = zero(eltype(B))\n",
    "    for i in eachindex(B,C)\n",
    "        @inbounds a += B[i] * C[i]\n",
    "    end\n",
    "    return a\n",
    "end"
   ]
  },
  {
   "cell_type": "code",
   "execution_count": 8,
   "metadata": {},
   "outputs": [
    {
     "name": "stdout",
     "output_type": "stream",
     "text": [
      "\t\u001b[0m.text\n",
      "\t\u001b[0m.file\t\u001b[0m\"vector_dot\"\n",
      "\t\u001b[0m.globl\t\u001b[0mjulia_vector_dot_1774           \u001b[90m# -- Begin function julia_vector_dot_1774\u001b[39m\n",
      "\t\u001b[0m.p2align\t\u001b[33m4\u001b[39m\u001b[0m, \u001b[33m0x90\u001b[39m\n",
      "\t\u001b[0m.type\t\u001b[0mjulia_vector_dot_1774\u001b[0m,\u001b[0m@function\n",
      "\u001b[91mjulia_vector_dot_1774:\u001b[39m                  \u001b[90m# @julia_vector_dot_1774\u001b[39m\n",
      "\t\u001b[0m.cfi_startproc\n",
      "\u001b[90m# %bb.0:                                # %top\u001b[39m\n",
      "\t\u001b[96m\u001b[1mpush\u001b[22m\u001b[39m\t\u001b[0mrbp\n",
      "\t\u001b[0m.cfi_def_cfa_offset \u001b[33m16\u001b[39m\n",
      "\t\u001b[0m.cfi_offset \u001b[0mrbp\u001b[0m, \u001b[33m-16\u001b[39m\n",
      "\t\u001b[96m\u001b[1mmov\u001b[22m\u001b[39m\t\u001b[0mrbp\u001b[0m, \u001b[0mrsp\n",
      "\t\u001b[0m.cfi_def_cfa_register \u001b[0mrbp\n",
      "\t\u001b[96m\u001b[1mpush\u001b[22m\u001b[39m\t\u001b[0mr15\n",
      "\t\u001b[96m\u001b[1mpush\u001b[22m\u001b[39m\t\u001b[0mr14\n",
      "\t\u001b[96m\u001b[1mpush\u001b[22m\u001b[39m\t\u001b[0mr13\n",
      "\t\u001b[96m\u001b[1mpush\u001b[22m\u001b[39m\t\u001b[0mr12\n",
      "\t\u001b[96m\u001b[1mpush\u001b[22m\u001b[39m\t\u001b[0mrbx\n",
      "\t\u001b[96m\u001b[1mand\u001b[22m\u001b[39m\t\u001b[0mrsp\u001b[0m, \u001b[33m-32\u001b[39m\n",
      "\t\u001b[96m\u001b[1msub\u001b[22m\u001b[39m\t\u001b[0mrsp\u001b[0m, \u001b[33m96\u001b[39m\n",
      "\t\u001b[0m.cfi_offset \u001b[0mrbx\u001b[0m, \u001b[33m-56\u001b[39m\n",
      "\t\u001b[0m.cfi_offset \u001b[0mr12\u001b[0m, \u001b[33m-48\u001b[39m\n",
      "\t\u001b[0m.cfi_offset \u001b[0mr13\u001b[0m, \u001b[33m-40\u001b[39m\n",
      "\t\u001b[0m.cfi_offset \u001b[0mr14\u001b[0m, \u001b[33m-32\u001b[39m\n",
      "\t\u001b[0m.cfi_offset \u001b[0mr15\u001b[0m, \u001b[33m-24\u001b[39m\n",
      "\t\u001b[96m\u001b[1mvxorpd\u001b[22m\u001b[39m\t\u001b[0mxmm0\u001b[0m, \u001b[0mxmm0\u001b[0m, \u001b[0mxmm0\n",
      "\t\u001b[96m\u001b[1mvmovapd\u001b[22m\u001b[39m\t\u001b[95mymmword\u001b[39m \u001b[95mptr\u001b[39m \u001b[33m[\u001b[39m\u001b[0mrsp\u001b[33m]\u001b[39m\u001b[0m, \u001b[0mymm0\n",
      "\t\u001b[0m#APP\n",
      "\t\u001b[96m\u001b[1mmov\u001b[22m\u001b[39m\t\u001b[0mrax\u001b[0m, \u001b[95mqword\u001b[39m \u001b[95mptr\u001b[39m \u001b[0mfs\u001b[0m:\u001b[33m[\u001b[39m\u001b[33m0\u001b[39m\u001b[33m]\u001b[39m\n",
      "\t\u001b[0m#NO_APP\n",
      "\t\u001b[96m\u001b[1mmov\u001b[22m\u001b[39m\t\u001b[0mr15\u001b[0m, \u001b[95mqword\u001b[39m \u001b[95mptr\u001b[39m \u001b[33m[\u001b[39m\u001b[0mrax \u001b[0m- \u001b[33m8\u001b[39m\u001b[33m]\u001b[39m\n",
      "\t\u001b[96m\u001b[1mmov\u001b[22m\u001b[39m\t\u001b[95mqword\u001b[39m \u001b[95mptr\u001b[39m \u001b[33m[\u001b[39m\u001b[0mrsp\u001b[33m]\u001b[39m\u001b[0m, \u001b[33m8\u001b[39m\n",
      "\t\u001b[96m\u001b[1mmov\u001b[22m\u001b[39m\t\u001b[0mrax\u001b[0m, \u001b[95mqword\u001b[39m \u001b[95mptr\u001b[39m \u001b[33m[\u001b[39m\u001b[0mr15\u001b[33m]\u001b[39m\n",
      "\t\u001b[96m\u001b[1mmov\u001b[22m\u001b[39m\t\u001b[95mqword\u001b[39m \u001b[95mptr\u001b[39m \u001b[33m[\u001b[39m\u001b[0mrsp \u001b[0m+ \u001b[33m8\u001b[39m\u001b[33m]\u001b[39m\u001b[0m, \u001b[0mrax\n",
      "\t\u001b[96m\u001b[1mmov\u001b[22m\u001b[39m\t\u001b[0mrax\u001b[0m, \u001b[0mrsp\n",
      "\t\u001b[96m\u001b[1mmov\u001b[22m\u001b[39m\t\u001b[95mqword\u001b[39m \u001b[95mptr\u001b[39m \u001b[33m[\u001b[39m\u001b[0mr15\u001b[33m]\u001b[39m\u001b[0m, \u001b[0mrax\n",
      "\t\u001b[96m\u001b[1mmov\u001b[22m\u001b[39m\t\u001b[0mrbx\u001b[0m, \u001b[95mqword\u001b[39m \u001b[95mptr\u001b[39m \u001b[33m[\u001b[39m\u001b[0mrdi \u001b[0m+ \u001b[33m8\u001b[39m\u001b[33m]\u001b[39m\n",
      "\t\u001b[96m\u001b[1mmov\u001b[22m\u001b[39m\t\u001b[0mr12\u001b[0m, \u001b[95mqword\u001b[39m \u001b[95mptr\u001b[39m \u001b[33m[\u001b[39m\u001b[0mrsi \u001b[0m+ \u001b[33m8\u001b[39m\u001b[33m]\u001b[39m\n",
      "\t\u001b[96m\u001b[1mcmp\u001b[22m\u001b[39m\t\u001b[0mrbx\u001b[0m, \u001b[0mr12\n",
      "\t\u001b[96m\u001b[1mjne\u001b[22m\u001b[39m\t\u001b[0m.LBB0_6\n",
      "\u001b[90m# %bb.1:                                # %L22\u001b[39m\n",
      "\t\u001b[96m\u001b[1mtest\u001b[22m\u001b[39m\t\u001b[0mrbx\u001b[0m, \u001b[0mrbx\n",
      "\t\u001b[96m\u001b[1mje\u001b[22m\u001b[39m\t\u001b[0m.LBB0_2\n",
      "\u001b[90m# %bb.3:                                # %L31.preheader\u001b[39m\n",
      "\t\u001b[96m\u001b[1mmov\u001b[22m\u001b[39m\t\u001b[0mrax\u001b[0m, \u001b[95mqword\u001b[39m \u001b[95mptr\u001b[39m \u001b[33m[\u001b[39m\u001b[0mrdi\u001b[33m]\u001b[39m\n",
      "\t\u001b[96m\u001b[1mmov\u001b[22m\u001b[39m\t\u001b[0mrcx\u001b[0m, \u001b[95mqword\u001b[39m \u001b[95mptr\u001b[39m \u001b[33m[\u001b[39m\u001b[0mrsi\u001b[33m]\u001b[39m\n",
      "\t\u001b[96m\u001b[1mvxorpd\u001b[22m\u001b[39m\t\u001b[0mxmm0\u001b[0m, \u001b[0mxmm0\u001b[0m, \u001b[0mxmm0\n",
      "\t\u001b[96m\u001b[1mxor\u001b[22m\u001b[39m\t\u001b[0medx\u001b[0m, \u001b[0medx\n",
      "\t\u001b[0m.p2align\t\u001b[33m4\u001b[39m\u001b[0m, \u001b[33m0x90\u001b[39m\n",
      "\u001b[91m.LBB0_4:\u001b[39m                                \u001b[90m# %L31\u001b[39m\n",
      "                                        \u001b[90m# =>This Inner Loop Header: Depth=1\u001b[39m\n",
      "\t\u001b[96m\u001b[1mvmovsd\u001b[22m\u001b[39m\t\u001b[0mxmm1\u001b[0m, \u001b[95mqword\u001b[39m \u001b[95mptr\u001b[39m \u001b[33m[\u001b[39m\u001b[0mrax \u001b[0m+ \u001b[33m8\u001b[39m\u001b[0m*\u001b[0mrdx\u001b[33m]\u001b[39m   \u001b[90m# xmm1 = mem[0],zero\u001b[39m\n",
      "\t\u001b[96m\u001b[1mvmulsd\u001b[22m\u001b[39m\t\u001b[0mxmm1\u001b[0m, \u001b[0mxmm1\u001b[0m, \u001b[95mqword\u001b[39m \u001b[95mptr\u001b[39m \u001b[33m[\u001b[39m\u001b[0mrcx \u001b[0m+ \u001b[33m8\u001b[39m\u001b[0m*\u001b[0mrdx\u001b[33m]\u001b[39m\n",
      "\t\u001b[96m\u001b[1mvaddsd\u001b[22m\u001b[39m\t\u001b[0mxmm0\u001b[0m, \u001b[0mxmm0\u001b[0m, \u001b[0mxmm1\n",
      "\t\u001b[96m\u001b[1minc\u001b[22m\u001b[39m\t\u001b[0mrdx\n",
      "\t\u001b[96m\u001b[1mcmp\u001b[22m\u001b[39m\t\u001b[0mrbx\u001b[0m, \u001b[0mrdx\n",
      "\t\u001b[96m\u001b[1mjne\u001b[22m\u001b[39m\t\u001b[0m.LBB0_4\n",
      "\t\u001b[96m\u001b[1mjmp\u001b[22m\u001b[39m\t\u001b[0m.LBB0_5\n",
      "\u001b[91m.LBB0_2:\u001b[39m\n",
      "\t\u001b[96m\u001b[1mvxorpd\u001b[22m\u001b[39m\t\u001b[0mxmm0\u001b[0m, \u001b[0mxmm0\u001b[0m, \u001b[0mxmm0\n",
      "\u001b[91m.LBB0_5:\u001b[39m                                \u001b[90m# %L49\u001b[39m\n",
      "\t\u001b[96m\u001b[1mmov\u001b[22m\u001b[39m\t\u001b[0mrax\u001b[0m, \u001b[95mqword\u001b[39m \u001b[95mptr\u001b[39m \u001b[33m[\u001b[39m\u001b[0mrsp \u001b[0m+ \u001b[33m8\u001b[39m\u001b[33m]\u001b[39m\n",
      "\t\u001b[96m\u001b[1mmov\u001b[22m\u001b[39m\t\u001b[95mqword\u001b[39m \u001b[95mptr\u001b[39m \u001b[33m[\u001b[39m\u001b[0mr15\u001b[33m]\u001b[39m\u001b[0m, \u001b[0mrax\n",
      "\t\u001b[96m\u001b[1mlea\u001b[22m\u001b[39m\t\u001b[0mrsp\u001b[0m, \u001b[33m[\u001b[39m\u001b[0mrbp \u001b[0m- \u001b[33m40\u001b[39m\u001b[33m]\u001b[39m\n",
      "\t\u001b[96m\u001b[1mpop\u001b[22m\u001b[39m\t\u001b[0mrbx\n",
      "\t\u001b[96m\u001b[1mpop\u001b[22m\u001b[39m\t\u001b[0mr12\n",
      "\t\u001b[96m\u001b[1mpop\u001b[22m\u001b[39m\t\u001b[0mr13\n",
      "\t\u001b[96m\u001b[1mpop\u001b[22m\u001b[39m\t\u001b[0mr14\n",
      "\t\u001b[96m\u001b[1mpop\u001b[22m\u001b[39m\t\u001b[0mr15\n",
      "\t\u001b[96m\u001b[1mpop\u001b[22m\u001b[39m\t\u001b[0mrbp\n",
      "\t\u001b[0m.cfi_def_cfa \u001b[0mrsp\u001b[0m, \u001b[33m8\u001b[39m\n",
      "\t\u001b[96m\u001b[1mvzeroupper\u001b[22m\u001b[39m\n",
      "\t\u001b[96m\u001b[1mret\u001b[22m\u001b[39m\n",
      "\u001b[91m.LBB0_6:\u001b[39m                                \u001b[90m# %L11\u001b[39m\n",
      "\t\u001b[0m.cfi_def_cfa \u001b[0mrbp\u001b[0m, \u001b[33m16\u001b[39m\n",
      "\t\u001b[96m\u001b[1mmov\u001b[22m\u001b[39m\t\u001b[0mrdi\u001b[0m, \u001b[95mqword\u001b[39m \u001b[95mptr\u001b[39m \u001b[33m[\u001b[39m\u001b[0mr15 \u001b[0m+ \u001b[33m16\u001b[39m\u001b[33m]\u001b[39m\n",
      "\t\u001b[96m\u001b[1mmovabs\u001b[22m\u001b[39m\t\u001b[0mr14\u001b[0m, \u001b[95moffset\u001b[39m \u001b[93mijl_gc_pool_alloc\u001b[39m\n",
      "\t\u001b[96m\u001b[1mmov\u001b[22m\u001b[39m\t\u001b[0mesi\u001b[0m, \u001b[33m1392\u001b[39m\n",
      "\t\u001b[96m\u001b[1mmov\u001b[22m\u001b[39m\t\u001b[0medx\u001b[0m, \u001b[33m16\u001b[39m\n",
      "\t\u001b[96m\u001b[1mvzeroupper\u001b[22m\u001b[39m\n",
      "\t\u001b[96m\u001b[1mcall\u001b[22m\u001b[39m\t\u001b[0mr14\n",
      "\t\u001b[96m\u001b[1mmov\u001b[22m\u001b[39m\t\u001b[0mrcx\u001b[0m, \u001b[0mr14\n",
      "\t\u001b[96m\u001b[1mmov\u001b[22m\u001b[39m\t\u001b[0mr14\u001b[0m, \u001b[0mrax\n",
      "\t\u001b[96m\u001b[1mmovabs\u001b[22m\u001b[39m\t\u001b[0mr13\u001b[0m, \u001b[33m23455743214368\u001b[39m\n",
      "\t\u001b[96m\u001b[1mmov\u001b[22m\u001b[39m\t\u001b[95mqword\u001b[39m \u001b[95mptr\u001b[39m \u001b[33m[\u001b[39m\u001b[0mrax \u001b[0m- \u001b[33m8\u001b[39m\u001b[33m]\u001b[39m\u001b[0m, \u001b[0mr13\n",
      "\t\u001b[96m\u001b[1mmov\u001b[22m\u001b[39m\t\u001b[95mqword\u001b[39m \u001b[95mptr\u001b[39m \u001b[33m[\u001b[39m\u001b[0mrax\u001b[33m]\u001b[39m\u001b[0m, \u001b[0mrbx\n",
      "\t\u001b[96m\u001b[1mmov\u001b[22m\u001b[39m\t\u001b[95mqword\u001b[39m \u001b[95mptr\u001b[39m \u001b[33m[\u001b[39m\u001b[0mrsp \u001b[0m+ \u001b[33m24\u001b[39m\u001b[33m]\u001b[39m\u001b[0m, \u001b[0mrax\n",
      "\t\u001b[96m\u001b[1mmov\u001b[22m\u001b[39m\t\u001b[0mrdi\u001b[0m, \u001b[95mqword\u001b[39m \u001b[95mptr\u001b[39m \u001b[33m[\u001b[39m\u001b[0mr15 \u001b[0m+ \u001b[33m16\u001b[39m\u001b[33m]\u001b[39m\n",
      "\t\u001b[96m\u001b[1mmov\u001b[22m\u001b[39m\t\u001b[0mesi\u001b[0m, \u001b[33m1392\u001b[39m\n",
      "\t\u001b[96m\u001b[1mmov\u001b[22m\u001b[39m\t\u001b[0medx\u001b[0m, \u001b[33m16\u001b[39m\n",
      "\t\u001b[96m\u001b[1mcall\u001b[22m\u001b[39m\t\u001b[0mrcx\n",
      "\t\u001b[96m\u001b[1mmov\u001b[22m\u001b[39m\t\u001b[95mqword\u001b[39m \u001b[95mptr\u001b[39m \u001b[33m[\u001b[39m\u001b[0mrax \u001b[0m- \u001b[33m8\u001b[39m\u001b[33m]\u001b[39m\u001b[0m, \u001b[0mr13\n",
      "\t\u001b[96m\u001b[1mmov\u001b[22m\u001b[39m\t\u001b[95mqword\u001b[39m \u001b[95mptr\u001b[39m \u001b[33m[\u001b[39m\u001b[0mrax\u001b[33m]\u001b[39m\u001b[0m, \u001b[0mr12\n",
      "\t\u001b[96m\u001b[1mmov\u001b[22m\u001b[39m\t\u001b[95mqword\u001b[39m \u001b[95mptr\u001b[39m \u001b[33m[\u001b[39m\u001b[0mrsp \u001b[0m+ \u001b[33m16\u001b[39m\u001b[33m]\u001b[39m\u001b[0m, \u001b[0mrax\n",
      "\t\u001b[96m\u001b[1mmovabs\u001b[22m\u001b[39m\t\u001b[0mrcx\u001b[0m, \u001b[33m23455749656336\u001b[39m\n",
      "\t\u001b[96m\u001b[1mmov\u001b[22m\u001b[39m\t\u001b[95mqword\u001b[39m \u001b[95mptr\u001b[39m \u001b[33m[\u001b[39m\u001b[0mrsp \u001b[0m+ \u001b[33m48\u001b[39m\u001b[33m]\u001b[39m\u001b[0m, \u001b[0mrcx\n",
      "\t\u001b[96m\u001b[1mmov\u001b[22m\u001b[39m\t\u001b[95mqword\u001b[39m \u001b[95mptr\u001b[39m \u001b[33m[\u001b[39m\u001b[0mrsp \u001b[0m+ \u001b[33m56\u001b[39m\u001b[33m]\u001b[39m\u001b[0m, \u001b[0mr14\n",
      "\t\u001b[96m\u001b[1mmov\u001b[22m\u001b[39m\t\u001b[95mqword\u001b[39m \u001b[95mptr\u001b[39m \u001b[33m[\u001b[39m\u001b[0mrsp \u001b[0m+ \u001b[33m64\u001b[39m\u001b[33m]\u001b[39m\u001b[0m, \u001b[0mrax\n",
      "\t\u001b[96m\u001b[1mmovabs\u001b[22m\u001b[39m\t\u001b[0mrax\u001b[0m, \u001b[95moffset\u001b[39m \u001b[93mijl_invoke\u001b[39m\n",
      "\t\u001b[96m\u001b[1mmovabs\u001b[22m\u001b[39m\t\u001b[0mrdi\u001b[0m, \u001b[33m23455765993616\u001b[39m\n",
      "\t\u001b[96m\u001b[1mlea\u001b[22m\u001b[39m\t\u001b[0mrsi\u001b[0m, \u001b[33m[\u001b[39m\u001b[0mrsp \u001b[0m+ \u001b[33m48\u001b[39m\u001b[33m]\u001b[39m\n",
      "\t\u001b[96m\u001b[1mmovabs\u001b[22m\u001b[39m\t\u001b[0mrcx\u001b[0m, \u001b[33m23455866573520\u001b[39m\n",
      "\t\u001b[96m\u001b[1mmov\u001b[22m\u001b[39m\t\u001b[0medx\u001b[0m, \u001b[33m3\u001b[39m\n",
      "\t\u001b[96m\u001b[1mcall\u001b[22m\u001b[39m\t\u001b[0mrax\n",
      "\t\u001b[96m\u001b[1mud2\u001b[22m\u001b[39m\n",
      "\u001b[91m.Lfunc_end0:\u001b[39m\n",
      "\t\u001b[0m.size\t\u001b[0mjulia_vector_dot_1774\u001b[0m, \u001b[0m.Lfunc_end0-julia_vector_dot_1774\n",
      "\t\u001b[0m.cfi_endproc\n",
      "                                        \u001b[90m# -- End function\u001b[39m\n",
      "\t\u001b[0m.section\t\u001b[0m\".note.GNU-stack\"\u001b[0m,\u001b[0m\"\"\u001b[0m,\u001b[0m@progbits\n"
     ]
    }
   ],
   "source": [
    "@code_native debuginfo=:none syntax=:intel vector_dot(B, C)"
   ]
  },
  {
   "cell_type": "markdown",
   "metadata": {},
   "source": [
    "Note the `vaddsd` instruction and usage of `xmmi` registers (128 bit)."
   ]
  },
  {
   "cell_type": "markdown",
   "metadata": {},
   "source": [
    "#### How could this loop reduction be vectorized manually?"
   ]
  },
  {
   "cell_type": "code",
   "execution_count": 9,
   "metadata": {},
   "outputs": [
    {
     "data": {
      "text/plain": [
       "vector_dot_unrolled4 (generic function with 1 method)"
      ]
     },
     "metadata": {},
     "output_type": "display_data"
    }
   ],
   "source": [
    "function vector_dot_unrolled4(B, C)\n",
    "    a1 = zero(eltype(B))\n",
    "    a2 = zero(eltype(B))\n",
    "    a3 = zero(eltype(B))\n",
    "    a4 = zero(eltype(B))\n",
    "    @inbounds for i in 1:4:length(B)-4\n",
    "        a1 += B[i] * C[i]\n",
    "        a2 += B[i+1] * C[i+1]\n",
    "        a3 += B[i+2] * C[i+2]\n",
    "        a4 += B[i+3] * C[i+3]\n",
    "    end\n",
    "    return a1+a2+a3+a4\n",
    "end"
   ]
  },
  {
   "cell_type": "code",
   "execution_count": 10,
   "metadata": {},
   "outputs": [
    {
     "name": "stdout",
     "output_type": "stream",
     "text": [
      "\t\u001b[0m.text\n",
      "\t\u001b[0m.file\t\u001b[0m\"vector_dot_unrolled4\"\n",
      "\t\u001b[0m.globl\t\u001b[0mjulia_vector_dot_unrolled4_1799 \u001b[90m# -- Begin function julia_vector_dot_unrolled4_1799\u001b[39m\n",
      "\t\u001b[0m.p2align\t\u001b[33m4\u001b[39m\u001b[0m, \u001b[33m0x90\u001b[39m\n",
      "\t\u001b[0m.type\t\u001b[0mjulia_vector_dot_unrolled4_1799\u001b[0m,\u001b[0m@function\n",
      "\u001b[91mjulia_vector_dot_unrolled4_1799:\u001b[39m        \u001b[90m# @julia_vector_dot_unrolled4_1799\u001b[39m\n",
      "\t\u001b[0m.cfi_startproc\n",
      "\u001b[90m# %bb.0:                                # %top\u001b[39m\n",
      "\t\u001b[96m\u001b[1mpush\u001b[22m\u001b[39m\t\u001b[0mrbp\n",
      "\t\u001b[0m.cfi_def_cfa_offset \u001b[33m16\u001b[39m\n",
      "\t\u001b[0m.cfi_offset \u001b[0mrbp\u001b[0m, \u001b[33m-16\u001b[39m\n",
      "\t\u001b[96m\u001b[1mmov\u001b[22m\u001b[39m\t\u001b[0mrbp\u001b[0m, \u001b[0mrsp\n",
      "\t\u001b[0m.cfi_def_cfa_register \u001b[0mrbp\n",
      "\t\u001b[96m\u001b[1mpush\u001b[22m\u001b[39m\t\u001b[0mr14\n",
      "\t\u001b[96m\u001b[1mpush\u001b[22m\u001b[39m\t\u001b[0mrbx\n",
      "\t\u001b[0m.cfi_offset \u001b[0mrbx\u001b[0m, \u001b[33m-32\u001b[39m\n",
      "\t\u001b[0m.cfi_offset \u001b[0mr14\u001b[0m, \u001b[33m-24\u001b[39m\n",
      "\t\u001b[96m\u001b[1mmov\u001b[22m\u001b[39m\t\u001b[0mr14\u001b[0m, \u001b[0mrsi\n",
      "\t\u001b[96m\u001b[1mmov\u001b[22m\u001b[39m\t\u001b[0mrbx\u001b[0m, \u001b[0mrdi\n",
      "\t\u001b[96m\u001b[1mmov\u001b[22m\u001b[39m\t\u001b[0mrdx\u001b[0m, \u001b[95mqword\u001b[39m \u001b[95mptr\u001b[39m \u001b[33m[\u001b[39m\u001b[0mrdi \u001b[0m+ \u001b[33m8\u001b[39m\u001b[33m]\u001b[39m\n",
      "\t\u001b[96m\u001b[1madd\u001b[22m\u001b[39m\t\u001b[0mrdx\u001b[0m, \u001b[33m-4\u001b[39m\n",
      "\t\u001b[96m\u001b[1mmovabs\u001b[22m\u001b[39m\t\u001b[0mrax\u001b[0m, \u001b[95moffset\u001b[39m \u001b[93mj_steprange_last_1801\u001b[39m\n",
      "\t\u001b[96m\u001b[1mmov\u001b[22m\u001b[39m\t\u001b[0medi\u001b[0m, \u001b[33m1\u001b[39m\n",
      "\t\u001b[96m\u001b[1mmov\u001b[22m\u001b[39m\t\u001b[0mesi\u001b[0m, \u001b[33m4\u001b[39m\n",
      "\t\u001b[96m\u001b[1mcall\u001b[22m\u001b[39m\t\u001b[0mrax\n",
      "\t\u001b[96m\u001b[1mtest\u001b[22m\u001b[39m\t\u001b[0mrax\u001b[0m, \u001b[0mrax\n",
      "\t\u001b[96m\u001b[1mjle\u001b[22m\u001b[39m\t\u001b[0m.LBB0_1\n",
      "\u001b[90m# %bb.2:                                # %L18.preheader\u001b[39m\n",
      "\t\u001b[96m\u001b[1mmov\u001b[22m\u001b[39m\t\u001b[0mrcx\u001b[0m, \u001b[95mqword\u001b[39m \u001b[95mptr\u001b[39m \u001b[33m[\u001b[39m\u001b[0mrbx\u001b[33m]\u001b[39m\n",
      "\t\u001b[96m\u001b[1mmov\u001b[22m\u001b[39m\t\u001b[0mrdx\u001b[0m, \u001b[95mqword\u001b[39m \u001b[95mptr\u001b[39m \u001b[33m[\u001b[39m\u001b[0mr14\u001b[33m]\u001b[39m\n",
      "\t\u001b[96m\u001b[1madd\u001b[22m\u001b[39m\t\u001b[0mrax\u001b[0m, \u001b[33m3\u001b[39m\n",
      "\t\u001b[96m\u001b[1mvxorpd\u001b[22m\u001b[39m\t\u001b[0mxmm0\u001b[0m, \u001b[0mxmm0\u001b[0m, \u001b[0mxmm0\n",
      "\t\u001b[96m\u001b[1mxor\u001b[22m\u001b[39m\t\u001b[0mesi\u001b[0m, \u001b[0mesi\n",
      "\t\u001b[0m.p2align\t\u001b[33m4\u001b[39m\u001b[0m, \u001b[33m0x90\u001b[39m\n",
      "\u001b[91m.LBB0_3:\u001b[39m                                \u001b[90m# %L18\u001b[39m\n",
      "                                        \u001b[90m# =>This Inner Loop Header: Depth=1\u001b[39m\n",
      "\t\u001b[96m\u001b[1mvmovupd\u001b[22m\u001b[39m\t\u001b[0mymm1\u001b[0m, \u001b[95mymmword\u001b[39m \u001b[95mptr\u001b[39m \u001b[33m[\u001b[39m\u001b[0mrcx \u001b[0m+ \u001b[33m8\u001b[39m\u001b[0m*\u001b[0mrsi\u001b[33m]\u001b[39m\n",
      "\t\u001b[96m\u001b[1mvmulpd\u001b[22m\u001b[39m\t\u001b[0mymm1\u001b[0m, \u001b[0mymm1\u001b[0m, \u001b[95mymmword\u001b[39m \u001b[95mptr\u001b[39m \u001b[33m[\u001b[39m\u001b[0mrdx \u001b[0m+ \u001b[33m8\u001b[39m\u001b[0m*\u001b[0mrsi\u001b[33m]\u001b[39m\n",
      "\t\u001b[96m\u001b[1mvaddpd\u001b[22m\u001b[39m\t\u001b[0mymm0\u001b[0m, \u001b[0mymm0\u001b[0m, \u001b[0mymm1\n",
      "\t\u001b[96m\u001b[1madd\u001b[22m\u001b[39m\t\u001b[0mrsi\u001b[0m, \u001b[33m4\u001b[39m\n",
      "\t\u001b[96m\u001b[1mcmp\u001b[22m\u001b[39m\t\u001b[0mrax\u001b[0m, \u001b[0mrsi\n",
      "\t\u001b[96m\u001b[1mjne\u001b[22m\u001b[39m\t\u001b[0m.LBB0_3\n",
      "\u001b[90m# %bb.4:                                # %L57.loopexit\u001b[39m\n",
      "\t\u001b[96m\u001b[1mvpermilpd\u001b[22m\u001b[39m\t\u001b[0mxmm1\u001b[0m, \u001b[0mxmm0\u001b[0m, \u001b[33m1\u001b[39m           \u001b[90m# xmm1 = xmm0[1,0]\u001b[39m\n",
      "\t\u001b[96m\u001b[1mvaddsd\u001b[22m\u001b[39m\t\u001b[0mxmm1\u001b[0m, \u001b[0mxmm1\u001b[0m, \u001b[0mxmm0\n",
      "\t\u001b[96m\u001b[1mvextractf128\u001b[22m\u001b[39m\t\u001b[0mxmm0\u001b[0m, \u001b[0mymm0\u001b[0m, \u001b[33m1\u001b[39m\n",
      "\t\u001b[96m\u001b[1mvaddsd\u001b[22m\u001b[39m\t\u001b[0mxmm1\u001b[0m, \u001b[0mxmm0\u001b[0m, \u001b[0mxmm1\n",
      "\t\u001b[96m\u001b[1mvpermilpd\u001b[22m\u001b[39m\t\u001b[0mxmm0\u001b[0m, \u001b[0mxmm0\u001b[0m, \u001b[33m1\u001b[39m           \u001b[90m# xmm0 = xmm0[1,0]\u001b[39m\n",
      "\t\u001b[96m\u001b[1mvaddsd\u001b[22m\u001b[39m\t\u001b[0mxmm0\u001b[0m, \u001b[0mxmm0\u001b[0m, \u001b[0mxmm1\n",
      "\t\u001b[96m\u001b[1mjmp\u001b[22m\u001b[39m\t\u001b[0m.LBB0_5\n",
      "\u001b[91m.LBB0_1:\u001b[39m\n",
      "\t\u001b[96m\u001b[1mvxorpd\u001b[22m\u001b[39m\t\u001b[0mxmm0\u001b[0m, \u001b[0mxmm0\u001b[0m, \u001b[0mxmm0\n",
      "\u001b[91m.LBB0_5:\u001b[39m                                \u001b[90m# %L57\u001b[39m\n",
      "\t\u001b[96m\u001b[1mpop\u001b[22m\u001b[39m\t\u001b[0mrbx\n",
      "\t\u001b[96m\u001b[1mpop\u001b[22m\u001b[39m\t\u001b[0mr14\n",
      "\t\u001b[96m\u001b[1mpop\u001b[22m\u001b[39m\t\u001b[0mrbp\n",
      "\t\u001b[0m.cfi_def_cfa \u001b[0mrsp\u001b[0m, \u001b[33m8\u001b[39m\n",
      "\t\u001b[96m\u001b[1mvzeroupper\u001b[22m\u001b[39m\n",
      "\t\u001b[96m\u001b[1mret\u001b[22m\u001b[39m\n",
      "\u001b[91m.Lfunc_end0:\u001b[39m\n",
      "\t\u001b[0m.size\t\u001b[0mjulia_vector_dot_unrolled4_1799\u001b[0m, \u001b[0m.Lfunc_end0-julia_vector_dot_unrolled4_1799\n",
      "\t\u001b[0m.cfi_endproc\n",
      "                                        \u001b[90m# -- End function\u001b[39m\n",
      "\t\u001b[0m.section\t\u001b[0m\".note.GNU-stack\"\u001b[0m,\u001b[0m\"\"\u001b[0m,\u001b[0m@progbits\n"
     ]
    }
   ],
   "source": [
    "@code_native debuginfo=:none syntax=:intel vector_dot_unrolled4(B, C)"
   ]
  },
  {
   "cell_type": "code",
   "execution_count": 11,
   "metadata": {},
   "outputs": [
    {
     "name": "stdout",
     "output_type": "stream",
     "text": [
      "  284.177 μs (0 allocations: 0 bytes)\n",
      "  153.287 μs (0 allocations: 0 bytes)\n"
     ]
    }
   ],
   "source": [
    "using BenchmarkTools\n",
    "@btime vector_dot($B, $C);\n",
    "@btime vector_dot_unrolled4($B, $C);"
   ]
  },
  {
   "cell_type": "markdown",
   "metadata": {},
   "source": [
    "#### The \"automatic\" way: `@simd`"
   ]
  },
  {
   "cell_type": "markdown",
   "metadata": {},
   "source": [
    "To (try to) \"force\" automatic SIMD vectorization in Julia, you can use the `@simd` macro."
   ]
  },
  {
   "cell_type": "code",
   "execution_count": 12,
   "metadata": {},
   "outputs": [
    {
     "data": {
      "text/plain": [
       "vector_dot_simd (generic function with 1 method)"
      ]
     },
     "metadata": {},
     "output_type": "display_data"
    }
   ],
   "source": [
    "function vector_dot_simd(B, C)\n",
    "    a = zero(eltype(B))\n",
    "    @simd for i in eachindex(B,C)\n",
    "        @inbounds a += B[i] * C[i]\n",
    "    end\n",
    "    return a\n",
    "end"
   ]
  },
  {
   "cell_type": "markdown",
   "metadata": {},
   "source": [
    "By using the `@simd` macro, we are **asserting several properties** of the loop:\n",
    "\n",
    "* It is safe to execute iterations in arbitrary or overlapping order, with special consideration for reduction variables.\n",
    "* Floating-point operations on reduction variables can be reordered, possibly causing different results than without `@simd`."
   ]
  },
  {
   "cell_type": "code",
   "execution_count": 13,
   "metadata": {},
   "outputs": [
    {
     "name": "stdout",
     "output_type": "stream",
     "text": [
      "  149.821 μs (0 allocations: 0 bytes)\n"
     ]
    }
   ],
   "source": [
    "@btime vector_dot_simd($B, $C);"
   ]
  },
  {
   "cell_type": "code",
   "execution_count": 14,
   "metadata": {},
   "outputs": [
    {
     "name": "stdout",
     "output_type": "stream",
     "text": [
      "\t\u001b[0m.text\n",
      "\t\u001b[0m.file\t\u001b[0m\"vector_dot_simd\"\n",
      "\t\u001b[0m.globl\t\u001b[0mjulia_vector_dot_simd_2041      \u001b[90m# -- Begin function julia_vector_dot_simd_2041\u001b[39m\n",
      "\t\u001b[0m.p2align\t\u001b[33m4\u001b[39m\u001b[0m, \u001b[33m0x90\u001b[39m\n",
      "\t\u001b[0m.type\t\u001b[0mjulia_vector_dot_simd_2041\u001b[0m,\u001b[0m@function\n",
      "\u001b[91mjulia_vector_dot_simd_2041:\u001b[39m             \u001b[90m# @julia_vector_dot_simd_2041\u001b[39m\n",
      "\t\u001b[0m.cfi_startproc\n",
      "\u001b[90m# %bb.0:                                # %top\u001b[39m\n",
      "\t\u001b[96m\u001b[1mpush\u001b[22m\u001b[39m\t\u001b[0mrbp\n",
      "\t\u001b[0m.cfi_def_cfa_offset \u001b[33m16\u001b[39m\n",
      "\t\u001b[0m.cfi_offset \u001b[0mrbp\u001b[0m, \u001b[33m-16\u001b[39m\n",
      "\t\u001b[96m\u001b[1mmov\u001b[22m\u001b[39m\t\u001b[0mrbp\u001b[0m, \u001b[0mrsp\n",
      "\t\u001b[0m.cfi_def_cfa_register \u001b[0mrbp\n",
      "\t\u001b[96m\u001b[1mpush\u001b[22m\u001b[39m\t\u001b[0mr15\n",
      "\t\u001b[96m\u001b[1mpush\u001b[22m\u001b[39m\t\u001b[0mr14\n",
      "\t\u001b[96m\u001b[1mpush\u001b[22m\u001b[39m\t\u001b[0mr13\n",
      "\t\u001b[96m\u001b[1mpush\u001b[22m\u001b[39m\t\u001b[0mr12\n",
      "\t\u001b[96m\u001b[1mpush\u001b[22m\u001b[39m\t\u001b[0mrbx\n",
      "\t\u001b[96m\u001b[1mand\u001b[22m\u001b[39m\t\u001b[0mrsp\u001b[0m, \u001b[33m-32\u001b[39m\n",
      "\t\u001b[96m\u001b[1msub\u001b[22m\u001b[39m\t\u001b[0mrsp\u001b[0m, \u001b[33m96\u001b[39m\n",
      "\t\u001b[0m.cfi_offset \u001b[0mrbx\u001b[0m, \u001b[33m-56\u001b[39m\n",
      "\t\u001b[0m.cfi_offset \u001b[0mr12\u001b[0m, \u001b[33m-48\u001b[39m\n",
      "\t\u001b[0m.cfi_offset \u001b[0mr13\u001b[0m, \u001b[33m-40\u001b[39m\n",
      "\t\u001b[0m.cfi_offset \u001b[0mr14\u001b[0m, \u001b[33m-32\u001b[39m\n",
      "\t\u001b[0m.cfi_offset \u001b[0mr15\u001b[0m, \u001b[33m-24\u001b[39m\n",
      "\t\u001b[96m\u001b[1mvxorpd\u001b[22m\u001b[39m\t\u001b[0mxmm0\u001b[0m, \u001b[0mxmm0\u001b[0m, \u001b[0mxmm0\n",
      "\t\u001b[96m\u001b[1mvmovapd\u001b[22m\u001b[39m\t\u001b[95mymmword\u001b[39m \u001b[95mptr\u001b[39m \u001b[33m[\u001b[39m\u001b[0mrsp\u001b[33m]\u001b[39m\u001b[0m, \u001b[0mymm0\n",
      "\t\u001b[0m#APP\n",
      "\t\u001b[96m\u001b[1mmov\u001b[22m\u001b[39m\t\u001b[0mrax\u001b[0m, \u001b[95mqword\u001b[39m \u001b[95mptr\u001b[39m \u001b[0mfs\u001b[0m:\u001b[33m[\u001b[39m\u001b[33m0\u001b[39m\u001b[33m]\u001b[39m\n",
      "\t\u001b[0m#NO_APP\n",
      "\t\u001b[96m\u001b[1mmov\u001b[22m\u001b[39m\t\u001b[0mr15\u001b[0m, \u001b[95mqword\u001b[39m \u001b[95mptr\u001b[39m \u001b[33m[\u001b[39m\u001b[0mrax \u001b[0m- \u001b[33m8\u001b[39m\u001b[33m]\u001b[39m\n",
      "\t\u001b[96m\u001b[1mmov\u001b[22m\u001b[39m\t\u001b[95mqword\u001b[39m \u001b[95mptr\u001b[39m \u001b[33m[\u001b[39m\u001b[0mrsp\u001b[33m]\u001b[39m\u001b[0m, \u001b[33m8\u001b[39m\n",
      "\t\u001b[96m\u001b[1mmov\u001b[22m\u001b[39m\t\u001b[0mrax\u001b[0m, \u001b[95mqword\u001b[39m \u001b[95mptr\u001b[39m \u001b[33m[\u001b[39m\u001b[0mr15\u001b[33m]\u001b[39m\n",
      "\t\u001b[96m\u001b[1mmov\u001b[22m\u001b[39m\t\u001b[95mqword\u001b[39m \u001b[95mptr\u001b[39m \u001b[33m[\u001b[39m\u001b[0mrsp \u001b[0m+ \u001b[33m8\u001b[39m\u001b[33m]\u001b[39m\u001b[0m, \u001b[0mrax\n",
      "\t\u001b[96m\u001b[1mmov\u001b[22m\u001b[39m\t\u001b[0mrax\u001b[0m, \u001b[0mrsp\n",
      "\t\u001b[96m\u001b[1mmov\u001b[22m\u001b[39m\t\u001b[95mqword\u001b[39m \u001b[95mptr\u001b[39m \u001b[33m[\u001b[39m\u001b[0mr15\u001b[33m]\u001b[39m\u001b[0m, \u001b[0mrax\n",
      "\t\u001b[96m\u001b[1mmov\u001b[22m\u001b[39m\t\u001b[0mrbx\u001b[0m, \u001b[95mqword\u001b[39m \u001b[95mptr\u001b[39m \u001b[33m[\u001b[39m\u001b[0mrdi \u001b[0m+ \u001b[33m8\u001b[39m\u001b[33m]\u001b[39m\n",
      "\t\u001b[96m\u001b[1mmov\u001b[22m\u001b[39m\t\u001b[0mr12\u001b[0m, \u001b[95mqword\u001b[39m \u001b[95mptr\u001b[39m \u001b[33m[\u001b[39m\u001b[0mrsi \u001b[0m+ \u001b[33m8\u001b[39m\u001b[33m]\u001b[39m\n",
      "\t\u001b[96m\u001b[1mcmp\u001b[22m\u001b[39m\t\u001b[0mrbx\u001b[0m, \u001b[0mr12\n",
      "\t\u001b[96m\u001b[1mjne\u001b[22m\u001b[39m\t\u001b[0m.LBB0_10\n",
      "\u001b[90m# %bb.1:                                # %L24\u001b[39m\n",
      "\t\u001b[96m\u001b[1mtest\u001b[22m\u001b[39m\t\u001b[0mrbx\u001b[0m, \u001b[0mrbx\n",
      "\t\u001b[96m\u001b[1mje\u001b[22m\u001b[39m\t\u001b[0m.LBB0_2\n",
      "\u001b[90m# %bb.3:                                # %L31.lr.ph\u001b[39m\n",
      "\t\u001b[96m\u001b[1mmov\u001b[22m\u001b[39m\t\u001b[0mrax\u001b[0m, \u001b[95mqword\u001b[39m \u001b[95mptr\u001b[39m \u001b[33m[\u001b[39m\u001b[0mrdi\u001b[33m]\u001b[39m\n",
      "\t\u001b[96m\u001b[1mmov\u001b[22m\u001b[39m\t\u001b[0mrcx\u001b[0m, \u001b[95mqword\u001b[39m \u001b[95mptr\u001b[39m \u001b[33m[\u001b[39m\u001b[0mrsi\u001b[33m]\u001b[39m\n",
      "\t\u001b[96m\u001b[1mcmp\u001b[22m\u001b[39m\t\u001b[0mrbx\u001b[0m, \u001b[33m16\u001b[39m\n",
      "\t\u001b[96m\u001b[1mjae\u001b[22m\u001b[39m\t\u001b[0m.LBB0_5\n",
      "\u001b[90m# %bb.4:\u001b[39m\n",
      "\t\u001b[96m\u001b[1mvxorpd\u001b[22m\u001b[39m\t\u001b[0mxmm0\u001b[0m, \u001b[0mxmm0\u001b[0m, \u001b[0mxmm0\n",
      "\t\u001b[96m\u001b[1mxor\u001b[22m\u001b[39m\t\u001b[0medx\u001b[0m, \u001b[0medx\n",
      "\t\u001b[96m\u001b[1mjmp\u001b[22m\u001b[39m\t\u001b[0m.LBB0_8\n",
      "\u001b[91m.LBB0_2:\u001b[39m\n",
      "\t\u001b[96m\u001b[1mvxorpd\u001b[22m\u001b[39m\t\u001b[0mxmm0\u001b[0m, \u001b[0mxmm0\u001b[0m, \u001b[0mxmm0\n",
      "\t\u001b[96m\u001b[1mjmp\u001b[22m\u001b[39m\t\u001b[0m.LBB0_9\n",
      "\u001b[91m.LBB0_5:\u001b[39m                                \u001b[90m# %vector.ph\u001b[39m\n",
      "\t\u001b[96m\u001b[1mmov\u001b[22m\u001b[39m\t\u001b[0mrdx\u001b[0m, \u001b[0mrbx\n",
      "\t\u001b[96m\u001b[1mand\u001b[22m\u001b[39m\t\u001b[0mrdx\u001b[0m, \u001b[33m-16\u001b[39m\n",
      "\t\u001b[96m\u001b[1mvxorpd\u001b[22m\u001b[39m\t\u001b[0mxmm0\u001b[0m, \u001b[0mxmm0\u001b[0m, \u001b[0mxmm0\n",
      "\t\u001b[96m\u001b[1mxor\u001b[22m\u001b[39m\t\u001b[0mesi\u001b[0m, \u001b[0mesi\n",
      "\t\u001b[96m\u001b[1mvxorpd\u001b[22m\u001b[39m\t\u001b[0mxmm1\u001b[0m, \u001b[0mxmm1\u001b[0m, \u001b[0mxmm1\n",
      "\t\u001b[96m\u001b[1mvxorpd\u001b[22m\u001b[39m\t\u001b[0mxmm2\u001b[0m, \u001b[0mxmm2\u001b[0m, \u001b[0mxmm2\n",
      "\t\u001b[96m\u001b[1mvxorpd\u001b[22m\u001b[39m\t\u001b[0mxmm3\u001b[0m, \u001b[0mxmm3\u001b[0m, \u001b[0mxmm3\n",
      "\t\u001b[0m.p2align\t\u001b[33m4\u001b[39m\u001b[0m, \u001b[33m0x90\u001b[39m\n",
      "\u001b[91m.LBB0_6:\u001b[39m                                \u001b[90m# %vector.body\u001b[39m\n",
      "                                        \u001b[90m# =>This Inner Loop Header: Depth=1\u001b[39m\n",
      "\t\u001b[96m\u001b[1mvmovupd\u001b[22m\u001b[39m\t\u001b[0mymm4\u001b[0m, \u001b[95mymmword\u001b[39m \u001b[95mptr\u001b[39m \u001b[33m[\u001b[39m\u001b[0mrax \u001b[0m+ \u001b[33m8\u001b[39m\u001b[0m*\u001b[0mrsi\u001b[33m]\u001b[39m\n",
      "\t\u001b[96m\u001b[1mvmovupd\u001b[22m\u001b[39m\t\u001b[0mymm5\u001b[0m, \u001b[95mymmword\u001b[39m \u001b[95mptr\u001b[39m \u001b[33m[\u001b[39m\u001b[0mrax \u001b[0m+ \u001b[33m8\u001b[39m\u001b[0m*\u001b[0mrsi \u001b[0m+ \u001b[33m32\u001b[39m\u001b[33m]\u001b[39m\n",
      "\t\u001b[96m\u001b[1mvmovupd\u001b[22m\u001b[39m\t\u001b[0mymm6\u001b[0m, \u001b[95mymmword\u001b[39m \u001b[95mptr\u001b[39m \u001b[33m[\u001b[39m\u001b[0mrax \u001b[0m+ \u001b[33m8\u001b[39m\u001b[0m*\u001b[0mrsi \u001b[0m+ \u001b[33m64\u001b[39m\u001b[33m]\u001b[39m\n",
      "\t\u001b[96m\u001b[1mvmovupd\u001b[22m\u001b[39m\t\u001b[0mymm7\u001b[0m, \u001b[95mymmword\u001b[39m \u001b[95mptr\u001b[39m \u001b[33m[\u001b[39m\u001b[0mrax \u001b[0m+ \u001b[33m8\u001b[39m\u001b[0m*\u001b[0mrsi \u001b[0m+ \u001b[33m96\u001b[39m\u001b[33m]\u001b[39m\n",
      "\t\u001b[96m\u001b[1mvfmadd231pd\u001b[22m\u001b[39m\t\u001b[0mymm0\u001b[0m, \u001b[0mymm4\u001b[0m, \u001b[95mymmword\u001b[39m \u001b[95mptr\u001b[39m \u001b[33m[\u001b[39m\u001b[0mrcx \u001b[0m+ \u001b[33m8\u001b[39m\u001b[0m*\u001b[0mrsi\u001b[33m]\u001b[39m \u001b[90m# ymm0 = (ymm4 * mem) + ymm0\u001b[39m\n",
      "\t\u001b[96m\u001b[1mvfmadd231pd\u001b[22m\u001b[39m\t\u001b[0mymm1\u001b[0m, \u001b[0mymm5\u001b[0m, \u001b[95mymmword\u001b[39m \u001b[95mptr\u001b[39m \u001b[33m[\u001b[39m\u001b[0mrcx \u001b[0m+ \u001b[33m8\u001b[39m\u001b[0m*\u001b[0mrsi \u001b[0m+ \u001b[33m32\u001b[39m\u001b[33m]\u001b[39m \u001b[90m# ymm1 = (ymm5 * mem) + ymm1\u001b[39m\n",
      "\t\u001b[96m\u001b[1mvfmadd231pd\u001b[22m\u001b[39m\t\u001b[0mymm2\u001b[0m, \u001b[0mymm6\u001b[0m, \u001b[95mymmword\u001b[39m \u001b[95mptr\u001b[39m \u001b[33m[\u001b[39m\u001b[0mrcx \u001b[0m+ \u001b[33m8\u001b[39m\u001b[0m*\u001b[0mrsi \u001b[0m+ \u001b[33m64\u001b[39m\u001b[33m]\u001b[39m \u001b[90m# ymm2 = (ymm6 * mem) + ymm2\u001b[39m\n",
      "\t\u001b[96m\u001b[1mvfmadd231pd\u001b[22m\u001b[39m\t\u001b[0mymm3\u001b[0m, \u001b[0mymm7\u001b[0m, \u001b[95mymmword\u001b[39m \u001b[95mptr\u001b[39m \u001b[33m[\u001b[39m\u001b[0mrcx \u001b[0m+ \u001b[33m8\u001b[39m\u001b[0m*\u001b[0mrsi \u001b[0m+ \u001b[33m96\u001b[39m\u001b[33m]\u001b[39m \u001b[90m# ymm3 = (ymm7 * mem) + ymm3\u001b[39m\n",
      "\t\u001b[96m\u001b[1madd\u001b[22m\u001b[39m\t\u001b[0mrsi\u001b[0m, \u001b[33m16\u001b[39m\n",
      "\t\u001b[96m\u001b[1mcmp\u001b[22m\u001b[39m\t\u001b[0mrdx\u001b[0m, \u001b[0mrsi\n",
      "\t\u001b[96m\u001b[1mjne\u001b[22m\u001b[39m\t\u001b[0m.LBB0_6\n",
      "\u001b[90m# %bb.7:                                # %middle.block\u001b[39m\n",
      "\t\u001b[96m\u001b[1mvaddpd\u001b[22m\u001b[39m\t\u001b[0mymm0\u001b[0m, \u001b[0mymm1\u001b[0m, \u001b[0mymm0\n",
      "\t\u001b[96m\u001b[1mvaddpd\u001b[22m\u001b[39m\t\u001b[0mymm0\u001b[0m, \u001b[0mymm2\u001b[0m, \u001b[0mymm0\n",
      "\t\u001b[96m\u001b[1mvaddpd\u001b[22m\u001b[39m\t\u001b[0mymm0\u001b[0m, \u001b[0mymm3\u001b[0m, \u001b[0mymm0\n",
      "\t\u001b[96m\u001b[1mvextractf128\u001b[22m\u001b[39m\t\u001b[0mxmm1\u001b[0m, \u001b[0mymm0\u001b[0m, \u001b[33m1\u001b[39m\n",
      "\t\u001b[96m\u001b[1mvaddpd\u001b[22m\u001b[39m\t\u001b[0mxmm0\u001b[0m, \u001b[0mxmm0\u001b[0m, \u001b[0mxmm1\n",
      "\t\u001b[96m\u001b[1mvpermilpd\u001b[22m\u001b[39m\t\u001b[0mxmm1\u001b[0m, \u001b[0mxmm0\u001b[0m, \u001b[33m1\u001b[39m           \u001b[90m# xmm1 = xmm0[1,0]\u001b[39m\n",
      "\t\u001b[96m\u001b[1mvaddsd\u001b[22m\u001b[39m\t\u001b[0mxmm0\u001b[0m, \u001b[0mxmm0\u001b[0m, \u001b[0mxmm1\n",
      "\t\u001b[96m\u001b[1mcmp\u001b[22m\u001b[39m\t\u001b[0mrbx\u001b[0m, \u001b[0mrdx\n",
      "\t\u001b[96m\u001b[1mje\u001b[22m\u001b[39m\t\u001b[0m.LBB0_9\n",
      "\t\u001b[0m.p2align\t\u001b[33m4\u001b[39m\u001b[0m, \u001b[33m0x90\u001b[39m\n",
      "\u001b[91m.LBB0_8:\u001b[39m                                \u001b[90m# %L31\u001b[39m\n",
      "                                        \u001b[90m# =>This Inner Loop Header: Depth=1\u001b[39m\n",
      "\t\u001b[96m\u001b[1mvmovsd\u001b[22m\u001b[39m\t\u001b[0mxmm1\u001b[0m, \u001b[95mqword\u001b[39m \u001b[95mptr\u001b[39m \u001b[33m[\u001b[39m\u001b[0mrax \u001b[0m+ \u001b[33m8\u001b[39m\u001b[0m*\u001b[0mrdx\u001b[33m]\u001b[39m   \u001b[90m# xmm1 = mem[0],zero\u001b[39m\n",
      "\t\u001b[96m\u001b[1mvfmadd231sd\u001b[22m\u001b[39m\t\u001b[0mxmm0\u001b[0m, \u001b[0mxmm1\u001b[0m, \u001b[95mqword\u001b[39m \u001b[95mptr\u001b[39m \u001b[33m[\u001b[39m\u001b[0mrcx \u001b[0m+ \u001b[33m8\u001b[39m\u001b[0m*\u001b[0mrdx\u001b[33m]\u001b[39m \u001b[90m# xmm0 = (xmm1 * mem) + xmm0\u001b[39m\n",
      "\t\u001b[96m\u001b[1minc\u001b[22m\u001b[39m\t\u001b[0mrdx\n",
      "\t\u001b[96m\u001b[1mcmp\u001b[22m\u001b[39m\t\u001b[0mrbx\u001b[0m, \u001b[0mrdx\n",
      "\t\u001b[96m\u001b[1mjne\u001b[22m\u001b[39m\t\u001b[0m.LBB0_8\n",
      "\u001b[91m.LBB0_9:\u001b[39m                                \u001b[90m# %L50\u001b[39m\n",
      "\t\u001b[96m\u001b[1mmov\u001b[22m\u001b[39m\t\u001b[0mrax\u001b[0m, \u001b[95mqword\u001b[39m \u001b[95mptr\u001b[39m \u001b[33m[\u001b[39m\u001b[0mrsp \u001b[0m+ \u001b[33m8\u001b[39m\u001b[33m]\u001b[39m\n",
      "\t\u001b[96m\u001b[1mmov\u001b[22m\u001b[39m\t\u001b[95mqword\u001b[39m \u001b[95mptr\u001b[39m \u001b[33m[\u001b[39m\u001b[0mr15\u001b[33m]\u001b[39m\u001b[0m, \u001b[0mrax\n",
      "\t\u001b[96m\u001b[1mlea\u001b[22m\u001b[39m\t\u001b[0mrsp\u001b[0m, \u001b[33m[\u001b[39m\u001b[0mrbp \u001b[0m- \u001b[33m40\u001b[39m\u001b[33m]\u001b[39m\n",
      "\t\u001b[96m\u001b[1mpop\u001b[22m\u001b[39m\t\u001b[0mrbx\n",
      "\t\u001b[96m\u001b[1mpop\u001b[22m\u001b[39m\t\u001b[0mr12\n",
      "\t\u001b[96m\u001b[1mpop\u001b[22m\u001b[39m\t\u001b[0mr13\n",
      "\t\u001b[96m\u001b[1mpop\u001b[22m\u001b[39m\t\u001b[0mr14\n",
      "\t\u001b[96m\u001b[1mpop\u001b[22m\u001b[39m\t\u001b[0mr15\n",
      "\t\u001b[96m\u001b[1mpop\u001b[22m\u001b[39m\t\u001b[0mrbp\n",
      "\t\u001b[0m.cfi_def_cfa \u001b[0mrsp\u001b[0m, \u001b[33m8\u001b[39m\n",
      "\t\u001b[96m\u001b[1mvzeroupper\u001b[22m\u001b[39m\n",
      "\t\u001b[96m\u001b[1mret\u001b[22m\u001b[39m\n",
      "\u001b[91m.LBB0_10:\u001b[39m                               \u001b[90m# %L12\u001b[39m\n",
      "\t\u001b[0m.cfi_def_cfa \u001b[0mrbp\u001b[0m, \u001b[33m16\u001b[39m\n",
      "\t\u001b[96m\u001b[1mmov\u001b[22m\u001b[39m\t\u001b[0mrdi\u001b[0m, \u001b[95mqword\u001b[39m \u001b[95mptr\u001b[39m \u001b[33m[\u001b[39m\u001b[0mr15 \u001b[0m+ \u001b[33m16\u001b[39m\u001b[33m]\u001b[39m\n",
      "\t\u001b[96m\u001b[1mmovabs\u001b[22m\u001b[39m\t\u001b[0mr14\u001b[0m, \u001b[95moffset\u001b[39m \u001b[93mijl_gc_pool_alloc\u001b[39m\n",
      "\t\u001b[96m\u001b[1mmov\u001b[22m\u001b[39m\t\u001b[0mesi\u001b[0m, \u001b[33m1392\u001b[39m\n",
      "\t\u001b[96m\u001b[1mmov\u001b[22m\u001b[39m\t\u001b[0medx\u001b[0m, \u001b[33m16\u001b[39m\n",
      "\t\u001b[96m\u001b[1mvzeroupper\u001b[22m\u001b[39m\n",
      "\t\u001b[96m\u001b[1mcall\u001b[22m\u001b[39m\t\u001b[0mr14\n",
      "\t\u001b[96m\u001b[1mmov\u001b[22m\u001b[39m\t\u001b[0mrcx\u001b[0m, \u001b[0mr14\n",
      "\t\u001b[96m\u001b[1mmov\u001b[22m\u001b[39m\t\u001b[0mr14\u001b[0m, \u001b[0mrax\n",
      "\t\u001b[96m\u001b[1mmovabs\u001b[22m\u001b[39m\t\u001b[0mr13\u001b[0m, \u001b[33m23455743214368\u001b[39m\n",
      "\t\u001b[96m\u001b[1mmov\u001b[22m\u001b[39m\t\u001b[95mqword\u001b[39m \u001b[95mptr\u001b[39m \u001b[33m[\u001b[39m\u001b[0mrax \u001b[0m- \u001b[33m8\u001b[39m\u001b[33m]\u001b[39m\u001b[0m, \u001b[0mr13\n",
      "\t\u001b[96m\u001b[1mmov\u001b[22m\u001b[39m\t\u001b[95mqword\u001b[39m \u001b[95mptr\u001b[39m \u001b[33m[\u001b[39m\u001b[0mrax\u001b[33m]\u001b[39m\u001b[0m, \u001b[0mrbx\n",
      "\t\u001b[96m\u001b[1mmov\u001b[22m\u001b[39m\t\u001b[95mqword\u001b[39m \u001b[95mptr\u001b[39m \u001b[33m[\u001b[39m\u001b[0mrsp \u001b[0m+ \u001b[33m24\u001b[39m\u001b[33m]\u001b[39m\u001b[0m, \u001b[0mrax\n",
      "\t\u001b[96m\u001b[1mmov\u001b[22m\u001b[39m\t\u001b[0mrdi\u001b[0m, \u001b[95mqword\u001b[39m \u001b[95mptr\u001b[39m \u001b[33m[\u001b[39m\u001b[0mr15 \u001b[0m+ \u001b[33m16\u001b[39m\u001b[33m]\u001b[39m\n",
      "\t\u001b[96m\u001b[1mmov\u001b[22m\u001b[39m\t\u001b[0mesi\u001b[0m, \u001b[33m1392\u001b[39m\n",
      "\t\u001b[96m\u001b[1mmov\u001b[22m\u001b[39m\t\u001b[0medx\u001b[0m, \u001b[33m16\u001b[39m\n",
      "\t\u001b[96m\u001b[1mcall\u001b[22m\u001b[39m\t\u001b[0mrcx\n",
      "\t\u001b[96m\u001b[1mmov\u001b[22m\u001b[39m\t\u001b[95mqword\u001b[39m \u001b[95mptr\u001b[39m \u001b[33m[\u001b[39m\u001b[0mrax \u001b[0m- \u001b[33m8\u001b[39m\u001b[33m]\u001b[39m\u001b[0m, \u001b[0mr13\n",
      "\t\u001b[96m\u001b[1mmov\u001b[22m\u001b[39m\t\u001b[95mqword\u001b[39m \u001b[95mptr\u001b[39m \u001b[33m[\u001b[39m\u001b[0mrax\u001b[33m]\u001b[39m\u001b[0m, \u001b[0mr12\n",
      "\t\u001b[96m\u001b[1mmov\u001b[22m\u001b[39m\t\u001b[95mqword\u001b[39m \u001b[95mptr\u001b[39m \u001b[33m[\u001b[39m\u001b[0mrsp \u001b[0m+ \u001b[33m16\u001b[39m\u001b[33m]\u001b[39m\u001b[0m, \u001b[0mrax\n",
      "\t\u001b[96m\u001b[1mmovabs\u001b[22m\u001b[39m\t\u001b[0mrcx\u001b[0m, \u001b[33m23455749656336\u001b[39m\n",
      "\t\u001b[96m\u001b[1mmov\u001b[22m\u001b[39m\t\u001b[95mqword\u001b[39m \u001b[95mptr\u001b[39m \u001b[33m[\u001b[39m\u001b[0mrsp \u001b[0m+ \u001b[33m48\u001b[39m\u001b[33m]\u001b[39m\u001b[0m, \u001b[0mrcx\n",
      "\t\u001b[96m\u001b[1mmov\u001b[22m\u001b[39m\t\u001b[95mqword\u001b[39m \u001b[95mptr\u001b[39m \u001b[33m[\u001b[39m\u001b[0mrsp \u001b[0m+ \u001b[33m56\u001b[39m\u001b[33m]\u001b[39m\u001b[0m, \u001b[0mr14\n",
      "\t\u001b[96m\u001b[1mmov\u001b[22m\u001b[39m\t\u001b[95mqword\u001b[39m \u001b[95mptr\u001b[39m \u001b[33m[\u001b[39m\u001b[0mrsp \u001b[0m+ \u001b[33m64\u001b[39m\u001b[33m]\u001b[39m\u001b[0m, \u001b[0mrax\n",
      "\t\u001b[96m\u001b[1mmovabs\u001b[22m\u001b[39m\t\u001b[0mrax\u001b[0m, \u001b[95moffset\u001b[39m \u001b[93mijl_invoke\u001b[39m\n",
      "\t\u001b[96m\u001b[1mmovabs\u001b[22m\u001b[39m\t\u001b[0mrdi\u001b[0m, \u001b[33m23455765993616\u001b[39m\n",
      "\t\u001b[96m\u001b[1mlea\u001b[22m\u001b[39m\t\u001b[0mrsi\u001b[0m, \u001b[33m[\u001b[39m\u001b[0mrsp \u001b[0m+ \u001b[33m48\u001b[39m\u001b[33m]\u001b[39m\n",
      "\t\u001b[96m\u001b[1mmovabs\u001b[22m\u001b[39m\t\u001b[0mrcx\u001b[0m, \u001b[33m23455866573520\u001b[39m\n",
      "\t\u001b[96m\u001b[1mmov\u001b[22m\u001b[39m\t\u001b[0medx\u001b[0m, \u001b[33m3\u001b[39m\n",
      "\t\u001b[96m\u001b[1mcall\u001b[22m\u001b[39m\t\u001b[0mrax\n",
      "\t\u001b[96m\u001b[1mud2\u001b[22m\u001b[39m\n",
      "\u001b[91m.Lfunc_end0:\u001b[39m\n",
      "\t\u001b[0m.size\t\u001b[0mjulia_vector_dot_simd_2041\u001b[0m, \u001b[0m.Lfunc_end0-julia_vector_dot_simd_2041\n",
      "\t\u001b[0m.cfi_endproc\n",
      "                                        \u001b[90m# -- End function\u001b[39m\n",
      "\t\u001b[0m.section\t\u001b[0m\".note.GNU-stack\"\u001b[0m,\u001b[0m\"\"\u001b[0m,\u001b[0m@progbits\n"
     ]
    }
   ],
   "source": [
    "@code_native debuginfo=:none syntax=:intel vector_dot_simd(B, C)"
   ]
  },
  {
   "cell_type": "markdown",
   "metadata": {},
   "source": [
    "Note the `vfmadd231pd` instruction and usage of `ymmi` AVX registers (256 bit)."
   ]
  },
  {
   "cell_type": "markdown",
   "metadata": {},
   "source": [
    "#### Data types matter\n",
    "Floating-point addition is **non-associative** and the order of operations is important."
   ]
  },
  {
   "cell_type": "code",
   "execution_count": 15,
   "metadata": {},
   "outputs": [
    {
     "name": "stdout",
     "output_type": "stream",
     "text": [
      "vector_dot(v, v) = 333183.770499329\n",
      "vector_dot_simd(v, v) = 333183.77049932454\n",
      "abs(vector_dot(v, v) - vector_dot_simd(v, v)) = 4.48198989033699e-9\n"
     ]
    }
   ],
   "source": [
    "v = rand(10^6)\n",
    "@show vector_dot(v,v);\n",
    "@show vector_dot_simd(v,v);\n",
    "@show abs(vector_dot(v,v) - vector_dot_simd(v,v));"
   ]
  },
  {
   "cell_type": "markdown",
   "metadata": {},
   "source": [
    "How bad can this get? In principle, [arbitraily bad](https://discourse.julialang.org/t/when-shouldnt-we-use-simd/18276/11?u=carstenbauer)!! Quite often you can get away with it though."
   ]
  },
  {
   "cell_type": "markdown",
   "metadata": {},
   "source": [
    "\n",
    "Compare this to integer addition, which is **associative** and the order of operations has no impact."
   ]
  },
  {
   "cell_type": "code",
   "execution_count": 16,
   "metadata": {},
   "outputs": [],
   "source": [
    "B_int = rand(Int64, SIZE);\n",
    "C_int = rand(Int64, SIZE);"
   ]
  },
  {
   "cell_type": "code",
   "execution_count": 17,
   "metadata": {},
   "outputs": [
    {
     "name": "stdout",
     "output_type": "stream",
     "text": [
      "vector_dot(B_int, C_int) = 1495217605974072290\n",
      "vector_dot_simd(B_int, C_int) = 1495217605974072290\n",
      "abs(vector_dot(B_int, C_int) - vector_dot_simd(B_int, C_int)) = 0\n"
     ]
    }
   ],
   "source": [
    "@show vector_dot(B_int, C_int);\n",
    "@show vector_dot_simd(B_int, C_int);\n",
    "@show abs(vector_dot(B_int, C_int) - vector_dot_simd(B_int, C_int));"
   ]
  },
  {
   "cell_type": "code",
   "execution_count": 18,
   "metadata": {},
   "outputs": [
    {
     "name": "stdout",
     "output_type": "stream",
     "text": [
      "  154.575 μs (0 allocations: 0 bytes)\n",
      "  153.743 μs (0 allocations: 0 bytes)\n"
     ]
    }
   ],
   "source": [
    "@btime vector_dot($B_int, $C_int);\n",
    "@btime vector_dot_simd($B_int, $C_int);"
   ]
  },
  {
   "cell_type": "markdown",
   "metadata": {},
   "source": [
    "### [LoopVectorization.jl](https://github.com/JuliaSIMD/LoopVectorization.jl)"
   ]
  },
  {
   "cell_type": "markdown",
   "metadata": {},
   "source": [
    "Loosely speaking, you can think of `@turbo` as a much(!) more sophisticated version of `@simd`. Hopefully, these features will at some point just be part of Julia's compiler."
   ]
  },
  {
   "cell_type": "markdown",
   "metadata": {},
   "source": [
    "(Sidenote: There is [LLVMLoopInfo.jl](https://github.com/JuliaSIMD/LLVMLoopInfo.jl) to talk to LLVM directly if necessary.)"
   ]
  },
  {
   "cell_type": "code",
   "execution_count": 19,
   "metadata": {},
   "outputs": [
    {
     "name": "stdout",
     "output_type": "stream",
     "text": [
      "  154.395 μs (0 allocations: 0 bytes)\n",
      "  154.678 μs (0 allocations: 0 bytes)\n"
     ]
    }
   ],
   "source": [
    "using LoopVectorization\n",
    "\n",
    "function vector_dot_turbo(B, C)\n",
    "    a = zero(eltype(B))\n",
    "    @turbo for i in eachindex(B,C)\n",
    "        @inbounds a += B[i] * C[i]\n",
    "    end\n",
    "    return a\n",
    "end\n",
    "\n",
    "@btime vector_dot_simd($B, $C);\n",
    "@btime vector_dot_turbo($B, $C);"
   ]
  },
  {
   "cell_type": "code",
   "execution_count": 20,
   "metadata": {},
   "outputs": [
    {
     "name": "stdout",
     "output_type": "stream",
     "text": [
      "\t\u001b[0m.text\n",
      "\t\u001b[0m.file\t\u001b[0m\"vector_dot_turbo\"\n",
      "\t\u001b[0m.globl\t\u001b[0mjulia_vector_dot_turbo_2371     \u001b[90m# -- Begin function julia_vector_dot_turbo_2371\u001b[39m\n",
      "\t\u001b[0m.p2align\t\u001b[33m4\u001b[39m\u001b[0m, \u001b[33m0x90\u001b[39m\n",
      "\t\u001b[0m.type\t\u001b[0mjulia_vector_dot_turbo_2371\u001b[0m,\u001b[0m@function\n",
      "\u001b[91mjulia_vector_dot_turbo_2371:\u001b[39m            \u001b[90m# @julia_vector_dot_turbo_2371\u001b[39m\n",
      "\t\u001b[0m.cfi_startproc\n",
      "\u001b[90m# %bb.0:                                # %top\u001b[39m\n",
      "\t\u001b[96m\u001b[1mpush\u001b[22m\u001b[39m\t\u001b[0mrbp\n",
      "\t\u001b[0m.cfi_def_cfa_offset \u001b[33m16\u001b[39m\n",
      "\t\u001b[0m.cfi_offset \u001b[0mrbp\u001b[0m, \u001b[33m-16\u001b[39m\n",
      "\t\u001b[96m\u001b[1mmov\u001b[22m\u001b[39m\t\u001b[0mrbp\u001b[0m, \u001b[0mrsp\n",
      "\t\u001b[0m.cfi_def_cfa_register \u001b[0mrbp\n",
      "\t\u001b[96m\u001b[1mpush\u001b[22m\u001b[39m\t\u001b[0mr15\n",
      "\t\u001b[96m\u001b[1mpush\u001b[22m\u001b[39m\t\u001b[0mr14\n",
      "\t\u001b[96m\u001b[1mpush\u001b[22m\u001b[39m\t\u001b[0mr13\n",
      "\t\u001b[96m\u001b[1mpush\u001b[22m\u001b[39m\t\u001b[0mr12\n",
      "\t\u001b[96m\u001b[1mpush\u001b[22m\u001b[39m\t\u001b[0mrbx\n",
      "\t\u001b[96m\u001b[1mand\u001b[22m\u001b[39m\t\u001b[0mrsp\u001b[0m, \u001b[33m-32\u001b[39m\n",
      "\t\u001b[96m\u001b[1msub\u001b[22m\u001b[39m\t\u001b[0mrsp\u001b[0m, \u001b[33m96\u001b[39m\n",
      "\t\u001b[0m.cfi_offset \u001b[0mrbx\u001b[0m, \u001b[33m-56\u001b[39m\n",
      "\t\u001b[0m.cfi_offset \u001b[0mr12\u001b[0m, \u001b[33m-48\u001b[39m\n",
      "\t\u001b[0m.cfi_offset \u001b[0mr13\u001b[0m, \u001b[33m-40\u001b[39m\n",
      "\t\u001b[0m.cfi_offset \u001b[0mr14\u001b[0m, \u001b[33m-32\u001b[39m\n",
      "\t\u001b[0m.cfi_offset \u001b[0mr15\u001b[0m, \u001b[33m-24\u001b[39m\n",
      "\t\u001b[96m\u001b[1mvxorpd\u001b[22m\u001b[39m\t\u001b[0mxmm0\u001b[0m, \u001b[0mxmm0\u001b[0m, \u001b[0mxmm0\n",
      "\t\u001b[96m\u001b[1mvmovapd\u001b[22m\u001b[39m\t\u001b[95mymmword\u001b[39m \u001b[95mptr\u001b[39m \u001b[33m[\u001b[39m\u001b[0mrsp\u001b[33m]\u001b[39m\u001b[0m, \u001b[0mymm0\n",
      "\t\u001b[0m#APP\n",
      "\t\u001b[96m\u001b[1mmov\u001b[22m\u001b[39m\t\u001b[0mrax\u001b[0m, \u001b[95mqword\u001b[39m \u001b[95mptr\u001b[39m \u001b[0mfs\u001b[0m:\u001b[33m[\u001b[39m\u001b[33m0\u001b[39m\u001b[33m]\u001b[39m\n",
      "\t\u001b[0m#NO_APP\n",
      "\t\u001b[96m\u001b[1mmov\u001b[22m\u001b[39m\t\u001b[0mr15\u001b[0m, \u001b[95mqword\u001b[39m \u001b[95mptr\u001b[39m \u001b[33m[\u001b[39m\u001b[0mrax \u001b[0m- \u001b[33m8\u001b[39m\u001b[33m]\u001b[39m\n",
      "\t\u001b[96m\u001b[1mmov\u001b[22m\u001b[39m\t\u001b[95mqword\u001b[39m \u001b[95mptr\u001b[39m \u001b[33m[\u001b[39m\u001b[0mrsp\u001b[33m]\u001b[39m\u001b[0m, \u001b[33m8\u001b[39m\n",
      "\t\u001b[96m\u001b[1mmov\u001b[22m\u001b[39m\t\u001b[0mrax\u001b[0m, \u001b[95mqword\u001b[39m \u001b[95mptr\u001b[39m \u001b[33m[\u001b[39m\u001b[0mr15\u001b[33m]\u001b[39m\n",
      "\t\u001b[96m\u001b[1mmov\u001b[22m\u001b[39m\t\u001b[95mqword\u001b[39m \u001b[95mptr\u001b[39m \u001b[33m[\u001b[39m\u001b[0mrsp \u001b[0m+ \u001b[33m8\u001b[39m\u001b[33m]\u001b[39m\u001b[0m, \u001b[0mrax\n",
      "\t\u001b[96m\u001b[1mmov\u001b[22m\u001b[39m\t\u001b[0mrax\u001b[0m, \u001b[0mrsp\n",
      "\t\u001b[96m\u001b[1mmov\u001b[22m\u001b[39m\t\u001b[95mqword\u001b[39m \u001b[95mptr\u001b[39m \u001b[33m[\u001b[39m\u001b[0mr15\u001b[33m]\u001b[39m\u001b[0m, \u001b[0mrax\n",
      "\t\u001b[96m\u001b[1mmov\u001b[22m\u001b[39m\t\u001b[0mrbx\u001b[0m, \u001b[95mqword\u001b[39m \u001b[95mptr\u001b[39m \u001b[33m[\u001b[39m\u001b[0mrdi \u001b[0m+ \u001b[33m8\u001b[39m\u001b[33m]\u001b[39m\n",
      "\t\u001b[96m\u001b[1mmov\u001b[22m\u001b[39m\t\u001b[0mr12\u001b[0m, \u001b[95mqword\u001b[39m \u001b[95mptr\u001b[39m \u001b[33m[\u001b[39m\u001b[0mrsi \u001b[0m+ \u001b[33m8\u001b[39m\u001b[33m]\u001b[39m\n",
      "\t\u001b[96m\u001b[1mcmp\u001b[22m\u001b[39m\t\u001b[0mrbx\u001b[0m, \u001b[0mr12\n",
      "\t\u001b[96m\u001b[1mjne\u001b[22m\u001b[39m\t\u001b[0m.LBB0_13\n",
      "\u001b[90m# %bb.1:                                # %L28\u001b[39m\n",
      "\t\u001b[96m\u001b[1mmovabs\u001b[22m\u001b[39m\t\u001b[0mrcx\u001b[0m, \u001b[33m9223372036854775776\u001b[39m\n",
      "\t\u001b[96m\u001b[1mmov\u001b[22m\u001b[39m\t\u001b[0mrdx\u001b[0m, \u001b[95mqword\u001b[39m \u001b[95mptr\u001b[39m \u001b[33m[\u001b[39m\u001b[0mrdi\u001b[33m]\u001b[39m\n",
      "\t\u001b[96m\u001b[1mmov\u001b[22m\u001b[39m\t\u001b[0mrax\u001b[0m, \u001b[95mqword\u001b[39m \u001b[95mptr\u001b[39m \u001b[33m[\u001b[39m\u001b[0mrsi\u001b[33m]\u001b[39m\n",
      "\t\u001b[96m\u001b[1mcmp\u001b[22m\u001b[39m\t\u001b[0mrbx\u001b[0m, \u001b[33m32\u001b[39m\n",
      "\t\u001b[96m\u001b[1mjae\u001b[22m\u001b[39m\t\u001b[0m.LBB0_3\n",
      "\u001b[90m# %bb.2:\u001b[39m\n",
      "\t\u001b[96m\u001b[1mvxorpd\u001b[22m\u001b[39m\t\u001b[0mxmm0\u001b[0m, \u001b[0mxmm0\u001b[0m, \u001b[0mxmm0\n",
      "\t\u001b[96m\u001b[1mxor\u001b[22m\u001b[39m\t\u001b[0mesi\u001b[0m, \u001b[0mesi\n",
      "\t\u001b[96m\u001b[1mvxorpd\u001b[22m\u001b[39m\t\u001b[0mxmm1\u001b[0m, \u001b[0mxmm1\u001b[0m, \u001b[0mxmm1\n",
      "\t\u001b[96m\u001b[1mjmp\u001b[22m\u001b[39m\t\u001b[0m.LBB0_6\n",
      "\u001b[91m.LBB0_3:\u001b[39m                                \u001b[90m# %L44.preheader\u001b[39m\n",
      "\t\u001b[96m\u001b[1mmov\u001b[22m\u001b[39m\t\u001b[0mrsi\u001b[0m, \u001b[0mrbx\n",
      "\t\u001b[96m\u001b[1mand\u001b[22m\u001b[39m\t\u001b[0mrsi\u001b[0m, \u001b[0mrcx\n",
      "\t\u001b[96m\u001b[1mvxorpd\u001b[22m\u001b[39m\t\u001b[0mxmm1\u001b[0m, \u001b[0mxmm1\u001b[0m, \u001b[0mxmm1\n",
      "\t\u001b[96m\u001b[1mxor\u001b[22m\u001b[39m\t\u001b[0medi\u001b[0m, \u001b[0medi\n",
      "\t\u001b[96m\u001b[1mvxorpd\u001b[22m\u001b[39m\t\u001b[0mxmm0\u001b[0m, \u001b[0mxmm0\u001b[0m, \u001b[0mxmm0\n",
      "\t\u001b[96m\u001b[1mvxorpd\u001b[22m\u001b[39m\t\u001b[0mxmm2\u001b[0m, \u001b[0mxmm2\u001b[0m, \u001b[0mxmm2\n",
      "\t\u001b[96m\u001b[1mvxorpd\u001b[22m\u001b[39m\t\u001b[0mxmm3\u001b[0m, \u001b[0mxmm3\u001b[0m, \u001b[0mxmm3\n",
      "\t\u001b[0m.p2align\t\u001b[33m4\u001b[39m\u001b[0m, \u001b[33m0x90\u001b[39m\n",
      "\u001b[91m.LBB0_4:\u001b[39m                                \u001b[90m# %L55\u001b[39m\n",
      "                                        \u001b[90m# =>This Inner Loop Header: Depth=1\u001b[39m\n",
      "\t\u001b[96m\u001b[1mvmovupd\u001b[22m\u001b[39m\t\u001b[0mzmm4\u001b[0m, \u001b[95mzmmword\u001b[39m \u001b[95mptr\u001b[39m \u001b[33m[\u001b[39m\u001b[0mrdx \u001b[0m+ \u001b[33m8\u001b[39m\u001b[0m*\u001b[0mrdi\u001b[33m]\u001b[39m\n",
      "\t\u001b[96m\u001b[1mvmovupd\u001b[22m\u001b[39m\t\u001b[0mzmm5\u001b[0m, \u001b[95mzmmword\u001b[39m \u001b[95mptr\u001b[39m \u001b[33m[\u001b[39m\u001b[0mrdx \u001b[0m+ \u001b[33m8\u001b[39m\u001b[0m*\u001b[0mrdi \u001b[0m+ \u001b[33m64\u001b[39m\u001b[33m]\u001b[39m\n",
      "\t\u001b[96m\u001b[1mvmovupd\u001b[22m\u001b[39m\t\u001b[0mzmm6\u001b[0m, \u001b[95mzmmword\u001b[39m \u001b[95mptr\u001b[39m \u001b[33m[\u001b[39m\u001b[0mrdx \u001b[0m+ \u001b[33m8\u001b[39m\u001b[0m*\u001b[0mrdi \u001b[0m+ \u001b[33m128\u001b[39m\u001b[33m]\u001b[39m\n",
      "\t\u001b[96m\u001b[1mvmovupd\u001b[22m\u001b[39m\t\u001b[0mzmm7\u001b[0m, \u001b[95mzmmword\u001b[39m \u001b[95mptr\u001b[39m \u001b[33m[\u001b[39m\u001b[0mrdx \u001b[0m+ \u001b[33m8\u001b[39m\u001b[0m*\u001b[0mrdi \u001b[0m+ \u001b[33m192\u001b[39m\u001b[33m]\u001b[39m\n",
      "\t\u001b[96m\u001b[1mvfmadd231pd\u001b[22m\u001b[39m\t\u001b[0mzmm3\u001b[0m, \u001b[0mzmm4\u001b[0m, \u001b[95mzmmword\u001b[39m \u001b[95mptr\u001b[39m \u001b[33m[\u001b[39m\u001b[0mrax \u001b[0m+ \u001b[33m8\u001b[39m\u001b[0m*\u001b[0mrdi\u001b[33m]\u001b[39m \u001b[90m# zmm3 = (zmm4 * mem) + zmm3\u001b[39m\n",
      "\t\u001b[96m\u001b[1mvfmadd231pd\u001b[22m\u001b[39m\t\u001b[0mzmm2\u001b[0m, \u001b[0mzmm5\u001b[0m, \u001b[95mzmmword\u001b[39m \u001b[95mptr\u001b[39m \u001b[33m[\u001b[39m\u001b[0mrax \u001b[0m+ \u001b[33m8\u001b[39m\u001b[0m*\u001b[0mrdi \u001b[0m+ \u001b[33m64\u001b[39m\u001b[33m]\u001b[39m \u001b[90m# zmm2 = (zmm5 * mem) + zmm2\u001b[39m\n",
      "\t\u001b[96m\u001b[1mvfmadd231pd\u001b[22m\u001b[39m\t\u001b[0mzmm0\u001b[0m, \u001b[0mzmm6\u001b[0m, \u001b[95mzmmword\u001b[39m \u001b[95mptr\u001b[39m \u001b[33m[\u001b[39m\u001b[0mrax \u001b[0m+ \u001b[33m8\u001b[39m\u001b[0m*\u001b[0mrdi \u001b[0m+ \u001b[33m128\u001b[39m\u001b[33m]\u001b[39m \u001b[90m# zmm0 = (zmm6 * mem) + zmm0\u001b[39m\n",
      "\t\u001b[96m\u001b[1mvfmadd231pd\u001b[22m\u001b[39m\t\u001b[0mzmm1\u001b[0m, \u001b[0mzmm7\u001b[0m, \u001b[95mzmmword\u001b[39m \u001b[95mptr\u001b[39m \u001b[33m[\u001b[39m\u001b[0mrax \u001b[0m+ \u001b[33m8\u001b[39m\u001b[0m*\u001b[0mrdi \u001b[0m+ \u001b[33m192\u001b[39m\u001b[33m]\u001b[39m \u001b[90m# zmm1 = (zmm7 * mem) + zmm1\u001b[39m\n",
      "\t\u001b[96m\u001b[1madd\u001b[22m\u001b[39m\t\u001b[0mrdi\u001b[0m, \u001b[33m32\u001b[39m\n",
      "\t\u001b[96m\u001b[1mcmp\u001b[22m\u001b[39m\t\u001b[0mrsi\u001b[0m, \u001b[0mrdi\n",
      "\t\u001b[96m\u001b[1mjne\u001b[22m\u001b[39m\t\u001b[0m.LBB0_4\n",
      "\u001b[90m# %bb.5:                                # %L74\u001b[39m\n",
      "\t\u001b[96m\u001b[1mvaddpd\u001b[22m\u001b[39m\t\u001b[0mzmm0\u001b[0m, \u001b[0mzmm3\u001b[0m, \u001b[0mzmm0\n",
      "\t\u001b[96m\u001b[1mvaddpd\u001b[22m\u001b[39m\t\u001b[0mzmm1\u001b[0m, \u001b[0mzmm2\u001b[0m, \u001b[0mzmm1\n",
      "\u001b[91m.LBB0_6:\u001b[39m                                \u001b[90m# %L79\u001b[39m\n",
      "\t\u001b[96m\u001b[1madd\u001b[22m\u001b[39m\t\u001b[0mrcx\u001b[0m, \u001b[33m16\u001b[39m\n",
      "\t\u001b[96m\u001b[1mand\u001b[22m\u001b[39m\t\u001b[0mrcx\u001b[0m, \u001b[0mrbx\n",
      "\t\u001b[96m\u001b[1mcmp\u001b[22m\u001b[39m\t\u001b[0mrsi\u001b[0m, \u001b[0mrcx\n",
      "\t\u001b[96m\u001b[1mje\u001b[22m\u001b[39m\t\u001b[0m.LBB0_8\n",
      "\u001b[90m# %bb.7:                                # %L94\u001b[39m\n",
      "\t\u001b[96m\u001b[1mvmovupd\u001b[22m\u001b[39m\t\u001b[0mzmm2\u001b[0m, \u001b[95mzmmword\u001b[39m \u001b[95mptr\u001b[39m \u001b[33m[\u001b[39m\u001b[0mrdx \u001b[0m+ \u001b[33m8\u001b[39m\u001b[0m*\u001b[0mrsi\u001b[33m]\u001b[39m\n",
      "\t\u001b[96m\u001b[1mvmovupd\u001b[22m\u001b[39m\t\u001b[0mzmm3\u001b[0m, \u001b[95mzmmword\u001b[39m \u001b[95mptr\u001b[39m \u001b[33m[\u001b[39m\u001b[0mrdx \u001b[0m+ \u001b[33m8\u001b[39m\u001b[0m*\u001b[0mrsi \u001b[0m+ \u001b[33m64\u001b[39m\u001b[33m]\u001b[39m\n",
      "\t\u001b[96m\u001b[1mvfmadd231pd\u001b[22m\u001b[39m\t\u001b[0mzmm0\u001b[0m, \u001b[0mzmm2\u001b[0m, \u001b[95mzmmword\u001b[39m \u001b[95mptr\u001b[39m \u001b[33m[\u001b[39m\u001b[0mrax \u001b[0m+ \u001b[33m8\u001b[39m\u001b[0m*\u001b[0mrsi\u001b[33m]\u001b[39m \u001b[90m# zmm0 = (zmm2 * mem) + zmm0\u001b[39m\n",
      "\t\u001b[96m\u001b[1mvfmadd231pd\u001b[22m\u001b[39m\t\u001b[0mzmm1\u001b[0m, \u001b[0mzmm3\u001b[0m, \u001b[95mzmmword\u001b[39m \u001b[95mptr\u001b[39m \u001b[33m[\u001b[39m\u001b[0mrax \u001b[0m+ \u001b[33m8\u001b[39m\u001b[0m*\u001b[0mrsi \u001b[0m+ \u001b[33m64\u001b[39m\u001b[33m]\u001b[39m \u001b[90m# zmm1 = (zmm3 * mem) + zmm1\u001b[39m\n",
      "\t\u001b[96m\u001b[1mor\u001b[22m\u001b[39m\t\u001b[0mrsi\u001b[0m, \u001b[33m16\u001b[39m\n",
      "\u001b[91m.LBB0_8:\u001b[39m                                \u001b[90m# %L103\u001b[39m\n",
      "\t\u001b[96m\u001b[1mcmp\u001b[22m\u001b[39m\t\u001b[0mrsi\u001b[0m, \u001b[0mrbx\n",
      "\t\u001b[96m\u001b[1mjge\u001b[22m\u001b[39m\t\u001b[0m.LBB0_12\n",
      "\u001b[90m# %bb.9:                                # %L114\u001b[39m\n",
      "\t\u001b[96m\u001b[1mmov\u001b[22m\u001b[39m\t\u001b[0mecx\u001b[0m, \u001b[0mebx\n",
      "\t\u001b[96m\u001b[1mneg\u001b[22m\u001b[39m\t\u001b[0mcl\n",
      "\t\u001b[96m\u001b[1mand\u001b[22m\u001b[39m\t\u001b[0mcl\u001b[0m, \u001b[33m7\u001b[39m\n",
      "\t\u001b[96m\u001b[1mmov\u001b[22m\u001b[39m\t\u001b[0mdil\u001b[0m, \u001b[33m-1\u001b[39m\n",
      "\t\u001b[96m\u001b[1mshr\u001b[22m\u001b[39m\t\u001b[0mdil\u001b[0m, \u001b[0mcl\n",
      "\t\u001b[96m\u001b[1madd\u001b[22m\u001b[39m\t\u001b[0mrbx\u001b[0m, \u001b[33m-9\u001b[39m\n",
      "\t\u001b[96m\u001b[1mcmp\u001b[22m\u001b[39m\t\u001b[0mrbx\u001b[0m, \u001b[0mrsi\n",
      "\t\u001b[96m\u001b[1mjge\u001b[22m\u001b[39m\t\u001b[0m.LBB0_11\n",
      "\u001b[90m# %bb.10:                               # %L129\u001b[39m\n",
      "\t\u001b[96m\u001b[1mkmovd\u001b[22m\u001b[39m\t\u001b[0mk1\u001b[0m, \u001b[0medi\n",
      "\t\u001b[96m\u001b[1mvmovupd\u001b[22m\u001b[39m\t\u001b[0mzmm2 \u001b[33m{\u001b[39m\u001b[0mk1\u001b[33m}\u001b[39m \u001b[33m{\u001b[39m\u001b[95mz\u001b[39m\u001b[33m}\u001b[39m\u001b[0m, \u001b[95mzmmword\u001b[39m \u001b[95mptr\u001b[39m \u001b[33m[\u001b[39m\u001b[0mrdx \u001b[0m+ \u001b[33m8\u001b[39m\u001b[0m*\u001b[0mrsi\u001b[33m]\u001b[39m\n",
      "\t\u001b[96m\u001b[1mvmovupd\u001b[22m\u001b[39m\t\u001b[0mzmm3 \u001b[33m{\u001b[39m\u001b[0mk1\u001b[33m}\u001b[39m \u001b[33m{\u001b[39m\u001b[95mz\u001b[39m\u001b[33m}\u001b[39m\u001b[0m, \u001b[95mzmmword\u001b[39m \u001b[95mptr\u001b[39m \u001b[33m[\u001b[39m\u001b[0mrax \u001b[0m+ \u001b[33m8\u001b[39m\u001b[0m*\u001b[0mrsi\u001b[33m]\u001b[39m\n",
      "\t\u001b[96m\u001b[1mvfmadd231pd\u001b[22m\u001b[39m\t\u001b[0mzmm0 \u001b[33m{\u001b[39m\u001b[0mk1\u001b[33m}\u001b[39m\u001b[0m, \u001b[0mzmm2\u001b[0m, \u001b[0mzmm3   \u001b[90m# zmm0 {%k1} = (zmm2 * zmm3) + zmm0\u001b[39m\n",
      "\t\u001b[96m\u001b[1mjmp\u001b[22m\u001b[39m\t\u001b[0m.LBB0_12\n",
      "\u001b[91m.LBB0_11:\u001b[39m                               \u001b[90m# %L137\u001b[39m\n",
      "\t\u001b[96m\u001b[1mvmovupd\u001b[22m\u001b[39m\t\u001b[0mzmm2\u001b[0m, \u001b[95mzmmword\u001b[39m \u001b[95mptr\u001b[39m \u001b[33m[\u001b[39m\u001b[0mrdx \u001b[0m+ \u001b[33m8\u001b[39m\u001b[0m*\u001b[0mrsi\u001b[33m]\u001b[39m\n",
      "\t\u001b[96m\u001b[1mkmovd\u001b[22m\u001b[39m\t\u001b[0mk1\u001b[0m, \u001b[0medi\n",
      "\t\u001b[96m\u001b[1mvmovupd\u001b[22m\u001b[39m\t\u001b[0mzmm3 \u001b[33m{\u001b[39m\u001b[0mk1\u001b[33m}\u001b[39m \u001b[33m{\u001b[39m\u001b[95mz\u001b[39m\u001b[33m}\u001b[39m\u001b[0m, \u001b[95mzmmword\u001b[39m \u001b[95mptr\u001b[39m \u001b[33m[\u001b[39m\u001b[0mrdx \u001b[0m+ \u001b[33m8\u001b[39m\u001b[0m*\u001b[0mrsi \u001b[0m+ \u001b[33m64\u001b[39m\u001b[33m]\u001b[39m\n",
      "\t\u001b[96m\u001b[1mvmovupd\u001b[22m\u001b[39m\t\u001b[0mzmm4 \u001b[33m{\u001b[39m\u001b[0mk1\u001b[33m}\u001b[39m \u001b[33m{\u001b[39m\u001b[95mz\u001b[39m\u001b[33m}\u001b[39m\u001b[0m, \u001b[95mzmmword\u001b[39m \u001b[95mptr\u001b[39m \u001b[33m[\u001b[39m\u001b[0mrax \u001b[0m+ \u001b[33m8\u001b[39m\u001b[0m*\u001b[0mrsi \u001b[0m+ \u001b[33m64\u001b[39m\u001b[33m]\u001b[39m\n",
      "\t\u001b[96m\u001b[1mvfmadd231pd\u001b[22m\u001b[39m\t\u001b[0mzmm0\u001b[0m, \u001b[0mzmm2\u001b[0m, \u001b[95mzmmword\u001b[39m \u001b[95mptr\u001b[39m \u001b[33m[\u001b[39m\u001b[0mrax \u001b[0m+ \u001b[33m8\u001b[39m\u001b[0m*\u001b[0mrsi\u001b[33m]\u001b[39m \u001b[90m# zmm0 = (zmm2 * mem) + zmm0\u001b[39m\n",
      "\t\u001b[96m\u001b[1mvfmadd231pd\u001b[22m\u001b[39m\t\u001b[0mzmm1 \u001b[33m{\u001b[39m\u001b[0mk1\u001b[33m}\u001b[39m\u001b[0m, \u001b[0mzmm3\u001b[0m, \u001b[0mzmm4   \u001b[90m# zmm1 {%k1} = (zmm3 * zmm4) + zmm1\u001b[39m\n",
      "\u001b[91m.LBB0_12:\u001b[39m                               \u001b[90m# %L147\u001b[39m\n",
      "\t\u001b[96m\u001b[1mvaddpd\u001b[22m\u001b[39m\t\u001b[0mzmm0\u001b[0m, \u001b[0mzmm0\u001b[0m, \u001b[0mzmm1\n",
      "\t\u001b[96m\u001b[1mvextractf64x4\u001b[22m\u001b[39m\t\u001b[0mymm1\u001b[0m, \u001b[0mzmm0\u001b[0m, \u001b[33m1\u001b[39m\n",
      "\t\u001b[96m\u001b[1mvaddpd\u001b[22m\u001b[39m\t\u001b[0mzmm0\u001b[0m, \u001b[0mzmm0\u001b[0m, \u001b[0mzmm1\n",
      "\t\u001b[96m\u001b[1mvextractf128\u001b[22m\u001b[39m\t\u001b[0mxmm1\u001b[0m, \u001b[0mymm0\u001b[0m, \u001b[33m1\u001b[39m\n",
      "\t\u001b[96m\u001b[1mvaddpd\u001b[22m\u001b[39m\t\u001b[0mxmm0\u001b[0m, \u001b[0mxmm0\u001b[0m, \u001b[0mxmm1\n",
      "\t\u001b[96m\u001b[1mvpermilpd\u001b[22m\u001b[39m\t\u001b[0mxmm1\u001b[0m, \u001b[0mxmm0\u001b[0m, \u001b[33m1\u001b[39m           \u001b[90m# xmm1 = xmm0[1,0]\u001b[39m\n",
      "\t\u001b[96m\u001b[1mvaddsd\u001b[22m\u001b[39m\t\u001b[0mxmm0\u001b[0m, \u001b[0mxmm0\u001b[0m, \u001b[0mxmm1\n",
      "\t\u001b[96m\u001b[1mmov\u001b[22m\u001b[39m\t\u001b[0mrax\u001b[0m, \u001b[95mqword\u001b[39m \u001b[95mptr\u001b[39m \u001b[33m[\u001b[39m\u001b[0mrsp \u001b[0m+ \u001b[33m8\u001b[39m\u001b[33m]\u001b[39m\n",
      "\t\u001b[96m\u001b[1mmov\u001b[22m\u001b[39m\t\u001b[95mqword\u001b[39m \u001b[95mptr\u001b[39m \u001b[33m[\u001b[39m\u001b[0mr15\u001b[33m]\u001b[39m\u001b[0m, \u001b[0mrax\n",
      "\t\u001b[96m\u001b[1mlea\u001b[22m\u001b[39m\t\u001b[0mrsp\u001b[0m, \u001b[33m[\u001b[39m\u001b[0mrbp \u001b[0m- \u001b[33m40\u001b[39m\u001b[33m]\u001b[39m\n",
      "\t\u001b[96m\u001b[1mpop\u001b[22m\u001b[39m\t\u001b[0mrbx\n",
      "\t\u001b[96m\u001b[1mpop\u001b[22m\u001b[39m\t\u001b[0mr12\n",
      "\t\u001b[96m\u001b[1mpop\u001b[22m\u001b[39m\t\u001b[0mr13\n",
      "\t\u001b[96m\u001b[1mpop\u001b[22m\u001b[39m\t\u001b[0mr14\n",
      "\t\u001b[96m\u001b[1mpop\u001b[22m\u001b[39m\t\u001b[0mr15\n",
      "\t\u001b[96m\u001b[1mpop\u001b[22m\u001b[39m\t\u001b[0mrbp\n",
      "\t\u001b[0m.cfi_def_cfa \u001b[0mrsp\u001b[0m, \u001b[33m8\u001b[39m\n",
      "\t\u001b[96m\u001b[1mvzeroupper\u001b[22m\u001b[39m\n",
      "\t\u001b[96m\u001b[1mret\u001b[22m\u001b[39m\n",
      "\u001b[91m.LBB0_13:\u001b[39m                               \u001b[90m# %L11\u001b[39m\n",
      "\t\u001b[0m.cfi_def_cfa \u001b[0mrbp\u001b[0m, \u001b[33m16\u001b[39m\n",
      "\t\u001b[96m\u001b[1mmov\u001b[22m\u001b[39m\t\u001b[0mrdi\u001b[0m, \u001b[95mqword\u001b[39m \u001b[95mptr\u001b[39m \u001b[33m[\u001b[39m\u001b[0mr15 \u001b[0m+ \u001b[33m16\u001b[39m\u001b[33m]\u001b[39m\n",
      "\t\u001b[96m\u001b[1mmovabs\u001b[22m\u001b[39m\t\u001b[0mr14\u001b[0m, \u001b[95moffset\u001b[39m \u001b[93mijl_gc_pool_alloc\u001b[39m\n",
      "\t\u001b[96m\u001b[1mmov\u001b[22m\u001b[39m\t\u001b[0mesi\u001b[0m, \u001b[33m1392\u001b[39m\n",
      "\t\u001b[96m\u001b[1mmov\u001b[22m\u001b[39m\t\u001b[0medx\u001b[0m, \u001b[33m16\u001b[39m\n",
      "\t\u001b[96m\u001b[1mvzeroupper\u001b[22m\u001b[39m\n",
      "\t\u001b[96m\u001b[1mcall\u001b[22m\u001b[39m\t\u001b[0mr14\n",
      "\t\u001b[96m\u001b[1mmov\u001b[22m\u001b[39m\t\u001b[0mrcx\u001b[0m, \u001b[0mr14\n",
      "\t\u001b[96m\u001b[1mmov\u001b[22m\u001b[39m\t\u001b[0mr14\u001b[0m, \u001b[0mrax\n",
      "\t\u001b[96m\u001b[1mmovabs\u001b[22m\u001b[39m\t\u001b[0mr13\u001b[0m, \u001b[33m23455743214368\u001b[39m\n",
      "\t\u001b[96m\u001b[1mmov\u001b[22m\u001b[39m\t\u001b[95mqword\u001b[39m \u001b[95mptr\u001b[39m \u001b[33m[\u001b[39m\u001b[0mrax \u001b[0m- \u001b[33m8\u001b[39m\u001b[33m]\u001b[39m\u001b[0m, \u001b[0mr13\n",
      "\t\u001b[96m\u001b[1mmov\u001b[22m\u001b[39m\t\u001b[95mqword\u001b[39m \u001b[95mptr\u001b[39m \u001b[33m[\u001b[39m\u001b[0mrax\u001b[33m]\u001b[39m\u001b[0m, \u001b[0mrbx\n",
      "\t\u001b[96m\u001b[1mmov\u001b[22m\u001b[39m\t\u001b[95mqword\u001b[39m \u001b[95mptr\u001b[39m \u001b[33m[\u001b[39m\u001b[0mrsp \u001b[0m+ \u001b[33m24\u001b[39m\u001b[33m]\u001b[39m\u001b[0m, \u001b[0mrax\n",
      "\t\u001b[96m\u001b[1mmov\u001b[22m\u001b[39m\t\u001b[0mrdi\u001b[0m, \u001b[95mqword\u001b[39m \u001b[95mptr\u001b[39m \u001b[33m[\u001b[39m\u001b[0mr15 \u001b[0m+ \u001b[33m16\u001b[39m\u001b[33m]\u001b[39m\n",
      "\t\u001b[96m\u001b[1mmov\u001b[22m\u001b[39m\t\u001b[0mesi\u001b[0m, \u001b[33m1392\u001b[39m\n",
      "\t\u001b[96m\u001b[1mmov\u001b[22m\u001b[39m\t\u001b[0medx\u001b[0m, \u001b[33m16\u001b[39m\n",
      "\t\u001b[96m\u001b[1mcall\u001b[22m\u001b[39m\t\u001b[0mrcx\n",
      "\t\u001b[96m\u001b[1mmov\u001b[22m\u001b[39m\t\u001b[95mqword\u001b[39m \u001b[95mptr\u001b[39m \u001b[33m[\u001b[39m\u001b[0mrax \u001b[0m- \u001b[33m8\u001b[39m\u001b[33m]\u001b[39m\u001b[0m, \u001b[0mr13\n",
      "\t\u001b[96m\u001b[1mmov\u001b[22m\u001b[39m\t\u001b[95mqword\u001b[39m \u001b[95mptr\u001b[39m \u001b[33m[\u001b[39m\u001b[0mrax\u001b[33m]\u001b[39m\u001b[0m, \u001b[0mr12\n",
      "\t\u001b[96m\u001b[1mmov\u001b[22m\u001b[39m\t\u001b[95mqword\u001b[39m \u001b[95mptr\u001b[39m \u001b[33m[\u001b[39m\u001b[0mrsp \u001b[0m+ \u001b[33m16\u001b[39m\u001b[33m]\u001b[39m\u001b[0m, \u001b[0mrax\n",
      "\t\u001b[96m\u001b[1mmovabs\u001b[22m\u001b[39m\t\u001b[0mrcx\u001b[0m, \u001b[33m23455749656336\u001b[39m\n",
      "\t\u001b[96m\u001b[1mmov\u001b[22m\u001b[39m\t\u001b[95mqword\u001b[39m \u001b[95mptr\u001b[39m \u001b[33m[\u001b[39m\u001b[0mrsp \u001b[0m+ \u001b[33m48\u001b[39m\u001b[33m]\u001b[39m\u001b[0m, \u001b[0mrcx\n",
      "\t\u001b[96m\u001b[1mmov\u001b[22m\u001b[39m\t\u001b[95mqword\u001b[39m \u001b[95mptr\u001b[39m \u001b[33m[\u001b[39m\u001b[0mrsp \u001b[0m+ \u001b[33m56\u001b[39m\u001b[33m]\u001b[39m\u001b[0m, \u001b[0mr14\n",
      "\t\u001b[96m\u001b[1mmov\u001b[22m\u001b[39m\t\u001b[95mqword\u001b[39m \u001b[95mptr\u001b[39m \u001b[33m[\u001b[39m\u001b[0mrsp \u001b[0m+ \u001b[33m64\u001b[39m\u001b[33m]\u001b[39m\u001b[0m, \u001b[0mrax\n",
      "\t\u001b[96m\u001b[1mmovabs\u001b[22m\u001b[39m\t\u001b[0mrax\u001b[0m, \u001b[95moffset\u001b[39m \u001b[93mijl_invoke\u001b[39m\n",
      "\t\u001b[96m\u001b[1mmovabs\u001b[22m\u001b[39m\t\u001b[0mrdi\u001b[0m, \u001b[33m23455765993616\u001b[39m\n",
      "\t\u001b[96m\u001b[1mlea\u001b[22m\u001b[39m\t\u001b[0mrsi\u001b[0m, \u001b[33m[\u001b[39m\u001b[0mrsp \u001b[0m+ \u001b[33m48\u001b[39m\u001b[33m]\u001b[39m\n",
      "\t\u001b[96m\u001b[1mmovabs\u001b[22m\u001b[39m\t\u001b[0mrcx\u001b[0m, \u001b[33m23455866573520\u001b[39m\n",
      "\t\u001b[96m\u001b[1mmov\u001b[22m\u001b[39m\t\u001b[0medx\u001b[0m, \u001b[33m3\u001b[39m\n",
      "\t\u001b[96m\u001b[1mcall\u001b[22m\u001b[39m\t\u001b[0mrax\n",
      "\t\u001b[96m\u001b[1mud2\u001b[22m\u001b[39m\n",
      "\u001b[91m.Lfunc_end0:\u001b[39m\n",
      "\t\u001b[0m.size\t\u001b[0mjulia_vector_dot_turbo_2371\u001b[0m, \u001b[0m.Lfunc_end0-julia_vector_dot_turbo_2371\n",
      "\t\u001b[0m.cfi_endproc\n",
      "                                        \u001b[90m# -- End function\u001b[39m\n",
      "\t\u001b[0m.section\t\u001b[0m\".note.GNU-stack\"\u001b[0m,\u001b[0m\"\"\u001b[0m,\u001b[0m@progbits\n"
     ]
    }
   ],
   "source": [
    "@code_native debuginfo=:none syntax=:intel vector_dot_turbo(B, C)"
   ]
  },
  {
   "cell_type": "markdown",
   "metadata": {},
   "source": [
    "On systems with AVX512, `@turbo` will lead to usage of `zmmi` AVX512 512-bit registers! (**Not the case on Hawk which only has AVX2.**)"
   ]
  },
  {
   "cell_type": "markdown",
   "metadata": {},
   "source": [
    "Demo: With `@turbo`, a basic matrix-matrix multiplication implementation can be **competitive to highly optimized BLAS**! (at least for small matrices where memory effects aren't important -> dMMM exercise)."
   ]
  },
  {
   "cell_type": "code",
   "execution_count": 21,
   "metadata": {},
   "outputs": [
    {
     "name": "stdout",
     "output_type": "stream",
     "text": [
      "  203.175 μs (0 allocations: 0 bytes)\n",
      "  5.359 μs (0 allocations: 0 bytes)\n",
      "  5.188 μs (0 allocations: 0 bytes)\n"
     ]
    }
   ],
   "source": [
    "N = 64\n",
    "X = zeros(N,N);\n",
    "Y = rand(N,N);\n",
    "Z = rand(N,N);\n",
    "\n",
    "using LoopVectorization\n",
    "using BenchmarkTools\n",
    "using LinearAlgebra\n",
    "BLAS.set_num_threads(1)\n",
    "\n",
    "function mul_naive!(C, A, B)\n",
    "    for m in axes(A,1)\n",
    "        for n in axes(B,2)\n",
    "            Cmn = zero(eltype(C))\n",
    "            for k in axes(A,2)\n",
    "               @inbounds Cmn += A[m,k] * B[k,n]\n",
    "            end\n",
    "            C[m,n] = Cmn\n",
    "        end\n",
    "   end\n",
    "end\n",
    "\n",
    "function mul_turbo!(C, A, B)\n",
    "    @turbo for m in axes(A,1)\n",
    "        for n in axes(B,2)\n",
    "            Cmn = zero(eltype(C))\n",
    "            for k in axes(A,2)\n",
    "               @inbounds Cmn += A[m,k] * B[k,n]\n",
    "            end\n",
    "            C[m,n] = Cmn\n",
    "        end\n",
    "   end\n",
    "end\n",
    "\n",
    "@btime mul_naive!($X,$Y,$Z);\n",
    "@btime mul_turbo!($X,$Y,$Z);\n",
    "@btime mul!($X, $Y, $Z);"
   ]
  },
  {
   "cell_type": "markdown",
   "metadata": {},
   "source": [
    "## Structure of Array vs Array of Structure"
   ]
  },
  {
   "cell_type": "markdown",
   "metadata": {},
   "source": [
    "Data layout matters: contiguous memory access facilitates SIMD."
   ]
  },
  {
   "cell_type": "code",
   "execution_count": 22,
   "metadata": {},
   "outputs": [
    {
     "data": {
      "text/plain": [
       "1024-element Vector{ComplexF64}:\n",
       "  0.4248032407022607 + 0.2074977769334484im\n",
       "  0.2708788298095226 + 0.9636367428559456im\n",
       "  0.8568111068532775 + 0.5778339209265116im\n",
       " 0.13283542670636317 + 0.959886975842917im\n",
       " 0.20525511058671342 + 0.6080479972797184im\n",
       "   0.717257652806436 + 0.517080491269898im\n",
       "  0.4610088871394108 + 0.824704046826356im\n",
       " 0.16043317778389632 + 0.20261627620319844im\n",
       "  0.9836829513483717 + 0.6953102754119255im\n",
       "   0.449811959469115 + 0.37973849890363376im\n",
       "                     ⋮\n",
       "  0.3036630551257512 + 0.8642433576476658im\n",
       " 0.25934671847669255 + 0.9415844808026036im\n",
       "  0.6612220289259743 + 0.6843400059847646im\n",
       "  0.3130432632522835 + 0.9775200175657431im\n",
       " 0.04792672679127463 + 0.6533344607723329im\n",
       "  0.9586454099547651 + 0.1598949292562052im\n",
       "  0.3344518365842343 + 0.7036310712202178im\n",
       " 0.42458605458400334 + 0.37240208976941713im\n",
       " 0.11525810170134687 + 0.05304679358769526im"
      ]
     },
     "metadata": {},
     "output_type": "display_data"
    }
   ],
   "source": [
    "complex_numbers_aos = [rand() + im * rand() for i in 1:1024] # array of structs (Complex{Float64})"
   ]
  },
  {
   "cell_type": "code",
   "execution_count": 23,
   "metadata": {},
   "outputs": [
    {
     "data": {
      "text/plain": [
       "sum (generic function with 12 methods)"
      ]
     },
     "metadata": {},
     "output_type": "display_data"
    }
   ],
   "source": [
    "import Base: sum\n",
    "\n",
    "struct ComplexNumbers\n",
    "    x::Vector{Float64}\n",
    "    y::Vector{Float64}\n",
    "end\n",
    "\n",
    "sum(cn::ComplexNumbers) = sum(cn.x) + im * sum(cn.y)"
   ]
  },
  {
   "cell_type": "code",
   "execution_count": 24,
   "metadata": {},
   "outputs": [
    {
     "data": {
      "text/plain": [
       "ComplexNumbers([0.6193147136959426, 0.7459879183835579, 0.9603511277842748, 0.047427286945926905, 0.6816802877340027, 0.028456199096732027, 0.7473851462871121, 0.3106263507193098, 0.034836457854273695, 0.5792693903931728  …  0.9021169198744317, 0.5777553808829311, 0.7759986835771416, 0.4498238289408256, 0.1613960981227155, 0.5311090855056004, 0.8857997349055956, 0.7944041720495205, 0.1923827875557672, 0.06908958790563946], [0.05855492121455874, 0.41963758819640173, 0.3148308118600841, 0.8493810264760896, 0.05564751993888295, 0.3361616710047636, 0.42226374810303446, 0.9886969135967675, 0.3409480759816155, 0.5055877520645108  …  0.6405126858894584, 0.680571162659709, 0.3543775516162031, 0.12898806711223365, 0.2516209371278817, 0.3993378831128842, 0.7073634674200572, 0.7589819161806708, 0.43614973545519187, 0.4745827687016867])"
      ]
     },
     "metadata": {},
     "output_type": "display_data"
    }
   ],
   "source": [
    "complex_numbers_soa = ComplexNumbers(rand(1024), rand(1024)) # struct of arrays"
   ]
  },
  {
   "cell_type": "code",
   "execution_count": 25,
   "metadata": {},
   "outputs": [
    {
     "name": "stdout",
     "output_type": "stream",
     "text": [
      "  291.658 ns (0 allocations: 0 bytes)\n",
      "  182.893 ns (0 allocations: 0 bytes)\n"
     ]
    }
   ],
   "source": [
    "@btime sum($complex_numbers_aos);\n",
    "@btime sum($complex_numbers_soa);"
   ]
  },
  {
   "cell_type": "markdown",
   "metadata": {},
   "source": [
    "### [StructArrays.jl](https://github.com/JuliaArrays/StructArrays.jl)"
   ]
  },
  {
   "cell_type": "code",
   "execution_count": 26,
   "metadata": {},
   "outputs": [],
   "source": [
    "using StructArrays"
   ]
  },
  {
   "cell_type": "code",
   "execution_count": 27,
   "metadata": {},
   "outputs": [
    {
     "data": {
      "text/plain": [
       "1024-element StructArray(::Vector{Float64}, ::Vector{Float64}) with eltype Complex:\n",
       "   0.6231233162147308 + 0.5221752362078299im\n",
       "   0.8461461113889266 + 0.2726221291192137im\n",
       "    0.692530582858677 + 0.2967911706388219im\n",
       "   0.6752175221862602 + 0.3679254837931377im\n",
       "  0.13254359707246943 + 0.5151700983609677im\n",
       "   0.6752885404447888 + 0.03757319641684442im\n",
       "   0.9360958823341042 + 0.8867003711994643im\n",
       "   0.7034623459671063 + 0.0316605595622198im\n",
       "    0.830280130308197 + 0.09700492313178988im\n",
       "    0.096210990946758 + 0.55136042043357im\n",
       "                      ⋮\n",
       "   0.9600656450603273 + 0.271979993002636im\n",
       "  0.11808387776141394 + 0.38910352023717965im\n",
       "   0.6952666793546648 + 0.6383123278596894im\n",
       "   0.9539764977547674 + 0.2416287788447532im\n",
       "   0.7330043462411541 + 0.9645433842900925im\n",
       "   0.2626620399732905 + 0.403752505205907im\n",
       "   0.9124789427431633 + 0.5827481724165073im\n",
       " 0.022262533405200458 + 0.5952798614747566im\n",
       "  0.35917171971685624 + 0.27142682386186634im"
      ]
     },
     "metadata": {},
     "output_type": "display_data"
    }
   ],
   "source": [
    "SoA = StructArray{Complex}((rand(1024), rand(1024)))"
   ]
  },
  {
   "cell_type": "code",
   "execution_count": 28,
   "metadata": {},
   "outputs": [
    {
     "name": "stdout",
     "output_type": "stream",
     "text": [
      "  162.986 ns (0 allocations: 0 bytes)\n"
     ]
    }
   ],
   "source": [
    "@btime sum($SoA);"
   ]
  },
  {
   "cell_type": "markdown",
   "metadata": {},
   "source": [
    "## `@fastmath`\n",
    "\n",
    "Enables lots of floating point optimizations that are potentially *unsafe*! It trades accuracy for speed, so, [Beware of fast-math](https://simonbyrne.github.io/notes/fastmath/). (See the [LLVM Language Reference Manual](https://llvm.org/docs/LangRef.html#fast-math-flags) for more information on which compiler options it sets.)"
   ]
  },
  {
   "cell_type": "markdown",
   "metadata": {},
   "source": [
    "### SIMD\n",
    "Among other things, it **facilitates SIMD vectorization** because it:\n",
    "* Allows re-association of operands in series of floating-point operations."
   ]
  },
  {
   "cell_type": "code",
   "execution_count": 29,
   "metadata": {},
   "outputs": [
    {
     "data": {
      "text/plain": [
       "vector_dot_fastmath (generic function with 1 method)"
      ]
     },
     "metadata": {},
     "output_type": "display_data"
    }
   ],
   "source": [
    "function vector_dot_fastmath(B, C)\n",
    "    a = zero(eltype(B))\n",
    "    @fastmath for i in eachindex(B,C)\n",
    "        @inbounds a += B[i] * C[i]\n",
    "    end\n",
    "    return a\n",
    "end"
   ]
  },
  {
   "cell_type": "code",
   "execution_count": 30,
   "metadata": {},
   "outputs": [
    {
     "name": "stdout",
     "output_type": "stream",
     "text": [
      "  155.066 μs (0 allocations: 0 bytes)\n"
     ]
    },
    {
     "data": {
      "text/plain": [
       "65594.13734335195"
      ]
     },
     "metadata": {},
     "output_type": "display_data"
    }
   ],
   "source": [
    "@btime vector_dot_fastmath($B, $C)"
   ]
  },
  {
   "cell_type": "code",
   "execution_count": 31,
   "metadata": {},
   "outputs": [
    {
     "name": "stdout",
     "output_type": "stream",
     "text": [
      "\t\u001b[0m.text\n",
      "\t\u001b[0m.file\t\u001b[0m\"vector_dot_fastmath\"\n",
      "\t\u001b[0m.globl\t\u001b[0mjulia_vector_dot_fastmath_4296  \u001b[90m# -- Begin function julia_vector_dot_fastmath_4296\u001b[39m\n",
      "\t\u001b[0m.p2align\t\u001b[33m4\u001b[39m\u001b[0m, \u001b[33m0x90\u001b[39m\n",
      "\t\u001b[0m.type\t\u001b[0mjulia_vector_dot_fastmath_4296\u001b[0m,\u001b[0m@function\n",
      "\u001b[91mjulia_vector_dot_fastmath_4296:\u001b[39m         \u001b[90m# @julia_vector_dot_fastmath_4296\u001b[39m\n",
      "\t\u001b[0m.cfi_startproc\n",
      "\u001b[90m# %bb.0:                                # %top\u001b[39m\n",
      "\t\u001b[96m\u001b[1mpush\u001b[22m\u001b[39m\t\u001b[0mrbp\n",
      "\t\u001b[0m.cfi_def_cfa_offset \u001b[33m16\u001b[39m\n",
      "\t\u001b[0m.cfi_offset \u001b[0mrbp\u001b[0m, \u001b[33m-16\u001b[39m\n",
      "\t\u001b[96m\u001b[1mmov\u001b[22m\u001b[39m\t\u001b[0mrbp\u001b[0m, \u001b[0mrsp\n",
      "\t\u001b[0m.cfi_def_cfa_register \u001b[0mrbp\n",
      "\t\u001b[96m\u001b[1mpush\u001b[22m\u001b[39m\t\u001b[0mr15\n",
      "\t\u001b[96m\u001b[1mpush\u001b[22m\u001b[39m\t\u001b[0mr14\n",
      "\t\u001b[96m\u001b[1mpush\u001b[22m\u001b[39m\t\u001b[0mr13\n",
      "\t\u001b[96m\u001b[1mpush\u001b[22m\u001b[39m\t\u001b[0mr12\n",
      "\t\u001b[96m\u001b[1mpush\u001b[22m\u001b[39m\t\u001b[0mrbx\n",
      "\t\u001b[96m\u001b[1mand\u001b[22m\u001b[39m\t\u001b[0mrsp\u001b[0m, \u001b[33m-32\u001b[39m\n",
      "\t\u001b[96m\u001b[1msub\u001b[22m\u001b[39m\t\u001b[0mrsp\u001b[0m, \u001b[33m96\u001b[39m\n",
      "\t\u001b[0m.cfi_offset \u001b[0mrbx\u001b[0m, \u001b[33m-56\u001b[39m\n",
      "\t\u001b[0m.cfi_offset \u001b[0mr12\u001b[0m, \u001b[33m-48\u001b[39m\n",
      "\t\u001b[0m.cfi_offset \u001b[0mr13\u001b[0m, \u001b[33m-40\u001b[39m\n",
      "\t\u001b[0m.cfi_offset \u001b[0mr14\u001b[0m, \u001b[33m-32\u001b[39m\n",
      "\t\u001b[0m.cfi_offset \u001b[0mr15\u001b[0m, \u001b[33m-24\u001b[39m\n",
      "\t\u001b[96m\u001b[1mvxorpd\u001b[22m\u001b[39m\t\u001b[0mxmm0\u001b[0m, \u001b[0mxmm0\u001b[0m, \u001b[0mxmm0\n",
      "\t\u001b[96m\u001b[1mvmovapd\u001b[22m\u001b[39m\t\u001b[95mymmword\u001b[39m \u001b[95mptr\u001b[39m \u001b[33m[\u001b[39m\u001b[0mrsp\u001b[33m]\u001b[39m\u001b[0m, \u001b[0mymm0\n",
      "\t\u001b[0m#APP\n",
      "\t\u001b[96m\u001b[1mmov\u001b[22m\u001b[39m\t\u001b[0mrax\u001b[0m, \u001b[95mqword\u001b[39m \u001b[95mptr\u001b[39m \u001b[0mfs\u001b[0m:\u001b[33m[\u001b[39m\u001b[33m0\u001b[39m\u001b[33m]\u001b[39m\n",
      "\t\u001b[0m#NO_APP\n",
      "\t\u001b[96m\u001b[1mmov\u001b[22m\u001b[39m\t\u001b[0mr15\u001b[0m, \u001b[95mqword\u001b[39m \u001b[95mptr\u001b[39m \u001b[33m[\u001b[39m\u001b[0mrax \u001b[0m- \u001b[33m8\u001b[39m\u001b[33m]\u001b[39m\n",
      "\t\u001b[96m\u001b[1mmov\u001b[22m\u001b[39m\t\u001b[95mqword\u001b[39m \u001b[95mptr\u001b[39m \u001b[33m[\u001b[39m\u001b[0mrsp\u001b[33m]\u001b[39m\u001b[0m, \u001b[33m8\u001b[39m\n",
      "\t\u001b[96m\u001b[1mmov\u001b[22m\u001b[39m\t\u001b[0mrax\u001b[0m, \u001b[95mqword\u001b[39m \u001b[95mptr\u001b[39m \u001b[33m[\u001b[39m\u001b[0mr15\u001b[33m]\u001b[39m\n",
      "\t\u001b[96m\u001b[1mmov\u001b[22m\u001b[39m\t\u001b[95mqword\u001b[39m \u001b[95mptr\u001b[39m \u001b[33m[\u001b[39m\u001b[0mrsp \u001b[0m+ \u001b[33m8\u001b[39m\u001b[33m]\u001b[39m\u001b[0m, \u001b[0mrax\n",
      "\t\u001b[96m\u001b[1mmov\u001b[22m\u001b[39m\t\u001b[0mrax\u001b[0m, \u001b[0mrsp\n",
      "\t\u001b[96m\u001b[1mmov\u001b[22m\u001b[39m\t\u001b[95mqword\u001b[39m \u001b[95mptr\u001b[39m \u001b[33m[\u001b[39m\u001b[0mr15\u001b[33m]\u001b[39m\u001b[0m, \u001b[0mrax\n",
      "\t\u001b[96m\u001b[1mmov\u001b[22m\u001b[39m\t\u001b[0mrbx\u001b[0m, \u001b[95mqword\u001b[39m \u001b[95mptr\u001b[39m \u001b[33m[\u001b[39m\u001b[0mrdi \u001b[0m+ \u001b[33m8\u001b[39m\u001b[33m]\u001b[39m\n",
      "\t\u001b[96m\u001b[1mmov\u001b[22m\u001b[39m\t\u001b[0mr12\u001b[0m, \u001b[95mqword\u001b[39m \u001b[95mptr\u001b[39m \u001b[33m[\u001b[39m\u001b[0mrsi \u001b[0m+ \u001b[33m8\u001b[39m\u001b[33m]\u001b[39m\n",
      "\t\u001b[96m\u001b[1mcmp\u001b[22m\u001b[39m\t\u001b[0mrbx\u001b[0m, \u001b[0mr12\n",
      "\t\u001b[96m\u001b[1mjne\u001b[22m\u001b[39m\t\u001b[0m.LBB0_11\n",
      "\u001b[90m# %bb.1:                                # %L22\u001b[39m\n",
      "\t\u001b[96m\u001b[1mtest\u001b[22m\u001b[39m\t\u001b[0mrbx\u001b[0m, \u001b[0mrbx\n",
      "\t\u001b[96m\u001b[1mje\u001b[22m\u001b[39m\t\u001b[0m.LBB0_2\n",
      "\u001b[90m# %bb.3:                                # %L31.preheader\u001b[39m\n",
      "\t\u001b[96m\u001b[1mmov\u001b[22m\u001b[39m\t\u001b[0mrax\u001b[0m, \u001b[95mqword\u001b[39m \u001b[95mptr\u001b[39m \u001b[33m[\u001b[39m\u001b[0mrdi\u001b[33m]\u001b[39m\n",
      "\t\u001b[96m\u001b[1mmov\u001b[22m\u001b[39m\t\u001b[0mrcx\u001b[0m, \u001b[95mqword\u001b[39m \u001b[95mptr\u001b[39m \u001b[33m[\u001b[39m\u001b[0mrsi\u001b[33m]\u001b[39m\n",
      "\t\u001b[96m\u001b[1mcmp\u001b[22m\u001b[39m\t\u001b[0mrbx\u001b[0m, \u001b[33m16\u001b[39m\n",
      "\t\u001b[96m\u001b[1mjae\u001b[22m\u001b[39m\t\u001b[0m.LBB0_5\n",
      "\u001b[90m# %bb.4:\u001b[39m\n",
      "\t\u001b[96m\u001b[1mvxorpd\u001b[22m\u001b[39m\t\u001b[0mxmm0\u001b[0m, \u001b[0mxmm0\u001b[0m, \u001b[0mxmm0\n",
      "\t\u001b[96m\u001b[1mmov\u001b[22m\u001b[39m\t\u001b[0medx\u001b[0m, \u001b[33m1\u001b[39m\n",
      "\t\u001b[96m\u001b[1mjmp\u001b[22m\u001b[39m\t\u001b[0m.LBB0_8\n",
      "\u001b[91m.LBB0_2:\u001b[39m\n",
      "\t\u001b[96m\u001b[1mvxorpd\u001b[22m\u001b[39m\t\u001b[0mxmm0\u001b[0m, \u001b[0mxmm0\u001b[0m, \u001b[0mxmm0\n",
      "\t\u001b[96m\u001b[1mjmp\u001b[22m\u001b[39m\t\u001b[0m.LBB0_10\n",
      "\u001b[91m.LBB0_5:\u001b[39m                                \u001b[90m# %vector.ph\u001b[39m\n",
      "\t\u001b[96m\u001b[1mmov\u001b[22m\u001b[39m\t\u001b[0mrsi\u001b[0m, \u001b[0mrbx\n",
      "\t\u001b[96m\u001b[1mand\u001b[22m\u001b[39m\t\u001b[0mrsi\u001b[0m, \u001b[33m-16\u001b[39m\n",
      "\t\u001b[96m\u001b[1mlea\u001b[22m\u001b[39m\t\u001b[0mrdx\u001b[0m, \u001b[33m[\u001b[39m\u001b[0mrsi \u001b[0m+ \u001b[33m1\u001b[39m\u001b[33m]\u001b[39m\n",
      "\t\u001b[96m\u001b[1mvxorpd\u001b[22m\u001b[39m\t\u001b[0mxmm0\u001b[0m, \u001b[0mxmm0\u001b[0m, \u001b[0mxmm0\n",
      "\t\u001b[96m\u001b[1mxor\u001b[22m\u001b[39m\t\u001b[0medi\u001b[0m, \u001b[0medi\n",
      "\t\u001b[96m\u001b[1mvxorpd\u001b[22m\u001b[39m\t\u001b[0mxmm1\u001b[0m, \u001b[0mxmm1\u001b[0m, \u001b[0mxmm1\n",
      "\t\u001b[96m\u001b[1mvxorpd\u001b[22m\u001b[39m\t\u001b[0mxmm2\u001b[0m, \u001b[0mxmm2\u001b[0m, \u001b[0mxmm2\n",
      "\t\u001b[96m\u001b[1mvxorpd\u001b[22m\u001b[39m\t\u001b[0mxmm3\u001b[0m, \u001b[0mxmm3\u001b[0m, \u001b[0mxmm3\n",
      "\t\u001b[0m.p2align\t\u001b[33m4\u001b[39m\u001b[0m, \u001b[33m0x90\u001b[39m\n",
      "\u001b[91m.LBB0_6:\u001b[39m                                \u001b[90m# %vector.body\u001b[39m\n",
      "                                        \u001b[90m# =>This Inner Loop Header: Depth=1\u001b[39m\n",
      "\t\u001b[96m\u001b[1mvmovupd\u001b[22m\u001b[39m\t\u001b[0mymm4\u001b[0m, \u001b[95mymmword\u001b[39m \u001b[95mptr\u001b[39m \u001b[33m[\u001b[39m\u001b[0mrcx \u001b[0m+ \u001b[33m8\u001b[39m\u001b[0m*\u001b[0mrdi\u001b[33m]\u001b[39m\n",
      "\t\u001b[96m\u001b[1mvmovupd\u001b[22m\u001b[39m\t\u001b[0mymm5\u001b[0m, \u001b[95mymmword\u001b[39m \u001b[95mptr\u001b[39m \u001b[33m[\u001b[39m\u001b[0mrcx \u001b[0m+ \u001b[33m8\u001b[39m\u001b[0m*\u001b[0mrdi \u001b[0m+ \u001b[33m32\u001b[39m\u001b[33m]\u001b[39m\n",
      "\t\u001b[96m\u001b[1mvmovupd\u001b[22m\u001b[39m\t\u001b[0mymm6\u001b[0m, \u001b[95mymmword\u001b[39m \u001b[95mptr\u001b[39m \u001b[33m[\u001b[39m\u001b[0mrcx \u001b[0m+ \u001b[33m8\u001b[39m\u001b[0m*\u001b[0mrdi \u001b[0m+ \u001b[33m64\u001b[39m\u001b[33m]\u001b[39m\n",
      "\t\u001b[96m\u001b[1mvmovupd\u001b[22m\u001b[39m\t\u001b[0mymm7\u001b[0m, \u001b[95mymmword\u001b[39m \u001b[95mptr\u001b[39m \u001b[33m[\u001b[39m\u001b[0mrcx \u001b[0m+ \u001b[33m8\u001b[39m\u001b[0m*\u001b[0mrdi \u001b[0m+ \u001b[33m96\u001b[39m\u001b[33m]\u001b[39m\n",
      "\t\u001b[96m\u001b[1mvfmadd231pd\u001b[22m\u001b[39m\t\u001b[0mymm0\u001b[0m, \u001b[0mymm4\u001b[0m, \u001b[95mymmword\u001b[39m \u001b[95mptr\u001b[39m \u001b[33m[\u001b[39m\u001b[0mrax \u001b[0m+ \u001b[33m8\u001b[39m\u001b[0m*\u001b[0mrdi\u001b[33m]\u001b[39m \u001b[90m# ymm0 = (ymm4 * mem) + ymm0\u001b[39m\n",
      "\t\u001b[96m\u001b[1mvfmadd231pd\u001b[22m\u001b[39m\t\u001b[0mymm1\u001b[0m, \u001b[0mymm5\u001b[0m, \u001b[95mymmword\u001b[39m \u001b[95mptr\u001b[39m \u001b[33m[\u001b[39m\u001b[0mrax \u001b[0m+ \u001b[33m8\u001b[39m\u001b[0m*\u001b[0mrdi \u001b[0m+ \u001b[33m32\u001b[39m\u001b[33m]\u001b[39m \u001b[90m# ymm1 = (ymm5 * mem) + ymm1\u001b[39m\n",
      "\t\u001b[96m\u001b[1mvfmadd231pd\u001b[22m\u001b[39m\t\u001b[0mymm2\u001b[0m, \u001b[0mymm6\u001b[0m, \u001b[95mymmword\u001b[39m \u001b[95mptr\u001b[39m \u001b[33m[\u001b[39m\u001b[0mrax \u001b[0m+ \u001b[33m8\u001b[39m\u001b[0m*\u001b[0mrdi \u001b[0m+ \u001b[33m64\u001b[39m\u001b[33m]\u001b[39m \u001b[90m# ymm2 = (ymm6 * mem) + ymm2\u001b[39m\n",
      "\t\u001b[96m\u001b[1mvfmadd231pd\u001b[22m\u001b[39m\t\u001b[0mymm3\u001b[0m, \u001b[0mymm7\u001b[0m, \u001b[95mymmword\u001b[39m \u001b[95mptr\u001b[39m \u001b[33m[\u001b[39m\u001b[0mrax \u001b[0m+ \u001b[33m8\u001b[39m\u001b[0m*\u001b[0mrdi \u001b[0m+ \u001b[33m96\u001b[39m\u001b[33m]\u001b[39m \u001b[90m# ymm3 = (ymm7 * mem) + ymm3\u001b[39m\n",
      "\t\u001b[96m\u001b[1madd\u001b[22m\u001b[39m\t\u001b[0mrdi\u001b[0m, \u001b[33m16\u001b[39m\n",
      "\t\u001b[96m\u001b[1mcmp\u001b[22m\u001b[39m\t\u001b[0mrsi\u001b[0m, \u001b[0mrdi\n",
      "\t\u001b[96m\u001b[1mjne\u001b[22m\u001b[39m\t\u001b[0m.LBB0_6\n",
      "\u001b[90m# %bb.7:                                # %middle.block\u001b[39m\n",
      "\t\u001b[96m\u001b[1mvaddpd\u001b[22m\u001b[39m\t\u001b[0mymm0\u001b[0m, \u001b[0mymm1\u001b[0m, \u001b[0mymm0\n",
      "\t\u001b[96m\u001b[1mvaddpd\u001b[22m\u001b[39m\t\u001b[0mymm0\u001b[0m, \u001b[0mymm2\u001b[0m, \u001b[0mymm0\n",
      "\t\u001b[96m\u001b[1mvaddpd\u001b[22m\u001b[39m\t\u001b[0mymm0\u001b[0m, \u001b[0mymm3\u001b[0m, \u001b[0mymm0\n",
      "\t\u001b[96m\u001b[1mvextractf128\u001b[22m\u001b[39m\t\u001b[0mxmm1\u001b[0m, \u001b[0mymm0\u001b[0m, \u001b[33m1\u001b[39m\n",
      "\t\u001b[96m\u001b[1mvaddpd\u001b[22m\u001b[39m\t\u001b[0mxmm0\u001b[0m, \u001b[0mxmm0\u001b[0m, \u001b[0mxmm1\n",
      "\t\u001b[96m\u001b[1mvpermilpd\u001b[22m\u001b[39m\t\u001b[0mxmm1\u001b[0m, \u001b[0mxmm0\u001b[0m, \u001b[33m1\u001b[39m           \u001b[90m# xmm1 = xmm0[1,0]\u001b[39m\n",
      "\t\u001b[96m\u001b[1mvaddsd\u001b[22m\u001b[39m\t\u001b[0mxmm0\u001b[0m, \u001b[0mxmm0\u001b[0m, \u001b[0mxmm1\n",
      "\t\u001b[96m\u001b[1mcmp\u001b[22m\u001b[39m\t\u001b[0mrbx\u001b[0m, \u001b[0mrsi\n",
      "\t\u001b[96m\u001b[1mje\u001b[22m\u001b[39m\t\u001b[0m.LBB0_10\n",
      "\u001b[91m.LBB0_8:\u001b[39m                                \u001b[90m# %scalar.ph\u001b[39m\n",
      "\t\u001b[96m\u001b[1mdec\u001b[22m\u001b[39m\t\u001b[0mrdx\n",
      "\t\u001b[0m.p2align\t\u001b[33m4\u001b[39m\u001b[0m, \u001b[33m0x90\u001b[39m\n",
      "\u001b[91m.LBB0_9:\u001b[39m                                \u001b[90m# %L31\u001b[39m\n",
      "                                        \u001b[90m# =>This Inner Loop Header: Depth=1\u001b[39m\n",
      "\t\u001b[96m\u001b[1mvmovsd\u001b[22m\u001b[39m\t\u001b[0mxmm1\u001b[0m, \u001b[95mqword\u001b[39m \u001b[95mptr\u001b[39m \u001b[33m[\u001b[39m\u001b[0mrcx \u001b[0m+ \u001b[33m8\u001b[39m\u001b[0m*\u001b[0mrdx\u001b[33m]\u001b[39m   \u001b[90m# xmm1 = mem[0],zero\u001b[39m\n",
      "\t\u001b[96m\u001b[1mvfmadd231sd\u001b[22m\u001b[39m\t\u001b[0mxmm0\u001b[0m, \u001b[0mxmm1\u001b[0m, \u001b[95mqword\u001b[39m \u001b[95mptr\u001b[39m \u001b[33m[\u001b[39m\u001b[0mrax \u001b[0m+ \u001b[33m8\u001b[39m\u001b[0m*\u001b[0mrdx\u001b[33m]\u001b[39m \u001b[90m# xmm0 = (xmm1 * mem) + xmm0\u001b[39m\n",
      "\t\u001b[96m\u001b[1minc\u001b[22m\u001b[39m\t\u001b[0mrdx\n",
      "\t\u001b[96m\u001b[1mcmp\u001b[22m\u001b[39m\t\u001b[0mrbx\u001b[0m, \u001b[0mrdx\n",
      "\t\u001b[96m\u001b[1mjne\u001b[22m\u001b[39m\t\u001b[0m.LBB0_9\n",
      "\u001b[91m.LBB0_10:\u001b[39m                               \u001b[90m# %L49\u001b[39m\n",
      "\t\u001b[96m\u001b[1mmov\u001b[22m\u001b[39m\t\u001b[0mrax\u001b[0m, \u001b[95mqword\u001b[39m \u001b[95mptr\u001b[39m \u001b[33m[\u001b[39m\u001b[0mrsp \u001b[0m+ \u001b[33m8\u001b[39m\u001b[33m]\u001b[39m\n",
      "\t\u001b[96m\u001b[1mmov\u001b[22m\u001b[39m\t\u001b[95mqword\u001b[39m \u001b[95mptr\u001b[39m \u001b[33m[\u001b[39m\u001b[0mr15\u001b[33m]\u001b[39m\u001b[0m, \u001b[0mrax\n",
      "\t\u001b[96m\u001b[1mlea\u001b[22m\u001b[39m\t\u001b[0mrsp\u001b[0m, \u001b[33m[\u001b[39m\u001b[0mrbp \u001b[0m- \u001b[33m40\u001b[39m\u001b[33m]\u001b[39m\n",
      "\t\u001b[96m\u001b[1mpop\u001b[22m\u001b[39m\t\u001b[0mrbx\n",
      "\t\u001b[96m\u001b[1mpop\u001b[22m\u001b[39m\t\u001b[0mr12\n",
      "\t\u001b[96m\u001b[1mpop\u001b[22m\u001b[39m\t\u001b[0mr13\n",
      "\t\u001b[96m\u001b[1mpop\u001b[22m\u001b[39m\t\u001b[0mr14\n",
      "\t\u001b[96m\u001b[1mpop\u001b[22m\u001b[39m\t\u001b[0mr15\n",
      "\t\u001b[96m\u001b[1mpop\u001b[22m\u001b[39m\t\u001b[0mrbp\n",
      "\t\u001b[0m.cfi_def_cfa \u001b[0mrsp\u001b[0m, \u001b[33m8\u001b[39m\n",
      "\t\u001b[96m\u001b[1mvzeroupper\u001b[22m\u001b[39m\n",
      "\t\u001b[96m\u001b[1mret\u001b[22m\u001b[39m\n",
      "\u001b[91m.LBB0_11:\u001b[39m                               \u001b[90m# %L11\u001b[39m\n",
      "\t\u001b[0m.cfi_def_cfa \u001b[0mrbp\u001b[0m, \u001b[33m16\u001b[39m\n",
      "\t\u001b[96m\u001b[1mmov\u001b[22m\u001b[39m\t\u001b[0mrdi\u001b[0m, \u001b[95mqword\u001b[39m \u001b[95mptr\u001b[39m \u001b[33m[\u001b[39m\u001b[0mr15 \u001b[0m+ \u001b[33m16\u001b[39m\u001b[33m]\u001b[39m\n",
      "\t\u001b[96m\u001b[1mmovabs\u001b[22m\u001b[39m\t\u001b[0mr14\u001b[0m, \u001b[95moffset\u001b[39m \u001b[93mijl_gc_pool_alloc\u001b[39m\n",
      "\t\u001b[96m\u001b[1mmov\u001b[22m\u001b[39m\t\u001b[0mesi\u001b[0m, \u001b[33m1392\u001b[39m\n",
      "\t\u001b[96m\u001b[1mmov\u001b[22m\u001b[39m\t\u001b[0medx\u001b[0m, \u001b[33m16\u001b[39m\n",
      "\t\u001b[96m\u001b[1mvzeroupper\u001b[22m\u001b[39m\n",
      "\t\u001b[96m\u001b[1mcall\u001b[22m\u001b[39m\t\u001b[0mr14\n",
      "\t\u001b[96m\u001b[1mmov\u001b[22m\u001b[39m\t\u001b[0mrcx\u001b[0m, \u001b[0mr14\n",
      "\t\u001b[96m\u001b[1mmov\u001b[22m\u001b[39m\t\u001b[0mr14\u001b[0m, \u001b[0mrax\n",
      "\t\u001b[96m\u001b[1mmovabs\u001b[22m\u001b[39m\t\u001b[0mr13\u001b[0m, \u001b[33m23455743214368\u001b[39m\n",
      "\t\u001b[96m\u001b[1mmov\u001b[22m\u001b[39m\t\u001b[95mqword\u001b[39m \u001b[95mptr\u001b[39m \u001b[33m[\u001b[39m\u001b[0mrax \u001b[0m- \u001b[33m8\u001b[39m\u001b[33m]\u001b[39m\u001b[0m, \u001b[0mr13\n",
      "\t\u001b[96m\u001b[1mmov\u001b[22m\u001b[39m\t\u001b[95mqword\u001b[39m \u001b[95mptr\u001b[39m \u001b[33m[\u001b[39m\u001b[0mrax\u001b[33m]\u001b[39m\u001b[0m, \u001b[0mrbx\n",
      "\t\u001b[96m\u001b[1mmov\u001b[22m\u001b[39m\t\u001b[95mqword\u001b[39m \u001b[95mptr\u001b[39m \u001b[33m[\u001b[39m\u001b[0mrsp \u001b[0m+ \u001b[33m24\u001b[39m\u001b[33m]\u001b[39m\u001b[0m, \u001b[0mrax\n",
      "\t\u001b[96m\u001b[1mmov\u001b[22m\u001b[39m\t\u001b[0mrdi\u001b[0m, \u001b[95mqword\u001b[39m \u001b[95mptr\u001b[39m \u001b[33m[\u001b[39m\u001b[0mr15 \u001b[0m+ \u001b[33m16\u001b[39m\u001b[33m]\u001b[39m\n",
      "\t\u001b[96m\u001b[1mmov\u001b[22m\u001b[39m\t\u001b[0mesi\u001b[0m, \u001b[33m1392\u001b[39m\n",
      "\t\u001b[96m\u001b[1mmov\u001b[22m\u001b[39m\t\u001b[0medx\u001b[0m, \u001b[33m16\u001b[39m\n",
      "\t\u001b[96m\u001b[1mcall\u001b[22m\u001b[39m\t\u001b[0mrcx\n",
      "\t\u001b[96m\u001b[1mmov\u001b[22m\u001b[39m\t\u001b[95mqword\u001b[39m \u001b[95mptr\u001b[39m \u001b[33m[\u001b[39m\u001b[0mrax \u001b[0m- \u001b[33m8\u001b[39m\u001b[33m]\u001b[39m\u001b[0m, \u001b[0mr13\n",
      "\t\u001b[96m\u001b[1mmov\u001b[22m\u001b[39m\t\u001b[95mqword\u001b[39m \u001b[95mptr\u001b[39m \u001b[33m[\u001b[39m\u001b[0mrax\u001b[33m]\u001b[39m\u001b[0m, \u001b[0mr12\n",
      "\t\u001b[96m\u001b[1mmov\u001b[22m\u001b[39m\t\u001b[95mqword\u001b[39m \u001b[95mptr\u001b[39m \u001b[33m[\u001b[39m\u001b[0mrsp \u001b[0m+ \u001b[33m16\u001b[39m\u001b[33m]\u001b[39m\u001b[0m, \u001b[0mrax\n",
      "\t\u001b[96m\u001b[1mmovabs\u001b[22m\u001b[39m\t\u001b[0mrcx\u001b[0m, \u001b[33m23455749656336\u001b[39m\n",
      "\t\u001b[96m\u001b[1mmov\u001b[22m\u001b[39m\t\u001b[95mqword\u001b[39m \u001b[95mptr\u001b[39m \u001b[33m[\u001b[39m\u001b[0mrsp \u001b[0m+ \u001b[33m48\u001b[39m\u001b[33m]\u001b[39m\u001b[0m, \u001b[0mrcx\n",
      "\t\u001b[96m\u001b[1mmov\u001b[22m\u001b[39m\t\u001b[95mqword\u001b[39m \u001b[95mptr\u001b[39m \u001b[33m[\u001b[39m\u001b[0mrsp \u001b[0m+ \u001b[33m56\u001b[39m\u001b[33m]\u001b[39m\u001b[0m, \u001b[0mr14\n",
      "\t\u001b[96m\u001b[1mmov\u001b[22m\u001b[39m\t\u001b[95mqword\u001b[39m \u001b[95mptr\u001b[39m \u001b[33m[\u001b[39m\u001b[0mrsp \u001b[0m+ \u001b[33m64\u001b[39m\u001b[33m]\u001b[39m\u001b[0m, \u001b[0mrax\n",
      "\t\u001b[96m\u001b[1mmovabs\u001b[22m\u001b[39m\t\u001b[0mrax\u001b[0m, \u001b[95moffset\u001b[39m \u001b[93mijl_invoke\u001b[39m\n",
      "\t\u001b[96m\u001b[1mmovabs\u001b[22m\u001b[39m\t\u001b[0mrdi\u001b[0m, \u001b[33m23455765993616\u001b[39m\n",
      "\t\u001b[96m\u001b[1mlea\u001b[22m\u001b[39m\t\u001b[0mrsi\u001b[0m, \u001b[33m[\u001b[39m\u001b[0mrsp \u001b[0m+ \u001b[33m48\u001b[39m\u001b[33m]\u001b[39m\n",
      "\t\u001b[96m\u001b[1mmovabs\u001b[22m\u001b[39m\t\u001b[0mrcx\u001b[0m, \u001b[33m23455866573520\u001b[39m\n",
      "\t\u001b[96m\u001b[1mmov\u001b[22m\u001b[39m\t\u001b[0medx\u001b[0m, \u001b[33m3\u001b[39m\n",
      "\t\u001b[96m\u001b[1mcall\u001b[22m\u001b[39m\t\u001b[0mrax\n",
      "\t\u001b[96m\u001b[1mud2\u001b[22m\u001b[39m\n",
      "\u001b[91m.Lfunc_end0:\u001b[39m\n",
      "\t\u001b[0m.size\t\u001b[0mjulia_vector_dot_fastmath_4296\u001b[0m, \u001b[0m.Lfunc_end0-julia_vector_dot_fastmath_4296\n",
      "\t\u001b[0m.cfi_endproc\n",
      "                                        \u001b[90m# -- End function\u001b[39m\n",
      "\t\u001b[0m.section\t\u001b[0m\".note.GNU-stack\"\u001b[0m,\u001b[0m\"\"\u001b[0m,\u001b[0m@progbits\n"
     ]
    }
   ],
   "source": [
    "@code_native debuginfo=:none syntax=:intel vector_dot_fastmath(B,C)"
   ]
  },
  {
   "cell_type": "markdown",
   "metadata": {},
   "source": [
    "### FMA - Fused Multiply Add"
   ]
  },
  {
   "cell_type": "code",
   "execution_count": 32,
   "metadata": {},
   "outputs": [
    {
     "data": {
      "text/plain": [
       "f (generic function with 1 method)"
      ]
     },
     "metadata": {},
     "output_type": "display_data"
    }
   ],
   "source": [
    "f(a,b,c) = a*b+c"
   ]
  },
  {
   "cell_type": "code",
   "execution_count": 33,
   "metadata": {},
   "outputs": [
    {
     "name": "stdout",
     "output_type": "stream",
     "text": [
      "\t\u001b[0m.text\n",
      "\t\u001b[0m.file\t\u001b[0m\"f\"\n",
      "\t\u001b[0m.globl\t\u001b[0mjulia_f_4329                    \u001b[90m# -- Begin function julia_f_4329\u001b[39m\n",
      "\t\u001b[0m.p2align\t\u001b[33m4\u001b[39m\u001b[0m, \u001b[33m0x90\u001b[39m\n",
      "\t\u001b[0m.type\t\u001b[0mjulia_f_4329\u001b[0m,\u001b[0m@function\n",
      "\u001b[91mjulia_f_4329:\u001b[39m                           \u001b[90m# @julia_f_4329\u001b[39m\n",
      "\t\u001b[0m.cfi_startproc\n",
      "\u001b[90m# %bb.0:                                # %top\u001b[39m\n",
      "\t\u001b[96m\u001b[1mpushq\u001b[22m\u001b[39m\t\u001b[0m%rbp\n",
      "\t\u001b[0m.cfi_def_cfa_offset \u001b[33m16\u001b[39m\n",
      "\t\u001b[0m.cfi_offset \u001b[0m%rbp\u001b[0m, \u001b[33m-16\u001b[39m\n",
      "\t\u001b[96m\u001b[1mmovq\u001b[22m\u001b[39m\t\u001b[0m%rsp\u001b[0m, \u001b[0m%rbp\n",
      "\t\u001b[0m.cfi_def_cfa_register \u001b[0m%rbp\n",
      "\t\u001b[96m\u001b[1mvmulsd\u001b[22m\u001b[39m\t\u001b[0m%xmm1\u001b[0m, \u001b[0m%xmm0\u001b[0m, \u001b[0m%xmm0\n",
      "\t\u001b[96m\u001b[1mvaddsd\u001b[22m\u001b[39m\t\u001b[0m%xmm2\u001b[0m, \u001b[0m%xmm0\u001b[0m, \u001b[0m%xmm0\n",
      "\t\u001b[96m\u001b[1mpopq\u001b[22m\u001b[39m\t\u001b[0m%rbp\n",
      "\t\u001b[0m.cfi_def_cfa \u001b[0m%rsp\u001b[0m, \u001b[33m8\u001b[39m\n",
      "\t\u001b[96m\u001b[1mretq\u001b[22m\u001b[39m\n",
      "\u001b[91m.Lfunc_end0:\u001b[39m\n",
      "\t\u001b[0m.size\t\u001b[0mjulia_f_4329\u001b[0m, \u001b[0m.Lfunc_end0-julia_f_4329\n",
      "\t\u001b[0m.cfi_endproc\n",
      "                                        \u001b[90m# -- End function\u001b[39m\n",
      "\t\u001b[0m.section\t\u001b[0m\".note.GNU-stack\"\u001b[0m,\u001b[0m\"\"\u001b[0m,\u001b[0m@progbits\n"
     ]
    }
   ],
   "source": [
    "@code_native debuginfo=:none f(1.0,2.0,3.0)"
   ]
  },
  {
   "cell_type": "code",
   "execution_count": 34,
   "metadata": {},
   "outputs": [
    {
     "data": {
      "text/plain": [
       "f_fastmath (generic function with 1 method)"
      ]
     },
     "metadata": {},
     "output_type": "display_data"
    }
   ],
   "source": [
    "f_fastmath(a,b,c) = @fastmath a*b+c"
   ]
  },
  {
   "cell_type": "code",
   "execution_count": 35,
   "metadata": {},
   "outputs": [
    {
     "name": "stdout",
     "output_type": "stream",
     "text": [
      "\t\u001b[0m.text\n",
      "\t\u001b[0m.file\t\u001b[0m\"f_fastmath\"\n",
      "\t\u001b[0m.globl\t\u001b[0mjulia_f_fastmath_4356           \u001b[90m# -- Begin function julia_f_fastmath_4356\u001b[39m\n",
      "\t\u001b[0m.p2align\t\u001b[33m4\u001b[39m\u001b[0m, \u001b[33m0x90\u001b[39m\n",
      "\t\u001b[0m.type\t\u001b[0mjulia_f_fastmath_4356\u001b[0m,\u001b[0m@function\n",
      "\u001b[91mjulia_f_fastmath_4356:\u001b[39m                  \u001b[90m# @julia_f_fastmath_4356\u001b[39m\n",
      "\t\u001b[0m.cfi_startproc\n",
      "\u001b[90m# %bb.0:                                # %top\u001b[39m\n",
      "\t\u001b[96m\u001b[1mpushq\u001b[22m\u001b[39m\t\u001b[0m%rbp\n",
      "\t\u001b[0m.cfi_def_cfa_offset \u001b[33m16\u001b[39m\n",
      "\t\u001b[0m.cfi_offset \u001b[0m%rbp\u001b[0m, \u001b[33m-16\u001b[39m\n",
      "\t\u001b[96m\u001b[1mmovq\u001b[22m\u001b[39m\t\u001b[0m%rsp\u001b[0m, \u001b[0m%rbp\n",
      "\t\u001b[0m.cfi_def_cfa_register \u001b[0m%rbp\n",
      "\t\u001b[96m\u001b[1mvfmadd213sd\u001b[22m\u001b[39m\t\u001b[0m%xmm2\u001b[0m, \u001b[0m%xmm1\u001b[0m, \u001b[0m%xmm0     \u001b[90m# xmm0 = (xmm1 * xmm0) + xmm2\u001b[39m\n",
      "\t\u001b[96m\u001b[1mpopq\u001b[22m\u001b[39m\t\u001b[0m%rbp\n",
      "\t\u001b[0m.cfi_def_cfa \u001b[0m%rsp\u001b[0m, \u001b[33m8\u001b[39m\n",
      "\t\u001b[96m\u001b[1mretq\u001b[22m\u001b[39m\n",
      "\u001b[91m.Lfunc_end0:\u001b[39m\n",
      "\t\u001b[0m.size\t\u001b[0mjulia_f_fastmath_4356\u001b[0m, \u001b[0m.Lfunc_end0-julia_f_fastmath_4356\n",
      "\t\u001b[0m.cfi_endproc\n",
      "                                        \u001b[90m# -- End function\u001b[39m\n",
      "\t\u001b[0m.section\t\u001b[0m\".note.GNU-stack\"\u001b[0m,\u001b[0m\"\"\u001b[0m,\u001b[0m@progbits\n"
     ]
    }
   ],
   "source": [
    "@code_native debuginfo=:none f_fastmath(1.0,2.0,3.0)"
   ]
  },
  {
   "cell_type": "markdown",
   "metadata": {},
   "source": [
    "(In this specific case, the explicit `fma` function or [MuladdMacro.jl](https://github.com/SciML/MuladdMacro.jl) are *safer* alternatives.)"
   ]
  },
  {
   "cell_type": "markdown",
   "metadata": {},
   "source": [
    "<img src=\"./imgs/skylake_microarchitecture.png\" width=700px>\n",
    "\n",
    "**Source:** [Intel® 64 and IA-32 Architectures Optimization Reference Manual](https://software.intel.com/sites/default/files/managed/9e/bc/64-ia-32-architectures-optimization-manual.pdf)"
   ]
  },
  {
   "cell_type": "markdown",
   "metadata": {},
   "source": [
    "#### Sidenote: Why doesn't Julia use FMA automatically?"
   ]
  },
  {
   "cell_type": "markdown",
   "metadata": {},
   "source": [
    "Answer: because it can break math in weird ways."
   ]
  },
  {
   "cell_type": "code",
   "execution_count": 9,
   "metadata": {},
   "outputs": [],
   "source": [
    "function f(a,b,c)\n",
    "    @assert a*b ≥ c\n",
    "    return sqrt(a*b-c)\n",
    "end\n",
    "\n",
    "function f_fma(a,b,c)\n",
    "    @assert a*b ≥ c\n",
    "    return sqrt(fma(a,b,-c))\n",
    "end\n",
    "\n",
    "a = 1.0 + 0.5^27;\n",
    "b = 1.0 - 0.5^27;\n",
    "c = 1.0;"
   ]
  },
  {
   "cell_type": "code",
   "execution_count": 10,
   "metadata": {},
   "outputs": [
    {
     "data": {
      "text/plain": [
       "0.0"
      ]
     },
     "execution_count": 10,
     "metadata": {},
     "output_type": "execute_result"
    }
   ],
   "source": [
    "f(a,b,c)"
   ]
  },
  {
   "cell_type": "code",
   "execution_count": 11,
   "metadata": {},
   "outputs": [
    {
     "ename": "LoadError",
     "evalue": "DomainError with -5.551115123125783e-17:\nsqrt will only return a complex result if called with a complex argument. Try sqrt(Complex(x)).",
     "output_type": "error",
     "traceback": [
      "DomainError with -5.551115123125783e-17:\nsqrt will only return a complex result if called with a complex argument. Try sqrt(Complex(x)).",
      "",
      "Stacktrace:",
      " [1] throw_complex_domainerror(f::Symbol, x::Float64)",
      "   @ Base.Math ./math.jl:33",
      " [2] sqrt",
      "   @ ./math.jl:677 [inlined]",
      " [3] f_fma(a::Float64, b::Float64, c::Float64)",
      "   @ Main ./In[9]:8",
      " [4] top-level scope",
      "   @ In[11]:1"
     ]
    }
   ],
   "source": [
    "f_fma(a,b,c)"
   ]
  },
  {
   "cell_type": "code",
   "execution_count": null,
   "metadata": {},
   "outputs": [],
   "source": []
  }
 ],
 "metadata": {
  "kernelspec": {
   "display_name": "Julia 1.9.3",
   "language": "julia",
   "name": "julia-1.9"
  },
  "language_info": {
   "file_extension": ".jl",
   "mimetype": "application/julia",
   "name": "julia",
   "version": "1.9.3"
  }
 },
 "nbformat": 4,
 "nbformat_minor": 4
}
