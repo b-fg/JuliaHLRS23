{
 "cells": [
  {
   "cell_type": "markdown",
   "metadata": {},
   "source": [
    "# Optimizing \"Serial\" Performance"
   ]
  },
  {
   "cell_type": "markdown",
   "metadata": {},
   "source": [
    "At the heart of fast parallel code must be fast serial code. Parallelism can make a good serial code faster. But it can also make a bad code even worse. One can write terribly slow code in any language, including Julia. In this notebook we want to understand what makes Julia code slow and how to detect and avoid common pitfalls. This will lead to multiple concrete performance tips that will help you speed up your Julia code and to write more efficient code in the first place.\n",
    "\n",
    "By far the most common reasons for slow Julia code are\n",
    "\n",
    "* **too many (unnecessary) allocations** (especially in hot loops)\n",
    "* **break-down of type inference** (e.g. type instabilities) → leads to allocations\n",
    "\n",
    "Once you have those under control you might want to care about\n",
    "\n",
    "* **memory access optimizations** (spatial and temporal locality)\n",
    "* **SIMD** (single-instruction multiple data)\n",
    "* etc."
   ]
  },
  {
   "cell_type": "markdown",
   "metadata": {},
   "source": [
    "## Avoid unnecessary allocations"
   ]
  },
  {
   "cell_type": "markdown",
   "metadata": {},
   "source": [
    "Dynamic heap allocations are costly compared to floating point operations. Avoid them, in particular in \"hot\" loops, because they may trigger garbage collection."
   ]
  },
  {
   "cell_type": "code",
   "execution_count": null,
   "metadata": {},
   "outputs": [],
   "source": [
    "using BenchmarkTools"
   ]
  },
  {
   "cell_type": "code",
   "execution_count": null,
   "metadata": {},
   "outputs": [],
   "source": [
    "@btime 1.2 + 3.4;\n",
    "@btime Vector{Float64}(undef, 1);"
   ]
  },
  {
   "cell_type": "markdown",
   "metadata": {},
   "source": [
    "### Example 1: Basic computations with arrays"
   ]
  },
  {
   "cell_type": "code",
   "execution_count": null,
   "metadata": {},
   "outputs": [],
   "source": [
    "function f()\n",
    "  x = [1,2,3]\n",
    "  for i in 1:100_000\n",
    "    x = x + 2*x\n",
    "  end\n",
    "  return x\n",
    "end"
   ]
  },
  {
   "cell_type": "code",
   "execution_count": null,
   "metadata": {},
   "outputs": [],
   "source": [
    "@btime f();"
   ]
  },
  {
   "cell_type": "markdown",
   "metadata": {},
   "source": [
    "* Huge number of allocations!\n",
    "* Bad sign if they scale with the number of iterations!"
   ]
  },
  {
   "cell_type": "markdown",
   "metadata": {},
   "source": [
    "#### Fix 1: Write explicit loops"
   ]
  },
  {
   "cell_type": "code",
   "execution_count": null,
   "metadata": {},
   "outputs": [],
   "source": [
    "function f()\n",
    "    x = [1,2,3]\n",
    "    for i in 1:100_000\n",
    "        for k in eachindex(x)\n",
    "            x[k] = x[k] + 2 * x[k]\n",
    "        end\n",
    "    end\n",
    "    return x\n",
    "end\n",
    "\n",
    "@btime f();"
   ]
  },
  {
   "cell_type": "markdown",
   "metadata": {},
   "source": [
    "#### Fix 2: Broadcasting / syntactic loop fusion"
   ]
  },
  {
   "cell_type": "markdown",
   "metadata": {},
   "source": [
    "(Recommendation: Old but great [blog post](https://julialang.org/blog/2017/01/moredots) by Steven G. Johnson ([related notebook](https://github.com/JuliaLang/www.julialang.org/blob/master/blog/_posts/moredots/More-Dots.ipynb)))"
   ]
  },
  {
   "cell_type": "code",
   "execution_count": null,
   "metadata": {},
   "outputs": [],
   "source": [
    "function f()\n",
    "    x = [1,2,3]\n",
    "    for i in 1:100_000\n",
    "        x .= x .+ 2 .* x\n",
    "        # or put @. in front\n",
    "    end\n",
    "    return x\n",
    "end\n",
    "\n",
    "@btime f();"
   ]
  },
  {
   "cell_type": "markdown",
   "metadata": {},
   "source": [
    "Common mistake:"
   ]
  },
  {
   "cell_type": "code",
   "execution_count": null,
   "metadata": {},
   "outputs": [],
   "source": [
    "function f()\n",
    "    x = [1,2,3]\n",
    "    for i in 1:100_000\n",
    "        x = x .+ 2 .* x\n",
    "    end\n",
    "    return x\n",
    "end\n",
    "\n",
    "@btime f();"
   ]
  },
  {
   "cell_type": "markdown",
   "metadata": {},
   "source": [
    "### Example 2: Linear Algebra"
   ]
  },
  {
   "cell_type": "code",
   "execution_count": null,
   "metadata": {},
   "outputs": [],
   "source": [
    "function f()\n",
    "    A = rand(100,100)\n",
    "    B = rand(100,100)\n",
    "    s = 0.0\n",
    "    for i in 1:1000\n",
    "        C = A * B\n",
    "        s += C[i]\n",
    "    end\n",
    "    return A\n",
    "end"
   ]
  },
  {
   "cell_type": "code",
   "execution_count": null,
   "metadata": {},
   "outputs": [],
   "source": [
    "@btime f();"
   ]
  },
  {
   "cell_type": "markdown",
   "metadata": {},
   "source": [
    "#### Fix: Preallocate and reuse memory + in-place matrix-multipy"
   ]
  },
  {
   "cell_type": "code",
   "execution_count": null,
   "metadata": {},
   "outputs": [],
   "source": [
    "using LinearAlgebra\n",
    "\n",
    "function f()\n",
    "    A = rand(100,100)\n",
    "    B = rand(100,100)\n",
    "    C = zeros(100,100) # preallocate\n",
    "    s = 0.0\n",
    "    for i in 1:1000\n",
    "        mul!(C, A, B) # reuse / in-place matmul\n",
    "        s += C[i]\n",
    "    end\n",
    "    return A\n",
    "end"
   ]
  },
  {
   "cell_type": "markdown",
   "metadata": {},
   "source": [
    "### Example 3: Array slicing"
   ]
  },
  {
   "cell_type": "markdown",
   "metadata": {},
   "source": [
    "By default, array-slicing creates copies!"
   ]
  },
  {
   "cell_type": "code",
   "execution_count": null,
   "metadata": {},
   "outputs": [],
   "source": [
    "using BenchmarkTools\n",
    "\n",
    "X = rand(3,3);"
   ]
  },
  {
   "cell_type": "code",
   "execution_count": null,
   "metadata": {},
   "outputs": [],
   "source": [
    "f(Y) = Y[:,1] .+ Y[:,2] .+ Y[:,3]\n",
    "\n",
    "@btime f($X);"
   ]
  },
  {
   "cell_type": "markdown",
   "metadata": {},
   "source": [
    "#### Fix: Views"
   ]
  },
  {
   "cell_type": "code",
   "execution_count": null,
   "metadata": {},
   "outputs": [],
   "source": [
    "f(Y) = @views Y[:,1] .+ Y[:,2] .+ Y[:,3]\n",
    "\n",
    "# expands to\n",
    "# f(Y) = view(Y, 1:3, 1) .+ view(Y, 1:3, 2) .+ view(Y, 1:3, 3)\n",
    "\n",
    "@btime f($X);"
   ]
  },
  {
   "cell_type": "markdown",
   "metadata": {},
   "source": [
    "(Note that [copying data isn't always bad](https://docs.julialang.org/en/v1/manual/performance-tips/#Copying-data-is-not-always-bad))"
   ]
  },
  {
   "cell_type": "markdown",
   "metadata": {},
   "source": [
    "### Example 4: Mutable types"
   ]
  },
  {
   "cell_type": "code",
   "execution_count": null,
   "metadata": {},
   "outputs": [],
   "source": [
    "mutable struct B\n",
    "    x::Int64\n",
    "    # ...\n",
    "end"
   ]
  },
  {
   "cell_type": "code",
   "execution_count": null,
   "metadata": {},
   "outputs": [],
   "source": [
    "b = B(1)"
   ]
  },
  {
   "cell_type": "code",
   "execution_count": null,
   "metadata": {},
   "outputs": [],
   "source": [
    "b.x = 4 # mutability"
   ]
  },
  {
   "cell_type": "code",
   "execution_count": null,
   "metadata": {},
   "outputs": [],
   "source": [
    "function fB()\n",
    "    y = B(0)\n",
    "    for i in 1:100_000\n",
    "        y = B(y.x + i)\n",
    "    end\n",
    "    return y\n",
    "end"
   ]
  },
  {
   "cell_type": "code",
   "execution_count": null,
   "metadata": {},
   "outputs": [],
   "source": [
    "using BenchmarkTools\n",
    "@btime fB();"
   ]
  },
  {
   "cell_type": "markdown",
   "metadata": {},
   "source": [
    "(In some cases Julia is smart enough to elide the unnecessary allocations, but not here.)"
   ]
  },
  {
   "cell_type": "markdown",
   "metadata": {},
   "source": [
    "#### Fix (if applicable): `struct` instead of `mutable struct`"
   ]
  },
  {
   "cell_type": "code",
   "execution_count": null,
   "metadata": {},
   "outputs": [],
   "source": [
    "struct A\n",
    "    x::Int64\n",
    "end"
   ]
  },
  {
   "cell_type": "code",
   "execution_count": null,
   "metadata": {},
   "outputs": [],
   "source": [
    "function fA()\n",
    "    y = A(0)\n",
    "    for i in 1:100_000\n",
    "        y = A(y.x + i)\n",
    "    end\n",
    "    return y\n",
    "end"
   ]
  },
  {
   "cell_type": "code",
   "execution_count": null,
   "metadata": {},
   "outputs": [],
   "source": [
    "@btime fA();"
   ]
  },
  {
   "cell_type": "markdown",
   "metadata": {},
   "source": [
    "Immutability is a powerful property for the compiler! It implies that two instances with the same values are in fact identical:"
   ]
  },
  {
   "cell_type": "code",
   "execution_count": null,
   "metadata": {},
   "outputs": [],
   "source": [
    "A(3) === A(3)"
   ]
  },
  {
   "cell_type": "code",
   "execution_count": null,
   "metadata": {},
   "outputs": [],
   "source": [
    "B(3) === B(3)"
   ]
  },
  {
   "cell_type": "markdown",
   "metadata": {},
   "source": [
    "This means that the compiler is, for example, free to copy immutable objects for optimization, because it's impossible to distinguish the original from the copy.\n",
    "\n",
    "**General note:**\n",
    "* Immutable objects are more likely to be **stack allocated** (or even held in CPU registers only).\n",
    "\n",
    "* Mutable objects are generally allocated on the heap."
   ]
  },
  {
   "cell_type": "markdown",
   "metadata": {},
   "source": [
    "#### Fix 3 for Examples 1 & 2 above: [StaticArrays.jl](https://github.com/JuliaArrays/StaticArrays.jl)"
   ]
  },
  {
   "cell_type": "code",
   "execution_count": null,
   "metadata": {},
   "outputs": [],
   "source": [
    "sv = @SVector [1,2,3]"
   ]
  },
  {
   "cell_type": "markdown",
   "metadata": {},
   "source": [
    "**Properties:**\n",
    "* Size is fixed and encoded in the type\n",
    "* immutable\n",
    "\n",
    "$\\Rightarrow$ compiler has more guarantees/information to optimize code."
   ]
  },
  {
   "cell_type": "code",
   "execution_count": null,
   "metadata": {},
   "outputs": [],
   "source": [
    "size(typeof(sv)) # the same fails for regular `Array` type"
   ]
  },
  {
   "cell_type": "code",
   "execution_count": null,
   "metadata": {},
   "outputs": [],
   "source": [
    "using StaticArrays\n",
    "\n",
    "function f()\n",
    "  x = @SVector [1,2,3]\n",
    "  for i in 1:100_000\n",
    "    x = x + 2*x\n",
    "  end\n",
    "  return x\n",
    "end\n",
    "\n",
    "@btime f();"
   ]
  },
  {
   "cell_type": "markdown",
   "metadata": {},
   "source": [
    "No dynamic heap allocations at all!"
   ]
  },
  {
   "cell_type": "code",
   "execution_count": null,
   "metadata": {},
   "outputs": [],
   "source": [
    "A = @SMatrix rand(10,10) # must be small!\n",
    "B = @SMatrix rand(10,10) # must be small!\n",
    "\n",
    "C = rand(10,10)\n",
    "D = rand(10,10)\n",
    "\n",
    "@btime $A * $B;\n",
    "@btime $C * $D;"
   ]
  },
  {
   "cell_type": "markdown",
   "metadata": {},
   "source": [
    "**StaticArrays.jl**\n",
    "\n",
    "```\n",
    "============================================\n",
    "    Benchmarks for 3×3 Float64 matrices\n",
    "============================================\n",
    "Matrix multiplication               -> 5.9x speedup\n",
    "Matrix multiplication (mutating)    -> 1.8x speedup\n",
    "Matrix addition                     -> 33.1x speedup\n",
    "Matrix addition (mutating)          -> 2.5x speedup\n",
    "Matrix determinant                  -> 112.9x speedup\n",
    "Matrix inverse                      -> 67.8x speedup\n",
    "Matrix symmetric eigendecomposition -> 25.0x speedup\n",
    "Matrix Cholesky decomposition       -> 8.8x speedup\n",
    "Matrix LU decomposition             -> 6.1x speedup\n",
    "Matrix QR decomposition             -> 65.0x speedup\n",
    "```"
   ]
  },
  {
   "cell_type": "markdown",
   "metadata": {},
   "source": [
    "### Example 5: Vectorized style"
   ]
  },
  {
   "cell_type": "code",
   "execution_count": null,
   "metadata": {},
   "outputs": [],
   "source": [
    "@btime sum(map(sin, [k for k in 1:10]));"
   ]
  },
  {
   "cell_type": "markdown",
   "metadata": {},
   "source": [
    "#### Fix: Generators and Laziness"
   ]
  },
  {
   "cell_type": "code",
   "execution_count": null,
   "metadata": {},
   "outputs": [],
   "source": [
    "@btime sum(sin(k) for k in 1:10); # generator"
   ]
  },
  {
   "cell_type": "code",
   "execution_count": null,
   "metadata": {},
   "outputs": [],
   "source": [
    "@btime sum(sin, k for k in 1:10); # two-argument version of sum"
   ]
  },
  {
   "cell_type": "code",
   "execution_count": null,
   "metadata": {},
   "outputs": [],
   "source": [
    "@btime first(map(sin, [k for k in 1:10]));"
   ]
  },
  {
   "cell_type": "code",
   "execution_count": null,
   "metadata": {},
   "outputs": [],
   "source": [
    "@btime first(Iterators.map(sin, [k for k in 1:10])); # lazy map"
   ]
  },
  {
   "cell_type": "markdown",
   "metadata": {},
   "source": [
    "## Type inference: Avoid type instabilities"
   ]
  },
  {
   "cell_type": "markdown",
   "metadata": {},
   "source": [
    "**Type stability**: A function `f` is type stable if for a given set of input argument types the return type is always the same.\n",
    "\n",
    "In particular, it means that the type of the output of `f` cannot vary depending on the **values** of the inputs.\n",
    "\n",
    "**Type instability**: The return type of a function `f` is not predictable just from the type of the input arguments alone.\n",
    "\n",
    "Instructive example: `f(x) = rand() > 0.5 ? 1.23 : \"string\"`"
   ]
  },
  {
   "cell_type": "markdown",
   "metadata": {},
   "source": [
    "### Example: Global scope"
   ]
  },
  {
   "cell_type": "markdown",
   "metadata": {},
   "source": [
    "A typical cause of type instability are global variables.\n",
    "\n",
    "From a compiler perspective, variables defined in global scope **can change their value and even their type(!) any time**."
   ]
  },
  {
   "cell_type": "code",
   "execution_count": null,
   "metadata": {},
   "outputs": [],
   "source": [
    "a = 2.0\n",
    "b = 3.0\n",
    "\n",
    "f() = 2*a+b"
   ]
  },
  {
   "cell_type": "code",
   "execution_count": null,
   "metadata": {},
   "outputs": [],
   "source": [
    "f()"
   ]
  },
  {
   "cell_type": "code",
   "execution_count": null,
   "metadata": {},
   "outputs": [],
   "source": [
    "@code_llvm f()"
   ]
  },
  {
   "cell_type": "code",
   "execution_count": null,
   "metadata": {},
   "outputs": [],
   "source": [
    "@code_warntype f()"
   ]
  },
  {
   "cell_type": "markdown",
   "metadata": {},
   "source": [
    "#### Fix 1: Work in local scope"
   ]
  },
  {
   "cell_type": "code",
   "execution_count": null,
   "metadata": {},
   "outputs": [],
   "source": [
    "function local_scope()\n",
    "    a=2.0\n",
    "    b=3.0\n",
    "    \n",
    "    f() = 2a+b\n",
    "    \n",
    "    return f() \n",
    "end\n",
    "\n",
    "local_scope()"
   ]
  },
  {
   "cell_type": "code",
   "execution_count": null,
   "metadata": {},
   "outputs": [],
   "source": [
    "@code_llvm local_scope()"
   ]
  },
  {
   "cell_type": "markdown",
   "metadata": {},
   "source": [
    "This is fast.\n",
    "\n",
    "In fact, it's not just fast, but **as fast as it can be**! Julia has figured out the result of the calculation at compile-time and returns just the literal, i.e. `local_scope() = 7`."
   ]
  },
  {
   "cell_type": "code",
   "execution_count": null,
   "metadata": {},
   "outputs": [],
   "source": [
    "@code_warntype local_scope()"
   ]
  },
  {
   "cell_type": "markdown",
   "metadata": {},
   "source": [
    "#### Fix 2: Make globals `const`ant"
   ]
  },
  {
   "cell_type": "code",
   "execution_count": null,
   "metadata": {},
   "outputs": [],
   "source": [
    "const A=2.0\n",
    "const B=3.0\n",
    "\n",
    "f() = 2A+B\n",
    "\n",
    "f()"
   ]
  },
  {
   "cell_type": "code",
   "execution_count": null,
   "metadata": {},
   "outputs": [],
   "source": [
    "@code_llvm f()"
   ]
  },
  {
   "cell_type": "code",
   "execution_count": null,
   "metadata": {},
   "outputs": [],
   "source": [
    "@code_warntype f()"
   ]
  },
  {
   "cell_type": "markdown",
   "metadata": {},
   "source": [
    "#### Fix 3: Write self-contained functions"
   ]
  },
  {
   "cell_type": "code",
   "execution_count": null,
   "metadata": {},
   "outputs": [],
   "source": [
    "f(a,b) = 2a+b"
   ]
  },
  {
   "cell_type": "code",
   "execution_count": null,
   "metadata": {},
   "outputs": [],
   "source": [
    "@code_llvm debuginfo=:none f(2.0,3.0)"
   ]
  },
  {
   "cell_type": "markdown",
   "metadata": {},
   "source": [
    "**Write functions not scripts!**"
   ]
  },
  {
   "cell_type": "markdown",
   "metadata": {},
   "source": [
    "### Example: Multiple `return` statements"
   ]
  },
  {
   "cell_type": "code",
   "execution_count": null,
   "metadata": {},
   "outputs": [],
   "source": [
    "function f(x, flag)\n",
    "    if flag\n",
    "        return 1:3\n",
    "    else\n",
    "        return [1,2,3]\n",
    "    end\n",
    "end"
   ]
  },
  {
   "cell_type": "code",
   "execution_count": null,
   "metadata": {},
   "outputs": [],
   "source": [
    "@code_warntype f(rand(10), true)"
   ]
  },
  {
   "cell_type": "code",
   "execution_count": null,
   "metadata": {},
   "outputs": [],
   "source": [
    "typeof(f(x, true))"
   ]
  },
  {
   "cell_type": "code",
   "execution_count": null,
   "metadata": {},
   "outputs": [],
   "source": [
    "typeof(f(x, false))"
   ]
  },
  {
   "cell_type": "markdown",
   "metadata": {},
   "source": [
    "#### Fix: Single `return` statement"
   ]
  },
  {
   "cell_type": "code",
   "execution_count": null,
   "metadata": {},
   "outputs": [],
   "source": [
    "function f(x, flag)\n",
    "    result = Vector{Int64}(undef, 3)\n",
    "    if flag\n",
    "        result .= 1:3\n",
    "    else\n",
    "        result .= [1,2,3]\n",
    "    end\n",
    "    return result\n",
    "end"
   ]
  },
  {
   "cell_type": "code",
   "execution_count": null,
   "metadata": {},
   "outputs": [],
   "source": [
    "@code_warntype f(x, true)"
   ]
  },
  {
   "cell_type": "markdown",
   "metadata": {},
   "source": [
    "## Type inference: Avoid abstract field types"
   ]
  },
  {
   "cell_type": "markdown",
   "metadata": {},
   "source": [
    "A common reason for type inference to break are not-concretely typed fields in `struct`s."
   ]
  },
  {
   "cell_type": "markdown",
   "metadata": {},
   "source": [
    "### Example"
   ]
  },
  {
   "cell_type": "code",
   "execution_count": null,
   "metadata": {},
   "outputs": [],
   "source": [
    "using BenchmarkTools"
   ]
  },
  {
   "cell_type": "code",
   "execution_count": null,
   "metadata": {},
   "outputs": [],
   "source": [
    "struct MyType\n",
    "    x::Number\n",
    "    y\n",
    "end\n",
    "\n",
    "f(a::MyType) = a.x^2 + sqrt(a.x)"
   ]
  },
  {
   "cell_type": "code",
   "execution_count": null,
   "metadata": {},
   "outputs": [],
   "source": [
    "a = MyType(3.0, \"test\")\n",
    "\n",
    "@code_warntype f(a);"
   ]
  },
  {
   "cell_type": "code",
   "execution_count": null,
   "metadata": {},
   "outputs": [],
   "source": [
    "@btime f($a);"
   ]
  },
  {
   "cell_type": "code",
   "execution_count": null,
   "metadata": {},
   "outputs": [],
   "source": [
    "typeof(a)"
   ]
  },
  {
   "cell_type": "markdown",
   "metadata": {},
   "source": [
    "**Note:** Technically not a type instability according to our definition because the return type is always `Any`.\n",
    "\n",
    "**\"Type stability\"**: A function `f` is type stable if for a given set of input argument types the return type is always the same and *concrete*."
   ]
  },
  {
   "cell_type": "markdown",
   "metadata": {},
   "source": [
    "#### Fix 1: Concrete typing"
   ]
  },
  {
   "cell_type": "code",
   "execution_count": null,
   "metadata": {},
   "outputs": [],
   "source": [
    "struct MyTypeConcrete\n",
    "    x::Float64\n",
    "    y::String\n",
    "end\n",
    "\n",
    "f(b::MyTypeConcrete) = b.x^2 + sqrt(b.x)"
   ]
  },
  {
   "cell_type": "code",
   "execution_count": null,
   "metadata": {},
   "outputs": [],
   "source": [
    "b = MyTypeConcrete(3.0, \"test\")\n",
    "@code_warntype f(b)"
   ]
  },
  {
   "cell_type": "code",
   "execution_count": null,
   "metadata": {},
   "outputs": [],
   "source": [
    "@btime f($b);"
   ]
  },
  {
   "cell_type": "markdown",
   "metadata": {},
   "source": [
    "#### Fix 2: Type parameters"
   ]
  },
  {
   "cell_type": "markdown",
   "metadata": {},
   "source": [
    "But what if I want to accept any kind of, say, `Number` and `AbstractString` for our type?"
   ]
  },
  {
   "cell_type": "code",
   "execution_count": null,
   "metadata": {},
   "outputs": [],
   "source": [
    "struct MyTypeParametric{A<:Number, B<:AbstractString}\n",
    "    x::A\n",
    "    y::B\n",
    "end\n",
    "\n",
    "f(c::MyTypeParametric) = c.x^2 + sqrt(c.x)"
   ]
  },
  {
   "cell_type": "code",
   "execution_count": null,
   "metadata": {},
   "outputs": [],
   "source": [
    "c = MyTypeParametric(3.0, \"test\")"
   ]
  },
  {
   "cell_type": "code",
   "execution_count": null,
   "metadata": {},
   "outputs": [],
   "source": [
    "@code_warntype f(c)"
   ]
  },
  {
   "cell_type": "markdown",
   "metadata": {},
   "source": [
    "From the type alone the compiler knows what the structure contains and can produce optimal code:"
   ]
  },
  {
   "cell_type": "code",
   "execution_count": null,
   "metadata": {},
   "outputs": [],
   "source": [
    "@btime f($c);"
   ]
  },
  {
   "cell_type": "code",
   "execution_count": null,
   "metadata": {},
   "outputs": [],
   "source": [
    "c = MyTypeParametric(Float32(3.0), SubString(\"test\"))"
   ]
  },
  {
   "cell_type": "code",
   "execution_count": null,
   "metadata": {},
   "outputs": [],
   "source": [
    "@btime f($c);"
   ]
  },
  {
   "cell_type": "markdown",
   "metadata": {},
   "source": [
    "## Type inference: Avoid untyped containers"
   ]
  },
  {
   "cell_type": "markdown",
   "metadata": {},
   "source": [
    "### Example"
   ]
  },
  {
   "cell_type": "code",
   "execution_count": null,
   "metadata": {},
   "outputs": [],
   "source": [
    "function f()\n",
    "    numbers = []\n",
    "    for i in 1:10\n",
    "        push!(numbers, i)\n",
    "    end\n",
    "    sum(numbers)\n",
    "end\n",
    "\n",
    "@btime f();"
   ]
  },
  {
   "cell_type": "code",
   "execution_count": null,
   "metadata": {},
   "outputs": [],
   "source": [
    "@code_warntype f()"
   ]
  },
  {
   "cell_type": "code",
   "execution_count": null,
   "metadata": {},
   "outputs": [],
   "source": [
    "typeof([])"
   ]
  },
  {
   "cell_type": "code",
   "execution_count": null,
   "metadata": {},
   "outputs": [],
   "source": [
    "function f()\n",
    "    numbers = Int[]\n",
    "    for i in 1:10\n",
    "        push!(numbers, i)\n",
    "    end\n",
    "    sum(numbers)\n",
    "end\n",
    "\n",
    "@btime f();"
   ]
  },
  {
   "cell_type": "code",
   "execution_count": null,
   "metadata": {},
   "outputs": [],
   "source": [
    "@code_warntype f()"
   ]
  },
  {
   "cell_type": "markdown",
   "metadata": {},
   "source": [
    "## Type inference: Avoid changing variable types"
   ]
  },
  {
   "cell_type": "markdown",
   "metadata": {},
   "source": [
    "Variables in a function should not change type."
   ]
  },
  {
   "cell_type": "markdown",
   "metadata": {},
   "source": [
    "### Example"
   ]
  },
  {
   "cell_type": "code",
   "execution_count": null,
   "metadata": {},
   "outputs": [],
   "source": [
    "function f()\n",
    "    x = 1\n",
    "    for i = 1:10\n",
    "        x /= rand()\n",
    "    end\n",
    "    return x\n",
    "end"
   ]
  },
  {
   "cell_type": "code",
   "execution_count": null,
   "metadata": {},
   "outputs": [],
   "source": [
    "@code_warntype f()"
   ]
  },
  {
   "cell_type": "markdown",
   "metadata": {},
   "source": [
    "(On a side note: since the type can only vary between `Float64` and `Int64`, Julia can still produce reasonable code by *union splitting*. I recommend reading [this blog post](https://julialang.org/blog/2018/08/union-splitting) by Tim Holy.)"
   ]
  },
  {
   "cell_type": "markdown",
   "metadata": {},
   "source": [
    "#### Fix 1: Initialize with correct type"
   ]
  },
  {
   "cell_type": "code",
   "execution_count": null,
   "metadata": {},
   "outputs": [],
   "source": [
    "function f()\n",
    "    x = 1.0\n",
    "    for i = 1:10\n",
    "        x /= rand()\n",
    "    end\n",
    "    return x\n",
    "end"
   ]
  },
  {
   "cell_type": "code",
   "execution_count": null,
   "metadata": {},
   "outputs": [],
   "source": [
    "@code_warntype f()"
   ]
  },
  {
   "cell_type": "code",
   "execution_count": null,
   "metadata": {},
   "outputs": [],
   "source": [
    "@code_warntype h()"
   ]
  },
  {
   "cell_type": "markdown",
   "metadata": {},
   "source": [
    "#### Fix 2: Specify types (to get errors or to heal the problem by conversion)"
   ]
  },
  {
   "cell_type": "code",
   "execution_count": null,
   "metadata": {},
   "outputs": [],
   "source": [
    "function f()\n",
    "    x::Float64 = 1 # implicit conversion\n",
    "    for i = 1:10\n",
    "        x /= rand()\n",
    "    end\n",
    "    return x\n",
    "end"
   ]
  },
  {
   "cell_type": "code",
   "execution_count": null,
   "metadata": {},
   "outputs": [],
   "source": [
    "@code_warntype f()"
   ]
  },
  {
   "cell_type": "markdown",
   "metadata": {},
   "source": [
    "#### Fix 3: Special-case first iteration"
   ]
  },
  {
   "cell_type": "code",
   "execution_count": null,
   "metadata": {},
   "outputs": [],
   "source": [
    "function f()\n",
    "    x = 1/rand()\n",
    "    for i = 2:10\n",
    "        x /= rand()\n",
    "    end\n",
    "    return x\n",
    "end"
   ]
  },
  {
   "cell_type": "code",
   "execution_count": null,
   "metadata": {},
   "outputs": [],
   "source": [
    "@code_warntype f()"
   ]
  },
  {
   "cell_type": "markdown",
   "metadata": {},
   "source": [
    "## Type inference: Isolate unavoidable type instabilities"
   ]
  },
  {
   "cell_type": "markdown",
   "metadata": {},
   "source": [
    "Type instabilities can occur very naturally, for example when reading unknown user files or user input. Hence, not every instability can be avoided.\n",
    "\n",
    "If that's the case, isolate your expensive computation from the instability by putting it in a separate *kernel function* (also known as introducing a *function barrier*)."
   ]
  },
  {
   "cell_type": "code",
   "execution_count": null,
   "metadata": {},
   "outputs": [],
   "source": [
    "data = Union{Int64,Float64,String}[4, 2.0, \"test\", 3.2, 1]"
   ]
  },
  {
   "cell_type": "code",
   "execution_count": null,
   "metadata": {},
   "outputs": [],
   "source": [
    "function computation(data)\n",
    "    x = 1.0\n",
    "    for i in 1:100\n",
    "        x = sin(data[1])\n",
    "        x += data[2]\n",
    "        x *= data[4]\n",
    "    end\n",
    "    return x\n",
    "end"
   ]
  },
  {
   "cell_type": "code",
   "execution_count": null,
   "metadata": {},
   "outputs": [],
   "source": [
    "@code_warntype computation(data)"
   ]
  },
  {
   "cell_type": "code",
   "execution_count": null,
   "metadata": {},
   "outputs": [],
   "source": [
    "@btime computation($data);"
   ]
  },
  {
   "cell_type": "code",
   "execution_count": null,
   "metadata": {},
   "outputs": [],
   "source": [
    "function computation(data)\n",
    "    a = data[1]\n",
    "    b = data[2]\n",
    "    c = data[4]\n",
    "    return _computation_kernel(a,b,c)\n",
    "end\n",
    "\n",
    "function _computation_kernel(a,b,c)\n",
    "    x = 1.0\n",
    "    for i in 1:100\n",
    "        x = sin(a)\n",
    "        x += b\n",
    "        x *= c\n",
    "    end\n",
    "    return x\n",
    "end"
   ]
  },
  {
   "cell_type": "code",
   "execution_count": null,
   "metadata": {},
   "outputs": [],
   "source": [
    "@code_warntype computation(data)"
   ]
  },
  {
   "cell_type": "code",
   "execution_count": null,
   "metadata": {},
   "outputs": [],
   "source": [
    "@code_warntype _computation_kernel(data[1], data[2], data[4])"
   ]
  },
  {
   "cell_type": "code",
   "execution_count": null,
   "metadata": {},
   "outputs": [],
   "source": [
    "@btime computation($data);"
   ]
  },
  {
   "cell_type": "markdown",
   "metadata": {},
   "source": [
    "Note that the computational kernel function is fully type inferred."
   ]
  },
  {
   "cell_type": "markdown",
   "metadata": {},
   "source": [
    "## Memory access optimizations"
   ]
  },
  {
   "cell_type": "markdown",
   "metadata": {},
   "source": [
    "### Locality"
   ]
  },
  {
   "cell_type": "markdown",
   "metadata": {},
   "source": [
    "* **temporal locality**: if a memory address is accessed, there will soon be another access to that address.\n",
    "* **spatial locality**: if a memory address is accessed, there will sonn be an access to a **nearby** address.\n",
    "\n",
    "How are these locality notions reflected in hardware?\n",
    "\n",
    "* temporal locality → **caches**\n",
    "* spatial locality → memory is read in **cache lines** (multiple elements at once)"
   ]
  },
  {
   "cell_type": "markdown",
   "metadata": {},
   "source": [
    "**Memory hierarchy**\n",
    "\n",
    "\n",
    "<img src=\"./imgs/memory_hierarchy.png\" width=500px>"
   ]
  },
  {
   "cell_type": "code",
   "execution_count": null,
   "metadata": {},
   "outputs": [],
   "source": [
    "using CpuId"
   ]
  },
  {
   "cell_type": "code",
   "execution_count": null,
   "metadata": {},
   "outputs": [],
   "source": [
    "cpuinfo()"
   ]
  },
  {
   "cell_type": "markdown",
   "metadata": {},
   "source": [
    "**Illustrative example:**\n",
    "```julia\n",
    "function mysum(a)\n",
    "    s = zero(eltype(a))\n",
    "    for i in eachindex(a)\n",
    "        s = s + a[i]\n",
    "    end\n",
    "end\n",
    "```\n",
    "\n",
    "* `s` is repeatedly read and written → temporal locality\n",
    "* `a` is accessed one element after another → spatial locality"
   ]
  },
  {
   "cell_type": "markdown",
   "metadata": {},
   "source": [
    "Higher-dimensional Julia arrays are **column-major order** (like Fortran, unlinke C/C++).\n",
    "\n",
    "<img src=\"./imgs/column-major-2D.png\" width=800px>\n",
    "(<a href=https://mitmath.github.io/18337/lecture2/optimizing>Image source</a>)"
   ]
  },
  {
   "cell_type": "markdown",
   "metadata": {},
   "source": [
    "Let's get a feeling for the impact of (the lack of) spatial locality with a basic example."
   ]
  },
  {
   "cell_type": "code",
   "execution_count": null,
   "metadata": {},
   "outputs": [],
   "source": [
    "M = rand(1024,1024);\n",
    "\n",
    "function fcol(M)\n",
    "    for col in 1:size(M, 2)\n",
    "        for row in 1:size(M, 1)\n",
    "            M[row, col] = 42\n",
    "        end\n",
    "    end\n",
    "    nothing\n",
    "end\n",
    "\n",
    "function frow(M)\n",
    "    for row in 1:size(M, 1)\n",
    "        for col in 1:size(M, 2)\n",
    "            M[row, col] = 42\n",
    "        end\n",
    "    end\n",
    "    nothing\n",
    "end"
   ]
  },
  {
   "cell_type": "code",
   "execution_count": null,
   "metadata": {},
   "outputs": [],
   "source": [
    "@btime fcol($M)"
   ]
  },
  {
   "cell_type": "code",
   "execution_count": null,
   "metadata": {},
   "outputs": [],
   "source": [
    "@btime frow($M)"
   ]
  },
  {
   "cell_type": "markdown",
   "metadata": {},
   "source": [
    "You can study spatial and temporal locality more deeply in the exercises (e.g. the **dMMM exercise**)."
   ]
  },
  {
   "cell_type": "markdown",
   "metadata": {},
   "source": [
    "### `@inbounds`\n",
    "\n",
    "Disables bounds checks. (Julia may segfault if you use it wrongly!)"
   ]
  },
  {
   "cell_type": "code",
   "execution_count": null,
   "metadata": {},
   "outputs": [],
   "source": [
    "function f()\n",
    "    x = [1,2,3]\n",
    "    for i in 1:100_000\n",
    "        for k in 1:3\n",
    "            x[k] = x[k] + 2 * x[k]\n",
    "        end\n",
    "    end\n",
    "    return x\n",
    "end\n",
    "\n",
    "@btime f();"
   ]
  },
  {
   "cell_type": "code",
   "execution_count": null,
   "metadata": {},
   "outputs": [],
   "source": [
    "function f_inbounds()\n",
    "    x = [1,2,3]\n",
    "    for i in 1:100_000\n",
    "        for k in 1:3\n",
    "            @inbounds x[k] = x[k] + 2 * x[k]\n",
    "        end\n",
    "    end\n",
    "    return x\n",
    "end\n",
    "\n",
    "@btime f_inbounds();"
   ]
  },
  {
   "cell_type": "markdown",
   "metadata": {},
   "source": [
    "## Side note: [JET.jl](JET.jl](https://github.com/aviatesk/JET.jl)"
   ]
  },
  {
   "cell_type": "markdown",
   "metadata": {},
   "source": [
    "**Static** code analyzer. (Doesn't execute the code!)\n",
    "\n",
    "Important macros:\n",
    "* `@report_opt`: check for potential optimization problems ([optimization analysis](https://aviatesk.github.io/JET.jl/stable/optanalysis/))\n",
    "* `@report_call`: check for potential (general) errors ([error analysis](https://aviatesk.github.io/JET.jl/stable/jetanalysis/))"
   ]
  },
  {
   "cell_type": "code",
   "execution_count": null,
   "metadata": {},
   "outputs": [],
   "source": [
    "using JET\n",
    "\n",
    "a = 2.0\n",
    "b = 3.0\n",
    "\n",
    "f() = 2*a+b\n",
    "\n",
    "@report_opt f() # check for possible optimization problems"
   ]
  },
  {
   "cell_type": "code",
   "execution_count": null,
   "metadata": {},
   "outputs": [],
   "source": [
    "@report_call sum(\"Stuttgart\")"
   ]
  },
  {
   "cell_type": "markdown",
   "metadata": {},
   "source": [
    "# Core messages of this Notebook\n",
    "\n",
    "* **Wrap code in self-contained functions** in performance critical applications, i.e. avoid global scope.\n",
    "* Write **type-stable code** (check with `@code_warntype`).\n",
    "* Use **views** instead of copies to avoid unnecessary allocations.\n",
    "* Use **broadcasting (more dots)** to avoid temporary allocations in vectorized code (or write out loops).\n",
    "* **Types should always have concrete fields.** If you don't know them in advance, use type parameters.\n",
    "* Be aware of spatial and temporal locality and especially **column major order** when looping over arrays."
   ]
  }
 ],
 "metadata": {
  "@webio": {
   "lastCommId": null,
   "lastKernelId": null
  },
  "kernelspec": {
   "display_name": "Julia 1.9.3",
   "language": "julia",
   "name": "julia-1.9"
  },
  "language_info": {
   "file_extension": ".jl",
   "mimetype": "application/julia",
   "name": "julia",
   "version": "1.9.3"
  }
 },
 "nbformat": 4,
 "nbformat_minor": 4
}
