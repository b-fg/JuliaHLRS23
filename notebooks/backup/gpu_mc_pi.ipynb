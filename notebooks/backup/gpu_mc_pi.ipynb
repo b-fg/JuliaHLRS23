{
 "cells": [
  {
   "cell_type": "markdown",
   "metadata": {},
   "source": [
    "# GPU: Monte Carlo computation of $\\pi$"
   ]
  },
  {
   "cell_type": "code",
   "execution_count": 2,
   "metadata": {},
   "outputs": [],
   "source": [
    "using CUDA\n",
    "using BenchmarkTools"
   ]
  },
  {
   "cell_type": "code",
   "execution_count": 6,
   "metadata": {},
   "outputs": [
    {
     "data": {
      "text/plain": [
       "8388608"
      ]
     },
     "metadata": {},
     "output_type": "display_data"
    }
   ],
   "source": [
    "const N = 2^23"
   ]
  },
  {
   "cell_type": "markdown",
   "metadata": {},
   "source": [
    "## CPU: naive (for comparison)"
   ]
  },
  {
   "cell_type": "code",
   "execution_count": 12,
   "metadata": {},
   "outputs": [
    {
     "data": {
      "text/plain": [
       "compute_pi (generic function with 1 method)"
      ]
     },
     "metadata": {},
     "output_type": "display_data"
    }
   ],
   "source": [
    "function compute_pi(N)\n",
    "    M = 0 # number of darts that landed in the circle\n",
    "    for i in 1:N\n",
    "        if sqrt(rand()^2 + rand()^2) < 1.0\n",
    "            M += 1\n",
    "        end\n",
    "    end\n",
    "    return 4 * M / N\n",
    "end"
   ]
  },
  {
   "cell_type": "code",
   "execution_count": 13,
   "metadata": {},
   "outputs": [
    {
     "name": "stdout",
     "output_type": "stream",
     "text": [
      "  34.255 ms (0 allocations: 0 bytes)\n"
     ]
    }
   ],
   "source": [
    "@btime compute_pi($N) samples = 5 evals = 3;"
   ]
  },
  {
   "cell_type": "markdown",
   "metadata": {},
   "source": [
    "## Array programming"
   ]
  },
  {
   "cell_type": "code",
   "execution_count": 7,
   "metadata": {},
   "outputs": [
    {
     "data": {
      "text/plain": [
       "compute_pi_cuda_array (generic function with 1 method)"
      ]
     },
     "metadata": {},
     "output_type": "display_data"
    }
   ],
   "source": [
    "function compute_pi_cuda_array(N)\n",
    "    xs = CUDA.rand(N)\n",
    "    ys = CUDA.rand(N)\n",
    "    M = sum(sqrt.(xs .^ 2 .+ ys .^ 2) .< 1)\n",
    "    return 4 * M / N\n",
    "end"
   ]
  },
  {
   "cell_type": "code",
   "execution_count": 20,
   "metadata": {},
   "outputs": [
    {
     "data": {
      "text/plain": [
       "3.1406960487365723"
      ]
     },
     "metadata": {},
     "output_type": "display_data"
    }
   ],
   "source": [
    "compute_pi_cuda_array(N)"
   ]
  },
  {
   "cell_type": "code",
   "execution_count": 8,
   "metadata": {},
   "outputs": [
    {
     "name": "stdout",
     "output_type": "stream",
     "text": [
      "  490.830 μs (189 allocations: 10.00 KiB)\n"
     ]
    }
   ],
   "source": [
    "@btime compute_pi_cuda_array($N) samples = 5 evals = 3;"
   ]
  },
  {
   "cell_type": "code",
   "execution_count": 37,
   "metadata": {},
   "outputs": [
    {
     "data": {
      "text/plain": [
       "compute_pi_cuda_array_alternative (generic function with 1 method)"
      ]
     },
     "metadata": {},
     "output_type": "display_data"
    }
   ],
   "source": [
    "function compute_pi_cuda_array_alternative(N)\n",
    "    xs = CUDA.rand(N)\n",
    "    M = mapreduce(x -> sqrt(x^2 + rand()^2) < 1, +, xs)\n",
    "    return 4 * M / N\n",
    "end"
   ]
  },
  {
   "cell_type": "code",
   "execution_count": 38,
   "metadata": {},
   "outputs": [
    {
     "data": {
      "text/plain": [
       "3.140444278717041"
      ]
     },
     "metadata": {},
     "output_type": "display_data"
    }
   ],
   "source": [
    "compute_pi_cuda_array_alternative(N)"
   ]
  },
  {
   "cell_type": "code",
   "execution_count": 39,
   "metadata": {},
   "outputs": [
    {
     "name": "stdout",
     "output_type": "stream",
     "text": [
      "  324.227 μs (125 allocations: 6.08 KiB)\n"
     ]
    }
   ],
   "source": [
    "@btime compute_pi_cuda_array_alternative($N) samples = 5 evals = 3;"
   ]
  },
  {
   "cell_type": "markdown",
   "metadata": {},
   "source": [
    "## Kernel: Naive"
   ]
  },
  {
   "cell_type": "code",
   "execution_count": 10,
   "metadata": {},
   "outputs": [
    {
     "data": {
      "text/plain": [
       "compute_pi_kernel_naive (generic function with 1 method)"
      ]
     },
     "metadata": {},
     "output_type": "display_data"
    }
   ],
   "source": [
    "function _mc_kernel_naive!(counts)\n",
    "    i = (blockIdx().x - 1) * blockDim().x + threadIdx().x\n",
    "    if i <= length(counts)\n",
    "        if sqrt(rand()^2 + rand()^2) < 1\n",
    "            @inbounds counts[i] = 1\n",
    "        end\n",
    "    end\n",
    "    return nothing\n",
    "end\n",
    "\n",
    "function compute_pi_kernel_naive(N)\n",
    "    counts = CUDA.zeros(Int32, N)\n",
    "    # use occupancy API to figure out threads and blocks\n",
    "    kernel = @cuda launch = false _mc_kernel_naive!(counts)\n",
    "    config = launch_configuration(kernel.fun)\n",
    "    threads = min(N, config.threads)\n",
    "    blocks = cld(N, threads)\n",
    "    # launch kernel\n",
    "    CUDA.@sync kernel(counts; threads, blocks)\n",
    "    # sum and normalization on CPU\n",
    "    return 4 * sum(counts) / N\n",
    "end"
   ]
  },
  {
   "cell_type": "code",
   "execution_count": 24,
   "metadata": {},
   "outputs": [
    {
     "data": {
      "text/plain": [
       "3.1414499282836914"
      ]
     },
     "metadata": {},
     "output_type": "display_data"
    }
   ],
   "source": [
    "compute_pi_kernel_naive(N)"
   ]
  },
  {
   "cell_type": "code",
   "execution_count": 11,
   "metadata": {},
   "outputs": [
    {
     "name": "stdout",
     "output_type": "stream",
     "text": [
      "  406.087 μs (138 allocations: 6.59 KiB)\n"
     ]
    }
   ],
   "source": [
    "@btime compute_pi_kernel_naive($N) samples = 5 evals = 3;"
   ]
  },
  {
   "cell_type": "markdown",
   "metadata": {},
   "source": [
    "## Kernel: shared memory"
   ]
  },
  {
   "cell_type": "code",
   "execution_count": 14,
   "metadata": {},
   "outputs": [
    {
     "data": {
      "text/plain": [
       "compute_pi_kernel_shared (generic function with 1 method)"
      ]
     },
     "metadata": {},
     "output_type": "display_data"
    }
   ],
   "source": [
    "function _mc_kernel_shared!(counts, iter_per_thread)\n",
    "    i = (blockIdx().x - 1) * blockDim().x + threadIdx().x\n",
    "\n",
    "    # shared memory to use within the block\n",
    "    counter = CuStaticSharedArray(Int32, 32)\n",
    "\n",
    "    num_hits = 0\n",
    "    for i in 1:iter_per_thread\n",
    "        num_hits += sqrt(rand(Float32)^2 + rand(Float32)^2) < 1\n",
    "    end\n",
    "    @inbounds counter[threadIdx().x] = num_hits\n",
    "\n",
    "    # make sure that all threads in the block are done\n",
    "    sync_threads()\n",
    "    if threadIdx().x == 1 # first thread in the block\n",
    "        for i in 1:32\n",
    "            counts[blockIdx().x] += counter[i]\n",
    "        end\n",
    "    end\n",
    "    return nothing\n",
    "end\n",
    "\n",
    "function compute_pi_kernel_shared(N; threads=32, blocks=2^14)\n",
    "    counts = CUDA.zeros(Int32, blocks)\n",
    "    iter_per_thread, r = divrem(N, threads * blocks)\n",
    "    if r > 0\n",
    "        throw(ArgumentError(\"N / $(threads * blocks) must be an integer\"))\n",
    "    end\n",
    "\n",
    "    CUDA.@sync @cuda(\n",
    "        threads = threads,\n",
    "        blocks = blocks,\n",
    "        _mc_kernel_shared!(counts, iter_per_thread)\n",
    "    )\n",
    "    return 4 * sum(counts) / N\n",
    "end"
   ]
  },
  {
   "cell_type": "code",
   "execution_count": 25,
   "metadata": {},
   "outputs": [
    {
     "data": {
      "text/plain": [
       "3.141425132751465"
      ]
     },
     "metadata": {},
     "output_type": "display_data"
    }
   ],
   "source": [
    "compute_pi_kernel_shared(N)"
   ]
  },
  {
   "cell_type": "code",
   "execution_count": 16,
   "metadata": {},
   "outputs": [
    {
     "name": "stdout",
     "output_type": "stream",
     "text": [
      "  208.413 μs (149 allocations: 7.12 KiB)\n"
     ]
    }
   ],
   "source": [
    "@btime compute_pi_kernel_shared($N) samples = 5 evals = 3;"
   ]
  },
  {
   "cell_type": "markdown",
   "metadata": {},
   "source": [
    "## More Optimizations?\n",
    "\n",
    "See e.g. https://developer.download.nvidia.com/assets/cuda/files/reduction.pdf"
   ]
  }
 ],
 "metadata": {
  "kernelspec": {
   "display_name": "Julia 1.9.3",
   "language": "julia",
   "name": "julia-1.9"
  },
  "language_info": {
   "file_extension": ".jl",
   "mimetype": "application/julia",
   "name": "julia",
   "version": "1.9.3"
  }
 },
 "nbformat": 4,
 "nbformat_minor": 2
}
