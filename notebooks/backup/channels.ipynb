{
 "cells": [
  {
   "cell_type": "markdown",
   "id": "dce7f9a5-f9d2-4281-9086-afd6a83a44a8",
   "metadata": {},
   "source": [
    "# `Channel` (synchronization of tasks)"
   ]
  },
  {
   "cell_type": "markdown",
   "id": "4e06e45b-6fa4-4911-bc49-4733d59c8c15",
   "metadata": {},
   "source": [
    "Implement synchronization/communication between tasks.\n",
    "\n",
    "Most relevant functions: `put!`, `take!`, `fetch`, `isready` and `wait`."
   ]
  },
  {
   "cell_type": "code",
   "execution_count": null,
   "id": "9668690c-0d1b-4e3a-b4c1-bfeea83b2286",
   "metadata": {},
   "outputs": [],
   "source": [
    "ch = Channel{Int}(5) # a channel that can hold up to 5 integers"
   ]
  },
  {
   "cell_type": "code",
   "execution_count": null,
   "id": "826c0777-9f03-4e47-95e9-7294f872d7be",
   "metadata": {},
   "outputs": [],
   "source": [
    "isready(ch) # something in the channel?"
   ]
  },
  {
   "cell_type": "code",
   "execution_count": null,
   "id": "b114d6a8-8cad-4b4a-9cc3-0a12d51b8d6f",
   "metadata": {},
   "outputs": [],
   "source": [
    "put!(ch, 3)"
   ]
  },
  {
   "cell_type": "code",
   "execution_count": null,
   "id": "4019df90-2589-4b71-b0e9-f87044485ee1",
   "metadata": {},
   "outputs": [],
   "source": [
    "isready(ch)"
   ]
  },
  {
   "cell_type": "code",
   "execution_count": null,
   "id": "a9765ee4-f9e7-4ed3-ab98-b5155b6fa4bb",
   "metadata": {},
   "outputs": [],
   "source": [
    "3+3"
   ]
  },
  {
   "cell_type": "code",
   "execution_count": null,
   "id": "954ad792-88f0-41ca-b15c-f77848af055a",
   "metadata": {},
   "outputs": [],
   "source": [
    "fetch(ch)"
   ]
  },
  {
   "cell_type": "code",
   "execution_count": null,
   "id": "366c21da-85ce-475a-9b98-06a4a2afbfb0",
   "metadata": {},
   "outputs": [],
   "source": [
    "take!(ch)"
   ]
  },
  {
   "cell_type": "code",
   "execution_count": null,
   "id": "f62db1dd-5498-43f0-8ad5-6dcb910710be",
   "metadata": {},
   "outputs": [],
   "source": [
    "isready(ch)"
   ]
  },
  {
   "cell_type": "code",
   "execution_count": null,
   "id": "3cee7095-e4a9-49f5-b348-029f6b1c21b5",
   "metadata": {},
   "outputs": [],
   "source": [
    "put!(ch, 4)"
   ]
  },
  {
   "cell_type": "code",
   "execution_count": null,
   "id": "c27718a2-0bd2-4b59-af99-49f9f469330c",
   "metadata": {},
   "outputs": [],
   "source": [
    "fetch(ch)"
   ]
  },
  {
   "cell_type": "code",
   "execution_count": null,
   "id": "034b12a9-4193-49e7-b810-a0fa2111417c",
   "metadata": {},
   "outputs": [],
   "source": [
    "take!(ch)"
   ]
  },
  {
   "cell_type": "markdown",
   "id": "58f32c54-6228-4bf4-9147-aeddad6ec733",
   "metadata": {},
   "source": [
    "**Be careful**, `take!` and `put!` are blocking if the channel is empty or full!"
   ]
  },
  {
   "cell_type": "code",
   "execution_count": null,
   "id": "343889a2-974c-401f-adca-6b9f253b07fb",
   "metadata": {},
   "outputs": [],
   "source": [
    "isready(ch)"
   ]
  },
  {
   "cell_type": "code",
   "execution_count": null,
   "id": "85ba77d7-a90e-4116-94ed-b1fd9d485b17",
   "metadata": {},
   "outputs": [],
   "source": [
    "# take!(ch) if we execute this, while isready(ch) == false, the current Julia session will hang."
   ]
  },
  {
   "cell_type": "markdown",
   "id": "cd1adf11-c63a-4a50-9550-d41531b995bf",
   "metadata": {},
   "source": [
    "## Basic example"
   ]
  },
  {
   "cell_type": "code",
   "execution_count": 1,
   "id": "3075b677-1742-4912-b1a5-f9fc09c055db",
   "metadata": {},
   "outputs": [
    {
     "data": {
      "text/plain": [
       "Task (runnable) @0x000000010ddff6c0"
      ]
     },
     "execution_count": 1,
     "metadata": {},
     "output_type": "execute_result"
    }
   ],
   "source": [
    "c = Channel{Union{Nothing, Int}}(1)\n",
    "\n",
    "background_task = Threads.@spawn begin\n",
    "    while isopen(c)\n",
    "        el = take!(c)\n",
    "        if !isnothing(el)\n",
    "            println(\"Took element $el from channel.\")\n",
    "        else\n",
    "            println(\"Closing channel (saw `nothing`).\")\n",
    "            close(c)\n",
    "        end\n",
    "    end\n",
    "end"
   ]
  },
  {
   "cell_type": "code",
   "execution_count": 3,
   "id": "90c507fe-4c74-45db-b0fa-5b5035f5eb3d",
   "metadata": {},
   "outputs": [
    {
     "name": "stdout",
     "output_type": "stream",
     "text": [
      "Took element 3 from channel.\n"
     ]
    }
   ],
   "source": [
    "put!(c, 3);"
   ]
  },
  {
   "cell_type": "code",
   "execution_count": 4,
   "id": "f0fa3272-44c7-4153-b87f-cd4c8949cb8c",
   "metadata": {},
   "outputs": [
    {
     "name": "stdout",
     "output_type": "stream",
     "text": [
      "Closing channel (saw `nothing`).\n"
     ]
    }
   ],
   "source": [
    "put!(c, nothing);"
   ]
  },
  {
   "cell_type": "code",
   "execution_count": 5,
   "id": "2ec4125d-b5dd-40b1-9a0a-7937a9c16803",
   "metadata": {},
   "outputs": [
    {
     "data": {
      "text/plain": [
       "Task (done) @0x000000010ddff6c0"
      ]
     },
     "execution_count": 5,
     "metadata": {},
     "output_type": "execute_result"
    }
   ],
   "source": [
    "background_task"
   ]
  },
  {
   "cell_type": "markdown",
   "id": "18758bc8-e76f-4e59-be01-7c7cb854654a",
   "metadata": {},
   "source": [
    "Multiple (two) tasks:"
   ]
  },
  {
   "cell_type": "code",
   "execution_count": 11,
   "id": "269a2c6f-22db-455d-ae2e-a6f63cdb1504",
   "metadata": {},
   "outputs": [
    {
     "name": "stdout",
     "output_type": "stream",
     "text": [
      "Task2: Putting 1 into channel\n",
      "Task2: Putting 2 into channel\n",
      "Task1: Took element 1 from channel.\n",
      "Task2: Putting 3 into channel\n",
      "Task2: Putting 4 into channel\n",
      "Task1: Took element 2 from channel.\n",
      "Task2: Putting 5 into channel\n",
      "Task1: Took element 3 from channel.\n",
      "Task1: Took element 4 from channel.\n",
      "Task1: Took element 5 from channel.\n",
      "Task2: Putting 6 into channel\n",
      "Task2: Putting 7 into channel\n",
      "Task2: Putting 8 into channel\n",
      "Task1: Took element 6 from channel.\n",
      "Task2: Putting 9 into channel\n",
      "Task1: Took element 7 from channel.\n",
      "Task1: Took element 8 from channel.\n",
      "Task1: Took element 9 from channel.\n",
      "Task2: Putting 10 into channel\n",
      "Task2: Putting nothing into channel\n",
      "Task1: Took element 10 from channel.\n",
      "Task1: Closing channel (saw nothing).\n"
     ]
    }
   ],
   "source": [
    "c = Channel{Union{Nothing, Int}}(1)\n",
    "\n",
    "background_task = Threads.@spawn begin\n",
    "    while isopen(c)\n",
    "        el = take!(c)\n",
    "        if !isnothing(el)\n",
    "            println(\"Task1: Took element $el from channel.\")\n",
    "        else\n",
    "            println(\"Task1: Closing channel (saw nothing).\")\n",
    "            close(c)\n",
    "        end\n",
    "    end\n",
    "end\n",
    "\n",
    "putter_task = Threads.@spawn begin\n",
    "    for i in 1:10\n",
    "        println(\"Task2: Putting $i into channel\")\n",
    "        put!(c, i)\n",
    "    end\n",
    "    println(\"Task2: Putting nothing into channel\")\n",
    "    put!(c, nothing)\n",
    "end;"
   ]
  },
  {
   "cell_type": "markdown",
   "id": "6e934ff8-f723-4a0d-812e-99cc07c7ed28",
   "metadata": {},
   "source": [
    "## Example: parallel `findany`"
   ]
  },
  {
   "cell_type": "markdown",
   "id": "56e20836-153c-4e4b-84f8-8e89c0510aa4",
   "metadata": {},
   "source": [
    "`findany(pred, data)`: find **any** element in `data` for which the predicate (`pred`) is true. Return `nothing` if no element meets `pred`.\n",
    "\n",
    "(Compare to e.g. `findfirst(pred, data)`.)"
   ]
  },
  {
   "cell_type": "code",
   "execution_count": 42,
   "id": "3e39e2ee-9d16-4fe5-9f72-110b98e2ca94",
   "metadata": {},
   "outputs": [
    {
     "data": {
      "text/plain": [
       "findany (generic function with 1 method)"
      ]
     },
     "execution_count": 42,
     "metadata": {},
     "output_type": "execute_result"
    }
   ],
   "source": [
    "using ChunkSplitters\n",
    "\n",
    "function safe_put!(c, i)\n",
    "    try\n",
    "        put!(c, i)\n",
    "    catch e\n",
    "        # handle the case that the channel could have been closed in the meantime\n",
    "        e isa InvalidStateException || rethrow()\n",
    "    end\n",
    "end\n",
    "\n",
    "function findany(pred, data; nchunks=Threads.nthreads())\n",
    "    # Channel to synchronize tasks. Will either hold a result (Int) or nothing.\n",
    "    c = Channel{Union{Nothing,Int}}(1)\n",
    "\n",
    "    # One task per chunk\n",
    "    tasks = map(chunks(data, nchunks)) do (chunk_idcs, ichunk)\n",
    "        Threads.@spawn begin\n",
    "            found = false\n",
    "            for i in chunk_idcs\n",
    "                # if the channel is closed, some other task has already found something → stop\n",
    "                if !isopen(c)\n",
    "                    break\n",
    "                end\n",
    "\n",
    "                if pred(data[i])\n",
    "                    # found element, try to put it into the channel\n",
    "                    safe_put!(c, i)\n",
    "                    found = true\n",
    "                    break\n",
    "                end\n",
    "            end\n",
    "            if !found\n",
    "                # the task hasn't found an element in its chunk → put `nothing` into the channel\n",
    "                safe_put!(c, nothing)\n",
    "            end\n",
    "        end\n",
    "    end\n",
    "\n",
    "    # wait until we either have a result or all tasks have finished\n",
    "    cn = 0\n",
    "    result = nothing\n",
    "    while true\n",
    "        num = take!(c)\n",
    "        cn += 1\n",
    "        if num isa Int\n",
    "            result = num\n",
    "            break\n",
    "        elseif cn == nchunks\n",
    "            break\n",
    "        end\n",
    "    end\n",
    "    # close channel to notify all other tasks that they should stop\n",
    "    close(c)\n",
    "\n",
    "    # wait for all tasks to terminate\n",
    "    foreach(wait, tasks)\n",
    "\n",
    "    return result\n",
    "end"
   ]
  },
  {
   "cell_type": "code",
   "execution_count": 41,
   "id": "52e6760f-f63b-4080-b8b6-45d211599a7b",
   "metadata": {},
   "outputs": [
    {
     "data": {
      "text/plain": [
       "335"
      ]
     },
     "execution_count": 41,
     "metadata": {},
     "output_type": "execute_result"
    }
   ],
   "source": [
    "test = rand(1:10, 1000);\n",
    "\n",
    "function pred(x) # \"expensive\" predicate\n",
    "    sleep(0.1)\n",
    "    x == 10\n",
    "end\n",
    "\n",
    "findany(pred, test)"
   ]
  },
  {
   "cell_type": "code",
   "execution_count": 39,
   "id": "f4aecd2f-bc83-4bed-a2c2-07e2f2356b50",
   "metadata": {},
   "outputs": [
    {
     "name": "stdout",
     "output_type": "stream",
     "text": [
      "  1.729 s (138 allocations: 4.15 KiB)\n",
      "  305.756 ms (141 allocations: 6.89 KiB)\n"
     ]
    }
   ],
   "source": [
    "using BenchmarkTools\n",
    "\n",
    "@btime findfirst($pred, $test) samples = 5 evals = 3;\n",
    "@btime findany($pred, $test) samples = 5 evals = 3;"
   ]
  }
 ],
 "metadata": {
  "kernelspec": {
   "display_name": "Julia 1.9.3",
   "language": "julia",
   "name": "julia-1.9"
  },
  "language_info": {
   "file_extension": ".jl",
   "mimetype": "application/julia",
   "name": "julia",
   "version": "1.9.3"
  }
 },
 "nbformat": 4,
 "nbformat_minor": 5
}
