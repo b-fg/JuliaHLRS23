{
 "cells": [
  {
   "cell_type": "markdown",
   "id": "42d3d18f",
   "metadata": {},
   "source": [
    "# Specialization\n",
    "\n",
    "To be fast, Julia needs to **specialize** code, that is compile specific native versions of the code utilizing the type information. **The better the specialization the faster the code!**"
   ]
  },
  {
   "cell_type": "markdown",
   "id": "6add0fc5",
   "metadata": {
    "tags": []
   },
   "source": [
    "## \"Just ahead of time\" compilation\n",
    "\n",
    "* Julia **specializes on the types of function arguments** and \n",
    "* compiles efficient machine code **when a function is called for the first time** (with these input argument types).\n",
    "\n",
    "If the same function is called again with the same input argument types, the already existing machine code is reused.\n"
   ]
  },
  {
   "cell_type": "code",
   "execution_count": 27,
   "id": "fc2352e8",
   "metadata": {},
   "outputs": [
    {
     "data": {
      "text/plain": [
       "func (generic function with 1 method)"
      ]
     },
     "metadata": {},
     "output_type": "display_data"
    }
   ],
   "source": [
    "func(x,y) = 2x + y"
   ]
  },
  {
   "cell_type": "code",
   "execution_count": 28,
   "id": "5fa5f7c9",
   "metadata": {},
   "outputs": [
    {
     "name": "stdout",
     "output_type": "stream",
     "text": [
      "  0.005169 seconds (441 allocations: 30.921 KiB, 99.60% compilation time)\n",
      "  0.000007 seconds (2 allocations: 160 bytes)\n"
     ]
    }
   ],
   "source": [
    "x = [1.2, 3.4, 5.6] # Vector{Float64}\n",
    "y = [0.4, 0.7, 0.9] # Vector{Float64}\n",
    "\n",
    "@time func(x,y);\n",
    "@time func(x,y);"
   ]
  },
  {
   "cell_type": "markdown",
   "id": "b4a475ea",
   "metadata": {},
   "source": [
    "**First call:** compilation + running the code\n",
    "\n",
    "**Second call:** running the code\n"
   ]
  },
  {
   "cell_type": "code",
   "execution_count": 29,
   "id": "44115394",
   "metadata": {},
   "outputs": [
    {
     "name": "stdout",
     "output_type": "stream",
     "text": [
      "  0.000008 seconds (2 allocations: 160 bytes)\n"
     ]
    }
   ],
   "source": [
    "@time func(x,y);"
   ]
  },
  {
   "cell_type": "markdown",
   "id": "f74b788e",
   "metadata": {},
   "source": [
    "If one of the input types changes, Julia compiles a new specialization of the function!\n"
   ]
  },
  {
   "cell_type": "code",
   "execution_count": 30,
   "id": "21df8af7",
   "metadata": {},
   "outputs": [
    {
     "data": {
      "text/plain": [
       "Vector{Float64}\u001b[90m (alias for \u001b[39m\u001b[90mArray{Float64, 1}\u001b[39m\u001b[90m)\u001b[39m"
      ]
     },
     "metadata": {},
     "output_type": "display_data"
    }
   ],
   "source": [
    "typeof(x)"
   ]
  },
  {
   "cell_type": "code",
   "execution_count": 31,
   "id": "4add9224",
   "metadata": {},
   "outputs": [
    {
     "data": {
      "text/plain": [
       "3-element Vector{Int64}:\n",
       " 1\n",
       " 3\n",
       " 5"
      ]
     },
     "metadata": {},
     "output_type": "display_data"
    }
   ],
   "source": [
    "x = [1, 3, 5]"
   ]
  },
  {
   "cell_type": "code",
   "execution_count": 32,
   "id": "0eb28c62",
   "metadata": {},
   "outputs": [
    {
     "data": {
      "text/plain": [
       "Vector{Int64}\u001b[90m (alias for \u001b[39m\u001b[90mArray{Int64, 1}\u001b[39m\u001b[90m)\u001b[39m"
      ]
     },
     "metadata": {},
     "output_type": "display_data"
    }
   ],
   "source": [
    "typeof(x)"
   ]
  },
  {
   "cell_type": "code",
   "execution_count": 33,
   "id": "49854ab2",
   "metadata": {},
   "outputs": [
    {
     "name": "stdout",
     "output_type": "stream",
     "text": [
      "  0.132855 seconds (166.58 k allocations: 11.230 MiB, 99.98% compilation time)\n",
      "  0.000010 seconds (2 allocations: 160 bytes)\n"
     ]
    }
   ],
   "source": [
    "@time func(x,y); # Vector{Int64}, Vector{Float64}\n",
    "@time func(x,y);"
   ]
  },
  {
   "cell_type": "markdown",
   "id": "b5c9af6e-a348-4871-aa89-53f310098baa",
   "metadata": {},
   "source": [
    "We now have two efficient native codes in the cache: one for all `Vector{Float64}` inputs and another one for `Vector{Int64}` as the first and `Vector{Float64}` as the second argument type."
   ]
  },
  {
   "cell_type": "code",
   "execution_count": 34,
   "id": "37b8c246-cad7-4155-8fc5-899862be6cee",
   "metadata": {},
   "outputs": [
    {
     "data": {
      "text/html": [
       "# 1 method for generic function <b>func</b> from \u001b[36mMain\u001b[39m:<ul><li> func(x, y) in Main at <a href=\"https://github.com/carstenbauer/JuliaHLRS23/tree/0eeea8c65a85b8f61b0da6a94e2ac28df4baa12a//notebooks/1_2_specialization.ipynb#L1\" target=\"_blank\">/Users/crstnbr/repos/JuliaWorkshops/JuliaHLRS23/notebooks/1_2_specialization.ipynb:1</a></li> </ul>"
      ],
      "text/plain": [
       "# 1 method for generic function \"func\" from \u001b[36mMain\u001b[39m:\n",
       " [1] func(\u001b[90mx\u001b[39m, \u001b[90my\u001b[39m)\n",
       "\u001b[90m     @\u001b[39m \u001b[90m~/repos/JuliaWorkshops/JuliaHLRS23/notebooks/\u001b[39m\u001b[90m\u001b[4m1_2_specialization.ipynb:1\u001b[24m\u001b[39m"
      ]
     },
     "metadata": {},
     "output_type": "display_data"
    }
   ],
   "source": [
    "methods(func)"
   ]
  },
  {
   "cell_type": "code",
   "execution_count": 35,
   "id": "a8254a81-c2a3-4773-9c4f-7ed7ef160dee",
   "metadata": {},
   "outputs": [
    {
     "data": {
      "text/plain": [
       "2-element Vector{Core.MethodInstance}:\n",
       " MethodInstance for func(::Vector{Float64}, ::Vector{Float64})\n",
       " MethodInstance for func(::Vector{Int64}, ::Vector{Float64})"
      ]
     },
     "metadata": {},
     "output_type": "display_data"
    }
   ],
   "source": [
    "using MethodAnalysis\n",
    "methodinstances(func)"
   ]
  },
  {
   "cell_type": "markdown",
   "id": "20d5e0dc-d5ea-4e8c-b285-df29f3a37105",
   "metadata": {},
   "source": [
    "### Compilation pipeline\n",
    "\n",
    "<p><img src=\"./imgs/from_source_to_native.png\" alt=\"drawing\" width=\"800\"/></p>\n"
   ]
  },
  {
   "cell_type": "markdown",
   "id": "aac4fcc5-1839-4d3b-9243-886e3be7bd4e",
   "metadata": {},
   "source": [
    "### What makes Julia fast?\n",
    "\n",
    "(Successful) **Type inference** -> **Specialization** -> **Compilation**"
   ]
  },
  {
   "cell_type": "markdown",
   "id": "75b6c894-0b8b-4457-aa21-c82389fa7671",
   "metadata": {},
   "source": [
    "## Introspection tools\n",
    "#### (*But I really want to see what happens!*)\n",
    "\n",
    "We can inspect the code at all transformation stages with a bunch of macros:\n",
    "\n",
    "<img src=\"./imgs/julia_introspection_macros.png\" width=350px>"
   ]
  },
  {
   "cell_type": "code",
   "execution_count": 36,
   "id": "fa7a2b0b",
   "metadata": {},
   "outputs": [
    {
     "data": {
      "text/plain": [
       "quote\n",
       "    \u001b[90m#= timing.jl:263 =#\u001b[39m\n",
       "    begin\n",
       "        \u001b[90m#= timing.jl:268 =#\u001b[39m\n",
       "        $(Expr(:meta, :force_compile))\n",
       "        \u001b[90m#= timing.jl:269 =#\u001b[39m\n",
       "        local var\"#202#stats\" = Base.gc_num()\n",
       "        \u001b[90m#= timing.jl:270 =#\u001b[39m\n",
       "        local var\"#204#elapsedtime\" = Base.time_ns()\n",
       "        \u001b[90m#= timing.jl:271 =#\u001b[39m\n",
       "        Base.cumulative_compile_timing(true)\n",
       "        \u001b[90m#= timing.jl:272 =#\u001b[39m\n",
       "        local var\"#205#compile_elapsedtimes\" = Base.cumulative_compile_time_ns()\n",
       "        \u001b[90m#= timing.jl:273 =#\u001b[39m\n",
       "        local var\"#203#val\" = $(Expr(:tryfinally, :(3 + 3), quote\n",
       "    var\"#204#elapsedtime\" = Base.time_ns() - var\"#204#elapsedtime\"\n",
       "    \u001b[90m#= timing.jl:275 =#\u001b[39m\n",
       "    Base.cumulative_compile_timing(false)\n",
       "    \u001b[90m#= timing.jl:276 =#\u001b[39m\n",
       "    var\"#205#compile_elapsedtimes\" = Base.cumulative_compile_time_ns() .- var\"#205#compile_elapsedtimes\"\n",
       "end))\n",
       "        \u001b[90m#= timing.jl:278 =#\u001b[39m\n",
       "        local var\"#206#diff\" = Base.GC_Diff(Base.gc_num(), var\"#202#stats\")\n",
       "        \u001b[90m#= timing.jl:279 =#\u001b[39m\n",
       "        local var\"#207#_msg\" = Base.nothing\n",
       "        \u001b[90m#= timing.jl:280 =#\u001b[39m\n",
       "        local var\"#208#has_msg\" = !(Base.isnothing(var\"#207#_msg\"))\n",
       "        \u001b[90m#= timing.jl:281 =#\u001b[39m\n",
       "        var\"#208#has_msg\" && Base.print(var\"#207#_msg\", \": \")\n",
       "        \u001b[90m#= timing.jl:282 =#\u001b[39m\n",
       "        Base.time_print(var\"#204#elapsedtime\", (var\"#206#diff\").allocd, (var\"#206#diff\").total_time, Base.gc_alloc_count(var\"#206#diff\"), Base.first(var\"#205#compile_elapsedtimes\"), Base.last(var\"#205#compile_elapsedtimes\"), true, !var\"#208#has_msg\")\n",
       "        \u001b[90m#= timing.jl:283 =#\u001b[39m\n",
       "        var\"#203#val\"\n",
       "    end\n",
       "end"
      ]
     },
     "metadata": {},
     "output_type": "display_data"
    }
   ],
   "source": [
    "@macroexpand @time 3+3"
   ]
  },
  {
   "cell_type": "code",
   "execution_count": 37,
   "id": "42a0d257",
   "metadata": {},
   "outputs": [
    {
     "data": {
      "text/plain": [
       "CodeInfo(\n",
       "\u001b[90m1 ─\u001b[39m %1 = Base.mul_float(2.0, x)\u001b[36m::Float64\u001b[39m\n",
       "\u001b[90m│  \u001b[39m %2 = Base.add_float(%1, y)\u001b[36m::Float64\u001b[39m\n",
       "\u001b[90m└──\u001b[39m      return %2\n",
       ") => Float64"
      ]
     },
     "metadata": {},
     "output_type": "display_data"
    }
   ],
   "source": [
    "@code_typed func(1.0,2.0)"
   ]
  },
  {
   "cell_type": "markdown",
   "id": "726260fe",
   "metadata": {},
   "source": [
    "From the types of the input arguments, Julia has figured out all the intermediate types and replaced the generic functions `*` and `+` by specific implementations (**static dispatch**). This crucial process is known as **type inference** and its success is the basis for a good specialization (i.e. performant native code as a result). It will concern us in much more detail tomorrow."
   ]
  },
  {
   "cell_type": "code",
   "execution_count": 38,
   "id": "01a33e20",
   "metadata": {},
   "outputs": [
    {
     "name": "stdout",
     "output_type": "stream",
     "text": [
      "\u001b[95mdefine\u001b[39m \u001b[36mdouble\u001b[39m \u001b[93m@julia_func_2409\u001b[39m\u001b[33m(\u001b[39m\u001b[36mdouble\u001b[39m \u001b[0m%0\u001b[0m, \u001b[36mdouble\u001b[39m \u001b[0m%1\u001b[33m)\u001b[39m \u001b[0m#0 \u001b[33m{\u001b[39m\n",
      "\u001b[91mtop:\u001b[39m\n",
      "  \u001b[0m%2 \u001b[0m= \u001b[96m\u001b[1mfmul\u001b[22m\u001b[39m \u001b[36mdouble\u001b[39m \u001b[0m%0\u001b[0m, \u001b[33m2.000000e+00\u001b[39m\n",
      "  \u001b[0m%3 \u001b[0m= \u001b[96m\u001b[1mfadd\u001b[22m\u001b[39m \u001b[36mdouble\u001b[39m \u001b[0m%2\u001b[0m, \u001b[0m%1\n",
      "  \u001b[96m\u001b[1mret\u001b[22m\u001b[39m \u001b[36mdouble\u001b[39m \u001b[0m%3\n",
      "\u001b[33m}\u001b[39m\n"
     ]
    }
   ],
   "source": [
    "@code_llvm debuginfo=:none func(1.0,2.0)"
   ]
  },
  {
   "cell_type": "code",
   "execution_count": 39,
   "id": "dae32331",
   "metadata": {},
   "outputs": [
    {
     "name": "stdout",
     "output_type": "stream",
     "text": [
      "\t\u001b[0m.section\t\u001b[0m__TEXT\u001b[0m,\u001b[0m__text\u001b[0m,\u001b[0mregular\u001b[0m,\u001b[0mpure_instructions\n",
      "\t\u001b[0m.build_version \u001b[0mmacos\u001b[0m, \u001b[33m14\u001b[39m\u001b[0m, \u001b[33m0\u001b[39m\n",
      "\t\u001b[0m.globl\t\u001b[0m_julia_func_2425                \u001b[0m## \u001b[0m-- \u001b[0mBegin \u001b[0mfunction \u001b[0mjulia_func_2425\n",
      "\t\u001b[0m.p2align\t\u001b[33m4\u001b[39m\u001b[0m, \u001b[33m0x90\u001b[39m\n",
      "\u001b[91m_julia_func_2425:\u001b[39m                       \u001b[0m## \u001b[0m@julia_func_2425\n",
      "\t\u001b[0m.cfi_startproc\n",
      "\u001b[0m## \u001b[0m%bb.0\u001b[0m:                               \u001b[0m## \u001b[0m%top\n",
      "\t\u001b[96m\u001b[1mvaddsd\u001b[22m\u001b[39m\t\u001b[0m%xmm0\u001b[0m, \u001b[0m%xmm0\u001b[0m, \u001b[0m%xmm0\n",
      "\t\u001b[96m\u001b[1mvaddsd\u001b[22m\u001b[39m\t\u001b[0m%xmm1\u001b[0m, \u001b[0m%xmm0\u001b[0m, \u001b[0m%xmm0\n",
      "\t\u001b[96m\u001b[1mretq\u001b[22m\u001b[39m\n",
      "\t\u001b[0m.cfi_endproc\n",
      "                                        \u001b[0m## \u001b[0m-- \u001b[0mEnd \u001b[0mfunction\n",
      "\u001b[0m.subsections_via_symbols\n"
     ]
    }
   ],
   "source": [
    "@code_native debuginfo=:none func(1.0,2.0)"
   ]
  },
  {
   "cell_type": "markdown",
   "id": "c8b6ed56",
   "metadata": {},
   "source": [
    "Let's compare this to integer input.\n"
   ]
  },
  {
   "cell_type": "code",
   "execution_count": 40,
   "id": "ff6e9653",
   "metadata": {},
   "outputs": [
    {
     "name": "stdout",
     "output_type": "stream",
     "text": [
      "\t\u001b[0m.section\t\u001b[0m__TEXT\u001b[0m,\u001b[0m__text\u001b[0m,\u001b[0mregular\u001b[0m,\u001b[0mpure_instructions\n",
      "\t\u001b[0m.build_version \u001b[0mmacos\u001b[0m, \u001b[33m14\u001b[39m\u001b[0m, \u001b[33m0\u001b[39m\n",
      "\t\u001b[0m.globl\t\u001b[0m_julia_func_2427                \u001b[0m## \u001b[0m-- \u001b[0mBegin \u001b[0mfunction \u001b[0mjulia_func_2427\n",
      "\t\u001b[0m.p2align\t\u001b[33m4\u001b[39m\u001b[0m, \u001b[33m0x90\u001b[39m\n",
      "\u001b[91m_julia_func_2427:\u001b[39m                       \u001b[0m## \u001b[0m@julia_func_2427\n",
      "\t\u001b[0m.cfi_startproc\n",
      "\u001b[0m## \u001b[0m%bb.0\u001b[0m:                               \u001b[0m## \u001b[0m%top\n",
      "\t\u001b[96m\u001b[1mleaq\u001b[22m\u001b[39m\t\u001b[33m(\u001b[39m\u001b[0m%rsi\u001b[0m,\u001b[0m%rdi\u001b[0m,\u001b[33m2\u001b[39m\u001b[33m)\u001b[39m\u001b[0m, \u001b[0m%rax\n",
      "\t\u001b[96m\u001b[1mretq\u001b[22m\u001b[39m\n",
      "\t\u001b[0m.cfi_endproc\n",
      "                                        \u001b[0m## \u001b[0m-- \u001b[0mEnd \u001b[0mfunction\n",
      "\u001b[0m.subsections_via_symbols\n"
     ]
    }
   ],
   "source": [
    "@code_native debuginfo=:none func(1,2)"
   ]
  },
  {
   "cell_type": "markdown",
   "id": "2dc2ea6d",
   "metadata": {},
   "source": [
    "### Recommendation: [Cthulhu.jl](https://github.com/JuliaDebug/Cthulhu.jl)\n",
    "While these introspection macros are great, I recommend to use `@descend` from the package [Cthulhu.jl](https://github.com/JuliaDebug/Cthulhu.jl) for real world code analysis.\n",
    "\n",
    "Essentially, Cthulhu is an **interactive**, more powerful generalization of the macros above.\n",
    "\n",
    "* Allows easy switching between code representations (syntax, typed, native, ...).\n",
    "* **Recursive application possible**(!) (i.e. introspecting a function that is called within a function within function ...).\n",
    "\n",
    "However, due to its interactivity, it doesn't work in Jupyter but **only works in the REPL** (→ exercise).\n",
    "\n",
    "<img src=\"imgs/cthulhu.png\" width=1000>"
   ]
  },
  {
   "cell_type": "markdown",
   "id": "45872508",
   "metadata": {},
   "source": [
    "## How important is specialization?\n",
    "\n",
    "Let's try to estimate the performance gain by specialization.\n",
    "\n",
    "To prevent specialization, we deliberately throw away any useful type information and operate on a `Vector{Any}` that can literally store anything!\n",
    "\n",
    "(This is qualitatively comparable to what Python does.)\n"
   ]
  },
  {
   "cell_type": "code",
   "execution_count": 2,
   "id": "307bed1e",
   "metadata": {},
   "outputs": [
    {
     "data": {
      "text/plain": [
       "func (generic function with 1 method)"
      ]
     },
     "execution_count": 2,
     "metadata": {},
     "output_type": "execute_result"
    }
   ],
   "source": [
    "func(v) = 2*v[1] + v[2] # version of func that takes in a vector"
   ]
  },
  {
   "cell_type": "code",
   "execution_count": 53,
   "id": "6ef3134a-027f-41c3-8d7f-11ffe11ca355",
   "metadata": {},
   "outputs": [
    {
     "data": {
      "text/plain": [
       "2-element Vector{Float64}:\n",
       " 0.7794739907620628\n",
       " 0.20580422926731945"
      ]
     },
     "metadata": {},
     "output_type": "display_data"
    }
   ],
   "source": [
    "rand(2)"
   ]
  },
  {
   "cell_type": "code",
   "execution_count": 54,
   "id": "e3c6ae38-70dd-42a3-a723-8b4eea2bacab",
   "metadata": {},
   "outputs": [
    {
     "data": {
      "text/plain": [
       "2-element Vector{Any}:\n",
       " 0.42689498894071154\n",
       " 0.5196898151534661"
      ]
     },
     "metadata": {},
     "output_type": "display_data"
    }
   ],
   "source": [
    "Any[rand(), rand()]"
   ]
  },
  {
   "cell_type": "markdown",
   "id": "f49529fb",
   "metadata": {},
   "source": [
    "For benchmarking we will use `@btime` (or `@benchmark`) from [BenchmarkTools.jl](https://github.com/JuliaCI/BenchmarkTools.jl). This will take care of a couple of things for us:\n",
    "* Exclude first run.\n",
    "* Run the code multiple times (→ statistics).\n",
    "* Benchmark in a function (local scope).\n",
    "\n",
    "**General rule:** For proper benchmarking don't use `@time` but `@btime` and interpolate (`$`) global input arguments."
   ]
  },
  {
   "cell_type": "code",
   "execution_count": 71,
   "id": "d7eadf19",
   "metadata": {},
   "outputs": [
    {
     "name": "stdout",
     "output_type": "stream",
     "text": [
      "  3.911 ns (0 allocations: 0 bytes)\n",
      "  59.210 ns (2 allocations: 32 bytes)\n"
     ]
    }
   ],
   "source": [
    "using BenchmarkTools\n",
    "\n",
    "v_typed = rand(2)\n",
    "v_any = Any[rand(), rand()]\n",
    "\n",
    "@btime func($v_typed);\n",
    "@btime func($v_any);"
   ]
  },
  {
   "cell_type": "code",
   "execution_count": 75,
   "id": "8283840e",
   "metadata": {},
   "outputs": [
    {
     "data": {
      "text/plain": [
       "BenchmarkTools.Trial: 10000 samples with 982 evaluations.\n",
       " Range \u001b[90m(\u001b[39m\u001b[36m\u001b[1mmin\u001b[22m\u001b[39m … \u001b[35mmax\u001b[39m\u001b[90m):  \u001b[39m\u001b[36m\u001b[1m59.281 ns\u001b[22m\u001b[39m … \u001b[35m 1.368 μs\u001b[39m  \u001b[90m┊\u001b[39m GC \u001b[90m(\u001b[39mmin … max\u001b[90m): \u001b[39m0.00% … 93.44%\n",
       " Time  \u001b[90m(\u001b[39m\u001b[34m\u001b[1mmedian\u001b[22m\u001b[39m\u001b[90m):     \u001b[39m\u001b[34m\u001b[1m60.903 ns              \u001b[22m\u001b[39m\u001b[90m┊\u001b[39m GC \u001b[90m(\u001b[39mmedian\u001b[90m):    \u001b[39m0.00%\n",
       " Time  \u001b[90m(\u001b[39m\u001b[32m\u001b[1mmean\u001b[22m\u001b[39m ± \u001b[32mσ\u001b[39m\u001b[90m):   \u001b[39m\u001b[32m\u001b[1m62.696 ns\u001b[22m\u001b[39m ± \u001b[32m31.323 ns\u001b[39m  \u001b[90m┊\u001b[39m GC \u001b[90m(\u001b[39mmean ± σ\u001b[90m):  \u001b[39m1.18% ±  2.28%\n",
       "\n",
       "  \u001b[39m \u001b[39m█\u001b[39m█\u001b[34m▃\u001b[39m\u001b[39m \u001b[39m \u001b[32m \u001b[39m\u001b[39m \u001b[39m \u001b[39m \u001b[39m \u001b[39m \u001b[39m \u001b[39m \u001b[39m \u001b[39m \u001b[39m \u001b[39m \u001b[39m \u001b[39m \u001b[39m \u001b[39m \u001b[39m \u001b[39m \u001b[39m \u001b[39m \u001b[39m \u001b[39m \u001b[39m \u001b[39m \u001b[39m \u001b[39m \u001b[39m \u001b[39m \u001b[39m \u001b[39m \u001b[39m \u001b[39m \u001b[39m \u001b[39m \u001b[39m \u001b[39m \u001b[39m \u001b[39m \u001b[39m \u001b[39m \u001b[39m \u001b[39m \u001b[39m \u001b[39m \u001b[39m \u001b[39m \u001b[39m \u001b[39m \u001b[39m \u001b[39m \u001b[39m \u001b[39m \u001b[39m \u001b[39m \u001b[39m \n",
       "  \u001b[39m▅\u001b[39m█\u001b[39m█\u001b[34m█\u001b[39m\u001b[39m▇\u001b[39m▆\u001b[32m▆\u001b[39m\u001b[39m▄\u001b[39m▃\u001b[39m▃\u001b[39m▂\u001b[39m▂\u001b[39m▂\u001b[39m▂\u001b[39m▂\u001b[39m▂\u001b[39m▂\u001b[39m▂\u001b[39m▂\u001b[39m▂\u001b[39m▂\u001b[39m▂\u001b[39m▂\u001b[39m▂\u001b[39m▂\u001b[39m▂\u001b[39m▂\u001b[39m▂\u001b[39m▂\u001b[39m▂\u001b[39m▂\u001b[39m▂\u001b[39m▂\u001b[39m▂\u001b[39m▂\u001b[39m▂\u001b[39m▂\u001b[39m▂\u001b[39m▂\u001b[39m▂\u001b[39m▂\u001b[39m▂\u001b[39m▂\u001b[39m▂\u001b[39m▂\u001b[39m▂\u001b[39m▂\u001b[39m▁\u001b[39m▂\u001b[39m▂\u001b[39m▁\u001b[39m▁\u001b[39m▂\u001b[39m▁\u001b[39m▂\u001b[39m▂\u001b[39m▂\u001b[39m▂\u001b[39m▂\u001b[39m \u001b[39m▃\n",
       "  59.3 ns\u001b[90m         Histogram: frequency by time\u001b[39m        92.5 ns \u001b[0m\u001b[1m<\u001b[22m\n",
       "\n",
       " Memory estimate\u001b[90m: \u001b[39m\u001b[33m32 bytes\u001b[39m, allocs estimate\u001b[90m: \u001b[39m\u001b[33m2\u001b[39m."
      ]
     },
     "metadata": {},
     "output_type": "display_data"
    }
   ],
   "source": [
    "@benchmark func($v_any)"
   ]
  },
  {
   "cell_type": "code",
   "execution_count": 7,
   "id": "aaaf2ba3-ac9b-4cdf-a5a0-17e748f1b4cc",
   "metadata": {},
   "outputs": [
    {
     "data": {
      "text/plain": [
       "CodeInfo(\n",
       "\u001b[90m1 ─\u001b[39m %1 = Base.arrayref(true, v, 1)\u001b[36m::Float64\u001b[39m\n",
       "\u001b[90m│  \u001b[39m %2 = Base.mul_float(2.0, %1)\u001b[36m::Float64\u001b[39m\n",
       "\u001b[90m│  \u001b[39m %3 = Base.arrayref(true, v, 2)\u001b[36m::Float64\u001b[39m\n",
       "\u001b[90m│  \u001b[39m %4 = Base.add_float(%2, %3)\u001b[36m::Float64\u001b[39m\n",
       "\u001b[90m└──\u001b[39m      return %4\n",
       ") => Float64"
      ]
     },
     "execution_count": 7,
     "metadata": {},
     "output_type": "execute_result"
    }
   ],
   "source": [
    "@code_typed func(rand(2))"
   ]
  },
  {
   "cell_type": "code",
   "execution_count": 8,
   "id": "c70cd881-b2f0-4559-8015-5953c3fea257",
   "metadata": {},
   "outputs": [
    {
     "data": {
      "text/plain": [
       "CodeInfo(\n",
       "\u001b[90m1 ─\u001b[39m %1 = Base.arrayref(true, v, 1)\u001b[36m::Any\u001b[39m\n",
       "\u001b[90m│  \u001b[39m %2 = (2 * %1)\u001b[36m::Any\u001b[39m\n",
       "\u001b[90m│  \u001b[39m %3 = Base.arrayref(true, v, 2)\u001b[36m::Any\u001b[39m\n",
       "\u001b[90m│  \u001b[39m %4 = (%2 + %3)\u001b[36m::Any\u001b[39m\n",
       "\u001b[90m└──\u001b[39m      return %4\n",
       ") => Any"
      ]
     },
     "execution_count": 8,
     "metadata": {},
     "output_type": "execute_result"
    }
   ],
   "source": [
    "@code_typed func(Any[rand(), rand()])"
   ]
  },
  {
   "cell_type": "markdown",
   "id": "21663ee4-0c69-4d76-83de-cea6a56a791f",
   "metadata": {},
   "source": [
    "Note that in the latter case the generic functions `*` and `+` can not be replaced by specific variants due to lack of type information. This leads to inefficient **runtime dispatch**."
   ]
  },
  {
   "cell_type": "markdown",
   "id": "cc90c012",
   "metadata": {},
   "source": [
    "## Dispatch and specialization\n",
    "\n",
    "**Types drive both dispatch and specialization.**\n",
    "\n",
    "First, the most specific method is selected (dispatch), then it gets compiled to efficient native code (specialization)."
   ]
  },
  {
   "cell_type": "code",
   "execution_count": 7,
   "id": "274d6488",
   "metadata": {},
   "outputs": [
    {
     "data": {
      "text/plain": [
       "myabs (generic function with 2 methods)"
      ]
     },
     "metadata": {},
     "output_type": "display_data"
    }
   ],
   "source": [
    "myabs(x::Real) = sign(x) * x\n",
    "myabs(z::Complex) = sqrt(real(z * conj(z)))"
   ]
  },
  {
   "cell_type": "code",
   "execution_count": 22,
   "id": "b9145b69",
   "metadata": {},
   "outputs": [
    {
     "name": "stdout",
     "output_type": "stream",
     "text": [
      "\t\u001b[0m.section\t\u001b[0m__TEXT\u001b[0m,\u001b[0m__text\u001b[0m,\u001b[0mregular\u001b[0m,\u001b[0mpure_instructions\n",
      "\t\u001b[0m.build_version \u001b[0mmacos\u001b[0m, \u001b[33m14\u001b[39m\u001b[0m, \u001b[33m0\u001b[39m\n",
      "\t\u001b[0m.globl\t\u001b[0m_julia_myabs_1486               \u001b[0m## \u001b[0m-- \u001b[0mBegin \u001b[0mfunction \u001b[0mjulia_myabs_1486\n",
      "\t\u001b[0m.p2align\t\u001b[33m4\u001b[39m\u001b[0m, \u001b[33m0x90\u001b[39m\n",
      "\u001b[91m_julia_myabs_1486:\u001b[39m                      \u001b[0m## \u001b[0m@julia_myabs_1486\n",
      "\u001b[90m; ┌ @ /Users/crstnbr/repos/JuliaWorkshops/JuliaHLRS23/notebooks/1_2_specialization.ipynb:2 within `myabs`\u001b[39m\n",
      "\t\u001b[0m.cfi_startproc\n",
      "\u001b[0m## \u001b[0m%bb.0\u001b[0m:                               \u001b[0m## \u001b[0m%top\n",
      "\u001b[90m; │┌ @ complex.jl:293 within `*` @ float.jl:410\u001b[39m\n",
      "\t\u001b[96m\u001b[1mvmovupd\u001b[22m\u001b[39m\t\u001b[33m(\u001b[39m\u001b[0m%rdi\u001b[33m)\u001b[39m\u001b[0m, \u001b[0m%xmm0\n",
      "\t\u001b[96m\u001b[1mvmulpd\u001b[22m\u001b[39m\t\u001b[0m%xmm0\u001b[0m, \u001b[0m%xmm0\u001b[0m, \u001b[0m%xmm0\n",
      "\u001b[90m; ││ @ complex.jl:293 within `*`\u001b[39m\n",
      "\u001b[90m; ││┌ @ float.jl:409 within `-`\u001b[39m\n",
      "\t\u001b[96m\u001b[1mvpermilpd\u001b[22m\u001b[39m\t\u001b[33m$1\u001b[39m\u001b[0m, \u001b[0m%xmm0\u001b[0m, \u001b[0m%xmm1        \u001b[0m## \u001b[0mxmm1 \u001b[0m= \u001b[0mxmm0\u001b[33m[\u001b[39m\u001b[33m1\u001b[39m\u001b[0m,\u001b[33m0\u001b[39m\u001b[33m]\u001b[39m\n",
      "\t\u001b[96m\u001b[1mvaddsd\u001b[22m\u001b[39m\t\u001b[0m%xmm1\u001b[0m, \u001b[0m%xmm0\u001b[0m, \u001b[0m%xmm0\n",
      "\u001b[90m; │└└\u001b[39m\n",
      "\u001b[90m; │┌ @ math.jl:678 within `sqrt`\u001b[39m\n",
      "\t\u001b[96m\u001b[1mvsqrtsd\u001b[22m\u001b[39m\t\u001b[0m%xmm0\u001b[0m, \u001b[0m%xmm0\u001b[0m, \u001b[0m%xmm0\n",
      "\u001b[90m; │└\u001b[39m\n",
      "\t\u001b[96m\u001b[1mretq\u001b[22m\u001b[39m\n",
      "\t\u001b[0m.cfi_endproc\n",
      "\u001b[90m; └\u001b[39m\n",
      "                                        \u001b[0m## \u001b[0m-- \u001b[0mEnd \u001b[0mfunction\n",
      "\u001b[0m.subsections_via_symbols\n"
     ]
    }
   ],
   "source": [
    "@code_native myabs(3.2 + 4.5im)"
   ]
  },
  {
   "cell_type": "code",
   "execution_count": 23,
   "id": "1a5fb226",
   "metadata": {},
   "outputs": [
    {
     "name": "stdout",
     "output_type": "stream",
     "text": [
      "\t\u001b[0m.section\t\u001b[0m__TEXT\u001b[0m,\u001b[0m__text\u001b[0m,\u001b[0mregular\u001b[0m,\u001b[0mpure_instructions\n",
      "\t\u001b[0m.build_version \u001b[0mmacos\u001b[0m, \u001b[33m14\u001b[39m\u001b[0m, \u001b[33m0\u001b[39m\n",
      "\t\u001b[0m.globl\t\u001b[0m_julia_myabs_1489               \u001b[0m## \u001b[0m-- \u001b[0mBegin \u001b[0mfunction \u001b[0mjulia_myabs_1489\n",
      "\t\u001b[0m.p2align\t\u001b[33m4\u001b[39m\u001b[0m, \u001b[33m0x90\u001b[39m\n",
      "\u001b[91m_julia_myabs_1489:\u001b[39m                      \u001b[0m## \u001b[0m@julia_myabs_1489\n",
      "\u001b[90m; ┌ @ /Users/crstnbr/repos/JuliaWorkshops/JuliaHLRS23/notebooks/1_2_specialization.ipynb:2 within `myabs`\u001b[39m\n",
      "\t\u001b[0m.cfi_startproc\n",
      "\u001b[0m## \u001b[0m%bb.0\u001b[0m:                               \u001b[0m## \u001b[0m%top\n",
      "\t\u001b[96m\u001b[1msubq\u001b[22m\u001b[39m\t\u001b[33m$8\u001b[39m\u001b[0m, \u001b[0m%rsp\n",
      "\t\u001b[0m.cfi_def_cfa_offset \u001b[33m16\u001b[39m\n",
      "\u001b[90m; │┌ @ complex.jl:293 within `*` @ int.jl:88\u001b[39m\n",
      "\t\u001b[96m\u001b[1mmovq\u001b[22m\u001b[39m\t\u001b[33m(\u001b[39m\u001b[0m%rdi\u001b[33m)\u001b[39m\u001b[0m, \u001b[0m%rax\n",
      "\u001b[90m; │└\u001b[39m\n",
      "\u001b[90m; │┌ @ complex.jl:279 within `conj`\u001b[39m\n",
      "\u001b[90m; ││┌ @ int.jl:85 within `-`\u001b[39m\n",
      "\t\u001b[96m\u001b[1mmovq\u001b[22m\u001b[39m\t\u001b[33m8\u001b[39m\u001b[33m(\u001b[39m\u001b[0m%rdi\u001b[33m)\u001b[39m\u001b[0m, \u001b[0m%rcx\n",
      "\u001b[90m; │└└\u001b[39m\n",
      "\u001b[90m; │┌ @ complex.jl:293 within `*` @ int.jl:88\u001b[39m\n",
      "\t\u001b[96m\u001b[1mimulq\u001b[22m\u001b[39m\t\u001b[0m%rax\u001b[0m, \u001b[0m%rax\n",
      "\t\u001b[96m\u001b[1mimulq\u001b[22m\u001b[39m\t\u001b[0m%rcx\u001b[0m, \u001b[0m%rcx\n",
      "\u001b[90m; ││ @ complex.jl:293 within `*`\u001b[39m\n",
      "\u001b[90m; ││┌ @ int.jl:86 within `-`\u001b[39m\n",
      "\t\u001b[96m\u001b[1maddq\u001b[22m\u001b[39m\t\u001b[0m%rax\u001b[0m, \u001b[0m%rcx\n",
      "\u001b[90m; │└└\u001b[39m\n",
      "\u001b[90m; │┌ @ math.jl:1489 within `sqrt`\u001b[39m\n",
      "\u001b[90m; ││┌ @ float.jl:294 within `float`\u001b[39m\n",
      "\u001b[90m; │││┌ @ float.jl:268 within `AbstractFloat`\u001b[39m\n",
      "\u001b[90m; ││││┌ @ float.jl:159 within `Float64`\u001b[39m\n",
      "\t\u001b[96m\u001b[1mvcvtsi2sd\u001b[22m\u001b[39m\t\u001b[0m%rcx\u001b[0m, \u001b[0m%xmm0\u001b[0m, \u001b[0m%xmm0\n",
      "\u001b[90m; ││└└└\u001b[39m\n",
      "\u001b[90m; ││ @ math.jl:1491 within `sqrt` @ math.jl:677\u001b[39m\n",
      "\t\u001b[96m\u001b[1mjs\u001b[22m\u001b[39m\t\u001b[91mLBB0_2\u001b[39m\n",
      "\u001b[0m## \u001b[0m%bb.1\u001b[0m:                               \u001b[0m## \u001b[0m%L14\n",
      "\u001b[90m; ││ @ math.jl:1491 within `sqrt` @ math.jl:678\u001b[39m\n",
      "\t\u001b[96m\u001b[1mvsqrtsd\u001b[22m\u001b[39m\t\u001b[0m%xmm0\u001b[0m, \u001b[0m%xmm0\u001b[0m, \u001b[0m%xmm0\n",
      "\u001b[90m; │└\u001b[39m\n",
      "\t\u001b[96m\u001b[1mpopq\u001b[22m\u001b[39m\t\u001b[0m%rax\n",
      "\t\u001b[96m\u001b[1mretq\u001b[22m\u001b[39m\n",
      "\u001b[91mLBB0_2:\u001b[39m                                 \u001b[0m## \u001b[0m%L12\n",
      "\u001b[90m; │┌ @ math.jl:1491 within `sqrt` @ math.jl:677\u001b[39m\n",
      "\t\u001b[96m\u001b[1mmovabsq\u001b[22m\u001b[39m\t\u001b[93m$_j_throw_complex_domainerror_1491\u001b[39m\u001b[0m, \u001b[0m%rax\n",
      "\t\u001b[96m\u001b[1mmovabsq\u001b[22m\u001b[39m\t\u001b[33m$4524721904\u001b[39m\u001b[0m, \u001b[0m%rdi               \u001b[0m## \u001b[0mimm \u001b[0m= \u001b[33m0x10DB1C6F0\u001b[39m\n",
      "\t\u001b[96m\u001b[1mcallq\u001b[22m\u001b[39m\t\u001b[0m*\u001b[0m%rax\n",
      "\t\u001b[0m.cfi_endproc\n",
      "\u001b[90m; └└\u001b[39m\n",
      "                                        \u001b[0m## \u001b[0m-- \u001b[0mEnd \u001b[0mfunction\n",
      "\u001b[0m.subsections_via_symbols\n"
     ]
    }
   ],
   "source": [
    "@code_native myabs(3 + 4im)"
   ]
  },
  {
   "cell_type": "markdown",
   "id": "a90dbe57",
   "metadata": {},
   "source": [
    "## Are explicit type annotations necessary? (think C or Fortran)\n",
    "\n",
    "Note that Julia's type inference is powerful. Specifying types **is not** necessary for best performance!\n"
   ]
  },
  {
   "cell_type": "code",
   "execution_count": null,
   "id": "ea44980f",
   "metadata": {},
   "outputs": [],
   "source": [
    "function my_function(x)\n",
    "    y = rand()\n",
    "    z = rand()\n",
    "    x+y+z\n",
    "end\n",
    "\n",
    "function my_function_typed(x::Int)::Float64\n",
    "    y::Float64 = rand()\n",
    "    z::Float64 = rand()\n",
    "    x+y+z\n",
    "end"
   ]
  },
  {
   "cell_type": "code",
   "execution_count": null,
   "id": "c53c0964",
   "metadata": {},
   "outputs": [],
   "source": [
    "@btime my_function(10);\n",
    "@btime my_function_typed(10);"
   ]
  },
  {
   "cell_type": "markdown",
   "id": "1dd19c86",
   "metadata": {},
   "source": [
    "Annotating types explicitly can serve a purpose.\n",
    "\n",
    "* Enforce conversions\n",
    "* Very rarely: help the compiler infer types in tricky situations\n",
    "\n",
    "However, more often than not it is an indication of suboptimal code design. (It also makes functions much less generic and reusable!)"
   ]
  },
  {
   "cell_type": "markdown",
   "id": "ef64848b-6e37-4cf8-a08d-29df33a930e3",
   "metadata": {},
   "source": [
    "## Note for heterogeneous HPC clusters\n",
    "\n",
    "By default, Julia produces native code for the CPU type it is running on. This means that it uses the [Instruction Set Architecture (ISA)](https://en.wikipedia.org/wiki/Instruction_set_architecture) of this CPU.\n",
    "\n",
    "This can lead to issues on heterogeneous clusters where different nodes have different CPU types. E.g. you precompile Julia packages on a login node with an Intel CPU but want to run the code on a compute node with AMD CPUs.\n",
    "\n",
    "**Solution: Multiversioning**\n",
    "\n",
    "```julia\n",
    "export JULIA_CPU_TARGET=\"generic;zen2,clone_all;skylake,clone_all\"\n",
    "```\n",
    "\n",
    "This will compile a generic (but slow) variant as well as efficient variants for AMD Zen2 and Intel Skylake CPUs."
   ]
  },
  {
   "cell_type": "markdown",
   "id": "271288b7",
   "metadata": {},
   "source": [
    "# Core messages of this Notebook\n",
    "\n",
    "* **A function is compiled when called for the first time** with a given set of argument types.\n",
    "* The are **multiple code transformation steps** which can be inspected through macros like `@code_warntype` or `@descend` from Cthulhu.jl.\n",
    "* What makes Julia fast? Successful **Type inference** → **Specialization** → **Compilation**.\n",
    "* Functions should almost always be benchmarked with **BenchmarkTools.jl's `@btime` and `@benchmark`** instead of `@time`.\n",
    "* In virtually all cases, **explicit type annotations are irrelevant for performance**."
   ]
  }
 ],
 "metadata": {
  "kernelspec": {
   "display_name": "Julia 1.9.3",
   "language": "julia",
   "name": "julia-1.9"
  },
  "language_info": {
   "file_extension": ".jl",
   "mimetype": "application/julia",
   "name": "julia",
   "version": "1.9.3"
  }
 },
 "nbformat": 4,
 "nbformat_minor": 5
}
