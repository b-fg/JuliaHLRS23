{
 "cells": [
  {
   "cell_type": "markdown",
   "metadata": {
    "tags": []
   },
   "source": [
    "# Julia Fundamentals"
   ]
  },
  {
   "cell_type": "markdown",
   "metadata": {},
   "source": [
    "## Basics"
   ]
  },
  {
   "cell_type": "code",
   "execution_count": 1,
   "metadata": {},
   "outputs": [
    {
     "data": {
      "text/plain": [
       "5"
      ]
     },
     "execution_count": 1,
     "metadata": {},
     "output_type": "execute_result"
    }
   ],
   "source": [
    "3 + 2"
   ]
  },
  {
   "cell_type": "code",
   "execution_count": 2,
   "metadata": {},
   "outputs": [
    {
     "data": {
      "text/plain": [
       "3-element Vector{Float64}:\n",
       " 1.5\n",
       " 2.6\n",
       " 3.7"
      ]
     },
     "execution_count": 2,
     "metadata": {},
     "output_type": "execute_result"
    }
   ],
   "source": [
    "x = [1.5,2.6,3.7]"
   ]
  },
  {
   "cell_type": "code",
   "execution_count": 3,
   "metadata": {},
   "outputs": [
    {
     "data": {
      "text/plain": [
       "3-element Vector{Int64}:\n",
       " 2\n",
       " 4\n",
       " 6"
      ]
     },
     "execution_count": 3,
     "metadata": {},
     "output_type": "execute_result"
    }
   ],
   "source": [
    "y = [2*i for i in 1:3] # array comprehension"
   ]
  },
  {
   "cell_type": "code",
   "execution_count": 5,
   "metadata": {},
   "outputs": [
    {
     "data": {
      "text/plain": [
       "35.6"
      ]
     },
     "execution_count": 5,
     "metadata": {},
     "output_type": "execute_result"
    }
   ],
   "source": [
    "using LinearAlgebra # loading a package\n",
    "\n",
    "dot(x,y)"
   ]
  },
  {
   "cell_type": "markdown",
   "metadata": {},
   "source": [
    "Julia has full **Unicode support**. We can therefore also write the dot-product as follows:"
   ]
  },
  {
   "cell_type": "code",
   "execution_count": 6,
   "metadata": {},
   "outputs": [
    {
     "data": {
      "text/plain": [
       "35.6"
      ]
     },
     "execution_count": 6,
     "metadata": {},
     "output_type": "execute_result"
    }
   ],
   "source": [
    "x ⋅ y # \\cdot followed by <TAB>"
   ]
  },
  {
   "cell_type": "code",
   "execution_count": 7,
   "metadata": {},
   "outputs": [
    {
     "data": {
      "text/plain": [
       "5:7"
      ]
     },
     "execution_count": 7,
     "metadata": {},
     "output_type": "execute_result"
    }
   ],
   "source": [
    "5:7 # the range covering 5,6,7"
   ]
  },
  {
   "cell_type": "code",
   "execution_count": 8,
   "metadata": {},
   "outputs": [
    {
     "data": {
      "text/plain": [
       "f (generic function with 1 method)"
      ]
     },
     "execution_count": 8,
     "metadata": {},
     "output_type": "execute_result"
    }
   ],
   "source": [
    "f(x) = x^2"
   ]
  },
  {
   "cell_type": "code",
   "execution_count": 9,
   "metadata": {},
   "outputs": [
    {
     "data": {
      "text/plain": [
       "25"
      ]
     },
     "execution_count": 9,
     "metadata": {},
     "output_type": "execute_result"
    }
   ],
   "source": [
    "f(5)"
   ]
  },
  {
   "cell_type": "code",
   "execution_count": 10,
   "metadata": {},
   "outputs": [
    {
     "data": {
      "text/plain": [
       "g (generic function with 1 method)"
      ]
     },
     "execution_count": 10,
     "metadata": {},
     "output_type": "execute_result"
    }
   ],
   "source": [
    "function g(x)\n",
    "    return x+x\n",
    "end"
   ]
  },
  {
   "cell_type": "code",
   "execution_count": 11,
   "metadata": {},
   "outputs": [
    {
     "data": {
      "text/plain": [
       "6"
      ]
     },
     "execution_count": 11,
     "metadata": {},
     "output_type": "execute_result"
    }
   ],
   "source": [
    "g(3)"
   ]
  },
  {
   "cell_type": "markdown",
   "metadata": {},
   "source": [
    "### Julia takes linear algebra seriously"
   ]
  },
  {
   "cell_type": "code",
   "execution_count": 41,
   "metadata": {},
   "outputs": [
    {
     "data": {
      "text/plain": [
       "3×3 Matrix{Float64}:\n",
       " 0.137161  0.0612139  0.164783\n",
       " 0.540375  0.42805    0.758283\n",
       " 0.4937    0.273706   0.180057"
      ]
     },
     "execution_count": 41,
     "metadata": {},
     "output_type": "execute_result"
    }
   ],
   "source": [
    "M = rand(3,3) # create random 3x3 matrix"
   ]
  },
  {
   "cell_type": "code",
   "execution_count": 42,
   "metadata": {},
   "outputs": [
    {
     "data": {
      "text/plain": [
       "SVD{Float64, Float64, Matrix{Float64}, Vector{Float64}}\n",
       "U factor:\n",
       "3×3 Matrix{Float64}:\n",
       " -0.187055  -0.0693611  -0.979898\n",
       " -0.867261  -0.456835    0.19789\n",
       " -0.461377   0.886843    0.0252989\n",
       "singular values:\n",
       "3-element Vector{Float64}:\n",
       " 1.172904228319261\n",
       " 0.27209844768312386\n",
       " 0.03567907124386562\n",
       "Vt factor:\n",
       "3×3 Matrix{Float64}:\n",
       " -0.615638  -0.433934  -0.657792\n",
       "  0.666887   0.157812  -0.728256\n",
       " -0.419823   0.887016  -0.19223"
      ]
     },
     "execution_count": 42,
     "metadata": {},
     "output_type": "execute_result"
    }
   ],
   "source": [
    "svd(M) # singular value decomposition"
   ]
  },
  {
   "cell_type": "code",
   "execution_count": 43,
   "metadata": {},
   "outputs": [],
   "source": [
    "v = rand(3); # use semicolon to surpress output"
   ]
  },
  {
   "cell_type": "code",
   "execution_count": 44,
   "metadata": {},
   "outputs": [
    {
     "data": {
      "text/plain": [
       "3-element Vector{Float64}:\n",
       " 0.21845185299323108\n",
       " 1.0128308223385043\n",
       " 0.7095005968964234"
      ]
     },
     "execution_count": 44,
     "metadata": {},
     "output_type": "execute_result"
    }
   ],
   "source": [
    "M * v # matrix-vector product"
   ]
  },
  {
   "cell_type": "code",
   "execution_count": 45,
   "metadata": {},
   "outputs": [
    {
     "data": {
      "text/plain": [
       "3-element Vector{Float64}:\n",
       " 1.94899205164563\n",
       " 1.3126881954038954\n",
       " 0.5414577818869661"
      ]
     },
     "execution_count": 45,
     "metadata": {},
     "output_type": "execute_result"
    }
   ],
   "source": [
    "v + v"
   ]
  },
  {
   "cell_type": "code",
   "execution_count": 49,
   "metadata": {},
   "outputs": [
    {
     "ename": "LoadError",
     "evalue": "MethodError: no method matching *(::Vector{Float64}, ::Vector{Float64})\n\n\u001b[0mClosest candidates are:\n\u001b[0m  *(::Any, ::Any, \u001b[91m::Any\u001b[39m, \u001b[91m::Any...\u001b[39m)\n\u001b[0m\u001b[90m   @\u001b[39m \u001b[90mBase\u001b[39m \u001b[90m\u001b[4moperators.jl:578\u001b[24m\u001b[39m\n\u001b[0m  *(\u001b[91m::StridedMatrix{T}\u001b[39m, ::StridedVector{S}) where {T<:Union{Float32, Float64, ComplexF32, ComplexF64}, S<:Real}\n\u001b[0m\u001b[90m   @\u001b[39m \u001b[35mLinearAlgebra\u001b[39m \u001b[90m~/.julia/juliaup/julia-1.9.3+0.aarch64.apple.darwin14/share/julia/stdlib/v1.9/LinearAlgebra/src/\u001b[39m\u001b[90m\u001b[4mmatmul.jl:49\u001b[24m\u001b[39m\n\u001b[0m  *(::StridedVecOrMat, \u001b[91m::Adjoint{<:Any, <:LinearAlgebra.LQPackedQ}\u001b[39m)\n\u001b[0m\u001b[90m   @\u001b[39m \u001b[35mLinearAlgebra\u001b[39m \u001b[90m~/.julia/juliaup/julia-1.9.3+0.aarch64.apple.darwin14/share/julia/stdlib/v1.9/LinearAlgebra/src/\u001b[39m\u001b[90m\u001b[4mlq.jl:269\u001b[24m\u001b[39m\n\u001b[0m  ...\n",
     "output_type": "error",
     "traceback": [
      "MethodError: no method matching *(::Vector{Float64}, ::Vector{Float64})\n\n\u001b[0mClosest candidates are:\n\u001b[0m  *(::Any, ::Any, \u001b[91m::Any\u001b[39m, \u001b[91m::Any...\u001b[39m)\n\u001b[0m\u001b[90m   @\u001b[39m \u001b[90mBase\u001b[39m \u001b[90m\u001b[4moperators.jl:578\u001b[24m\u001b[39m\n\u001b[0m  *(\u001b[91m::StridedMatrix{T}\u001b[39m, ::StridedVector{S}) where {T<:Union{Float32, Float64, ComplexF32, ComplexF64}, S<:Real}\n\u001b[0m\u001b[90m   @\u001b[39m \u001b[35mLinearAlgebra\u001b[39m \u001b[90m~/.julia/juliaup/julia-1.9.3+0.aarch64.apple.darwin14/share/julia/stdlib/v1.9/LinearAlgebra/src/\u001b[39m\u001b[90m\u001b[4mmatmul.jl:49\u001b[24m\u001b[39m\n\u001b[0m  *(::StridedVecOrMat, \u001b[91m::Adjoint{<:Any, <:LinearAlgebra.LQPackedQ}\u001b[39m)\n\u001b[0m\u001b[90m   @\u001b[39m \u001b[35mLinearAlgebra\u001b[39m \u001b[90m~/.julia/juliaup/julia-1.9.3+0.aarch64.apple.darwin14/share/julia/stdlib/v1.9/LinearAlgebra/src/\u001b[39m\u001b[90m\u001b[4mlq.jl:269\u001b[24m\u001b[39m\n\u001b[0m  ...\n",
      "",
      "Stacktrace:",
      " [1] top-level scope",
      "   @ In[49]:1"
     ]
    }
   ],
   "source": [
    "v * v # not valid!"
   ]
  },
  {
   "cell_type": "markdown",
   "metadata": {},
   "source": [
    "**Bonus question:** What do you think is computed in the following?"
   ]
  },
  {
   "cell_type": "code",
   "execution_count": 19,
   "metadata": {},
   "outputs": [
    {
     "data": {
      "text/plain": [
       "3×3 Matrix{Float64}:\n",
       " 1.98676   2.29368  2.35536\n",
       " 1.48033   2.94534  2.27495\n",
       " 0.768669  1.82096  2.65838"
      ]
     },
     "execution_count": 19,
     "metadata": {},
     "output_type": "execute_result"
    }
   ],
   "source": [
    "exp(M)"
   ]
  },
  {
   "cell_type": "markdown",
   "metadata": {},
   "source": [
    "### Broadcasting"
   ]
  },
  {
   "cell_type": "markdown",
   "metadata": {},
   "source": [
    "(Recommended read: https://julialang.org/blog/2017/01/moredots/)"
   ]
  },
  {
   "cell_type": "code",
   "execution_count": 20,
   "metadata": {},
   "outputs": [
    {
     "data": {
      "text/plain": [
       "3-element Vector{Float64}:\n",
       "  3.0\n",
       " 10.4\n",
       " 22.200000000000003"
      ]
     },
     "execution_count": 20,
     "metadata": {},
     "output_type": "execute_result"
    }
   ],
   "source": [
    "x .* y # \"element-wise\" application"
   ]
  },
  {
   "cell_type": "code",
   "execution_count": 21,
   "metadata": {},
   "outputs": [
    {
     "ename": "LoadError",
     "evalue": "MethodError: no method matching sin(::Vector{Float64})\n\n\u001b[0mClosest candidates are:\n\u001b[0m  sin(\u001b[91m::T\u001b[39m) where T<:Union{Float32, Float64}\n\u001b[0m\u001b[90m   @\u001b[39m \u001b[90mBase\u001b[39m \u001b[90mspecial/\u001b[39m\u001b[90m\u001b[4mtrig.jl:29\u001b[24m\u001b[39m\n\u001b[0m  sin(\u001b[91m::UniformScaling\u001b[39m)\n\u001b[0m\u001b[90m   @\u001b[39m \u001b[35mLinearAlgebra\u001b[39m \u001b[90m~/.julia/juliaup/julia-1.9.3+0.aarch64.apple.darwin14/share/julia/stdlib/v1.9/LinearAlgebra/src/\u001b[39m\u001b[90m\u001b[4muniformscaling.jl:173\u001b[24m\u001b[39m\n\u001b[0m  sin(\u001b[91m::Diagonal\u001b[39m)\n\u001b[0m\u001b[90m   @\u001b[39m \u001b[35mLinearAlgebra\u001b[39m \u001b[90m~/.julia/juliaup/julia-1.9.3+0.aarch64.apple.darwin14/share/julia/stdlib/v1.9/LinearAlgebra/src/\u001b[39m\u001b[90m\u001b[4mdiagonal.jl:678\u001b[24m\u001b[39m\n\u001b[0m  ...\n",
     "output_type": "error",
     "traceback": [
      "MethodError: no method matching sin(::Vector{Float64})\n\n\u001b[0mClosest candidates are:\n\u001b[0m  sin(\u001b[91m::T\u001b[39m) where T<:Union{Float32, Float64}\n\u001b[0m\u001b[90m   @\u001b[39m \u001b[90mBase\u001b[39m \u001b[90mspecial/\u001b[39m\u001b[90m\u001b[4mtrig.jl:29\u001b[24m\u001b[39m\n\u001b[0m  sin(\u001b[91m::UniformScaling\u001b[39m)\n\u001b[0m\u001b[90m   @\u001b[39m \u001b[35mLinearAlgebra\u001b[39m \u001b[90m~/.julia/juliaup/julia-1.9.3+0.aarch64.apple.darwin14/share/julia/stdlib/v1.9/LinearAlgebra/src/\u001b[39m\u001b[90m\u001b[4muniformscaling.jl:173\u001b[24m\u001b[39m\n\u001b[0m  sin(\u001b[91m::Diagonal\u001b[39m)\n\u001b[0m\u001b[90m   @\u001b[39m \u001b[35mLinearAlgebra\u001b[39m \u001b[90m~/.julia/juliaup/julia-1.9.3+0.aarch64.apple.darwin14/share/julia/stdlib/v1.9/LinearAlgebra/src/\u001b[39m\u001b[90m\u001b[4mdiagonal.jl:678\u001b[24m\u001b[39m\n\u001b[0m  ...\n",
      "",
      "Stacktrace:",
      " [1] top-level scope",
      "   @ In[21]:1"
     ]
    }
   ],
   "source": [
    "sin(x)"
   ]
  },
  {
   "cell_type": "code",
   "execution_count": 22,
   "metadata": {},
   "outputs": [
    {
     "data": {
      "text/plain": [
       "3-element Vector{Float64}:\n",
       "  0.9974949866040544\n",
       "  0.5155013718214642\n",
       " -0.5298361409084934"
      ]
     },
     "execution_count": 22,
     "metadata": {},
     "output_type": "execute_result"
    }
   ],
   "source": [
    "sin.(x) # \"element-wise\" application"
   ]
  },
  {
   "cell_type": "markdown",
   "metadata": {},
   "source": [
    "**Also works for user-defined functions!**"
   ]
  },
  {
   "cell_type": "code",
   "execution_count": 23,
   "metadata": {},
   "outputs": [
    {
     "data": {
      "text/plain": [
       "somefunc (generic function with 1 method)"
      ]
     },
     "execution_count": 23,
     "metadata": {},
     "output_type": "execute_result"
    }
   ],
   "source": [
    "somefunc(x) = exp(2*x)"
   ]
  },
  {
   "cell_type": "code",
   "execution_count": 24,
   "metadata": {},
   "outputs": [
    {
     "data": {
      "text/plain": [
       "3-element Vector{Float64}:\n",
       "   20.085536923187668\n",
       "  181.27224187515122\n",
       " 1635.984429995927"
      ]
     },
     "execution_count": 24,
     "metadata": {},
     "output_type": "execute_result"
    }
   ],
   "source": [
    "somefunc.(x)"
   ]
  },
  {
   "cell_type": "markdown",
   "metadata": {},
   "source": [
    "### Plotting"
   ]
  },
  {
   "cell_type": "code",
   "execution_count": 25,
   "metadata": {},
   "outputs": [],
   "source": [
    "using Plots"
   ]
  },
  {
   "cell_type": "code",
   "execution_count": 26,
   "metadata": {},
   "outputs": [
    {
     "data": {
      "image/png": "[encoded data removed]",
      "image/svg+xml": [
       "<?xml version=\"1.0\" encoding=\"utf-8\"?>\n",
       "<svg xmlns=\"http://www.w3.org/2000/svg\" xmlns:xlink=\"http://www.w3.org/1999/xlink\" width=\"600\" height=\"400\" viewBox=\"0 0 2400 1600\">\n",
       "<defs>\n",
       "  <clipPath id=\"clip050\">\n",
       "    <rect x=\"0\" y=\"0\" width=\"2400\" height=\"1600\"/>\n",
       "  </clipPath>\n",
       "</defs>\n",
       "<path clip-path=\"url(#clip050)\" d=\"M0 1600 L2400 1600 L2400 0 L0 0  Z\" fill=\"#ffffff\" fill-rule=\"evenodd\" fill-opacity=\"1\"/>\n",
       "<defs>\n",
       "  <clipPath id=\"clip051\">\n",
       "    <rect x=\"480\" y=\"0\" width=\"1681\" height=\"1600\"/>\n",
       "  </clipPath>\n",
       "</defs>\n",
       "<path clip-path=\"url(#clip050)\" d=\"M193.936 1486.45 L2352.76 1486.45 L2352.76 47.2441 L193.936 47.2441  Z\" fill=\"#ffffff\" fill-rule=\"evenodd\" fill-opacity=\"1\"/>\n",
       "<defs>\n",
       "  <clipPath id=\"clip052\">\n",
       "    <rect x=\"193\" y=\"47\" width=\"2160\" height=\"1440\"/>\n",
       "  </clipPath>\n",
       "</defs>\n",
       "<polyline clip-path=\"url(#clip052)\" style=\"stroke:#000000; stroke-linecap:round; stroke-linejoin:round; stroke-width:2; stroke-opacity:0.1; fill:none\" points=\"464.104,1486.45 464.104,47.2441 \"/>\n",
       "<polyline clip-path=\"url(#clip052)\" style=\"stroke:#000000; stroke-linecap:round; stroke-linejoin:round; stroke-width:2; stroke-opacity:0.1; fill:none\" points=\"871.428,1486.45 871.428,47.2441 \"/>\n",
       "<polyline clip-path=\"url(#clip052)\" style=\"stroke:#000000; stroke-linecap:round; stroke-linejoin:round; stroke-width:2; stroke-opacity:0.1; fill:none\" points=\"1278.75,1486.45 1278.75,47.2441 \"/>\n",
       "<polyline clip-path=\"url(#clip052)\" style=\"stroke:#000000; stroke-linecap:round; stroke-linejoin:round; stroke-width:2; stroke-opacity:0.1; fill:none\" points=\"1686.08,1486.45 1686.08,47.2441 \"/>\n",
       "<polyline clip-path=\"url(#clip052)\" style=\"stroke:#000000; stroke-linecap:round; stroke-linejoin:round; stroke-width:2; stroke-opacity:0.1; fill:none\" points=\"2093.4,1486.45 2093.4,47.2441 \"/>\n",
       "<polyline clip-path=\"url(#clip050)\" style=\"stroke:#000000; stroke-linecap:round; stroke-linejoin:round; stroke-width:4; stroke-opacity:1; fill:none\" points=\"193.936,1486.45 2352.76,1486.45 \"/>\n",
       "<polyline clip-path=\"url(#clip050)\" style=\"stroke:#000000; stroke-linecap:round; stroke-linejoin:round; stroke-width:4; stroke-opacity:1; fill:none\" points=\"464.104,1486.45 464.104,1467.55 \"/>\n",
       "<polyline clip-path=\"url(#clip050)\" style=\"stroke:#000000; stroke-linecap:round; stroke-linejoin:round; stroke-width:4; stroke-opacity:1; fill:none\" points=\"871.428,1486.45 871.428,1467.55 \"/>\n",
       "<polyline clip-path=\"url(#clip050)\" style=\"stroke:#000000; stroke-linecap:round; stroke-linejoin:round; stroke-width:4; stroke-opacity:1; fill:none\" points=\"1278.75,1486.45 1278.75,1467.55 \"/>\n",
       "<polyline clip-path=\"url(#clip050)\" style=\"stroke:#000000; stroke-linecap:round; stroke-linejoin:round; stroke-width:4; stroke-opacity:1; fill:none\" points=\"1686.08,1486.45 1686.08,1467.55 \"/>\n",
       "<polyline clip-path=\"url(#clip050)\" style=\"stroke:#000000; stroke-linecap:round; stroke-linejoin:round; stroke-width:4; stroke-opacity:1; fill:none\" points=\"2093.4,1486.45 2093.4,1467.55 \"/>\n",
       "<path clip-path=\"url(#clip050)\" d=\"M410.632 1532.02 L440.308 1532.02 L440.308 1535.95 L410.632 1535.95 L410.632 1532.02 Z\" fill=\"#000000\" fill-rule=\"nonzero\" fill-opacity=\"1\" /><path clip-path=\"url(#clip050)\" d=\"M450.446 1514.29 L468.803 1514.29 L468.803 1518.22 L454.729 1518.22 L454.729 1526.7 Q455.747 1526.35 456.766 1526.19 Q457.784 1526 458.803 1526 Q464.59 1526 467.97 1529.17 Q471.349 1532.34 471.349 1537.76 Q471.349 1543.34 467.877 1546.44 Q464.405 1549.52 458.085 1549.52 Q455.909 1549.52 453.641 1549.15 Q451.396 1548.78 448.988 1548.04 L448.988 1543.34 Q451.071 1544.47 453.294 1545.03 Q455.516 1545.58 457.993 1545.58 Q461.997 1545.58 464.335 1543.48 Q466.673 1541.37 466.673 1537.76 Q466.673 1534.15 464.335 1532.04 Q461.997 1529.94 457.993 1529.94 Q456.118 1529.94 454.243 1530.35 Q452.391 1530.77 450.446 1531.65 L450.446 1514.29 Z\" fill=\"#000000\" fill-rule=\"nonzero\" fill-opacity=\"1\" /><path clip-path=\"url(#clip050)\" d=\"M480.562 1542.97 L485.446 1542.97 L485.446 1548.85 L480.562 1548.85 L480.562 1542.97 Z\" fill=\"#000000\" fill-rule=\"nonzero\" fill-opacity=\"1\" /><path clip-path=\"url(#clip050)\" d=\"M505.631 1517.37 Q502.02 1517.37 500.192 1520.93 Q498.386 1524.47 498.386 1531.6 Q498.386 1538.71 500.192 1542.27 Q502.02 1545.82 505.631 1545.82 Q509.266 1545.82 511.071 1542.27 Q512.9 1538.71 512.9 1531.6 Q512.9 1524.47 511.071 1520.93 Q509.266 1517.37 505.631 1517.37 M505.631 1513.66 Q511.442 1513.66 514.497 1518.27 Q517.576 1522.85 517.576 1531.6 Q517.576 1540.33 514.497 1544.94 Q511.442 1549.52 505.631 1549.52 Q499.821 1549.52 496.743 1544.94 Q493.687 1540.33 493.687 1531.6 Q493.687 1522.85 496.743 1518.27 Q499.821 1513.66 505.631 1513.66 Z\" fill=\"#000000\" fill-rule=\"nonzero\" fill-opacity=\"1\" /><path clip-path=\"url(#clip050)\" d=\"M818.454 1532.02 L848.13 1532.02 L848.13 1535.95 L818.454 1535.95 L818.454 1532.02 Z\" fill=\"#000000\" fill-rule=\"nonzero\" fill-opacity=\"1\" /><path clip-path=\"url(#clip050)\" d=\"M862.25 1544.91 L878.569 1544.91 L878.569 1548.85 L856.625 1548.85 L856.625 1544.91 Q859.287 1542.16 863.87 1537.53 Q868.477 1532.88 869.657 1531.53 Q871.903 1529.01 872.782 1527.27 Q873.685 1525.51 873.685 1523.82 Q873.685 1521.07 871.741 1519.33 Q869.82 1517.6 866.718 1517.6 Q864.519 1517.6 862.065 1518.36 Q859.634 1519.13 856.857 1520.68 L856.857 1515.95 Q859.681 1514.82 862.134 1514.24 Q864.588 1513.66 866.625 1513.66 Q871.995 1513.66 875.19 1516.35 Q878.384 1519.03 878.384 1523.52 Q878.384 1525.65 877.574 1527.57 Q876.787 1529.47 874.681 1532.07 Q874.102 1532.74 871 1535.95 Q867.898 1539.15 862.25 1544.91 Z\" fill=\"#000000\" fill-rule=\"nonzero\" fill-opacity=\"1\" /><path clip-path=\"url(#clip050)\" d=\"M888.384 1542.97 L893.268 1542.97 L893.268 1548.85 L888.384 1548.85 L888.384 1542.97 Z\" fill=\"#000000\" fill-rule=\"nonzero\" fill-opacity=\"1\" /><path clip-path=\"url(#clip050)\" d=\"M903.5 1514.29 L921.856 1514.29 L921.856 1518.22 L907.782 1518.22 L907.782 1526.7 Q908.801 1526.35 909.819 1526.19 Q910.838 1526 911.856 1526 Q917.643 1526 921.023 1529.17 Q924.403 1532.34 924.403 1537.76 Q924.403 1543.34 920.93 1546.44 Q917.458 1549.52 911.139 1549.52 Q908.963 1549.52 906.694 1549.15 Q904.449 1548.78 902.042 1548.04 L902.042 1543.34 Q904.125 1544.47 906.347 1545.03 Q908.569 1545.58 911.046 1545.58 Q915.051 1545.58 917.389 1543.48 Q919.727 1541.37 919.727 1537.76 Q919.727 1534.15 917.389 1532.04 Q915.051 1529.94 911.046 1529.94 Q909.171 1529.94 907.296 1530.35 Q905.444 1530.77 903.5 1531.65 L903.5 1514.29 Z\" fill=\"#000000\" fill-rule=\"nonzero\" fill-opacity=\"1\" /><path clip-path=\"url(#clip050)\" d=\"M1256.14 1517.37 Q1252.53 1517.37 1250.7 1520.93 Q1248.89 1524.47 1248.89 1531.6 Q1248.89 1538.71 1250.7 1542.27 Q1252.53 1545.82 1256.14 1545.82 Q1259.77 1545.82 1261.58 1542.27 Q1263.41 1538.71 1263.41 1531.6 Q1263.41 1524.47 1261.58 1520.93 Q1259.77 1517.37 1256.14 1517.37 M1256.14 1513.66 Q1261.95 1513.66 1265 1518.27 Q1268.08 1522.85 1268.08 1531.6 Q1268.08 1540.33 1265 1544.94 Q1261.95 1549.52 1256.14 1549.52 Q1250.33 1549.52 1247.25 1544.94 Q1244.19 1540.33 1244.19 1531.6 Q1244.19 1522.85 1247.25 1518.27 Q1250.33 1513.66 1256.14 1513.66 Z\" fill=\"#000000\" fill-rule=\"nonzero\" fill-opacity=\"1\" /><path clip-path=\"url(#clip050)\" d=\"M1276.3 1542.97 L1281.18 1542.97 L1281.18 1548.85 L1276.3 1548.85 L1276.3 1542.97 Z\" fill=\"#000000\" fill-rule=\"nonzero\" fill-opacity=\"1\" /><path clip-path=\"url(#clip050)\" d=\"M1301.37 1517.37 Q1297.76 1517.37 1295.93 1520.93 Q1294.12 1524.47 1294.12 1531.6 Q1294.12 1538.71 1295.93 1542.27 Q1297.76 1545.82 1301.37 1545.82 Q1305 1545.82 1306.81 1542.27 Q1308.64 1538.71 1308.64 1531.6 Q1308.64 1524.47 1306.81 1520.93 Q1305 1517.37 1301.37 1517.37 M1301.37 1513.66 Q1307.18 1513.66 1310.23 1518.27 Q1313.31 1522.85 1313.31 1531.6 Q1313.31 1540.33 1310.23 1544.94 Q1307.18 1549.52 1301.37 1549.52 Q1295.56 1549.52 1292.48 1544.94 Q1289.42 1540.33 1289.42 1531.6 Q1289.42 1522.85 1292.48 1518.27 Q1295.56 1513.66 1301.37 1513.66 Z\" fill=\"#000000\" fill-rule=\"nonzero\" fill-opacity=\"1\" /><path clip-path=\"url(#clip050)\" d=\"M1657.81 1544.91 L1674.13 1544.91 L1674.13 1548.85 L1652.19 1548.85 L1652.19 1544.91 Q1654.85 1542.16 1659.43 1537.53 Q1664.04 1532.88 1665.22 1531.53 Q1667.47 1529.01 1668.35 1527.27 Q1669.25 1525.51 1669.25 1523.82 Q1669.25 1521.07 1667.3 1519.33 Q1665.38 1517.6 1662.28 1517.6 Q1660.08 1517.6 1657.63 1518.36 Q1655.2 1519.13 1652.42 1520.68 L1652.42 1515.95 Q1655.24 1514.82 1657.7 1514.24 Q1660.15 1513.66 1662.19 1513.66 Q1667.56 1513.66 1670.75 1516.35 Q1673.95 1519.03 1673.95 1523.52 Q1673.95 1525.65 1673.14 1527.57 Q1672.35 1529.47 1670.24 1532.07 Q1669.67 1532.74 1666.56 1535.95 Q1663.46 1539.15 1657.81 1544.91 Z\" fill=\"#000000\" fill-rule=\"nonzero\" fill-opacity=\"1\" /><path clip-path=\"url(#clip050)\" d=\"M1683.95 1542.97 L1688.83 1542.97 L1688.83 1548.85 L1683.95 1548.85 L1683.95 1542.97 Z\" fill=\"#000000\" fill-rule=\"nonzero\" fill-opacity=\"1\" /><path clip-path=\"url(#clip050)\" d=\"M1699.06 1514.29 L1717.42 1514.29 L1717.42 1518.22 L1703.35 1518.22 L1703.35 1526.7 Q1704.36 1526.35 1705.38 1526.19 Q1706.4 1526 1707.42 1526 Q1713.21 1526 1716.59 1529.17 Q1719.97 1532.34 1719.97 1537.76 Q1719.97 1543.34 1716.49 1546.44 Q1713.02 1549.52 1706.7 1549.52 Q1704.53 1549.52 1702.26 1549.15 Q1700.01 1548.78 1697.61 1548.04 L1697.61 1543.34 Q1699.69 1544.47 1701.91 1545.03 Q1704.13 1545.58 1706.61 1545.58 Q1710.61 1545.58 1712.95 1543.48 Q1715.29 1541.37 1715.29 1537.76 Q1715.29 1534.15 1712.95 1532.04 Q1710.61 1529.94 1706.61 1529.94 Q1704.73 1529.94 1702.86 1530.35 Q1701.01 1530.77 1699.06 1531.65 L1699.06 1514.29 Z\" fill=\"#000000\" fill-rule=\"nonzero\" fill-opacity=\"1\" /><path clip-path=\"url(#clip050)\" d=\"M2060.57 1514.29 L2078.92 1514.29 L2078.92 1518.22 L2064.85 1518.22 L2064.85 1526.7 Q2065.87 1526.35 2066.89 1526.19 Q2067.9 1526 2068.92 1526 Q2074.71 1526 2078.09 1529.17 Q2081.47 1532.34 2081.47 1537.76 Q2081.47 1543.34 2078 1546.44 Q2074.52 1549.52 2068.21 1549.52 Q2066.03 1549.52 2063.76 1549.15 Q2061.52 1548.78 2059.11 1548.04 L2059.11 1543.34 Q2061.19 1544.47 2063.41 1545.03 Q2065.64 1545.58 2068.11 1545.58 Q2072.12 1545.58 2074.46 1543.48 Q2076.79 1541.37 2076.79 1537.76 Q2076.79 1534.15 2074.46 1532.04 Q2072.12 1529.94 2068.11 1529.94 Q2066.24 1529.94 2064.36 1530.35 Q2062.51 1530.77 2060.57 1531.65 L2060.57 1514.29 Z\" fill=\"#000000\" fill-rule=\"nonzero\" fill-opacity=\"1\" /><path clip-path=\"url(#clip050)\" d=\"M2090.68 1542.97 L2095.57 1542.97 L2095.57 1548.85 L2090.68 1548.85 L2090.68 1542.97 Z\" fill=\"#000000\" fill-rule=\"nonzero\" fill-opacity=\"1\" /><path clip-path=\"url(#clip050)\" d=\"M2115.75 1517.37 Q2112.14 1517.37 2110.31 1520.93 Q2108.51 1524.47 2108.51 1531.6 Q2108.51 1538.71 2110.31 1542.27 Q2112.14 1545.82 2115.75 1545.82 Q2119.39 1545.82 2121.19 1542.27 Q2123.02 1538.71 2123.02 1531.6 Q2123.02 1524.47 2121.19 1520.93 Q2119.39 1517.37 2115.75 1517.37 M2115.75 1513.66 Q2121.56 1513.66 2124.62 1518.27 Q2127.7 1522.85 2127.7 1531.6 Q2127.7 1540.33 2124.62 1544.94 Q2121.56 1549.52 2115.75 1549.52 Q2109.94 1549.52 2106.86 1544.94 Q2103.81 1540.33 2103.81 1531.6 Q2103.81 1522.85 2106.86 1518.27 Q2109.94 1513.66 2115.75 1513.66 Z\" fill=\"#000000\" fill-rule=\"nonzero\" fill-opacity=\"1\" /><polyline clip-path=\"url(#clip052)\" style=\"stroke:#000000; stroke-linecap:round; stroke-linejoin:round; stroke-width:2; stroke-opacity:0.1; fill:none\" points=\"193.936,1445.72 2352.76,1445.72 \"/>\n",
       "<polyline clip-path=\"url(#clip052)\" style=\"stroke:#000000; stroke-linecap:round; stroke-linejoin:round; stroke-width:2; stroke-opacity:0.1; fill:none\" points=\"193.936,1106.21 2352.76,1106.21 \"/>\n",
       "<polyline clip-path=\"url(#clip052)\" style=\"stroke:#000000; stroke-linecap:round; stroke-linejoin:round; stroke-width:2; stroke-opacity:0.1; fill:none\" points=\"193.936,766.705 2352.76,766.705 \"/>\n",
       "<polyline clip-path=\"url(#clip052)\" style=\"stroke:#000000; stroke-linecap:round; stroke-linejoin:round; stroke-width:2; stroke-opacity:0.1; fill:none\" points=\"193.936,427.196 2352.76,427.196 \"/>\n",
       "<polyline clip-path=\"url(#clip052)\" style=\"stroke:#000000; stroke-linecap:round; stroke-linejoin:round; stroke-width:2; stroke-opacity:0.1; fill:none\" points=\"193.936,87.6867 2352.76,87.6867 \"/>\n",
       "<polyline clip-path=\"url(#clip050)\" style=\"stroke:#000000; stroke-linecap:round; stroke-linejoin:round; stroke-width:4; stroke-opacity:1; fill:none\" points=\"193.936,1486.45 193.936,47.2441 \"/>\n",
       "<polyline clip-path=\"url(#clip050)\" style=\"stroke:#000000; stroke-linecap:round; stroke-linejoin:round; stroke-width:4; stroke-opacity:1; fill:none\" points=\"193.936,1445.72 212.834,1445.72 \"/>\n",
       "<polyline clip-path=\"url(#clip050)\" style=\"stroke:#000000; stroke-linecap:round; stroke-linejoin:round; stroke-width:4; stroke-opacity:1; fill:none\" points=\"193.936,1106.21 212.834,1106.21 \"/>\n",
       "<polyline clip-path=\"url(#clip050)\" style=\"stroke:#000000; stroke-linecap:round; stroke-linejoin:round; stroke-width:4; stroke-opacity:1; fill:none\" points=\"193.936,766.705 212.834,766.705 \"/>\n",
       "<polyline clip-path=\"url(#clip050)\" style=\"stroke:#000000; stroke-linecap:round; stroke-linejoin:round; stroke-width:4; stroke-opacity:1; fill:none\" points=\"193.936,427.196 212.834,427.196 \"/>\n",
       "<polyline clip-path=\"url(#clip050)\" style=\"stroke:#000000; stroke-linecap:round; stroke-linejoin:round; stroke-width:4; stroke-opacity:1; fill:none\" points=\"193.936,87.6867 212.834,87.6867 \"/>\n",
       "<path clip-path=\"url(#clip050)\" d=\"M50.9921 1446.17 L80.6679 1446.17 L80.6679 1450.11 L50.9921 1450.11 L50.9921 1446.17 Z\" fill=\"#000000\" fill-rule=\"nonzero\" fill-opacity=\"1\" /><path clip-path=\"url(#clip050)\" d=\"M91.5706 1459.07 L99.2095 1459.07 L99.2095 1432.7 L90.8993 1434.37 L90.8993 1430.11 L99.1632 1428.44 L103.839 1428.44 L103.839 1459.07 L111.478 1459.07 L111.478 1463 L91.5706 1463 L91.5706 1459.07 Z\" fill=\"#000000\" fill-rule=\"nonzero\" fill-opacity=\"1\" /><path clip-path=\"url(#clip050)\" d=\"M120.922 1457.12 L125.807 1457.12 L125.807 1463 L120.922 1463 L120.922 1457.12 Z\" fill=\"#000000\" fill-rule=\"nonzero\" fill-opacity=\"1\" /><path clip-path=\"url(#clip050)\" d=\"M145.992 1431.52 Q142.381 1431.52 140.552 1435.09 Q138.746 1438.63 138.746 1445.76 Q138.746 1452.86 140.552 1456.43 Q142.381 1459.97 145.992 1459.97 Q149.626 1459.97 151.431 1456.43 Q153.26 1452.86 153.26 1445.76 Q153.26 1438.63 151.431 1435.09 Q149.626 1431.52 145.992 1431.52 M145.992 1427.82 Q151.802 1427.82 154.857 1432.42 Q157.936 1437.01 157.936 1445.76 Q157.936 1454.48 154.857 1459.09 Q151.802 1463.67 145.992 1463.67 Q140.181 1463.67 137.103 1459.09 Q134.047 1454.48 134.047 1445.76 Q134.047 1437.01 137.103 1432.42 Q140.181 1427.82 145.992 1427.82 Z\" fill=\"#000000\" fill-rule=\"nonzero\" fill-opacity=\"1\" /><path clip-path=\"url(#clip050)\" d=\"M51.9875 1106.66 L81.6633 1106.66 L81.6633 1110.6 L51.9875 1110.6 L51.9875 1106.66 Z\" fill=\"#000000\" fill-rule=\"nonzero\" fill-opacity=\"1\" /><path clip-path=\"url(#clip050)\" d=\"M101.756 1092.01 Q98.1447 1092.01 96.316 1095.58 Q94.5104 1099.12 94.5104 1106.25 Q94.5104 1113.35 96.316 1116.92 Q98.1447 1120.46 101.756 1120.46 Q105.39 1120.46 107.196 1116.92 Q109.024 1113.35 109.024 1106.25 Q109.024 1099.12 107.196 1095.58 Q105.39 1092.01 101.756 1092.01 M101.756 1088.31 Q107.566 1088.31 110.621 1092.91 Q113.7 1097.5 113.7 1106.25 Q113.7 1114.97 110.621 1119.58 Q107.566 1124.16 101.756 1124.16 Q95.9456 1124.16 92.8669 1119.58 Q89.8114 1114.97 89.8114 1106.25 Q89.8114 1097.5 92.8669 1092.91 Q95.9456 1088.31 101.756 1088.31 Z\" fill=\"#000000\" fill-rule=\"nonzero\" fill-opacity=\"1\" /><path clip-path=\"url(#clip050)\" d=\"M121.918 1117.61 L126.802 1117.61 L126.802 1123.49 L121.918 1123.49 L121.918 1117.61 Z\" fill=\"#000000\" fill-rule=\"nonzero\" fill-opacity=\"1\" /><path clip-path=\"url(#clip050)\" d=\"M137.033 1088.93 L155.39 1088.93 L155.39 1092.87 L141.316 1092.87 L141.316 1101.34 Q142.334 1100.99 143.353 1100.83 Q144.371 1100.65 145.39 1100.65 Q151.177 1100.65 154.556 1103.82 Q157.936 1106.99 157.936 1112.41 Q157.936 1117.98 154.464 1121.09 Q150.992 1124.16 144.672 1124.16 Q142.496 1124.16 140.228 1123.79 Q137.982 1123.42 135.575 1122.68 L135.575 1117.98 Q137.658 1119.12 139.881 1119.67 Q142.103 1120.23 144.58 1120.23 Q148.584 1120.23 150.922 1118.12 Q153.26 1116.02 153.26 1112.41 Q153.26 1108.79 150.922 1106.69 Q148.584 1104.58 144.58 1104.58 Q142.705 1104.58 140.83 1105 Q138.978 1105.41 137.033 1106.29 L137.033 1088.93 Z\" fill=\"#000000\" fill-rule=\"nonzero\" fill-opacity=\"1\" /><path clip-path=\"url(#clip050)\" d=\"M100.76 752.503 Q97.1493 752.503 95.3206 756.068 Q93.515 759.61 93.515 766.739 Q93.515 773.846 95.3206 777.411 Q97.1493 780.952 100.76 780.952 Q104.395 780.952 106.2 777.411 Q108.029 773.846 108.029 766.739 Q108.029 759.61 106.2 756.068 Q104.395 752.503 100.76 752.503 M100.76 748.8 Q106.571 748.8 109.626 753.406 Q112.705 757.989 112.705 766.739 Q112.705 775.466 109.626 780.073 Q106.571 784.656 100.76 784.656 Q94.9502 784.656 91.8715 780.073 Q88.816 775.466 88.816 766.739 Q88.816 757.989 91.8715 753.406 Q94.9502 748.8 100.76 748.8 Z\" fill=\"#000000\" fill-rule=\"nonzero\" fill-opacity=\"1\" /><path clip-path=\"url(#clip050)\" d=\"M120.922 778.105 L125.807 778.105 L125.807 783.985 L120.922 783.985 L120.922 778.105 Z\" fill=\"#000000\" fill-rule=\"nonzero\" fill-opacity=\"1\" /><path clip-path=\"url(#clip050)\" d=\"M145.992 752.503 Q142.381 752.503 140.552 756.068 Q138.746 759.61 138.746 766.739 Q138.746 773.846 140.552 777.411 Q142.381 780.952 145.992 780.952 Q149.626 780.952 151.431 777.411 Q153.26 773.846 153.26 766.739 Q153.26 759.61 151.431 756.068 Q149.626 752.503 145.992 752.503 M145.992 748.8 Q151.802 748.8 154.857 753.406 Q157.936 757.989 157.936 766.739 Q157.936 775.466 154.857 780.073 Q151.802 784.656 145.992 784.656 Q140.181 784.656 137.103 780.073 Q134.047 775.466 134.047 766.739 Q134.047 757.989 137.103 753.406 Q140.181 748.8 145.992 748.8 Z\" fill=\"#000000\" fill-rule=\"nonzero\" fill-opacity=\"1\" /><path clip-path=\"url(#clip050)\" d=\"M101.756 412.994 Q98.1447 412.994 96.316 416.559 Q94.5104 420.101 94.5104 427.23 Q94.5104 434.337 96.316 437.902 Q98.1447 441.443 101.756 441.443 Q105.39 441.443 107.196 437.902 Q109.024 434.337 109.024 427.23 Q109.024 420.101 107.196 416.559 Q105.39 412.994 101.756 412.994 M101.756 409.291 Q107.566 409.291 110.621 413.897 Q113.7 418.48 113.7 427.23 Q113.7 435.957 110.621 440.564 Q107.566 445.147 101.756 445.147 Q95.9456 445.147 92.8669 440.564 Q89.8114 435.957 89.8114 427.23 Q89.8114 418.48 92.8669 413.897 Q95.9456 409.291 101.756 409.291 Z\" fill=\"#000000\" fill-rule=\"nonzero\" fill-opacity=\"1\" /><path clip-path=\"url(#clip050)\" d=\"M121.918 438.596 L126.802 438.596 L126.802 444.476 L121.918 444.476 L121.918 438.596 Z\" fill=\"#000000\" fill-rule=\"nonzero\" fill-opacity=\"1\" /><path clip-path=\"url(#clip050)\" d=\"M137.033 409.916 L155.39 409.916 L155.39 413.851 L141.316 413.851 L141.316 422.323 Q142.334 421.976 143.353 421.814 Q144.371 421.629 145.39 421.629 Q151.177 421.629 154.556 424.8 Q157.936 427.971 157.936 433.388 Q157.936 438.966 154.464 442.068 Q150.992 445.147 144.672 445.147 Q142.496 445.147 140.228 444.777 Q137.982 444.406 135.575 443.665 L135.575 438.966 Q137.658 440.101 139.881 440.656 Q142.103 441.212 144.58 441.212 Q148.584 441.212 150.922 439.105 Q153.26 436.999 153.26 433.388 Q153.26 429.777 150.922 427.67 Q148.584 425.564 144.58 425.564 Q142.705 425.564 140.83 425.98 Q138.978 426.397 137.033 427.277 L137.033 409.916 Z\" fill=\"#000000\" fill-rule=\"nonzero\" fill-opacity=\"1\" /><path clip-path=\"url(#clip050)\" d=\"M91.5706 101.032 L99.2095 101.032 L99.2095 74.666 L90.8993 76.3326 L90.8993 72.0734 L99.1632 70.4067 L103.839 70.4067 L103.839 101.032 L111.478 101.032 L111.478 104.967 L91.5706 104.967 L91.5706 101.032 Z\" fill=\"#000000\" fill-rule=\"nonzero\" fill-opacity=\"1\" /><path clip-path=\"url(#clip050)\" d=\"M120.922 99.0871 L125.807 99.0871 L125.807 104.967 L120.922 104.967 L120.922 99.0871 Z\" fill=\"#000000\" fill-rule=\"nonzero\" fill-opacity=\"1\" /><path clip-path=\"url(#clip050)\" d=\"M145.992 73.4854 Q142.381 73.4854 140.552 77.0502 Q138.746 80.5919 138.746 87.7215 Q138.746 94.8279 140.552 98.3927 Q142.381 101.934 145.992 101.934 Q149.626 101.934 151.431 98.3927 Q153.26 94.8279 153.26 87.7215 Q153.26 80.5919 151.431 77.0502 Q149.626 73.4854 145.992 73.4854 M145.992 69.7817 Q151.802 69.7817 154.857 74.3882 Q157.936 78.9715 157.936 87.7215 Q157.936 96.4483 154.857 101.055 Q151.802 105.638 145.992 105.638 Q140.181 105.638 137.103 101.055 Q134.047 96.4483 134.047 87.7215 Q134.047 78.9715 137.103 74.3882 Q140.181 69.7817 145.992 69.7817 Z\" fill=\"#000000\" fill-rule=\"nonzero\" fill-opacity=\"1\" /><polyline clip-path=\"url(#clip052)\" style=\"stroke:#009af9; stroke-linecap:round; stroke-linejoin:round; stroke-width:4; stroke-opacity:1; fill:none\" points=\"255.035,766.705 271.328,698.916 287.621,631.805 303.914,566.041 320.207,502.283 336.5,441.166 352.793,383.302 369.086,329.269 385.379,279.607 401.671,234.812 417.964,195.331 434.257,161.559 450.55,133.833 466.843,112.431 483.136,97.5666 499.429,89.3877 515.722,87.9763 532.015,93.3465 548.308,105.445 564.601,124.15 580.894,149.275 597.187,180.57 613.48,217.721 629.773,260.357 646.066,308.053 662.359,360.331 678.652,416.67 694.945,476.506 711.238,539.242 727.531,604.25 743.824,670.882 760.117,738.471 776.41,806.342 792.703,873.817 808.996,940.222 825.289,1004.89 841.582,1067.18 857.875,1126.47 874.168,1182.17 890.461,1233.71 906.754,1280.59 923.047,1322.33 939.34,1358.52 955.633,1388.8 971.926,1412.86 988.219,1430.46 1004.51,1441.44 1020.8,1445.67 1037.1,1443.12 1053.39,1433.81 1069.68,1417.83 1085.98,1395.35 1102.27,1366.59 1118.56,1331.83 1134.86,1291.43 1151.15,1245.78 1167.44,1195.35 1183.73,1140.63 1200.03,1082.18 1216.32,1020.57 1232.61,956.433 1248.91,890.396 1265.2,823.124 1281.49,755.288 1297.79,687.566 1314.08,620.634 1330.37,555.162 1346.66,491.804 1362.96,431.193 1379.25,373.934 1395.54,320.599 1411.84,271.722 1428.13,227.79 1444.42,189.243 1460.72,156.466 1477.01,129.786 1493.3,109.47 1509.59,95.7207 1525.89,88.6758 1542.18,88.4056 1558.47,94.9127 1574.77,108.132 1591.06,127.932 1607.35,154.114 1623.65,186.417 1639.94,224.518 1656.23,268.036 1672.52,316.537 1688.82,369.535 1705.11,426.502 1721.4,486.869 1737.7,550.031 1753.99,615.358 1770.28,682.198 1786.57,749.882 1802.87,817.733 1819.16,885.076 1835.45,951.235 1851.75,1015.55 1868.04,1077.38 1884.33,1136.1 1900.63,1191.14 1916.92,1241.93 1933.21,1287.98 1949.5,1328.81 1965.8,1364.03 1982.09,1393.29 1998.38,1416.28 2014.68,1432.78 2030.97,1442.62 2047.26,1445.72 2063.56,1442.02 2079.85,1431.58 2096.14,1414.5 2112.43,1390.94 2128.73,1361.15 2145.02,1325.42 2161.31,1284.1 2177.61,1237.62 2193.9,1186.43 2210.19,1131.05 2226.49,1072.02 2242.78,1009.95 2259.07,945.444 2275.36,879.153 2291.66,811.738 \"/>\n",
       "<path clip-path=\"url(#clip050)\" d=\"M2012.48 198.898 L2280.8 198.898 L2280.8 95.2176 L2012.48 95.2176  Z\" fill=\"#ffffff\" fill-rule=\"evenodd\" fill-opacity=\"1\"/>\n",
       "<polyline clip-path=\"url(#clip050)\" style=\"stroke:#000000; stroke-linecap:round; stroke-linejoin:round; stroke-width:4; stroke-opacity:1; fill:none\" points=\"2012.48,198.898 2280.8,198.898 2280.8,95.2176 2012.48,95.2176 2012.48,198.898 \"/>\n",
       "<polyline clip-path=\"url(#clip050)\" style=\"stroke:#009af9; stroke-linecap:round; stroke-linejoin:round; stroke-width:4; stroke-opacity:1; fill:none\" points=\"2036.47,147.058 2180.39,147.058 \"/>\n",
       "<path clip-path=\"url(#clip050)\" d=\"M2218.22 166.745 Q2216.42 171.375 2214.7 172.787 Q2212.99 174.199 2210.12 174.199 L2206.72 174.199 L2206.72 170.634 L2209.22 170.634 Q2210.98 170.634 2211.95 169.8 Q2212.92 168.967 2214.1 165.865 L2214.86 163.921 L2204.38 138.412 L2208.89 138.412 L2216.99 158.689 L2225.1 138.412 L2229.61 138.412 L2218.22 166.745 Z\" fill=\"#000000\" fill-rule=\"nonzero\" fill-opacity=\"1\" /><path clip-path=\"url(#clip050)\" d=\"M2236.9 160.402 L2244.54 160.402 L2244.54 134.037 L2236.23 135.703 L2236.23 131.444 L2244.49 129.778 L2249.17 129.778 L2249.17 160.402 L2256.81 160.402 L2256.81 164.338 L2236.9 164.338 L2236.9 160.402 Z\" fill=\"#000000\" fill-rule=\"nonzero\" fill-opacity=\"1\" /></svg>\n"
      ],
      "text/html": [
       "<?xml version=\"1.0\" encoding=\"utf-8\"?>\n",
       "<svg xmlns=\"http://www.w3.org/2000/svg\" xmlns:xlink=\"http://www.w3.org/1999/xlink\" width=\"600\" height=\"400\" viewBox=\"0 0 2400 1600\">\n",
       "<defs>\n",
       "  <clipPath id=\"clip100\">\n",
       "    <rect x=\"0\" y=\"0\" width=\"2400\" height=\"1600\"/>\n",
       "  </clipPath>\n",
       "</defs>\n",
       "<path clip-path=\"url(#clip100)\" d=\"M0 1600 L2400 1600 L2400 0 L0 0  Z\" fill=\"#ffffff\" fill-rule=\"evenodd\" fill-opacity=\"1\"/>\n",
       "<defs>\n",
       "  <clipPath id=\"clip101\">\n",
       "    <rect x=\"480\" y=\"0\" width=\"1681\" height=\"1600\"/>\n",
       "  </clipPath>\n",
       "</defs>\n",
       "<path clip-path=\"url(#clip100)\" d=\"M193.936 1486.45 L2352.76 1486.45 L2352.76 47.2441 L193.936 47.2441  Z\" fill=\"#ffffff\" fill-rule=\"evenodd\" fill-opacity=\"1\"/>\n",
       "<defs>\n",
       "  <clipPath id=\"clip102\">\n",
       "    <rect x=\"193\" y=\"47\" width=\"2160\" height=\"1440\"/>\n",
       "  </clipPath>\n",
       "</defs>\n",
       "<polyline clip-path=\"url(#clip102)\" style=\"stroke:#000000; stroke-linecap:round; stroke-linejoin:round; stroke-width:2; stroke-opacity:0.1; fill:none\" points=\"464.104,1486.45 464.104,47.2441 \"/>\n",
       "<polyline clip-path=\"url(#clip102)\" style=\"stroke:#000000; stroke-linecap:round; stroke-linejoin:round; stroke-width:2; stroke-opacity:0.1; fill:none\" points=\"871.428,1486.45 871.428,47.2441 \"/>\n",
       "<polyline clip-path=\"url(#clip102)\" style=\"stroke:#000000; stroke-linecap:round; stroke-linejoin:round; stroke-width:2; stroke-opacity:0.1; fill:none\" points=\"1278.75,1486.45 1278.75,47.2441 \"/>\n",
       "<polyline clip-path=\"url(#clip102)\" style=\"stroke:#000000; stroke-linecap:round; stroke-linejoin:round; stroke-width:2; stroke-opacity:0.1; fill:none\" points=\"1686.08,1486.45 1686.08,47.2441 \"/>\n",
       "<polyline clip-path=\"url(#clip102)\" style=\"stroke:#000000; stroke-linecap:round; stroke-linejoin:round; stroke-width:2; stroke-opacity:0.1; fill:none\" points=\"2093.4,1486.45 2093.4,47.2441 \"/>\n",
       "<polyline clip-path=\"url(#clip100)\" style=\"stroke:#000000; stroke-linecap:round; stroke-linejoin:round; stroke-width:4; stroke-opacity:1; fill:none\" points=\"193.936,1486.45 2352.76,1486.45 \"/>\n",
       "<polyline clip-path=\"url(#clip100)\" style=\"stroke:#000000; stroke-linecap:round; stroke-linejoin:round; stroke-width:4; stroke-opacity:1; fill:none\" points=\"464.104,1486.45 464.104,1467.55 \"/>\n",
       "<polyline clip-path=\"url(#clip100)\" style=\"stroke:#000000; stroke-linecap:round; stroke-linejoin:round; stroke-width:4; stroke-opacity:1; fill:none\" points=\"871.428,1486.45 871.428,1467.55 \"/>\n",
       "<polyline clip-path=\"url(#clip100)\" style=\"stroke:#000000; stroke-linecap:round; stroke-linejoin:round; stroke-width:4; stroke-opacity:1; fill:none\" points=\"1278.75,1486.45 1278.75,1467.55 \"/>\n",
       "<polyline clip-path=\"url(#clip100)\" style=\"stroke:#000000; stroke-linecap:round; stroke-linejoin:round; stroke-width:4; stroke-opacity:1; fill:none\" points=\"1686.08,1486.45 1686.08,1467.55 \"/>\n",
       "<polyline clip-path=\"url(#clip100)\" style=\"stroke:#000000; stroke-linecap:round; stroke-linejoin:round; stroke-width:4; stroke-opacity:1; fill:none\" points=\"2093.4,1486.45 2093.4,1467.55 \"/>\n",
       "<path clip-path=\"url(#clip100)\" d=\"M410.632 1532.02 L440.308 1532.02 L440.308 1535.95 L410.632 1535.95 L410.632 1532.02 Z\" fill=\"#000000\" fill-rule=\"nonzero\" fill-opacity=\"1\" /><path clip-path=\"url(#clip100)\" d=\"M450.446 1514.29 L468.803 1514.29 L468.803 1518.22 L454.729 1518.22 L454.729 1526.7 Q455.747 1526.35 456.766 1526.19 Q457.784 1526 458.803 1526 Q464.59 1526 467.97 1529.17 Q471.349 1532.34 471.349 1537.76 Q471.349 1543.34 467.877 1546.44 Q464.405 1549.52 458.085 1549.52 Q455.909 1549.52 453.641 1549.15 Q451.396 1548.78 448.988 1548.04 L448.988 1543.34 Q451.071 1544.47 453.294 1545.03 Q455.516 1545.58 457.993 1545.58 Q461.997 1545.58 464.335 1543.48 Q466.673 1541.37 466.673 1537.76 Q466.673 1534.15 464.335 1532.04 Q461.997 1529.94 457.993 1529.94 Q456.118 1529.94 454.243 1530.35 Q452.391 1530.77 450.446 1531.65 L450.446 1514.29 Z\" fill=\"#000000\" fill-rule=\"nonzero\" fill-opacity=\"1\" /><path clip-path=\"url(#clip100)\" d=\"M480.562 1542.97 L485.446 1542.97 L485.446 1548.85 L480.562 1548.85 L480.562 1542.97 Z\" fill=\"#000000\" fill-rule=\"nonzero\" fill-opacity=\"1\" /><path clip-path=\"url(#clip100)\" d=\"M505.631 1517.37 Q502.02 1517.37 500.192 1520.93 Q498.386 1524.47 498.386 1531.6 Q498.386 1538.71 500.192 1542.27 Q502.02 1545.82 505.631 1545.82 Q509.266 1545.82 511.071 1542.27 Q512.9 1538.71 512.9 1531.6 Q512.9 1524.47 511.071 1520.93 Q509.266 1517.37 505.631 1517.37 M505.631 1513.66 Q511.442 1513.66 514.497 1518.27 Q517.576 1522.85 517.576 1531.6 Q517.576 1540.33 514.497 1544.94 Q511.442 1549.52 505.631 1549.52 Q499.821 1549.52 496.743 1544.94 Q493.687 1540.33 493.687 1531.6 Q493.687 1522.85 496.743 1518.27 Q499.821 1513.66 505.631 1513.66 Z\" fill=\"#000000\" fill-rule=\"nonzero\" fill-opacity=\"1\" /><path clip-path=\"url(#clip100)\" d=\"M818.454 1532.02 L848.13 1532.02 L848.13 1535.95 L818.454 1535.95 L818.454 1532.02 Z\" fill=\"#000000\" fill-rule=\"nonzero\" fill-opacity=\"1\" /><path clip-path=\"url(#clip100)\" d=\"M862.25 1544.91 L878.569 1544.91 L878.569 1548.85 L856.625 1548.85 L856.625 1544.91 Q859.287 1542.16 863.87 1537.53 Q868.477 1532.88 869.657 1531.53 Q871.903 1529.01 872.782 1527.27 Q873.685 1525.51 873.685 1523.82 Q873.685 1521.07 871.741 1519.33 Q869.82 1517.6 866.718 1517.6 Q864.519 1517.6 862.065 1518.36 Q859.634 1519.13 856.857 1520.68 L856.857 1515.95 Q859.681 1514.82 862.134 1514.24 Q864.588 1513.66 866.625 1513.66 Q871.995 1513.66 875.19 1516.35 Q878.384 1519.03 878.384 1523.52 Q878.384 1525.65 877.574 1527.57 Q876.787 1529.47 874.681 1532.07 Q874.102 1532.74 871 1535.95 Q867.898 1539.15 862.25 1544.91 Z\" fill=\"#000000\" fill-rule=\"nonzero\" fill-opacity=\"1\" /><path clip-path=\"url(#clip100)\" d=\"M888.384 1542.97 L893.268 1542.97 L893.268 1548.85 L888.384 1548.85 L888.384 1542.97 Z\" fill=\"#000000\" fill-rule=\"nonzero\" fill-opacity=\"1\" /><path clip-path=\"url(#clip100)\" d=\"M903.5 1514.29 L921.856 1514.29 L921.856 1518.22 L907.782 1518.22 L907.782 1526.7 Q908.801 1526.35 909.819 1526.19 Q910.838 1526 911.856 1526 Q917.643 1526 921.023 1529.17 Q924.403 1532.34 924.403 1537.76 Q924.403 1543.34 920.93 1546.44 Q917.458 1549.52 911.139 1549.52 Q908.963 1549.52 906.694 1549.15 Q904.449 1548.78 902.042 1548.04 L902.042 1543.34 Q904.125 1544.47 906.347 1545.03 Q908.569 1545.58 911.046 1545.58 Q915.051 1545.58 917.389 1543.48 Q919.727 1541.37 919.727 1537.76 Q919.727 1534.15 917.389 1532.04 Q915.051 1529.94 911.046 1529.94 Q909.171 1529.94 907.296 1530.35 Q905.444 1530.77 903.5 1531.65 L903.5 1514.29 Z\" fill=\"#000000\" fill-rule=\"nonzero\" fill-opacity=\"1\" /><path clip-path=\"url(#clip100)\" d=\"M1256.14 1517.37 Q1252.53 1517.37 1250.7 1520.93 Q1248.89 1524.47 1248.89 1531.6 Q1248.89 1538.71 1250.7 1542.27 Q1252.53 1545.82 1256.14 1545.82 Q1259.77 1545.82 1261.58 1542.27 Q1263.41 1538.71 1263.41 1531.6 Q1263.41 1524.47 1261.58 1520.93 Q1259.77 1517.37 1256.14 1517.37 M1256.14 1513.66 Q1261.95 1513.66 1265 1518.27 Q1268.08 1522.85 1268.08 1531.6 Q1268.08 1540.33 1265 1544.94 Q1261.95 1549.52 1256.14 1549.52 Q1250.33 1549.52 1247.25 1544.94 Q1244.19 1540.33 1244.19 1531.6 Q1244.19 1522.85 1247.25 1518.27 Q1250.33 1513.66 1256.14 1513.66 Z\" fill=\"#000000\" fill-rule=\"nonzero\" fill-opacity=\"1\" /><path clip-path=\"url(#clip100)\" d=\"M1276.3 1542.97 L1281.18 1542.97 L1281.18 1548.85 L1276.3 1548.85 L1276.3 1542.97 Z\" fill=\"#000000\" fill-rule=\"nonzero\" fill-opacity=\"1\" /><path clip-path=\"url(#clip100)\" d=\"M1301.37 1517.37 Q1297.76 1517.37 1295.93 1520.93 Q1294.12 1524.47 1294.12 1531.6 Q1294.12 1538.71 1295.93 1542.27 Q1297.76 1545.82 1301.37 1545.82 Q1305 1545.82 1306.81 1542.27 Q1308.64 1538.71 1308.64 1531.6 Q1308.64 1524.47 1306.81 1520.93 Q1305 1517.37 1301.37 1517.37 M1301.37 1513.66 Q1307.18 1513.66 1310.23 1518.27 Q1313.31 1522.85 1313.31 1531.6 Q1313.31 1540.33 1310.23 1544.94 Q1307.18 1549.52 1301.37 1549.52 Q1295.56 1549.52 1292.48 1544.94 Q1289.42 1540.33 1289.42 1531.6 Q1289.42 1522.85 1292.48 1518.27 Q1295.56 1513.66 1301.37 1513.66 Z\" fill=\"#000000\" fill-rule=\"nonzero\" fill-opacity=\"1\" /><path clip-path=\"url(#clip100)\" d=\"M1657.81 1544.91 L1674.13 1544.91 L1674.13 1548.85 L1652.19 1548.85 L1652.19 1544.91 Q1654.85 1542.16 1659.43 1537.53 Q1664.04 1532.88 1665.22 1531.53 Q1667.47 1529.01 1668.35 1527.27 Q1669.25 1525.51 1669.25 1523.82 Q1669.25 1521.07 1667.3 1519.33 Q1665.38 1517.6 1662.28 1517.6 Q1660.08 1517.6 1657.63 1518.36 Q1655.2 1519.13 1652.42 1520.68 L1652.42 1515.95 Q1655.24 1514.82 1657.7 1514.24 Q1660.15 1513.66 1662.19 1513.66 Q1667.56 1513.66 1670.75 1516.35 Q1673.95 1519.03 1673.95 1523.52 Q1673.95 1525.65 1673.14 1527.57 Q1672.35 1529.47 1670.24 1532.07 Q1669.67 1532.74 1666.56 1535.95 Q1663.46 1539.15 1657.81 1544.91 Z\" fill=\"#000000\" fill-rule=\"nonzero\" fill-opacity=\"1\" /><path clip-path=\"url(#clip100)\" d=\"M1683.95 1542.97 L1688.83 1542.97 L1688.83 1548.85 L1683.95 1548.85 L1683.95 1542.97 Z\" fill=\"#000000\" fill-rule=\"nonzero\" fill-opacity=\"1\" /><path clip-path=\"url(#clip100)\" d=\"M1699.06 1514.29 L1717.42 1514.29 L1717.42 1518.22 L1703.35 1518.22 L1703.35 1526.7 Q1704.36 1526.35 1705.38 1526.19 Q1706.4 1526 1707.42 1526 Q1713.21 1526 1716.59 1529.17 Q1719.97 1532.34 1719.97 1537.76 Q1719.97 1543.34 1716.49 1546.44 Q1713.02 1549.52 1706.7 1549.52 Q1704.53 1549.52 1702.26 1549.15 Q1700.01 1548.78 1697.61 1548.04 L1697.61 1543.34 Q1699.69 1544.47 1701.91 1545.03 Q1704.13 1545.58 1706.61 1545.58 Q1710.61 1545.58 1712.95 1543.48 Q1715.29 1541.37 1715.29 1537.76 Q1715.29 1534.15 1712.95 1532.04 Q1710.61 1529.94 1706.61 1529.94 Q1704.73 1529.94 1702.86 1530.35 Q1701.01 1530.77 1699.06 1531.65 L1699.06 1514.29 Z\" fill=\"#000000\" fill-rule=\"nonzero\" fill-opacity=\"1\" /><path clip-path=\"url(#clip100)\" d=\"M2060.57 1514.29 L2078.92 1514.29 L2078.92 1518.22 L2064.85 1518.22 L2064.85 1526.7 Q2065.87 1526.35 2066.89 1526.19 Q2067.9 1526 2068.92 1526 Q2074.71 1526 2078.09 1529.17 Q2081.47 1532.34 2081.47 1537.76 Q2081.47 1543.34 2078 1546.44 Q2074.52 1549.52 2068.21 1549.52 Q2066.03 1549.52 2063.76 1549.15 Q2061.52 1548.78 2059.11 1548.04 L2059.11 1543.34 Q2061.19 1544.47 2063.41 1545.03 Q2065.64 1545.58 2068.11 1545.58 Q2072.12 1545.58 2074.46 1543.48 Q2076.79 1541.37 2076.79 1537.76 Q2076.79 1534.15 2074.46 1532.04 Q2072.12 1529.94 2068.11 1529.94 Q2066.24 1529.94 2064.36 1530.35 Q2062.51 1530.77 2060.57 1531.65 L2060.57 1514.29 Z\" fill=\"#000000\" fill-rule=\"nonzero\" fill-opacity=\"1\" /><path clip-path=\"url(#clip100)\" d=\"M2090.68 1542.97 L2095.57 1542.97 L2095.57 1548.85 L2090.68 1548.85 L2090.68 1542.97 Z\" fill=\"#000000\" fill-rule=\"nonzero\" fill-opacity=\"1\" /><path clip-path=\"url(#clip100)\" d=\"M2115.75 1517.37 Q2112.14 1517.37 2110.31 1520.93 Q2108.51 1524.47 2108.51 1531.6 Q2108.51 1538.71 2110.31 1542.27 Q2112.14 1545.82 2115.75 1545.82 Q2119.39 1545.82 2121.19 1542.27 Q2123.02 1538.71 2123.02 1531.6 Q2123.02 1524.47 2121.19 1520.93 Q2119.39 1517.37 2115.75 1517.37 M2115.75 1513.66 Q2121.56 1513.66 2124.62 1518.27 Q2127.7 1522.85 2127.7 1531.6 Q2127.7 1540.33 2124.62 1544.94 Q2121.56 1549.52 2115.75 1549.52 Q2109.94 1549.52 2106.86 1544.94 Q2103.81 1540.33 2103.81 1531.6 Q2103.81 1522.85 2106.86 1518.27 Q2109.94 1513.66 2115.75 1513.66 Z\" fill=\"#000000\" fill-rule=\"nonzero\" fill-opacity=\"1\" /><polyline clip-path=\"url(#clip102)\" style=\"stroke:#000000; stroke-linecap:round; stroke-linejoin:round; stroke-width:2; stroke-opacity:0.1; fill:none\" points=\"193.936,1445.72 2352.76,1445.72 \"/>\n",
       "<polyline clip-path=\"url(#clip102)\" style=\"stroke:#000000; stroke-linecap:round; stroke-linejoin:round; stroke-width:2; stroke-opacity:0.1; fill:none\" points=\"193.936,1106.21 2352.76,1106.21 \"/>\n",
       "<polyline clip-path=\"url(#clip102)\" style=\"stroke:#000000; stroke-linecap:round; stroke-linejoin:round; stroke-width:2; stroke-opacity:0.1; fill:none\" points=\"193.936,766.705 2352.76,766.705 \"/>\n",
       "<polyline clip-path=\"url(#clip102)\" style=\"stroke:#000000; stroke-linecap:round; stroke-linejoin:round; stroke-width:2; stroke-opacity:0.1; fill:none\" points=\"193.936,427.196 2352.76,427.196 \"/>\n",
       "<polyline clip-path=\"url(#clip102)\" style=\"stroke:#000000; stroke-linecap:round; stroke-linejoin:round; stroke-width:2; stroke-opacity:0.1; fill:none\" points=\"193.936,87.6867 2352.76,87.6867 \"/>\n",
       "<polyline clip-path=\"url(#clip100)\" style=\"stroke:#000000; stroke-linecap:round; stroke-linejoin:round; stroke-width:4; stroke-opacity:1; fill:none\" points=\"193.936,1486.45 193.936,47.2441 \"/>\n",
       "<polyline clip-path=\"url(#clip100)\" style=\"stroke:#000000; stroke-linecap:round; stroke-linejoin:round; stroke-width:4; stroke-opacity:1; fill:none\" points=\"193.936,1445.72 212.834,1445.72 \"/>\n",
       "<polyline clip-path=\"url(#clip100)\" style=\"stroke:#000000; stroke-linecap:round; stroke-linejoin:round; stroke-width:4; stroke-opacity:1; fill:none\" points=\"193.936,1106.21 212.834,1106.21 \"/>\n",
       "<polyline clip-path=\"url(#clip100)\" style=\"stroke:#000000; stroke-linecap:round; stroke-linejoin:round; stroke-width:4; stroke-opacity:1; fill:none\" points=\"193.936,766.705 212.834,766.705 \"/>\n",
       "<polyline clip-path=\"url(#clip100)\" style=\"stroke:#000000; stroke-linecap:round; stroke-linejoin:round; stroke-width:4; stroke-opacity:1; fill:none\" points=\"193.936,427.196 212.834,427.196 \"/>\n",
       "<polyline clip-path=\"url(#clip100)\" style=\"stroke:#000000; stroke-linecap:round; stroke-linejoin:round; stroke-width:4; stroke-opacity:1; fill:none\" points=\"193.936,87.6867 212.834,87.6867 \"/>\n",
       "<path clip-path=\"url(#clip100)\" d=\"M50.9921 1446.17 L80.6679 1446.17 L80.6679 1450.11 L50.9921 1450.11 L50.9921 1446.17 Z\" fill=\"#000000\" fill-rule=\"nonzero\" fill-opacity=\"1\" /><path clip-path=\"url(#clip100)\" d=\"M91.5706 1459.07 L99.2095 1459.07 L99.2095 1432.7 L90.8993 1434.37 L90.8993 1430.11 L99.1632 1428.44 L103.839 1428.44 L103.839 1459.07 L111.478 1459.07 L111.478 1463 L91.5706 1463 L91.5706 1459.07 Z\" fill=\"#000000\" fill-rule=\"nonzero\" fill-opacity=\"1\" /><path clip-path=\"url(#clip100)\" d=\"M120.922 1457.12 L125.807 1457.12 L125.807 1463 L120.922 1463 L120.922 1457.12 Z\" fill=\"#000000\" fill-rule=\"nonzero\" fill-opacity=\"1\" /><path clip-path=\"url(#clip100)\" d=\"M145.992 1431.52 Q142.381 1431.52 140.552 1435.09 Q138.746 1438.63 138.746 1445.76 Q138.746 1452.86 140.552 1456.43 Q142.381 1459.97 145.992 1459.97 Q149.626 1459.97 151.431 1456.43 Q153.26 1452.86 153.26 1445.76 Q153.26 1438.63 151.431 1435.09 Q149.626 1431.52 145.992 1431.52 M145.992 1427.82 Q151.802 1427.82 154.857 1432.42 Q157.936 1437.01 157.936 1445.76 Q157.936 1454.48 154.857 1459.09 Q151.802 1463.67 145.992 1463.67 Q140.181 1463.67 137.103 1459.09 Q134.047 1454.48 134.047 1445.76 Q134.047 1437.01 137.103 1432.42 Q140.181 1427.82 145.992 1427.82 Z\" fill=\"#000000\" fill-rule=\"nonzero\" fill-opacity=\"1\" /><path clip-path=\"url(#clip100)\" d=\"M51.9875 1106.66 L81.6633 1106.66 L81.6633 1110.6 L51.9875 1110.6 L51.9875 1106.66 Z\" fill=\"#000000\" fill-rule=\"nonzero\" fill-opacity=\"1\" /><path clip-path=\"url(#clip100)\" d=\"M101.756 1092.01 Q98.1447 1092.01 96.316 1095.58 Q94.5104 1099.12 94.5104 1106.25 Q94.5104 1113.35 96.316 1116.92 Q98.1447 1120.46 101.756 1120.46 Q105.39 1120.46 107.196 1116.92 Q109.024 1113.35 109.024 1106.25 Q109.024 1099.12 107.196 1095.58 Q105.39 1092.01 101.756 1092.01 M101.756 1088.31 Q107.566 1088.31 110.621 1092.91 Q113.7 1097.5 113.7 1106.25 Q113.7 1114.97 110.621 1119.58 Q107.566 1124.16 101.756 1124.16 Q95.9456 1124.16 92.8669 1119.58 Q89.8114 1114.97 89.8114 1106.25 Q89.8114 1097.5 92.8669 1092.91 Q95.9456 1088.31 101.756 1088.31 Z\" fill=\"#000000\" fill-rule=\"nonzero\" fill-opacity=\"1\" /><path clip-path=\"url(#clip100)\" d=\"M121.918 1117.61 L126.802 1117.61 L126.802 1123.49 L121.918 1123.49 L121.918 1117.61 Z\" fill=\"#000000\" fill-rule=\"nonzero\" fill-opacity=\"1\" /><path clip-path=\"url(#clip100)\" d=\"M137.033 1088.93 L155.39 1088.93 L155.39 1092.87 L141.316 1092.87 L141.316 1101.34 Q142.334 1100.99 143.353 1100.83 Q144.371 1100.65 145.39 1100.65 Q151.177 1100.65 154.556 1103.82 Q157.936 1106.99 157.936 1112.41 Q157.936 1117.98 154.464 1121.09 Q150.992 1124.16 144.672 1124.16 Q142.496 1124.16 140.228 1123.79 Q137.982 1123.42 135.575 1122.68 L135.575 1117.98 Q137.658 1119.12 139.881 1119.67 Q142.103 1120.23 144.58 1120.23 Q148.584 1120.23 150.922 1118.12 Q153.26 1116.02 153.26 1112.41 Q153.26 1108.79 150.922 1106.69 Q148.584 1104.58 144.58 1104.58 Q142.705 1104.58 140.83 1105 Q138.978 1105.41 137.033 1106.29 L137.033 1088.93 Z\" fill=\"#000000\" fill-rule=\"nonzero\" fill-opacity=\"1\" /><path clip-path=\"url(#clip100)\" d=\"M100.76 752.503 Q97.1493 752.503 95.3206 756.068 Q93.515 759.61 93.515 766.739 Q93.515 773.846 95.3206 777.411 Q97.1493 780.952 100.76 780.952 Q104.395 780.952 106.2 777.411 Q108.029 773.846 108.029 766.739 Q108.029 759.61 106.2 756.068 Q104.395 752.503 100.76 752.503 M100.76 748.8 Q106.571 748.8 109.626 753.406 Q112.705 757.989 112.705 766.739 Q112.705 775.466 109.626 780.073 Q106.571 784.656 100.76 784.656 Q94.9502 784.656 91.8715 780.073 Q88.816 775.466 88.816 766.739 Q88.816 757.989 91.8715 753.406 Q94.9502 748.8 100.76 748.8 Z\" fill=\"#000000\" fill-rule=\"nonzero\" fill-opacity=\"1\" /><path clip-path=\"url(#clip100)\" d=\"M120.922 778.105 L125.807 778.105 L125.807 783.985 L120.922 783.985 L120.922 778.105 Z\" fill=\"#000000\" fill-rule=\"nonzero\" fill-opacity=\"1\" /><path clip-path=\"url(#clip100)\" d=\"M145.992 752.503 Q142.381 752.503 140.552 756.068 Q138.746 759.61 138.746 766.739 Q138.746 773.846 140.552 777.411 Q142.381 780.952 145.992 780.952 Q149.626 780.952 151.431 777.411 Q153.26 773.846 153.26 766.739 Q153.26 759.61 151.431 756.068 Q149.626 752.503 145.992 752.503 M145.992 748.8 Q151.802 748.8 154.857 753.406 Q157.936 757.989 157.936 766.739 Q157.936 775.466 154.857 780.073 Q151.802 784.656 145.992 784.656 Q140.181 784.656 137.103 780.073 Q134.047 775.466 134.047 766.739 Q134.047 757.989 137.103 753.406 Q140.181 748.8 145.992 748.8 Z\" fill=\"#000000\" fill-rule=\"nonzero\" fill-opacity=\"1\" /><path clip-path=\"url(#clip100)\" d=\"M101.756 412.994 Q98.1447 412.994 96.316 416.559 Q94.5104 420.101 94.5104 427.23 Q94.5104 434.337 96.316 437.902 Q98.1447 441.443 101.756 441.443 Q105.39 441.443 107.196 437.902 Q109.024 434.337 109.024 427.23 Q109.024 420.101 107.196 416.559 Q105.39 412.994 101.756 412.994 M101.756 409.291 Q107.566 409.291 110.621 413.897 Q113.7 418.48 113.7 427.23 Q113.7 435.957 110.621 440.564 Q107.566 445.147 101.756 445.147 Q95.9456 445.147 92.8669 440.564 Q89.8114 435.957 89.8114 427.23 Q89.8114 418.48 92.8669 413.897 Q95.9456 409.291 101.756 409.291 Z\" fill=\"#000000\" fill-rule=\"nonzero\" fill-opacity=\"1\" /><path clip-path=\"url(#clip100)\" d=\"M121.918 438.596 L126.802 438.596 L126.802 444.476 L121.918 444.476 L121.918 438.596 Z\" fill=\"#000000\" fill-rule=\"nonzero\" fill-opacity=\"1\" /><path clip-path=\"url(#clip100)\" d=\"M137.033 409.916 L155.39 409.916 L155.39 413.851 L141.316 413.851 L141.316 422.323 Q142.334 421.976 143.353 421.814 Q144.371 421.629 145.39 421.629 Q151.177 421.629 154.556 424.8 Q157.936 427.971 157.936 433.388 Q157.936 438.966 154.464 442.068 Q150.992 445.147 144.672 445.147 Q142.496 445.147 140.228 444.777 Q137.982 444.406 135.575 443.665 L135.575 438.966 Q137.658 440.101 139.881 440.656 Q142.103 441.212 144.58 441.212 Q148.584 441.212 150.922 439.105 Q153.26 436.999 153.26 433.388 Q153.26 429.777 150.922 427.67 Q148.584 425.564 144.58 425.564 Q142.705 425.564 140.83 425.98 Q138.978 426.397 137.033 427.277 L137.033 409.916 Z\" fill=\"#000000\" fill-rule=\"nonzero\" fill-opacity=\"1\" /><path clip-path=\"url(#clip100)\" d=\"M91.5706 101.032 L99.2095 101.032 L99.2095 74.666 L90.8993 76.3326 L90.8993 72.0734 L99.1632 70.4067 L103.839 70.4067 L103.839 101.032 L111.478 101.032 L111.478 104.967 L91.5706 104.967 L91.5706 101.032 Z\" fill=\"#000000\" fill-rule=\"nonzero\" fill-opacity=\"1\" /><path clip-path=\"url(#clip100)\" d=\"M120.922 99.0871 L125.807 99.0871 L125.807 104.967 L120.922 104.967 L120.922 99.0871 Z\" fill=\"#000000\" fill-rule=\"nonzero\" fill-opacity=\"1\" /><path clip-path=\"url(#clip100)\" d=\"M145.992 73.4854 Q142.381 73.4854 140.552 77.0502 Q138.746 80.5919 138.746 87.7215 Q138.746 94.8279 140.552 98.3927 Q142.381 101.934 145.992 101.934 Q149.626 101.934 151.431 98.3927 Q153.26 94.8279 153.26 87.7215 Q153.26 80.5919 151.431 77.0502 Q149.626 73.4854 145.992 73.4854 M145.992 69.7817 Q151.802 69.7817 154.857 74.3882 Q157.936 78.9715 157.936 87.7215 Q157.936 96.4483 154.857 101.055 Q151.802 105.638 145.992 105.638 Q140.181 105.638 137.103 101.055 Q134.047 96.4483 134.047 87.7215 Q134.047 78.9715 137.103 74.3882 Q140.181 69.7817 145.992 69.7817 Z\" fill=\"#000000\" fill-rule=\"nonzero\" fill-opacity=\"1\" /><polyline clip-path=\"url(#clip102)\" style=\"stroke:#009af9; stroke-linecap:round; stroke-linejoin:round; stroke-width:4; stroke-opacity:1; fill:none\" points=\"255.035,766.705 271.328,698.916 287.621,631.805 303.914,566.041 320.207,502.283 336.5,441.166 352.793,383.302 369.086,329.269 385.379,279.607 401.671,234.812 417.964,195.331 434.257,161.559 450.55,133.833 466.843,112.431 483.136,97.5666 499.429,89.3877 515.722,87.9763 532.015,93.3465 548.308,105.445 564.601,124.15 580.894,149.275 597.187,180.57 613.48,217.721 629.773,260.357 646.066,308.053 662.359,360.331 678.652,416.67 694.945,476.506 711.238,539.242 727.531,604.25 743.824,670.882 760.117,738.471 776.41,806.342 792.703,873.817 808.996,940.222 825.289,1004.89 841.582,1067.18 857.875,1126.47 874.168,1182.17 890.461,1233.71 906.754,1280.59 923.047,1322.33 939.34,1358.52 955.633,1388.8 971.926,1412.86 988.219,1430.46 1004.51,1441.44 1020.8,1445.67 1037.1,1443.12 1053.39,1433.81 1069.68,1417.83 1085.98,1395.35 1102.27,1366.59 1118.56,1331.83 1134.86,1291.43 1151.15,1245.78 1167.44,1195.35 1183.73,1140.63 1200.03,1082.18 1216.32,1020.57 1232.61,956.433 1248.91,890.396 1265.2,823.124 1281.49,755.288 1297.79,687.566 1314.08,620.634 1330.37,555.162 1346.66,491.804 1362.96,431.193 1379.25,373.934 1395.54,320.599 1411.84,271.722 1428.13,227.79 1444.42,189.243 1460.72,156.466 1477.01,129.786 1493.3,109.47 1509.59,95.7207 1525.89,88.6758 1542.18,88.4056 1558.47,94.9127 1574.77,108.132 1591.06,127.932 1607.35,154.114 1623.65,186.417 1639.94,224.518 1656.23,268.036 1672.52,316.537 1688.82,369.535 1705.11,426.502 1721.4,486.869 1737.7,550.031 1753.99,615.358 1770.28,682.198 1786.57,749.882 1802.87,817.733 1819.16,885.076 1835.45,951.235 1851.75,1015.55 1868.04,1077.38 1884.33,1136.1 1900.63,1191.14 1916.92,1241.93 1933.21,1287.98 1949.5,1328.81 1965.8,1364.03 1982.09,1393.29 1998.38,1416.28 2014.68,1432.78 2030.97,1442.62 2047.26,1445.72 2063.56,1442.02 2079.85,1431.58 2096.14,1414.5 2112.43,1390.94 2128.73,1361.15 2145.02,1325.42 2161.31,1284.1 2177.61,1237.62 2193.9,1186.43 2210.19,1131.05 2226.49,1072.02 2242.78,1009.95 2259.07,945.444 2275.36,879.153 2291.66,811.738 \"/>\n",
       "<path clip-path=\"url(#clip100)\" d=\"M2012.48 198.898 L2280.8 198.898 L2280.8 95.2176 L2012.48 95.2176  Z\" fill=\"#ffffff\" fill-rule=\"evenodd\" fill-opacity=\"1\"/>\n",
       "<polyline clip-path=\"url(#clip100)\" style=\"stroke:#000000; stroke-linecap:round; stroke-linejoin:round; stroke-width:4; stroke-opacity:1; fill:none\" points=\"2012.48,198.898 2280.8,198.898 2280.8,95.2176 2012.48,95.2176 2012.48,198.898 \"/>\n",
       "<polyline clip-path=\"url(#clip100)\" style=\"stroke:#009af9; stroke-linecap:round; stroke-linejoin:round; stroke-width:4; stroke-opacity:1; fill:none\" points=\"2036.47,147.058 2180.39,147.058 \"/>\n",
       "<path clip-path=\"url(#clip100)\" d=\"M2218.22 166.745 Q2216.42 171.375 2214.7 172.787 Q2212.99 174.199 2210.12 174.199 L2206.72 174.199 L2206.72 170.634 L2209.22 170.634 Q2210.98 170.634 2211.95 169.8 Q2212.92 168.967 2214.1 165.865 L2214.86 163.921 L2204.38 138.412 L2208.89 138.412 L2216.99 158.689 L2225.1 138.412 L2229.61 138.412 L2218.22 166.745 Z\" fill=\"#000000\" fill-rule=\"nonzero\" fill-opacity=\"1\" /><path clip-path=\"url(#clip100)\" d=\"M2236.9 160.402 L2244.54 160.402 L2244.54 134.037 L2236.23 135.703 L2236.23 131.444 L2244.49 129.778 L2249.17 129.778 L2249.17 160.402 L2256.81 160.402 L2256.81 164.338 L2236.9 164.338 L2236.9 160.402 Z\" fill=\"#000000\" fill-rule=\"nonzero\" fill-opacity=\"1\" /></svg>\n"
      ]
     },
     "execution_count": 26,
     "metadata": {},
     "output_type": "execute_result"
    }
   ],
   "source": [
    "x = -2π:0.1:2π\n",
    "plot(x, sin.(x))"
   ]
  },
  {
   "cell_type": "markdown",
   "metadata": {},
   "source": [
    "**Personal recommendation** for simple plotting in a REPL on a HPC cluster: [UnicodePlots.jl](https://github.com/JuliaPlots/UnicodePlots.jl) (or UnicodePlots backend for Plots.jl)."
   ]
  },
  {
   "cell_type": "code",
   "execution_count": 30,
   "metadata": {},
   "outputs": [
    {
     "data": {
      "text/plain": [
       "      \u001b[38;5;8m┌────────────────────────────────────────┐\u001b[0m \n",
       "    \u001b[38;5;8m1\u001b[0m \u001b[38;5;8m│\u001b[0m         \u001b[38;5;2m.\u001b[0m\u001b[38;5;2m'\u001b[0m\u001b[38;5;2m:\u001b[0m        : \u001b[38;5;2m:\u001b[0m\u001b[38;5;2m'\u001b[0m\u001b[38;5;2m.\u001b[0m               \u001b[38;5;8m│\u001b[0m \u001b[38;5;8m\u001b[0m\n",
       "     \u001b[38;5;8m\u001b[0m \u001b[38;5;8m│\u001b[0m         \u001b[38;5;2m:\u001b[0m \u001b[38;5;2m'\u001b[0m\u001b[38;5;2m.\u001b[0m       :\u001b[38;5;2m.\u001b[0m\u001b[38;5;2m'\u001b[0m \u001b[38;5;2m:\u001b[0m               \u001b[38;5;8m│\u001b[0m \u001b[38;5;8m\u001b[0m\n",
       "     \u001b[38;5;8m\u001b[0m \u001b[38;5;8m│\u001b[0m        \u001b[38;5;2m.\u001b[0m\u001b[38;5;2m'\u001b[0m  \u001b[38;5;2m:\u001b[0m       :\u001b[38;5;2m:\u001b[0m  \u001b[38;5;2m:\u001b[0m               \u001b[38;5;8m│\u001b[0m \u001b[38;5;8m\u001b[0m\n",
       "     \u001b[38;5;8m\u001b[0m \u001b[38;5;8m│\u001b[0m        \u001b[38;5;2m:\u001b[0m   \u001b[38;5;2m:\u001b[0m       \u001b[38;5;2m:\u001b[0m\u001b[38;5;2m:\u001b[0m   \u001b[38;5;2m:\u001b[0m              \u001b[38;5;8m│\u001b[0m \u001b[38;5;8m\u001b[0m\n",
       "     \u001b[38;5;8m\u001b[0m \u001b[38;5;8m│\u001b[0m        \u001b[38;5;2m:\u001b[0m   \u001b[38;5;2m:\u001b[0m\u001b[38;5;2m.\u001b[0m      \u001b[38;5;2m:\u001b[0m    \u001b[38;5;2m:\u001b[0m              \u001b[38;5;8m│\u001b[0m \u001b[38;5;8m\u001b[0m\n",
       "     \u001b[38;5;8m\u001b[0m \u001b[38;5;8m│\u001b[0m       \u001b[38;5;2m.\u001b[0m\u001b[38;5;2m'\u001b[0m    \u001b[38;5;2m:\u001b[0m      \u001b[38;5;2m:\u001b[0m    \u001b[38;5;2m:\u001b[0m              \u001b[38;5;8m│\u001b[0m \u001b[38;5;8m\u001b[0m\n",
       "     \u001b[38;5;8m\u001b[0m \u001b[38;5;8m│\u001b[0m       \u001b[38;5;2m:\u001b[0m     \u001b[38;5;2m:\u001b[0m      \u001b[38;5;2m:\u001b[0m    \u001b[38;5;2m'\u001b[0m\u001b[38;5;2m.\u001b[0m             \u001b[38;5;8m│\u001b[0m \u001b[38;5;8m\u001b[0m\n",
       "     \u001b[38;5;8m\u001b[0m \u001b[38;5;8m│\u001b[0m.......\u001b[38;5;2m:\u001b[0m.....\u001b[38;5;2m:\u001b[0m.....\u001b[38;5;2m.\u001b[0m\u001b[38;5;2m:\u001b[0m.....\u001b[38;5;2m:\u001b[0m.............\u001b[38;5;8m│\u001b[0m \u001b[38;5;8m\u001b[0m\n",
       "     \u001b[38;5;8m\u001b[0m \u001b[38;5;8m│\u001b[0m             \u001b[38;5;2m'\u001b[0m\u001b[38;5;2m.\u001b[0m    \u001b[38;5;2m:\u001b[0m:     \u001b[38;5;2m:\u001b[0m     \u001b[38;5;2m:\u001b[0m       \u001b[38;5;8m│\u001b[0m \u001b[38;5;8m\u001b[0m\n",
       "     \u001b[38;5;8m\u001b[0m \u001b[38;5;8m│\u001b[0m              \u001b[38;5;2m:\u001b[0m    \u001b[38;5;2m:\u001b[0m:     \u001b[38;5;2m:\u001b[0m    \u001b[38;5;2m.\u001b[0m\u001b[38;5;2m'\u001b[0m       \u001b[38;5;8m│\u001b[0m \u001b[38;5;8m\u001b[0m\n",
       "     \u001b[38;5;8m\u001b[0m \u001b[38;5;8m│\u001b[0m              \u001b[38;5;2m:\u001b[0m    \u001b[38;5;2m:\u001b[0m:     \u001b[38;5;2m'\u001b[0m\u001b[38;5;2m:\u001b[0m   \u001b[38;5;2m:\u001b[0m        \u001b[38;5;8m│\u001b[0m \u001b[38;5;8m\u001b[0m\n",
       "     \u001b[38;5;8m\u001b[0m \u001b[38;5;8m│\u001b[0m              \u001b[38;5;2m:\u001b[0m   \u001b[38;5;2m:\u001b[0m :      \u001b[38;5;2m:\u001b[0m   \u001b[38;5;2m:\u001b[0m        \u001b[38;5;8m│\u001b[0m \u001b[38;5;8m\u001b[0m\n",
       "     \u001b[38;5;8m\u001b[0m \u001b[38;5;8m│\u001b[0m               \u001b[38;5;2m:\u001b[0m  \u001b[38;5;2m:\u001b[0m :      \u001b[38;5;2m:\u001b[0m   \u001b[38;5;2m:\u001b[0m        \u001b[38;5;8m│\u001b[0m \u001b[38;5;8m\u001b[0m\n",
       "     \u001b[38;5;8m\u001b[0m \u001b[38;5;8m│\u001b[0m               \u001b[38;5;2m:\u001b[0m  \u001b[38;5;2m:\u001b[0m :       \u001b[38;5;2m:\u001b[0m \u001b[38;5;2m:\u001b[0m         \u001b[38;5;8m│\u001b[0m \u001b[38;5;8m\u001b[0m\n",
       "   \u001b[38;5;8m-1\u001b[0m \u001b[38;5;8m│\u001b[0m               \u001b[38;5;2m'\u001b[0m\u001b[38;5;2m:\u001b[0m\u001b[38;5;2m:\u001b[0m  :       \u001b[38;5;2m:\u001b[0m\u001b[38;5;2m.\u001b[0m\u001b[38;5;2m:\u001b[0m         \u001b[38;5;8m│\u001b[0m \u001b[38;5;8m\u001b[0m\n",
       "      \u001b[38;5;8m└────────────────────────────────────────┘\u001b[0m \n",
       "       \u001b[38;5;8m-10\u001b[0m                \u001b[38;5;8m\u001b[0m                   \u001b[38;5;8m10\u001b[0m  "
      ]
     },
     "execution_count": 30,
     "metadata": {},
     "output_type": "execute_result"
    }
   ],
   "source": [
    "using UnicodePlots\n",
    "lineplot(x, sin.(x), canvas=DotCanvas)"
   ]
  },
  {
   "cell_type": "markdown",
   "metadata": {
    "tags": []
   },
   "source": [
    "## No types, no performance\n",
    "\n",
    "Although types aren't always explicitly visible, **Julia is built around types**.\n",
    "\n",
    "High performance codes in Julia make good use of the type system."
   ]
  },
  {
   "cell_type": "code",
   "execution_count": null,
   "metadata": {},
   "outputs": [],
   "source": [
    "3 + 2"
   ]
  },
  {
   "cell_type": "code",
   "execution_count": null,
   "metadata": {},
   "outputs": [],
   "source": [
    "3 + 2.0"
   ]
  },
  {
   "cell_type": "code",
   "execution_count": null,
   "metadata": {},
   "outputs": [],
   "source": [
    "typeof(3)"
   ]
  },
  {
   "cell_type": "code",
   "execution_count": null,
   "metadata": {},
   "outputs": [],
   "source": [
    "typeof(2.0)"
   ]
  },
  {
   "cell_type": "code",
   "execution_count": null,
   "metadata": {},
   "outputs": [],
   "source": [
    "typeof([1,2,3])"
   ]
  },
  {
   "cell_type": "markdown",
   "metadata": {},
   "source": [
    "Here, `Array` is a **parametric type**. The type parameters are\n",
    "* `Int64` (element type)\n",
    "* `1` (dimensionality)\n",
    "\n",
    "Hence `Array{Int64, 1}` means that we have a vector that can hold 64-bit integers."
   ]
  },
  {
   "cell_type": "code",
   "execution_count": 54,
   "metadata": {},
   "outputs": [
    {
     "data": {
      "text/plain": [
       "Int64"
      ]
     },
     "execution_count": 54,
     "metadata": {},
     "output_type": "execute_result"
    }
   ],
   "source": [
    "eltype([1,2,3])"
   ]
  },
  {
   "cell_type": "code",
   "execution_count": 53,
   "metadata": {},
   "outputs": [
    {
     "data": {
      "text/plain": [
       "Matrix{Float64}\u001b[90m (alias for \u001b[39m\u001b[90mArray{Float64, 2}\u001b[39m\u001b[90m)\u001b[39m"
      ]
     },
     "execution_count": 53,
     "metadata": {},
     "output_type": "execute_result"
    }
   ],
   "source": [
    "typeof(rand(3,3))"
   ]
  },
  {
   "cell_type": "code",
   "execution_count": 52,
   "metadata": {},
   "outputs": [
    {
     "data": {
      "text/plain": [
       "UnitRange{Int64}"
      ]
     },
     "execution_count": 52,
     "metadata": {},
     "output_type": "execute_result"
    }
   ],
   "source": [
    "typeof(5:7)"
   ]
  },
  {
   "cell_type": "code",
   "execution_count": null,
   "metadata": {},
   "outputs": [],
   "source": [
    "3 isa Int64"
   ]
  },
  {
   "cell_type": "code",
   "execution_count": null,
   "metadata": {},
   "outputs": [],
   "source": [
    "3 isa Float64"
   ]
  },
  {
   "cell_type": "code",
   "execution_count": null,
   "metadata": {},
   "outputs": [],
   "source": [
    "3 isa Number"
   ]
  },
  {
   "cell_type": "markdown",
   "metadata": {
    "tags": []
   },
   "source": [
    "**Concrete types**\n",
    "* types of values (\"objects\")\n",
    "* specify data structure\n",
    "* Example: `Float64`\n",
    "\n",
    "**Abstract types**\n",
    "* cannot be instantiated\n",
    "* their descendant types share \"behavior\" ([duck typing](https://en.wikipedia.org/wiki/Duck_typing))\n",
    "* Examples:"
   ]
  },
  {
   "cell_type": "markdown",
   "metadata": {
    "tags": []
   },
   "source": [
    "The abstract type `Number` indicates that one can do number-like things, e.g. `+`,`-`,`*`, and `/`, with corresponding values. In this category we have (concrete) things like `Float64` (double precision float) and `Int32` (single precision integer) numbers.\n",
    "\n",
    "An `AbstractArray` is a type that, e.g., allows indexing `A[i]`. Examples include regular arrays (`Array`), as well as ranges (`UnitRange`)."
   ]
  },
  {
   "cell_type": "markdown",
   "metadata": {
    "tags": []
   },
   "source": [
    "### Inspecting the type tree"
   ]
  },
  {
   "cell_type": "code",
   "execution_count": 30,
   "metadata": {},
   "outputs": [],
   "source": [
    "using AbstractTrees\n",
    "AbstractTrees.children(x) = subtypes(x)"
   ]
  },
  {
   "cell_type": "code",
   "execution_count": 31,
   "metadata": {},
   "outputs": [
    {
     "name": "stdout",
     "output_type": "stream",
     "text": [
      "Number\n",
      "├─ Complex\n",
      "├─ Measurement\n",
      "└─ Real\n",
      "   ├─ AbstractFloat\n",
      "   │  ├─ BigFloat\n",
      "   │  ├─ Float16\n",
      "   │  ├─ Float32\n",
      "   │  └─ Float64\n",
      "   ├─ AbstractIrrational\n",
      "   │  ├─ Irrational\n",
      "   │  └─ IrrationalConstant\n",
      "   │     ├─ Fourinvπ\n",
      "   │     ├─ Fourπ\n",
      "   │     ├─ Halfπ\n",
      "   │     ├─ Inv2π\n",
      "   │     ├─ Inv4π\n",
      "   │     ├─ Invsqrt2\n",
      "   │     ├─ Invsqrt2π\n",
      "   │     ├─ Invsqrtπ\n",
      "   │     ├─ Invπ\n",
      "   │     ├─ Log2π\n",
      "   │     ├─ Log4π\n",
      "   │     ├─ Loghalf\n",
      "   │     ├─ Logten\n",
      "   │     ├─ Logtwo\n",
      "   │     ├─ Logπ\n",
      "   │     ├─ Quartπ\n",
      "   │     ├─ Sqrt2\n",
      "   │     ├─ Sqrt2π\n",
      "   │     ├─ Sqrt3\n",
      "   │     ├─ Sqrt4π\n",
      "   │     ├─ Sqrthalfπ\n",
      "   │     ├─ Sqrtπ\n",
      "   │     ├─ Twoinvπ\n",
      "   │     └─ Twoπ\n",
      "   ├─ FixedPoint\n",
      "   │  ├─ Fixed\n",
      "   │  └─ Normed\n",
      "   ├─ Integer\n",
      "   │  ├─ Bool\n",
      "   │  ├─ Signed\n",
      "   │  │  ├─ BigInt\n",
      "   │  │  ├─ Int128\n",
      "   │  │  ├─ Int16\n",
      "   │  │  ├─ Int32\n",
      "   │  │  ├─ Int64\n",
      "   │  │  └─ Int8\n",
      "   │  └─ Unsigned\n",
      "   │     ├─ UInt128\n",
      "   │     ├─ UInt16\n",
      "   │     ├─ UInt32\n",
      "   │     ├─ UInt64\n",
      "   │     └─ UInt8\n",
      "   ├─ Rational\n",
      "   ├─ PValue\n",
      "   └─ TestStat\n"
     ]
    }
   ],
   "source": [
    "print_tree(Number) # print a branch of the type tree"
   ]
  },
  {
   "cell_type": "markdown",
   "metadata": {},
   "source": [
    "Everything is a subtype of `Any`. It's the root of the type tree."
   ]
  },
  {
   "cell_type": "markdown",
   "metadata": {},
   "source": [
    "Note that **concrete types are the leaves of the type tree** whereas **abstract types are nodes** in the type graph."
   ]
  },
  {
   "cell_type": "code",
   "execution_count": 60,
   "metadata": {},
   "outputs": [
    {
     "data": {
      "text/plain": [
       "true"
      ]
     },
     "metadata": {},
     "output_type": "display_data"
    }
   ],
   "source": [
    "1 isa Integer"
   ]
  },
  {
   "cell_type": "code",
   "execution_count": 57,
   "metadata": {},
   "outputs": [
    {
     "data": {
      "text/plain": [
       "true"
      ]
     },
     "metadata": {},
     "output_type": "display_data"
    }
   ],
   "source": [
    "Integer <: Number"
   ]
  },
  {
   "cell_type": "code",
   "execution_count": 58,
   "metadata": {},
   "outputs": [
    {
     "data": {
      "text/plain": [
       "Real"
      ]
     },
     "metadata": {},
     "output_type": "display_data"
    }
   ],
   "source": [
    "supertype(Integer)"
   ]
  },
  {
   "cell_type": "markdown",
   "metadata": {},
   "source": [
    "### Duck typing example: `UnitRange`"
   ]
  },
  {
   "cell_type": "markdown",
   "metadata": {},
   "source": [
    "**\"If it walks like a duck and it quacks like a duck, then it must be a duck\"**"
   ]
  },
  {
   "cell_type": "code",
   "execution_count": 7,
   "metadata": {},
   "outputs": [
    {
     "data": {
      "text/plain": [
       "1:30"
      ]
     },
     "metadata": {},
     "output_type": "display_data"
    }
   ],
   "source": [
    "x = 1:30"
   ]
  },
  {
   "cell_type": "code",
   "execution_count": 8,
   "metadata": {},
   "outputs": [
    {
     "data": {
      "text/plain": [
       "UnitRange{Int64}"
      ]
     },
     "metadata": {},
     "output_type": "display_data"
    }
   ],
   "source": [
    "typeof(x)"
   ]
  },
  {
   "cell_type": "code",
   "execution_count": 9,
   "metadata": {},
   "outputs": [
    {
     "data": {
      "text/plain": [
       "true"
      ]
     },
     "metadata": {},
     "output_type": "display_data"
    }
   ],
   "source": [
    "typeof(x) <: AbstractArray"
   ]
  },
  {
   "cell_type": "markdown",
   "metadata": {},
   "source": [
    "Because it is a subtype of `AbstractArray` we can do array-like things with it (it should basically behave like an array!)"
   ]
  },
  {
   "cell_type": "code",
   "execution_count": 10,
   "metadata": {},
   "outputs": [
    {
     "data": {
      "text/plain": [
       "3"
      ]
     },
     "metadata": {},
     "output_type": "display_data"
    }
   ],
   "source": [
    "x[3]"
   ]
  },
  {
   "cell_type": "code",
   "execution_count": 11,
   "metadata": {},
   "outputs": [
    {
     "data": {
      "text/plain": [
       "(30,)"
      ]
     },
     "metadata": {},
     "output_type": "display_data"
    }
   ],
   "source": [
    "size(x)"
   ]
  },
  {
   "cell_type": "code",
   "execution_count": 12,
   "metadata": {},
   "outputs": [
    {
     "data": {
      "text/plain": [
       "Int64"
      ]
     },
     "metadata": {},
     "output_type": "display_data"
    }
   ],
   "source": [
    "eltype(x)"
   ]
  },
  {
   "cell_type": "markdown",
   "metadata": {},
   "source": [
    "However, it's not implemented like a regular `Array` at all. In fact, **it's just two numbers**, the start and stop values of the range it represents."
   ]
  },
  {
   "cell_type": "code",
   "execution_count": 13,
   "metadata": {},
   "outputs": [
    {
     "data": {
      "text/plain": [
       "(:start, :stop)"
      ]
     },
     "metadata": {},
     "output_type": "display_data"
    }
   ],
   "source": [
    "fieldnames(typeof(x))"
   ]
  },
  {
   "cell_type": "markdown",
   "metadata": {},
   "source": [
    "It thus represents a range but with a much lower memory footprint than a corresponding array."
   ]
  },
  {
   "cell_type": "code",
   "execution_count": 15,
   "metadata": {},
   "outputs": [
    {
     "data": {
      "text/plain": [
       "80000000"
      ]
     },
     "metadata": {},
     "output_type": "display_data"
    }
   ],
   "source": [
    "sizeof([i for i in 1:10000000])"
   ]
  },
  {
   "cell_type": "code",
   "execution_count": 16,
   "metadata": {},
   "outputs": [
    {
     "data": {
      "text/plain": [
       "16"
      ]
     },
     "metadata": {},
     "output_type": "display_data"
    }
   ],
   "source": [
    "sizeof(1:10000000)"
   ]
  },
  {
   "cell_type": "markdown",
   "metadata": {},
   "source": [
    " Note that allocating memory takes (a lot of) time and is a common performance bottleneck that one wants to avoid."
   ]
  },
  {
   "cell_type": "markdown",
   "metadata": {
    "tags": []
   },
   "source": [
    "## Functions, methods, and dispatch\n",
    "\n",
    "Let's define a *function* that calculates the absolute value of a number (like the built-in `abs` already does).\n",
    "\n",
    "**How would we practically calculate the absolute values of the numbers $-4.32$ and $1.0 + 1.0i$?**\n",
    "\n",
    "* Real number\n",
    "  * \"Drop the sign.\"\n",
    "    * => `myabs(-4.32) = 4.32`\n",
    "* Complex number:\n",
    "  * \"Square root of z times the complex conjugate of z.\"\n",
    "    * => `myabs(1.0 + 1.0im) = sqrt(2) ≈ 1.414`\n",
    "\n",
    "We see that the *methods* that we use depend on the type of the number.\n",
    "\n",
    "While the single **function** represents the *what* (\"calculate the absolute value\"), there might be different **methods** describing the *how*.\n",
    "\n",
    "We can use the `::` operator to annotate function arguments with types and define different methods."
   ]
  },
  {
   "cell_type": "code",
   "execution_count": 33,
   "metadata": {},
   "outputs": [
    {
     "data": {
      "text/plain": [
       "myabs (generic function with 1 method)"
      ]
     },
     "metadata": {},
     "output_type": "display_data"
    }
   ],
   "source": [
    "myabs(x::Float64) = sign(x) * x"
   ]
  },
  {
   "cell_type": "code",
   "execution_count": 34,
   "metadata": {},
   "outputs": [
    {
     "data": {
      "text/plain": [
       "4.32"
      ]
     },
     "metadata": {},
     "output_type": "display_data"
    }
   ],
   "source": [
    "myabs(-4.32)"
   ]
  },
  {
   "cell_type": "code",
   "execution_count": 35,
   "metadata": {},
   "outputs": [
    {
     "ename": "MethodError",
     "evalue": "MethodError: no method matching myabs(::ComplexF64)\n\nClosest candidates are:\n  myabs(!Matched::Float64)\n   @ Main ~/repos/JuliaWorkshops/JuliaHLRS23/notebooks/1_1_julia_fundamentals.ipynb:1\n",
     "output_type": "error",
     "traceback": [
      "MethodError: no method matching myabs(::ComplexF64)\n",
      "\n",
      "Closest candidates are:\n",
      "  myabs(!Matched::Float64)\n",
      "   @ Main ~/repos/JuliaWorkshops/JuliaHLRS23/notebooks/1_1_julia_fundamentals.ipynb:1\n",
      "\n",
      "\n",
      "Stacktrace:\n",
      " [1] top-level scope\n",
      "   @ ~/repos/JuliaWorkshops/JuliaHLRS23/notebooks/1_1_julia_fundamentals.ipynb:1"
     ]
    }
   ],
   "source": [
    "myabs(1.0 + 1.0im)"
   ]
  },
  {
   "cell_type": "code",
   "execution_count": 36,
   "metadata": {},
   "outputs": [
    {
     "data": {
      "text/plain": [
       "myabs (generic function with 2 methods)"
      ]
     },
     "metadata": {},
     "output_type": "display_data"
    }
   ],
   "source": [
    "myabs(z::ComplexF64) = sqrt(real(z * conj(z)))"
   ]
  },
  {
   "cell_type": "code",
   "execution_count": 37,
   "metadata": {},
   "outputs": [
    {
     "data": {
      "text/plain": [
       "1.4142135623730951"
      ]
     },
     "metadata": {},
     "output_type": "display_data"
    }
   ],
   "source": [
    "myabs(1.0 + 1.0im)"
   ]
  },
  {
   "cell_type": "code",
   "execution_count": 38,
   "metadata": {},
   "outputs": [
    {
     "data": {
      "text/html": [
       "# 2 methods for generic function <b>myabs</b> from \u001b[33mMain\u001b[39m:<ul><li> myabs(x::<b>Float64</b>) in Main at <a href=\"https://github.com/carstenbauer/JuliaHLRS23/tree/0eeea8c65a85b8f61b0da6a94e2ac28df4baa12a//notebooks/1_1_julia_fundamentals.ipynb#L1\" target=\"_blank\">/Users/crstnbr/repos/JuliaWorkshops/JuliaHLRS23/notebooks/1_1_julia_fundamentals.ipynb:1</a></li> <li> myabs(z::<b>ComplexF64</b>) in Main at <a href=\"https://github.com/carstenbauer/JuliaHLRS23/tree/0eeea8c65a85b8f61b0da6a94e2ac28df4baa12a//notebooks/1_1_julia_fundamentals.ipynb#L1\" target=\"_blank\">/Users/crstnbr/repos/JuliaWorkshops/JuliaHLRS23/notebooks/1_1_julia_fundamentals.ipynb:1</a></li> </ul>"
      ],
      "text/plain": [
       "# 2 methods for generic function \"myabs\" from \u001b[33mMain\u001b[39m:\n",
       " [1] myabs(\u001b[90mx\u001b[39m::\u001b[1mFloat64\u001b[22m)\n",
       "\u001b[90m     @\u001b[39m \u001b[90m~/repos/JuliaWorkshops/JuliaHLRS23/notebooks/\u001b[39m\u001b[90m\u001b[4m1_1_julia_fundamentals.ipynb:1\u001b[24m\u001b[39m\n",
       " [2] myabs(\u001b[90mz\u001b[39m::\u001b[1mComplexF64\u001b[22m)\n",
       "\u001b[90m     @\u001b[39m \u001b[90m~/repos/JuliaWorkshops/JuliaHLRS23/notebooks/\u001b[39m\u001b[90m\u001b[4m1_1_julia_fundamentals.ipynb:1\u001b[24m\u001b[39m"
      ]
     },
     "metadata": {},
     "output_type": "display_data"
    }
   ],
   "source": [
    "methods(myabs)"
   ]
  },
  {
   "cell_type": "markdown",
   "metadata": {},
   "source": [
    "One can check which particular method is being used through the `@which` macro."
   ]
  },
  {
   "cell_type": "code",
   "execution_count": 39,
   "metadata": {},
   "outputs": [
    {
     "data": {
      "text/html": [
       "myabs(x::<b>Float64</b>) in Main at <a href=\"https://github.com/carstenbauer/JuliaHLRS23/tree/0eeea8c65a85b8f61b0da6a94e2ac28df4baa12a//notebooks/1_1_julia_fundamentals.ipynb#L1\" target=\"_blank\">/Users/crstnbr/repos/JuliaWorkshops/JuliaHLRS23/notebooks/1_1_julia_fundamentals.ipynb:1</a>"
      ],
      "text/plain": [
       "myabs(\u001b[90mx\u001b[39m::\u001b[1mFloat64\u001b[22m)\n",
       "\u001b[90m     @\u001b[39m \u001b[90mMain\u001b[39m \u001b[90m~/repos/JuliaWorkshops/JuliaHLRS23/notebooks/\u001b[39m\u001b[90m\u001b[4m1_1_julia_fundamentals.ipynb:1\u001b[24m\u001b[39m"
      ]
     },
     "metadata": {},
     "output_type": "display_data"
    }
   ],
   "source": [
    "@which myabs(-4.32)"
   ]
  },
  {
   "cell_type": "code",
   "execution_count": 40,
   "metadata": {},
   "outputs": [
    {
     "data": {
      "text/html": [
       "myabs(z::<b>ComplexF64</b>) in Main at <a href=\"https://github.com/carstenbauer/JuliaHLRS23/tree/0eeea8c65a85b8f61b0da6a94e2ac28df4baa12a//notebooks/1_1_julia_fundamentals.ipynb#L1\" target=\"_blank\">/Users/crstnbr/repos/JuliaWorkshops/JuliaHLRS23/notebooks/1_1_julia_fundamentals.ipynb:1</a>"
      ],
      "text/plain": [
       "myabs(\u001b[90mz\u001b[39m::\u001b[1mComplexF64\u001b[22m)\n",
       "\u001b[90m     @\u001b[39m \u001b[90mMain\u001b[39m \u001b[90m~/repos/JuliaWorkshops/JuliaHLRS23/notebooks/\u001b[39m\u001b[90m\u001b[4m1_1_julia_fundamentals.ipynb:1\u001b[24m\u001b[39m"
      ]
     },
     "metadata": {},
     "output_type": "display_data"
    }
   ],
   "source": [
    "@which myabs(1.0 + 1.0im)"
   ]
  },
  {
   "cell_type": "markdown",
   "metadata": {},
   "source": [
    "Note that we should better loosen our type restrictions:"
   ]
  },
  {
   "cell_type": "code",
   "execution_count": 41,
   "metadata": {},
   "outputs": [
    {
     "ename": "MethodError",
     "evalue": "MethodError: no method matching myabs(::Int64)\n\nClosest candidates are:\n  myabs(!Matched::Float64)\n   @ Main ~/repos/JuliaWorkshops/JuliaHLRS23/notebooks/1_1_julia_fundamentals.ipynb:1\n  myabs(!Matched::ComplexF64)\n   @ Main ~/repos/JuliaWorkshops/JuliaHLRS23/notebooks/1_1_julia_fundamentals.ipynb:1\n",
     "output_type": "error",
     "traceback": [
      "MethodError: no method matching myabs(::Int64)\n",
      "\n",
      "Closest candidates are:\n",
      "  myabs(!Matched::Float64)\n",
      "   @ Main ~/repos/JuliaWorkshops/JuliaHLRS23/notebooks/1_1_julia_fundamentals.ipynb:1\n",
      "  myabs(!Matched::ComplexF64)\n",
      "   @ Main ~/repos/JuliaWorkshops/JuliaHLRS23/notebooks/1_1_julia_fundamentals.ipynb:1\n",
      "\n",
      "\n",
      "Stacktrace:\n",
      " [1] top-level scope\n",
      "   @ ~/repos/JuliaWorkshops/JuliaHLRS23/notebooks/1_1_julia_fundamentals.ipynb:1"
     ]
    }
   ],
   "source": [
    "myabs(-3)"
   ]
  },
  {
   "cell_type": "code",
   "execution_count": 42,
   "metadata": {},
   "outputs": [
    {
     "ename": "MethodError",
     "evalue": "MethodError: no method matching myabs(::Complex{Int64})\n\nClosest candidates are:\n  myabs(!Matched::Float64)\n   @ Main ~/repos/JuliaWorkshops/JuliaHLRS23/notebooks/1_1_julia_fundamentals.ipynb:1\n  myabs(!Matched::ComplexF64)\n   @ Main ~/repos/JuliaWorkshops/JuliaHLRS23/notebooks/1_1_julia_fundamentals.ipynb:1\n",
     "output_type": "error",
     "traceback": [
      "MethodError: no method matching myabs(::Complex{Int64})\n",
      "\n",
      "Closest candidates are:\n",
      "  myabs(!Matched::Float64)\n",
      "   @ Main ~/repos/JuliaWorkshops/JuliaHLRS23/notebooks/1_1_julia_fundamentals.ipynb:1\n",
      "  myabs(!Matched::ComplexF64)\n",
      "   @ Main ~/repos/JuliaWorkshops/JuliaHLRS23/notebooks/1_1_julia_fundamentals.ipynb:1\n",
      "\n",
      "\n",
      "Stacktrace:\n",
      " [1] top-level scope\n",
      "   @ ~/repos/JuliaWorkshops/JuliaHLRS23/notebooks/1_1_julia_fundamentals.ipynb:1"
     ]
    }
   ],
   "source": [
    "myabs(1 + 1im)"
   ]
  },
  {
   "cell_type": "code",
   "execution_count": 43,
   "metadata": {},
   "outputs": [
    {
     "data": {
      "text/plain": [
       "myabs (generic function with 4 methods)"
      ]
     },
     "metadata": {},
     "output_type": "display_data"
    }
   ],
   "source": [
    "myabs(x::Real) = sign(x) * x\n",
    "myabs(z::Complex) = sqrt(real(z * conj(z)))"
   ]
  },
  {
   "cell_type": "code",
   "execution_count": 44,
   "metadata": {},
   "outputs": [
    {
     "data": {
      "text/plain": [
       "3"
      ]
     },
     "metadata": {},
     "output_type": "display_data"
    }
   ],
   "source": [
    "myabs(-3)"
   ]
  },
  {
   "cell_type": "markdown",
   "metadata": {},
   "source": [
    "As we will understand later, type annotations in function signatures **virtually never affect performance**! One should therefore generally make them as generic as possible but as specific as necessary."
   ]
  },
  {
   "cell_type": "markdown",
   "metadata": {},
   "source": [
    "### Multiple dispatch\n",
    "\n",
    "Which method gets executed when you call a generic function `f` for a given set of input arguments?\n",
    "\n",
    "**Answer:** Julia always chooses the **most specific method** by considering **all input argument types**.\n",
    "\n",
    "(Since methods belong to generic functions rather than objects no function argument is special.)"
   ]
  },
  {
   "cell_type": "code",
   "execution_count": 45,
   "metadata": {},
   "outputs": [
    {
     "data": {
      "text/plain": [
       "f (generic function with 6 methods)"
      ]
     },
     "metadata": {},
     "output_type": "display_data"
    }
   ],
   "source": [
    "f(a, b::Any)              = \"fallback\"\n",
    "f(a::Number, b::Number)   = \"a and b are both numbers\"\n",
    "f(a::Number, b)           = \"a is a number\"\n",
    "f(a, b::Number)           = \"b is a number\"\n",
    "f(a::Integer, b::Integer) = \"a and b are both integers\""
   ]
  },
  {
   "cell_type": "code",
   "execution_count": 46,
   "metadata": {},
   "outputs": [
    {
     "data": {
      "text/html": [
       "# 6 methods for generic function <b>f</b> from \u001b[33mMain\u001b[39m:<ul><li> f(a::<b>Integer</b>, b::<b>Integer</b>) in Main at <a href=\"https://github.com/carstenbauer/JuliaHLRS23/tree/0eeea8c65a85b8f61b0da6a94e2ac28df4baa12a//notebooks/1_1_julia_fundamentals.ipynb#L5\" target=\"_blank\">/Users/crstnbr/repos/JuliaWorkshops/JuliaHLRS23/notebooks/1_1_julia_fundamentals.ipynb:5</a></li> <li> f(a::<b>Number</b>, b::<b>Number</b>) in Main at <a href=\"https://github.com/carstenbauer/JuliaHLRS23/tree/0eeea8c65a85b8f61b0da6a94e2ac28df4baa12a//notebooks/1_1_julia_fundamentals.ipynb#L2\" target=\"_blank\">/Users/crstnbr/repos/JuliaWorkshops/JuliaHLRS23/notebooks/1_1_julia_fundamentals.ipynb:2</a></li> <li> f(a::<b>Number</b>, b) in Main at <a href=\"https://github.com/carstenbauer/JuliaHLRS23/tree/0eeea8c65a85b8f61b0da6a94e2ac28df4baa12a//notebooks/1_1_julia_fundamentals.ipynb#L3\" target=\"_blank\">/Users/crstnbr/repos/JuliaWorkshops/JuliaHLRS23/notebooks/1_1_julia_fundamentals.ipynb:3</a></li> <li> f(x) in Main at <a href=\"https://github.com/carstenbauer/JuliaHLRS23/tree/0eeea8c65a85b8f61b0da6a94e2ac28df4baa12a//notebooks/1_1_julia_fundamentals.ipynb#L1\" target=\"_blank\">/Users/crstnbr/repos/JuliaWorkshops/JuliaHLRS23/notebooks/1_1_julia_fundamentals.ipynb:1</a></li> <li> f(a, b::<b>Number</b>) in Main at <a href=\"https://github.com/carstenbauer/JuliaHLRS23/tree/0eeea8c65a85b8f61b0da6a94e2ac28df4baa12a//notebooks/1_1_julia_fundamentals.ipynb#L4\" target=\"_blank\">/Users/crstnbr/repos/JuliaWorkshops/JuliaHLRS23/notebooks/1_1_julia_fundamentals.ipynb:4</a></li> <li> f(a, b) in Main at <a href=\"https://github.com/carstenbauer/JuliaHLRS23/tree/0eeea8c65a85b8f61b0da6a94e2ac28df4baa12a//notebooks/1_1_julia_fundamentals.ipynb#L1\" target=\"_blank\">/Users/crstnbr/repos/JuliaWorkshops/JuliaHLRS23/notebooks/1_1_julia_fundamentals.ipynb:1</a></li> </ul>"
      ],
      "text/plain": [
       "# 6 methods for generic function \"f\" from \u001b[33mMain\u001b[39m:\n",
       " [1] f(\u001b[90ma\u001b[39m::\u001b[1mInteger\u001b[22m, \u001b[90mb\u001b[39m::\u001b[1mInteger\u001b[22m)\n",
       "\u001b[90m     @\u001b[39m \u001b[90m~/repos/JuliaWorkshops/JuliaHLRS23/notebooks/\u001b[39m\u001b[90m\u001b[4m1_1_julia_fundamentals.ipynb:5\u001b[24m\u001b[39m\n",
       " [2] f(\u001b[90ma\u001b[39m::\u001b[1mNumber\u001b[22m, \u001b[90mb\u001b[39m::\u001b[1mNumber\u001b[22m)\n",
       "\u001b[90m     @\u001b[39m \u001b[90m~/repos/JuliaWorkshops/JuliaHLRS23/notebooks/\u001b[39m\u001b[90m\u001b[4m1_1_julia_fundamentals.ipynb:2\u001b[24m\u001b[39m\n",
       " [3] f(\u001b[90ma\u001b[39m::\u001b[1mNumber\u001b[22m, \u001b[90mb\u001b[39m)\n",
       "\u001b[90m     @\u001b[39m \u001b[90m~/repos/JuliaWorkshops/JuliaHLRS23/notebooks/\u001b[39m\u001b[90m\u001b[4m1_1_julia_fundamentals.ipynb:3\u001b[24m\u001b[39m\n",
       " [4] f(\u001b[90mx\u001b[39m)\n",
       "\u001b[90m     @\u001b[39m \u001b[90m~/repos/JuliaWorkshops/JuliaHLRS23/notebooks/\u001b[39m\u001b[90m\u001b[4m1_1_julia_fundamentals.ipynb:1\u001b[24m\u001b[39m\n",
       " [5] f(\u001b[90ma\u001b[39m, \u001b[90mb\u001b[39m::\u001b[1mNumber\u001b[22m)\n",
       "\u001b[90m     @\u001b[39m \u001b[90m~/repos/JuliaWorkshops/JuliaHLRS23/notebooks/\u001b[39m\u001b[90m\u001b[4m1_1_julia_fundamentals.ipynb:4\u001b[24m\u001b[39m\n",
       " [6] f(\u001b[90ma\u001b[39m, \u001b[90mb\u001b[39m)\n",
       "\u001b[90m     @\u001b[39m \u001b[90m~/repos/JuliaWorkshops/JuliaHLRS23/notebooks/\u001b[39m\u001b[90m\u001b[4m1_1_julia_fundamentals.ipynb:1\u001b[24m\u001b[39m"
      ]
     },
     "metadata": {},
     "output_type": "display_data"
    }
   ],
   "source": [
    "methods(f)"
   ]
  },
  {
   "cell_type": "code",
   "execution_count": 47,
   "metadata": {},
   "outputs": [
    {
     "data": {
      "text/plain": [
       "\"a and b are both numbers\""
      ]
     },
     "metadata": {},
     "output_type": "display_data"
    }
   ],
   "source": [
    "f(1.5, 2)"
   ]
  },
  {
   "cell_type": "code",
   "execution_count": 48,
   "metadata": {},
   "outputs": [
    {
     "data": {
      "text/plain": [
       "\"a is a number\""
      ]
     },
     "metadata": {},
     "output_type": "display_data"
    }
   ],
   "source": [
    "f(1, \"NHR\")"
   ]
  },
  {
   "cell_type": "code",
   "execution_count": 49,
   "metadata": {},
   "outputs": [
    {
     "data": {
      "text/plain": [
       "\"a and b are both integers\""
      ]
     },
     "metadata": {},
     "output_type": "display_data"
    }
   ],
   "source": [
    "f(1, 2)"
   ]
  },
  {
   "cell_type": "code",
   "execution_count": 50,
   "metadata": {},
   "outputs": [
    {
     "data": {
      "text/plain": [
       "\"fallback\""
      ]
     },
     "metadata": {},
     "output_type": "display_data"
    }
   ],
   "source": [
    "f(\"Hello\", \"NHR!\")"
   ]
  },
  {
   "cell_type": "code",
   "execution_count": 51,
   "metadata": {},
   "outputs": [
    {
     "data": {
      "text/html": [
       "f(a::<b>Integer</b>, b::<b>Integer</b>) in Main at <a href=\"https://github.com/carstenbauer/JuliaHLRS23/tree/0eeea8c65a85b8f61b0da6a94e2ac28df4baa12a//notebooks/1_1_julia_fundamentals.ipynb#L5\" target=\"_blank\">/Users/crstnbr/repos/JuliaWorkshops/JuliaHLRS23/notebooks/1_1_julia_fundamentals.ipynb:5</a>"
      ],
      "text/plain": [
       "f(\u001b[90ma\u001b[39m::\u001b[1mInteger\u001b[22m, \u001b[90mb\u001b[39m::\u001b[1mInteger\u001b[22m)\n",
       "\u001b[90m     @\u001b[39m \u001b[90mMain\u001b[39m \u001b[90m~/repos/JuliaWorkshops/JuliaHLRS23/notebooks/\u001b[39m\u001b[90m\u001b[4m1_1_julia_fundamentals.ipynb:5\u001b[24m\u001b[39m"
      ]
     },
     "metadata": {},
     "output_type": "display_data"
    }
   ],
   "source": [
    "@which f(1, 2)"
   ]
  },
  {
   "cell_type": "code",
   "execution_count": 52,
   "metadata": {},
   "outputs": [
    {
     "data": {
      "text/html": [
       "f(a::<b>Number</b>, b) in Main at <a href=\"https://github.com/carstenbauer/JuliaHLRS23/tree/0eeea8c65a85b8f61b0da6a94e2ac28df4baa12a//notebooks/1_1_julia_fundamentals.ipynb#L3\" target=\"_blank\">/Users/crstnbr/repos/JuliaWorkshops/JuliaHLRS23/notebooks/1_1_julia_fundamentals.ipynb:3</a>"
      ],
      "text/plain": [
       "f(\u001b[90ma\u001b[39m::\u001b[1mNumber\u001b[22m, \u001b[90mb\u001b[39m)\n",
       "\u001b[90m     @\u001b[39m \u001b[90mMain\u001b[39m \u001b[90m~/repos/JuliaWorkshops/JuliaHLRS23/notebooks/\u001b[39m\u001b[90m\u001b[4m1_1_julia_fundamentals.ipynb:3\u001b[24m\u001b[39m"
      ]
     },
     "metadata": {},
     "output_type": "display_data"
    }
   ],
   "source": [
    "@which f(1, \"NHR\")"
   ]
  },
  {
   "cell_type": "markdown",
   "metadata": {},
   "source": [
    "### Built-in Julia function"
   ]
  },
  {
   "cell_type": "markdown",
   "metadata": {},
   "source": [
    "**Julia's built-in functions are not special by any means.**"
   ]
  },
  {
   "cell_type": "code",
   "execution_count": null,
   "metadata": {
    "scrolled": true,
    "tags": []
   },
   "outputs": [],
   "source": [
    "methods(+)"
   ]
  },
  {
   "cell_type": "code",
   "execution_count": null,
   "metadata": {},
   "outputs": [],
   "source": [
    "@which true + false"
   ]
  },
  {
   "cell_type": "code",
   "execution_count": null,
   "metadata": {},
   "outputs": [],
   "source": [
    "@which \"Hello\"*\"World!\""
   ]
  },
  {
   "cell_type": "markdown",
   "metadata": {},
   "source": [
    "We can easily modify or add methods to them as well."
   ]
  },
  {
   "cell_type": "code",
   "execution_count": 62,
   "metadata": {},
   "outputs": [
    {
     "data": {
      "text/plain": [
       "+ (generic function with 229 methods)"
      ]
     },
     "metadata": {},
     "output_type": "display_data"
    }
   ],
   "source": [
    "import Base: + # we have to explicitly import functions to override/add methods\n",
    "\n",
    "+(x::String, y::String) = x * \"_\" * y"
   ]
  },
  {
   "cell_type": "code",
   "execution_count": 63,
   "metadata": {},
   "outputs": [
    {
     "data": {
      "text/plain": [
       "\"Hello_Stuttgart! 😄\""
      ]
     },
     "metadata": {},
     "output_type": "display_data"
    }
   ],
   "source": [
    "\"Hello\" + \"Stuttgart! 😄\""
   ]
  },
  {
   "cell_type": "markdown",
   "metadata": {},
   "source": [
    "(**Type piracy**: as we neither *own* the `+` function nor the `String` type the above is bad practice and is only used for pedagogical reasons! 😉)"
   ]
  },
  {
   "cell_type": "markdown",
   "metadata": {},
   "source": [
    "### Type parameters in function signatures\n",
    "\n",
    "Naive approach:"
   ]
  },
  {
   "cell_type": "code",
   "execution_count": null,
   "metadata": {},
   "outputs": [],
   "source": [
    "myfunc(v::Vector{Real}) = \"I'm a real vector!\""
   ]
  },
  {
   "cell_type": "code",
   "execution_count": null,
   "metadata": {},
   "outputs": [],
   "source": [
    "myfunc([1.0,2.0,3.0])"
   ]
  },
  {
   "cell_type": "markdown",
   "metadata": {},
   "source": [
    "Huh? What's going on?\n",
    "\n",
    "Note that although we have"
   ]
  },
  {
   "cell_type": "code",
   "execution_count": null,
   "metadata": {},
   "outputs": [],
   "source": [
    "Float64 <: Real"
   ]
  },
  {
   "cell_type": "markdown",
   "metadata": {},
   "source": [
    "parametric types have the following - at first somewhat counterintuitive - property"
   ]
  },
  {
   "cell_type": "code",
   "execution_count": null,
   "metadata": {},
   "outputs": [],
   "source": [
    "Vector{Float64} <: Vector{Real}"
   ]
  },
  {
   "cell_type": "code",
   "execution_count": null,
   "metadata": {},
   "outputs": [],
   "source": [
    "[1.0,2.0,3.0] isa Vector{Real}"
   ]
  },
  {
   "cell_type": "markdown",
   "metadata": {},
   "source": [
    "The crucial point is that `Vector{Real}` describes a concrete **heterogeneous** vector: Each element can be of any type `T <: Real`."
   ]
  },
  {
   "cell_type": "code",
   "execution_count": null,
   "metadata": {},
   "outputs": [],
   "source": [
    "Real[1, 2.2, 13f0]"
   ]
  },
  {
   "cell_type": "markdown",
   "metadata": {},
   "source": [
    "(Because it is a concrete type - a leaf of the type tree - it immediately follows that there are no subtypes.)"
   ]
  },
  {
   "cell_type": "markdown",
   "metadata": {},
   "source": [
    "What we often actually *mean* when writing `myfunc(v::Vector{Real}) = ...` is"
   ]
  },
  {
   "cell_type": "code",
   "execution_count": null,
   "metadata": {},
   "outputs": [],
   "source": [
    "myfunc(v::Vector{T}) where T<:Real = \"I'm a real vector!\""
   ]
  },
  {
   "cell_type": "code",
   "execution_count": null,
   "metadata": {},
   "outputs": [],
   "source": [
    "myfunc([1.0,2.0,3.0])"
   ]
  },
  {
   "cell_type": "markdown",
   "metadata": {},
   "source": [
    "Here, `Vector{T} where T <: Real` describes all **homogeneous** vector types: Each vector can only hold elements of a specific type `T` that is a subtype of `Real`. This includes, for example: `Vector{Float64}, Vector{Int64}, Vector{Int32}, Vector{AbstractFloat}, ...`"
   ]
  },
  {
   "cell_type": "markdown",
   "metadata": {},
   "source": [
    "(Side comment: We can also use the `where` notation to write out our naive `Vector{Real}` from above in a more explicit way: `Vector{Real} === Vector{T where T<:Real}`. Note that the \"degree of freedom\", `T`, is inside of the curly braces.)"
   ]
  },
  {
   "cell_type": "markdown",
   "metadata": {},
   "source": [
    "# Core messages of this notebook\n",
    "\n",
    "* **Concrete types** describe data structures, i.e. concrete implementations.\n",
    "* **Abstract types** define the kind of a thing (What is it? What can I do with it?), i.e. an informal interface. This is also known as **duck-typing**.\n",
    "* A **function** (the what) can have multiple **methods** (the how).\n",
    "* Types in function signatures serve as filters. **Avoid writing overly-specific types**.\n",
    "* **Multiple dispatch**: Julia selects the method to run based on the types of all input arguments and chooses the most specialized one.\n",
    "* Types can have parameters, i.e. `Vector{Float64}`. We can use the notation `Vector{T} where T<:SomeSuperType` to describe sets of restriced *homogeneous* vectors."
   ]
  }
 ],
 "metadata": {
  "kernelspec": {
   "display_name": "Julia 1.9.3",
   "language": "julia",
   "name": "julia-1.9"
  },
  "language_info": {
   "file_extension": ".jl",
   "mimetype": "application/julia",
   "name": "julia",
   "version": "1.9.3"
  }
 },
 "nbformat": 4,
 "nbformat_minor": 4
}
