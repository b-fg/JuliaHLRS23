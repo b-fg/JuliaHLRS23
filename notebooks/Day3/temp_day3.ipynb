{
 "cells": [
  {
   "cell_type": "code",
   "execution_count": null,
   "id": "7d5e093d-8288-4f86-96ba-0e03a9de50fd",
   "metadata": {},
   "outputs": [],
   "source": []
  },
  {
   "cell_type": "markdown",
   "id": "bd4e78a1-a244-480d-8399-e29735475bb0",
   "metadata": {},
   "source": [
    "Note the conceptual similarity between `Threads.@spawn` (task -> thread) and `Distributed.@spawn` (task -> process) and also `@async`."
   ]
  },
  {
   "cell_type": "code",
   "execution_count": null,
   "id": "41b45b68-248c-4545-b7bb-57e437eba543",
   "metadata": {},
   "outputs": [],
   "source": []
  },
  {
   "cell_type": "code",
   "execution_count": null,
   "id": "b6cd1940-8914-42a1-95ad-9cda1fa889de",
   "metadata": {},
   "outputs": [],
   "source": []
  },
  {
   "cell_type": "markdown",
   "id": "74c7e15b-b8b5-4381-83c9-5bbee6fe9c0d",
   "metadata": {},
   "source": [
    "## Tasks"
   ]
  },
  {
   "cell_type": "markdown",
   "id": "420e079b-7d5a-4cf5-acab-2172394ec354",
   "metadata": {},
   "source": [
    "By default, Julia waits for every command to finish (\"**blocking**\") and run everything sequentially.\n",
    "\n",
    "**Tasks** are a control flow feature that allows computations to be suspended and resumed in a flexible manner to implement **cooperative multitasking**. (This feature is sometimes called by other names, such as coroutines, green-, or lightweight threads.)\n",
    "\n",
    "Tasks are managed by Julia and can be run in a **concurrent** fashion.\n",
    "\n",
    "> **Concurrency** means executing multiple tasks at the same time but not necessarily simultaneously.\n",
    "\n",
    "An important use case is **asynchronous I/O**, which is typically slow. Examples are\n",
    " * **multiple user input** (Why not already process some of the input?)\n",
    " * **data dumping to disk** (Maybe it's possible to continue a calculation?)\n",
    " * **receiving calculations from worker processes**"
   ]
  },
  {
   "cell_type": "markdown",
   "id": "b6d242d3-57bd-4025-a3be-3219034ca6a7",
   "metadata": {},
   "source": [
    "## `@async` and `@sync`\n",
    "\n",
    "We can create and schedule a task for asynchronous execution with the [`@async` macro](https://docs.julialang.org/en/v1/base/parallel/#Base.@async)."
   ]
  },
  {
   "cell_type": "markdown",
   "id": "080a7a42-059d-4fcf-965e-1e421a9c3279",
   "metadata": {},
   "source": [
    "What this means is that for whatever falls into its scope, Julia will start a task to then proceed to whatever comes next in the script without waiting for the task to complete (\"**non-blocking**\")."
   ]
  },
  {
   "cell_type": "code",
   "execution_count": null,
   "id": "02adeec7-4356-4585-b4c4-59cdfa27928c",
   "metadata": {},
   "outputs": [],
   "source": [
    "@time sleep(2);"
   ]
  },
  {
   "cell_type": "code",
   "execution_count": null,
   "id": "6e66c474-b58e-491f-bb76-26bd1abb48ae",
   "metadata": {},
   "outputs": [],
   "source": [
    "@time @async sleep(2)"
   ]
  },
  {
   "cell_type": "markdown",
   "id": "3ce1b94e-22f9-4182-b43f-b4d4645e527b",
   "metadata": {},
   "source": [
    "Julia allows the script to proceed (and the `@time` macro to fully execute) without waiting for the task (in this case, sleeping for two seconds) to complete."
   ]
  },
  {
   "cell_type": "markdown",
   "id": "f915ecc8-789c-4438-9fed-0f253106e591",
   "metadata": {},
   "source": [
    "We can use the partner macro `@sync` to synchronize, that is wait for all encapsulated tasks. (see `?@sync`). "
   ]
  },
  {
   "cell_type": "code",
   "execution_count": null,
   "id": "e2cd0911-38f6-4676-8522-d7d4e4a2c6f8",
   "metadata": {},
   "outputs": [],
   "source": [
    "@time @sync @async sleep(2)"
   ]
  },
  {
   "cell_type": "markdown",
   "id": "37fe6e67-7e34-47ad-b0e1-813bf0a891f4",
   "metadata": {},
   "source": [
    "Of course, here it doesn't make much sense to write `@sync @async` - we could simply drop it altogether. A better example is the following."
   ]
  },
  {
   "cell_type": "code",
   "execution_count": null,
   "id": "27b52e00-1a41-4b5c-a129-7d6effbde465",
   "metadata": {},
   "outputs": [],
   "source": [
    "@time @sync begin\n",
    "    @async sleep(2.0)\n",
    "    @async sleep(2.0)\n",
    "end"
   ]
  },
  {
   "cell_type": "code",
   "execution_count": null,
   "id": "e48998c8-b710-4d4e-9415-3e1f93f44b9b",
   "metadata": {},
   "outputs": [],
   "source": [
    "A = rand(1000,1000)\n",
    "B = rand(1000,1000)\n",
    "\n",
    "t = @async A * B"
   ]
  },
  {
   "cell_type": "code",
   "execution_count": null,
   "id": "2b8c0d9d-59f0-4811-8800-bb1248de64ae",
   "metadata": {},
   "outputs": [],
   "source": [
    "wait(t)"
   ]
  },
  {
   "cell_type": "code",
   "execution_count": null,
   "id": "e744de6d-4125-4e77-9d02-005cc4e34e3a",
   "metadata": {},
   "outputs": [],
   "source": [
    "fetch(t)"
   ]
  }
 ],
 "metadata": {
  "kernelspec": {
   "display_name": "Julia 1.9.3",
   "language": "julia",
   "name": "julia-1.9"
  },
  "language_info": {
   "file_extension": ".jl",
   "mimetype": "application/julia",
   "name": "julia",
   "version": "1.9.3"
  }
 },
 "nbformat": 4,
 "nbformat_minor": 5
}
